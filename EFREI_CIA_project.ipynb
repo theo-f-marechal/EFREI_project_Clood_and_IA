{
  "cells": [
    {
      "cell_type": "code",
      "metadata": {
        "tags": [],
        "cell_id": "00000-cea51bee-36ef-4bf6-836b-daea265c1725",
        "deepnote_to_be_reexecuted": false,
        "source_hash": "40a2530a",
        "execution_millis": 1267,
        "execution_start": 1618938403502,
        "deepnote_cell_type": "code"
      },
      "source": "import pandas as pd\nimport numpy as np\nfrom sklearn import preprocessing\nfrom sklearn.preprocessing import MinMaxScaler\nfrom sklearn.model_selection import train_test_split\nfrom sklearn.linear_model import LinearRegression",
      "execution_count": 1,
      "outputs": []
    },
    {
      "cell_type": "code",
      "metadata": {
        "tags": [],
        "cell_id": "00001-4d5b6b93-b66b-45d6-8008-20547e8c0993",
        "deepnote_to_be_reexecuted": false,
        "source_hash": "c4e1fabc",
        "execution_millis": 287,
        "execution_start": 1618938404772,
        "deepnote_cell_type": "code"
      },
      "source": "df = pd.read_csv(\"train.csv\", header=0)\ndf",
      "execution_count": 2,
      "outputs": [
        {
          "output_type": "execute_result",
          "execution_count": 2,
          "data": {
            "application/vnd.deepnote.dataframe.v2+json": {
              "row_count": 1460,
              "column_count": 81,
              "columns": [
                {
                  "name": "Id",
                  "dtype": "int64",
                  "stats": {
                    "unique_count": 1460,
                    "nan_count": 0,
                    "min": "1",
                    "max": "1460",
                    "histogram": [
                      {
                        "bin_start": 1,
                        "bin_end": 146.9,
                        "count": 146
                      },
                      {
                        "bin_start": 146.9,
                        "bin_end": 292.8,
                        "count": 146
                      },
                      {
                        "bin_start": 292.8,
                        "bin_end": 438.70000000000005,
                        "count": 146
                      },
                      {
                        "bin_start": 438.70000000000005,
                        "bin_end": 584.6,
                        "count": 146
                      },
                      {
                        "bin_start": 584.6,
                        "bin_end": 730.5,
                        "count": 146
                      },
                      {
                        "bin_start": 730.5,
                        "bin_end": 876.4000000000001,
                        "count": 146
                      },
                      {
                        "bin_start": 876.4000000000001,
                        "bin_end": 1022.3000000000001,
                        "count": 146
                      },
                      {
                        "bin_start": 1022.3000000000001,
                        "bin_end": 1168.2,
                        "count": 146
                      },
                      {
                        "bin_start": 1168.2,
                        "bin_end": 1314.1000000000001,
                        "count": 146
                      },
                      {
                        "bin_start": 1314.1000000000001,
                        "bin_end": 1460,
                        "count": 146
                      }
                    ]
                  }
                },
                {
                  "name": "MSSubClass",
                  "dtype": "int64",
                  "stats": {
                    "unique_count": 15,
                    "nan_count": 0,
                    "min": "20",
                    "max": "190",
                    "histogram": [
                      {
                        "bin_start": 20,
                        "bin_end": 37,
                        "count": 605
                      },
                      {
                        "bin_start": 37,
                        "bin_end": 54,
                        "count": 160
                      },
                      {
                        "bin_start": 54,
                        "bin_end": 71,
                        "count": 359
                      },
                      {
                        "bin_start": 71,
                        "bin_end": 88,
                        "count": 94
                      },
                      {
                        "bin_start": 88,
                        "bin_end": 105,
                        "count": 52
                      },
                      {
                        "bin_start": 105,
                        "bin_end": 122,
                        "count": 87
                      },
                      {
                        "bin_start": 122,
                        "bin_end": 139,
                        "count": 0
                      },
                      {
                        "bin_start": 139,
                        "bin_end": 156,
                        "count": 0
                      },
                      {
                        "bin_start": 156,
                        "bin_end": 173,
                        "count": 63
                      },
                      {
                        "bin_start": 173,
                        "bin_end": 190,
                        "count": 40
                      }
                    ]
                  }
                },
                {
                  "name": "MSZoning",
                  "dtype": "object",
                  "stats": {
                    "unique_count": 5,
                    "nan_count": 0,
                    "categories": [
                      {
                        "name": "RL",
                        "count": 1151
                      },
                      {
                        "name": "RM",
                        "count": 218
                      },
                      {
                        "name": "3 others",
                        "count": 91
                      }
                    ]
                  }
                },
                {
                  "name": "LotFrontage",
                  "dtype": "float64",
                  "stats": {
                    "unique_count": 110,
                    "nan_count": 259,
                    "min": "21.0",
                    "max": "313.0",
                    "histogram": [
                      {
                        "bin_start": 21,
                        "bin_end": 50.2,
                        "count": 205
                      },
                      {
                        "bin_start": 50.2,
                        "bin_end": 79.4,
                        "count": 643
                      },
                      {
                        "bin_start": 79.4,
                        "bin_end": 108.6,
                        "count": 298
                      },
                      {
                        "bin_start": 108.6,
                        "bin_end": 137.8,
                        "count": 40
                      },
                      {
                        "bin_start": 137.8,
                        "bin_end": 167,
                        "count": 9
                      },
                      {
                        "bin_start": 167,
                        "bin_end": 196.2,
                        "count": 4
                      },
                      {
                        "bin_start": 196.2,
                        "bin_end": 225.4,
                        "count": 0
                      },
                      {
                        "bin_start": 225.4,
                        "bin_end": 254.6,
                        "count": 0
                      },
                      {
                        "bin_start": 254.6,
                        "bin_end": 283.8,
                        "count": 0
                      },
                      {
                        "bin_start": 283.8,
                        "bin_end": 313,
                        "count": 2
                      }
                    ]
                  }
                },
                {
                  "name": "LotArea",
                  "dtype": "int64",
                  "stats": {
                    "unique_count": 1073,
                    "nan_count": 0,
                    "min": "1300",
                    "max": "215245",
                    "histogram": [
                      {
                        "bin_start": 1300,
                        "bin_end": 22694.5,
                        "count": 1423
                      },
                      {
                        "bin_start": 22694.5,
                        "bin_end": 44089,
                        "count": 24
                      },
                      {
                        "bin_start": 44089,
                        "bin_end": 65483.5,
                        "count": 8
                      },
                      {
                        "bin_start": 65483.5,
                        "bin_end": 86878,
                        "count": 1
                      },
                      {
                        "bin_start": 86878,
                        "bin_end": 108272.5,
                        "count": 0
                      },
                      {
                        "bin_start": 108272.5,
                        "bin_end": 129667,
                        "count": 1
                      },
                      {
                        "bin_start": 129667,
                        "bin_end": 151061.5,
                        "count": 0
                      },
                      {
                        "bin_start": 151061.5,
                        "bin_end": 172456,
                        "count": 2
                      },
                      {
                        "bin_start": 172456,
                        "bin_end": 193850.5,
                        "count": 0
                      },
                      {
                        "bin_start": 193850.5,
                        "bin_end": 215245,
                        "count": 1
                      }
                    ]
                  }
                },
                {
                  "name": "Street",
                  "dtype": "object",
                  "stats": {
                    "unique_count": 2,
                    "nan_count": 0,
                    "categories": [
                      {
                        "name": "Pave",
                        "count": 1454
                      },
                      {
                        "name": "Grvl",
                        "count": 6
                      }
                    ]
                  }
                },
                {
                  "name": "Alley",
                  "dtype": "object",
                  "stats": {
                    "unique_count": 2,
                    "nan_count": 1369,
                    "categories": [
                      {
                        "name": "Grvl",
                        "count": 50
                      },
                      {
                        "name": "Pave",
                        "count": 41
                      },
                      {
                        "name": "Missing",
                        "count": 1369
                      }
                    ]
                  }
                },
                {
                  "name": "LotShape",
                  "dtype": "object",
                  "stats": {
                    "unique_count": 4,
                    "nan_count": 0,
                    "categories": [
                      {
                        "name": "Reg",
                        "count": 925
                      },
                      {
                        "name": "IR1",
                        "count": 484
                      },
                      {
                        "name": "2 others",
                        "count": 51
                      }
                    ]
                  }
                },
                {
                  "name": "LandContour",
                  "dtype": "object",
                  "stats": {
                    "unique_count": 4,
                    "nan_count": 0,
                    "categories": [
                      {
                        "name": "Lvl",
                        "count": 1311
                      },
                      {
                        "name": "Bnk",
                        "count": 63
                      },
                      {
                        "name": "2 others",
                        "count": 86
                      }
                    ]
                  }
                },
                {
                  "name": "Utilities",
                  "dtype": "object",
                  "stats": {
                    "unique_count": 2,
                    "nan_count": 0,
                    "categories": [
                      {
                        "name": "AllPub",
                        "count": 1459
                      },
                      {
                        "name": "NoSeWa",
                        "count": 1
                      }
                    ]
                  }
                },
                {
                  "name": "LotConfig",
                  "dtype": "object",
                  "stats": {
                    "unique_count": 5,
                    "nan_count": 0,
                    "categories": [
                      {
                        "name": "Inside",
                        "count": 1052
                      },
                      {
                        "name": "Corner",
                        "count": 263
                      },
                      {
                        "name": "3 others",
                        "count": 145
                      }
                    ]
                  }
                },
                {
                  "name": "LandSlope",
                  "dtype": "object",
                  "stats": {
                    "unique_count": 3,
                    "nan_count": 0,
                    "categories": [
                      {
                        "name": "Gtl",
                        "count": 1382
                      },
                      {
                        "name": "Mod",
                        "count": 65
                      },
                      {
                        "name": "Sev",
                        "count": 13
                      }
                    ]
                  }
                },
                {
                  "name": "Neighborhood",
                  "dtype": "object",
                  "stats": {
                    "unique_count": 25,
                    "nan_count": 0,
                    "categories": [
                      {
                        "name": "NAmes",
                        "count": 225
                      },
                      {
                        "name": "CollgCr",
                        "count": 150
                      },
                      {
                        "name": "23 others",
                        "count": 1085
                      }
                    ]
                  }
                },
                {
                  "name": "Condition1",
                  "dtype": "object",
                  "stats": {
                    "unique_count": 9,
                    "nan_count": 0,
                    "categories": [
                      {
                        "name": "Norm",
                        "count": 1260
                      },
                      {
                        "name": "Feedr",
                        "count": 81
                      },
                      {
                        "name": "7 others",
                        "count": 119
                      }
                    ]
                  }
                },
                {
                  "name": "Condition2",
                  "dtype": "object",
                  "stats": {
                    "unique_count": 8,
                    "nan_count": 0,
                    "categories": [
                      {
                        "name": "Norm",
                        "count": 1445
                      },
                      {
                        "name": "Feedr",
                        "count": 6
                      },
                      {
                        "name": "6 others",
                        "count": 9
                      }
                    ]
                  }
                },
                {
                  "name": "BldgType",
                  "dtype": "object",
                  "stats": {
                    "unique_count": 5,
                    "nan_count": 0,
                    "categories": [
                      {
                        "name": "1Fam",
                        "count": 1220
                      },
                      {
                        "name": "TwnhsE",
                        "count": 114
                      },
                      {
                        "name": "3 others",
                        "count": 126
                      }
                    ]
                  }
                },
                {
                  "name": "HouseStyle",
                  "dtype": "object",
                  "stats": {
                    "unique_count": 8,
                    "nan_count": 0,
                    "categories": [
                      {
                        "name": "1Story",
                        "count": 726
                      },
                      {
                        "name": "2Story",
                        "count": 445
                      },
                      {
                        "name": "6 others",
                        "count": 289
                      }
                    ]
                  }
                },
                {
                  "name": "OverallQual",
                  "dtype": "int64",
                  "stats": {
                    "unique_count": 10,
                    "nan_count": 0,
                    "min": "1",
                    "max": "10",
                    "histogram": [
                      {
                        "bin_start": 1,
                        "bin_end": 1.9,
                        "count": 2
                      },
                      {
                        "bin_start": 1.9,
                        "bin_end": 2.8,
                        "count": 3
                      },
                      {
                        "bin_start": 2.8,
                        "bin_end": 3.7,
                        "count": 20
                      },
                      {
                        "bin_start": 3.7,
                        "bin_end": 4.6,
                        "count": 116
                      },
                      {
                        "bin_start": 4.6,
                        "bin_end": 5.5,
                        "count": 397
                      },
                      {
                        "bin_start": 5.5,
                        "bin_end": 6.4,
                        "count": 374
                      },
                      {
                        "bin_start": 6.4,
                        "bin_end": 7.3,
                        "count": 319
                      },
                      {
                        "bin_start": 7.3,
                        "bin_end": 8.2,
                        "count": 168
                      },
                      {
                        "bin_start": 8.2,
                        "bin_end": 9.1,
                        "count": 43
                      },
                      {
                        "bin_start": 9.1,
                        "bin_end": 10,
                        "count": 18
                      }
                    ]
                  }
                },
                {
                  "name": "OverallCond",
                  "dtype": "int64",
                  "stats": {
                    "unique_count": 9,
                    "nan_count": 0,
                    "min": "1",
                    "max": "9",
                    "histogram": [
                      {
                        "bin_start": 1,
                        "bin_end": 1.8,
                        "count": 1
                      },
                      {
                        "bin_start": 1.8,
                        "bin_end": 2.6,
                        "count": 5
                      },
                      {
                        "bin_start": 2.6,
                        "bin_end": 3.4000000000000004,
                        "count": 25
                      },
                      {
                        "bin_start": 3.4000000000000004,
                        "bin_end": 4.2,
                        "count": 57
                      },
                      {
                        "bin_start": 4.2,
                        "bin_end": 5,
                        "count": 0
                      },
                      {
                        "bin_start": 5,
                        "bin_end": 5.800000000000001,
                        "count": 821
                      },
                      {
                        "bin_start": 5.800000000000001,
                        "bin_end": 6.6000000000000005,
                        "count": 252
                      },
                      {
                        "bin_start": 6.6000000000000005,
                        "bin_end": 7.4,
                        "count": 205
                      },
                      {
                        "bin_start": 7.4,
                        "bin_end": 8.2,
                        "count": 72
                      },
                      {
                        "bin_start": 8.2,
                        "bin_end": 9,
                        "count": 22
                      }
                    ]
                  }
                },
                {
                  "name": "YearBuilt",
                  "dtype": "int64",
                  "stats": {
                    "unique_count": 112,
                    "nan_count": 0,
                    "min": "1872",
                    "max": "2010",
                    "histogram": [
                      {
                        "bin_start": 1872,
                        "bin_end": 1885.8,
                        "count": 9
                      },
                      {
                        "bin_start": 1885.8,
                        "bin_end": 1899.6,
                        "count": 6
                      },
                      {
                        "bin_start": 1899.6,
                        "bin_end": 1913.4,
                        "count": 37
                      },
                      {
                        "bin_start": 1913.4,
                        "bin_end": 1927.2,
                        "count": 122
                      },
                      {
                        "bin_start": 1927.2,
                        "bin_end": 1941,
                        "count": 83
                      },
                      {
                        "bin_start": 1941,
                        "bin_end": 1954.8,
                        "count": 128
                      },
                      {
                        "bin_start": 1954.8,
                        "bin_end": 1968.6,
                        "count": 261
                      },
                      {
                        "bin_start": 1968.6,
                        "bin_end": 1982.4,
                        "count": 223
                      },
                      {
                        "bin_start": 1982.4,
                        "bin_end": 1996.2,
                        "count": 139
                      },
                      {
                        "bin_start": 1996.2,
                        "bin_end": 2010,
                        "count": 452
                      }
                    ]
                  }
                },
                {
                  "name": "YearRemodAdd",
                  "dtype": "int64",
                  "stats": {
                    "unique_count": 61,
                    "nan_count": 0,
                    "min": "1950",
                    "max": "2010",
                    "histogram": [
                      {
                        "bin_start": 1950,
                        "bin_end": 1956,
                        "count": 220
                      },
                      {
                        "bin_start": 1956,
                        "bin_end": 1962,
                        "count": 72
                      },
                      {
                        "bin_start": 1962,
                        "bin_end": 1968,
                        "count": 84
                      },
                      {
                        "bin_start": 1968,
                        "bin_end": 1974,
                        "count": 106
                      },
                      {
                        "bin_start": 1974,
                        "bin_end": 1980,
                        "count": 98
                      },
                      {
                        "bin_start": 1980,
                        "bin_end": 1986,
                        "count": 48
                      },
                      {
                        "bin_start": 1986,
                        "bin_end": 1992,
                        "count": 64
                      },
                      {
                        "bin_start": 1992,
                        "bin_end": 1998,
                        "count": 150
                      },
                      {
                        "bin_start": 1998,
                        "bin_end": 2004,
                        "count": 241
                      },
                      {
                        "bin_start": 2004,
                        "bin_end": 2010,
                        "count": 377
                      }
                    ]
                  }
                },
                {
                  "name": "RoofStyle",
                  "dtype": "object",
                  "stats": {
                    "unique_count": 6,
                    "nan_count": 0,
                    "categories": [
                      {
                        "name": "Gable",
                        "count": 1141
                      },
                      {
                        "name": "Hip",
                        "count": 286
                      },
                      {
                        "name": "4 others",
                        "count": 33
                      }
                    ]
                  }
                },
                {
                  "name": "RoofMatl",
                  "dtype": "object",
                  "stats": {
                    "unique_count": 8,
                    "nan_count": 0,
                    "categories": [
                      {
                        "name": "CompShg",
                        "count": 1434
                      },
                      {
                        "name": "Tar&Grv",
                        "count": 11
                      },
                      {
                        "name": "6 others",
                        "count": 15
                      }
                    ]
                  }
                },
                {
                  "name": "Exterior1st",
                  "dtype": "object",
                  "stats": {
                    "unique_count": 15,
                    "nan_count": 0,
                    "categories": [
                      {
                        "name": "VinylSd",
                        "count": 515
                      },
                      {
                        "name": "HdBoard",
                        "count": 222
                      },
                      {
                        "name": "13 others",
                        "count": 723
                      }
                    ]
                  }
                },
                {
                  "name": "Exterior2nd",
                  "dtype": "object",
                  "stats": {
                    "unique_count": 16,
                    "nan_count": 0,
                    "categories": [
                      {
                        "name": "VinylSd",
                        "count": 504
                      },
                      {
                        "name": "MetalSd",
                        "count": 214
                      },
                      {
                        "name": "14 others",
                        "count": 742
                      }
                    ]
                  }
                },
                {
                  "name": "MasVnrType",
                  "dtype": "object",
                  "stats": {
                    "unique_count": 4,
                    "nan_count": 8,
                    "categories": [
                      {
                        "name": "None",
                        "count": 864
                      },
                      {
                        "name": "3 others",
                        "count": 588
                      },
                      {
                        "name": "Missing",
                        "count": 8
                      }
                    ]
                  }
                },
                {
                  "name": "MasVnrArea",
                  "dtype": "float64",
                  "stats": {
                    "unique_count": 327,
                    "nan_count": 8,
                    "min": "0.0",
                    "max": "1600.0",
                    "histogram": [
                      {
                        "bin_start": 0,
                        "bin_end": 160,
                        "count": 1077
                      },
                      {
                        "bin_start": 160,
                        "bin_end": 320,
                        "count": 219
                      },
                      {
                        "bin_start": 320,
                        "bin_end": 480,
                        "count": 94
                      },
                      {
                        "bin_start": 480,
                        "bin_end": 640,
                        "count": 29
                      },
                      {
                        "bin_start": 640,
                        "bin_end": 800,
                        "count": 19
                      },
                      {
                        "bin_start": 800,
                        "bin_end": 960,
                        "count": 6
                      },
                      {
                        "bin_start": 960,
                        "bin_end": 1120,
                        "count": 4
                      },
                      {
                        "bin_start": 1120,
                        "bin_end": 1280,
                        "count": 2
                      },
                      {
                        "bin_start": 1280,
                        "bin_end": 1440,
                        "count": 1
                      },
                      {
                        "bin_start": 1440,
                        "bin_end": 1600,
                        "count": 1
                      }
                    ]
                  }
                },
                {
                  "name": "ExterQual",
                  "dtype": "object",
                  "stats": {
                    "unique_count": 4,
                    "nan_count": 0,
                    "categories": [
                      {
                        "name": "TA",
                        "count": 906
                      },
                      {
                        "name": "Gd",
                        "count": 488
                      },
                      {
                        "name": "2 others",
                        "count": 66
                      }
                    ]
                  }
                },
                {
                  "name": "ExterCond",
                  "dtype": "object",
                  "stats": {
                    "unique_count": 5,
                    "nan_count": 0,
                    "categories": [
                      {
                        "name": "TA",
                        "count": 1282
                      },
                      {
                        "name": "Gd",
                        "count": 146
                      },
                      {
                        "name": "3 others",
                        "count": 32
                      }
                    ]
                  }
                },
                {
                  "name": "Foundation",
                  "dtype": "object",
                  "stats": {
                    "unique_count": 6,
                    "nan_count": 0,
                    "categories": [
                      {
                        "name": "PConc",
                        "count": 647
                      },
                      {
                        "name": "CBlock",
                        "count": 634
                      },
                      {
                        "name": "4 others",
                        "count": 179
                      }
                    ]
                  }
                },
                {
                  "name": "BsmtQual",
                  "dtype": "object",
                  "stats": {
                    "unique_count": 4,
                    "nan_count": 37,
                    "categories": [
                      {
                        "name": "TA",
                        "count": 649
                      },
                      {
                        "name": "3 others",
                        "count": 774
                      },
                      {
                        "name": "Missing",
                        "count": 37
                      }
                    ]
                  }
                },
                {
                  "name": "BsmtCond",
                  "dtype": "object",
                  "stats": {
                    "unique_count": 4,
                    "nan_count": 37,
                    "categories": [
                      {
                        "name": "TA",
                        "count": 1311
                      },
                      {
                        "name": "3 others",
                        "count": 112
                      },
                      {
                        "name": "Missing",
                        "count": 37
                      }
                    ]
                  }
                },
                {
                  "name": "BsmtExposure",
                  "dtype": "object",
                  "stats": {
                    "unique_count": 4,
                    "nan_count": 38,
                    "categories": [
                      {
                        "name": "No",
                        "count": 953
                      },
                      {
                        "name": "3 others",
                        "count": 469
                      },
                      {
                        "name": "Missing",
                        "count": 38
                      }
                    ]
                  }
                },
                {
                  "name": "BsmtFinType1",
                  "dtype": "object",
                  "stats": {
                    "unique_count": 6,
                    "nan_count": 37,
                    "categories": [
                      {
                        "name": "Unf",
                        "count": 430
                      },
                      {
                        "name": "5 others",
                        "count": 993
                      },
                      {
                        "name": "Missing",
                        "count": 37
                      }
                    ]
                  }
                },
                {
                  "name": "BsmtFinSF1",
                  "dtype": "int64",
                  "stats": {
                    "unique_count": 637,
                    "nan_count": 0,
                    "min": "0",
                    "max": "5644",
                    "histogram": [
                      {
                        "bin_start": 0,
                        "bin_end": 564.4,
                        "count": 919
                      },
                      {
                        "bin_start": 564.4,
                        "bin_end": 1128.8,
                        "count": 417
                      },
                      {
                        "bin_start": 1128.8,
                        "bin_end": 1693.1999999999998,
                        "count": 114
                      },
                      {
                        "bin_start": 1693.1999999999998,
                        "bin_end": 2257.6,
                        "count": 8
                      },
                      {
                        "bin_start": 2257.6,
                        "bin_end": 2822,
                        "count": 1
                      },
                      {
                        "bin_start": 2822,
                        "bin_end": 3386.3999999999996,
                        "count": 0
                      },
                      {
                        "bin_start": 3386.3999999999996,
                        "bin_end": 3950.7999999999997,
                        "count": 0
                      },
                      {
                        "bin_start": 3950.7999999999997,
                        "bin_end": 4515.2,
                        "count": 0
                      },
                      {
                        "bin_start": 4515.2,
                        "bin_end": 5079.599999999999,
                        "count": 0
                      },
                      {
                        "bin_start": 5079.599999999999,
                        "bin_end": 5644,
                        "count": 1
                      }
                    ]
                  }
                },
                {
                  "name": "BsmtFinType2",
                  "dtype": "object",
                  "stats": {
                    "unique_count": 6,
                    "nan_count": 38,
                    "categories": [
                      {
                        "name": "Unf",
                        "count": 1256
                      },
                      {
                        "name": "5 others",
                        "count": 166
                      },
                      {
                        "name": "Missing",
                        "count": 38
                      }
                    ]
                  }
                },
                {
                  "name": "BsmtFinSF2",
                  "dtype": "int64",
                  "stats": {
                    "unique_count": 144,
                    "nan_count": 0,
                    "min": "0",
                    "max": "1474",
                    "histogram": [
                      {
                        "bin_start": 0,
                        "bin_end": 147.4,
                        "count": 1325
                      },
                      {
                        "bin_start": 147.4,
                        "bin_end": 294.8,
                        "count": 43
                      },
                      {
                        "bin_start": 294.8,
                        "bin_end": 442.20000000000005,
                        "count": 25
                      },
                      {
                        "bin_start": 442.20000000000005,
                        "bin_end": 589.6,
                        "count": 28
                      },
                      {
                        "bin_start": 589.6,
                        "bin_end": 737,
                        "count": 19
                      },
                      {
                        "bin_start": 737,
                        "bin_end": 884.4000000000001,
                        "count": 8
                      },
                      {
                        "bin_start": 884.4000000000001,
                        "bin_end": 1031.8,
                        "count": 4
                      },
                      {
                        "bin_start": 1031.8,
                        "bin_end": 1179.2,
                        "count": 7
                      },
                      {
                        "bin_start": 1179.2,
                        "bin_end": 1326.6000000000001,
                        "count": 0
                      },
                      {
                        "bin_start": 1326.6000000000001,
                        "bin_end": 1474,
                        "count": 1
                      }
                    ]
                  }
                },
                {
                  "name": "BsmtUnfSF",
                  "dtype": "int64",
                  "stats": {
                    "unique_count": 780,
                    "nan_count": 0,
                    "min": "0",
                    "max": "2336",
                    "histogram": [
                      {
                        "bin_start": 0,
                        "bin_end": 233.6,
                        "count": 375
                      },
                      {
                        "bin_start": 233.6,
                        "bin_end": 467.2,
                        "count": 346
                      },
                      {
                        "bin_start": 467.2,
                        "bin_end": 700.8,
                        "count": 256
                      },
                      {
                        "bin_start": 700.8,
                        "bin_end": 934.4,
                        "count": 216
                      },
                      {
                        "bin_start": 934.4,
                        "bin_end": 1168,
                        "count": 106
                      },
                      {
                        "bin_start": 1168,
                        "bin_end": 1401.6,
                        "count": 72
                      },
                      {
                        "bin_start": 1401.6,
                        "bin_end": 1635.2,
                        "count": 53
                      },
                      {
                        "bin_start": 1635.2,
                        "bin_end": 1868.8,
                        "count": 24
                      },
                      {
                        "bin_start": 1868.8,
                        "bin_end": 2102.4,
                        "count": 9
                      },
                      {
                        "bin_start": 2102.4,
                        "bin_end": 2336,
                        "count": 3
                      }
                    ]
                  }
                },
                {
                  "name": "TotalBsmtSF",
                  "dtype": "int64",
                  "stats": {
                    "unique_count": 721,
                    "nan_count": 0,
                    "min": "0",
                    "max": "6110",
                    "histogram": [
                      {
                        "bin_start": 0,
                        "bin_end": 611,
                        "count": 121
                      },
                      {
                        "bin_start": 611,
                        "bin_end": 1222,
                        "count": 907
                      },
                      {
                        "bin_start": 1222,
                        "bin_end": 1833,
                        "count": 372
                      },
                      {
                        "bin_start": 1833,
                        "bin_end": 2444,
                        "count": 52
                      },
                      {
                        "bin_start": 2444,
                        "bin_end": 3055,
                        "count": 3
                      },
                      {
                        "bin_start": 3055,
                        "bin_end": 3666,
                        "count": 4
                      },
                      {
                        "bin_start": 3666,
                        "bin_end": 4277,
                        "count": 0
                      },
                      {
                        "bin_start": 4277,
                        "bin_end": 4888,
                        "count": 0
                      },
                      {
                        "bin_start": 4888,
                        "bin_end": 5499,
                        "count": 0
                      },
                      {
                        "bin_start": 5499,
                        "bin_end": 6110,
                        "count": 1
                      }
                    ]
                  }
                },
                {
                  "name": "Heating",
                  "dtype": "object",
                  "stats": {
                    "unique_count": 6,
                    "nan_count": 0,
                    "categories": [
                      {
                        "name": "GasA",
                        "count": 1428
                      },
                      {
                        "name": "GasW",
                        "count": 18
                      },
                      {
                        "name": "4 others",
                        "count": 14
                      }
                    ]
                  }
                },
                {
                  "name": "HeatingQC",
                  "dtype": "object",
                  "stats": {
                    "unique_count": 5,
                    "nan_count": 0,
                    "categories": [
                      {
                        "name": "Ex",
                        "count": 741
                      },
                      {
                        "name": "TA",
                        "count": 428
                      },
                      {
                        "name": "3 others",
                        "count": 291
                      }
                    ]
                  }
                },
                {
                  "name": "CentralAir",
                  "dtype": "object",
                  "stats": {
                    "unique_count": 2,
                    "nan_count": 0,
                    "categories": [
                      {
                        "name": "Y",
                        "count": 1365
                      },
                      {
                        "name": "N",
                        "count": 95
                      }
                    ]
                  }
                },
                {
                  "name": "Electrical",
                  "dtype": "object",
                  "stats": {
                    "unique_count": 5,
                    "nan_count": 1,
                    "categories": [
                      {
                        "name": "SBrkr",
                        "count": 1334
                      },
                      {
                        "name": "4 others",
                        "count": 125
                      },
                      {
                        "name": "Missing",
                        "count": 1
                      }
                    ]
                  }
                },
                {
                  "name": "1stFlrSF",
                  "dtype": "int64",
                  "stats": {
                    "unique_count": 753,
                    "nan_count": 0,
                    "min": "334",
                    "max": "4692",
                    "histogram": [
                      {
                        "bin_start": 334,
                        "bin_end": 769.8,
                        "count": 165
                      },
                      {
                        "bin_start": 769.8,
                        "bin_end": 1205.6,
                        "count": 735
                      },
                      {
                        "bin_start": 1205.6,
                        "bin_end": 1641.4,
                        "count": 385
                      },
                      {
                        "bin_start": 1641.4,
                        "bin_end": 2077.2,
                        "count": 147
                      },
                      {
                        "bin_start": 2077.2,
                        "bin_end": 2513,
                        "count": 21
                      },
                      {
                        "bin_start": 2513,
                        "bin_end": 2948.8,
                        "count": 4
                      },
                      {
                        "bin_start": 2948.8,
                        "bin_end": 3384.6,
                        "count": 2
                      },
                      {
                        "bin_start": 3384.6,
                        "bin_end": 3820.4,
                        "count": 0
                      },
                      {
                        "bin_start": 3820.4,
                        "bin_end": 4256.200000000001,
                        "count": 0
                      },
                      {
                        "bin_start": 4256.200000000001,
                        "bin_end": 4692,
                        "count": 1
                      }
                    ]
                  }
                },
                {
                  "name": "2ndFlrSF",
                  "dtype": "int64",
                  "stats": {
                    "unique_count": 417,
                    "nan_count": 0,
                    "min": "0",
                    "max": "2065",
                    "histogram": [
                      {
                        "bin_start": 0,
                        "bin_end": 206.5,
                        "count": 832
                      },
                      {
                        "bin_start": 206.5,
                        "bin_end": 413,
                        "count": 32
                      },
                      {
                        "bin_start": 413,
                        "bin_end": 619.5,
                        "count": 118
                      },
                      {
                        "bin_start": 619.5,
                        "bin_end": 826,
                        "count": 209
                      },
                      {
                        "bin_start": 826,
                        "bin_end": 1032.5,
                        "count": 154
                      },
                      {
                        "bin_start": 1032.5,
                        "bin_end": 1239,
                        "count": 69
                      },
                      {
                        "bin_start": 1239,
                        "bin_end": 1445.5,
                        "count": 34
                      },
                      {
                        "bin_start": 1445.5,
                        "bin_end": 1652,
                        "count": 8
                      },
                      {
                        "bin_start": 1652,
                        "bin_end": 1858.5,
                        "count": 2
                      },
                      {
                        "bin_start": 1858.5,
                        "bin_end": 2065,
                        "count": 2
                      }
                    ]
                  }
                },
                {
                  "name": "LowQualFinSF",
                  "dtype": "int64",
                  "stats": {
                    "unique_count": 24,
                    "nan_count": 0,
                    "min": "0",
                    "max": "572",
                    "histogram": [
                      {
                        "bin_start": 0,
                        "bin_end": 57.2,
                        "count": 1435
                      },
                      {
                        "bin_start": 57.2,
                        "bin_end": 114.4,
                        "count": 3
                      },
                      {
                        "bin_start": 114.4,
                        "bin_end": 171.60000000000002,
                        "count": 3
                      },
                      {
                        "bin_start": 171.60000000000002,
                        "bin_end": 228.8,
                        "count": 1
                      },
                      {
                        "bin_start": 228.8,
                        "bin_end": 286,
                        "count": 2
                      },
                      {
                        "bin_start": 286,
                        "bin_end": 343.20000000000005,
                        "count": 0
                      },
                      {
                        "bin_start": 343.20000000000005,
                        "bin_end": 400.40000000000003,
                        "count": 7
                      },
                      {
                        "bin_start": 400.40000000000003,
                        "bin_end": 457.6,
                        "count": 1
                      },
                      {
                        "bin_start": 457.6,
                        "bin_end": 514.8000000000001,
                        "count": 5
                      },
                      {
                        "bin_start": 514.8000000000001,
                        "bin_end": 572,
                        "count": 3
                      }
                    ]
                  }
                },
                {
                  "name": "GrLivArea",
                  "dtype": "int64",
                  "stats": {
                    "unique_count": 861,
                    "nan_count": 0,
                    "min": "334",
                    "max": "5642",
                    "histogram": [
                      {
                        "bin_start": 334,
                        "bin_end": 864.8,
                        "count": 107
                      },
                      {
                        "bin_start": 864.8,
                        "bin_end": 1395.6,
                        "count": 554
                      },
                      {
                        "bin_start": 1395.6,
                        "bin_end": 1926.3999999999999,
                        "count": 535
                      },
                      {
                        "bin_start": 1926.3999999999999,
                        "bin_end": 2457.2,
                        "count": 189
                      },
                      {
                        "bin_start": 2457.2,
                        "bin_end": 2988,
                        "count": 57
                      },
                      {
                        "bin_start": 2988,
                        "bin_end": 3518.7999999999997,
                        "count": 12
                      },
                      {
                        "bin_start": 3518.7999999999997,
                        "bin_end": 4049.5999999999995,
                        "count": 2
                      },
                      {
                        "bin_start": 4049.5999999999995,
                        "bin_end": 4580.4,
                        "count": 2
                      },
                      {
                        "bin_start": 4580.4,
                        "bin_end": 5111.2,
                        "count": 1
                      },
                      {
                        "bin_start": 5111.2,
                        "bin_end": 5642,
                        "count": 1
                      }
                    ]
                  }
                },
                {
                  "name": "BsmtFullBath",
                  "dtype": "int64",
                  "stats": {
                    "unique_count": 4,
                    "nan_count": 0,
                    "min": "0",
                    "max": "3",
                    "histogram": [
                      {
                        "bin_start": 0,
                        "bin_end": 0.3,
                        "count": 856
                      },
                      {
                        "bin_start": 0.3,
                        "bin_end": 0.6,
                        "count": 0
                      },
                      {
                        "bin_start": 0.6,
                        "bin_end": 0.8999999999999999,
                        "count": 0
                      },
                      {
                        "bin_start": 0.8999999999999999,
                        "bin_end": 1.2,
                        "count": 588
                      },
                      {
                        "bin_start": 1.2,
                        "bin_end": 1.5,
                        "count": 0
                      },
                      {
                        "bin_start": 1.5,
                        "bin_end": 1.7999999999999998,
                        "count": 0
                      },
                      {
                        "bin_start": 1.7999999999999998,
                        "bin_end": 2.1,
                        "count": 15
                      },
                      {
                        "bin_start": 2.1,
                        "bin_end": 2.4,
                        "count": 0
                      },
                      {
                        "bin_start": 2.4,
                        "bin_end": 2.6999999999999997,
                        "count": 0
                      },
                      {
                        "bin_start": 2.6999999999999997,
                        "bin_end": 3,
                        "count": 1
                      }
                    ]
                  }
                },
                {
                  "name": "BsmtHalfBath",
                  "dtype": "int64",
                  "stats": {
                    "unique_count": 3,
                    "nan_count": 0,
                    "min": "0",
                    "max": "2",
                    "histogram": [
                      {
                        "bin_start": 0,
                        "bin_end": 0.2,
                        "count": 1378
                      },
                      {
                        "bin_start": 0.2,
                        "bin_end": 0.4,
                        "count": 0
                      },
                      {
                        "bin_start": 0.4,
                        "bin_end": 0.6000000000000001,
                        "count": 0
                      },
                      {
                        "bin_start": 0.6000000000000001,
                        "bin_end": 0.8,
                        "count": 0
                      },
                      {
                        "bin_start": 0.8,
                        "bin_end": 1,
                        "count": 0
                      },
                      {
                        "bin_start": 1,
                        "bin_end": 1.2000000000000002,
                        "count": 80
                      },
                      {
                        "bin_start": 1.2000000000000002,
                        "bin_end": 1.4000000000000001,
                        "count": 0
                      },
                      {
                        "bin_start": 1.4000000000000001,
                        "bin_end": 1.6,
                        "count": 0
                      },
                      {
                        "bin_start": 1.6,
                        "bin_end": 1.8,
                        "count": 0
                      },
                      {
                        "bin_start": 1.8,
                        "bin_end": 2,
                        "count": 2
                      }
                    ]
                  }
                },
                {
                  "name": "FullBath",
                  "dtype": "int64",
                  "stats": {
                    "unique_count": 4,
                    "nan_count": 0,
                    "min": "0",
                    "max": "3",
                    "histogram": [
                      {
                        "bin_start": 0,
                        "bin_end": 0.3,
                        "count": 9
                      },
                      {
                        "bin_start": 0.3,
                        "bin_end": 0.6,
                        "count": 0
                      },
                      {
                        "bin_start": 0.6,
                        "bin_end": 0.8999999999999999,
                        "count": 0
                      },
                      {
                        "bin_start": 0.8999999999999999,
                        "bin_end": 1.2,
                        "count": 650
                      },
                      {
                        "bin_start": 1.2,
                        "bin_end": 1.5,
                        "count": 0
                      },
                      {
                        "bin_start": 1.5,
                        "bin_end": 1.7999999999999998,
                        "count": 0
                      },
                      {
                        "bin_start": 1.7999999999999998,
                        "bin_end": 2.1,
                        "count": 768
                      },
                      {
                        "bin_start": 2.1,
                        "bin_end": 2.4,
                        "count": 0
                      },
                      {
                        "bin_start": 2.4,
                        "bin_end": 2.6999999999999997,
                        "count": 0
                      },
                      {
                        "bin_start": 2.6999999999999997,
                        "bin_end": 3,
                        "count": 33
                      }
                    ]
                  }
                },
                {
                  "name": "HalfBath",
                  "dtype": "int64",
                  "stats": {
                    "unique_count": 3,
                    "nan_count": 0,
                    "min": "0",
                    "max": "2",
                    "histogram": [
                      {
                        "bin_start": 0,
                        "bin_end": 0.2,
                        "count": 913
                      },
                      {
                        "bin_start": 0.2,
                        "bin_end": 0.4,
                        "count": 0
                      },
                      {
                        "bin_start": 0.4,
                        "bin_end": 0.6000000000000001,
                        "count": 0
                      },
                      {
                        "bin_start": 0.6000000000000001,
                        "bin_end": 0.8,
                        "count": 0
                      },
                      {
                        "bin_start": 0.8,
                        "bin_end": 1,
                        "count": 0
                      },
                      {
                        "bin_start": 1,
                        "bin_end": 1.2000000000000002,
                        "count": 535
                      },
                      {
                        "bin_start": 1.2000000000000002,
                        "bin_end": 1.4000000000000001,
                        "count": 0
                      },
                      {
                        "bin_start": 1.4000000000000001,
                        "bin_end": 1.6,
                        "count": 0
                      },
                      {
                        "bin_start": 1.6,
                        "bin_end": 1.8,
                        "count": 0
                      },
                      {
                        "bin_start": 1.8,
                        "bin_end": 2,
                        "count": 12
                      }
                    ]
                  }
                },
                {
                  "name": "BedroomAbvGr",
                  "dtype": "int64",
                  "stats": {
                    "unique_count": 8,
                    "nan_count": 0,
                    "min": "0",
                    "max": "8",
                    "histogram": [
                      {
                        "bin_start": 0,
                        "bin_end": 0.8,
                        "count": 6
                      },
                      {
                        "bin_start": 0.8,
                        "bin_end": 1.6,
                        "count": 50
                      },
                      {
                        "bin_start": 1.6,
                        "bin_end": 2.4000000000000004,
                        "count": 358
                      },
                      {
                        "bin_start": 2.4000000000000004,
                        "bin_end": 3.2,
                        "count": 804
                      },
                      {
                        "bin_start": 3.2,
                        "bin_end": 4,
                        "count": 0
                      },
                      {
                        "bin_start": 4,
                        "bin_end": 4.800000000000001,
                        "count": 213
                      },
                      {
                        "bin_start": 4.800000000000001,
                        "bin_end": 5.6000000000000005,
                        "count": 21
                      },
                      {
                        "bin_start": 5.6000000000000005,
                        "bin_end": 6.4,
                        "count": 7
                      },
                      {
                        "bin_start": 6.4,
                        "bin_end": 7.2,
                        "count": 0
                      },
                      {
                        "bin_start": 7.2,
                        "bin_end": 8,
                        "count": 1
                      }
                    ]
                  }
                },
                {
                  "name": "KitchenAbvGr",
                  "dtype": "int64",
                  "stats": {
                    "unique_count": 4,
                    "nan_count": 0,
                    "min": "0",
                    "max": "3",
                    "histogram": [
                      {
                        "bin_start": 0,
                        "bin_end": 0.3,
                        "count": 1
                      },
                      {
                        "bin_start": 0.3,
                        "bin_end": 0.6,
                        "count": 0
                      },
                      {
                        "bin_start": 0.6,
                        "bin_end": 0.8999999999999999,
                        "count": 0
                      },
                      {
                        "bin_start": 0.8999999999999999,
                        "bin_end": 1.2,
                        "count": 1392
                      },
                      {
                        "bin_start": 1.2,
                        "bin_end": 1.5,
                        "count": 0
                      },
                      {
                        "bin_start": 1.5,
                        "bin_end": 1.7999999999999998,
                        "count": 0
                      },
                      {
                        "bin_start": 1.7999999999999998,
                        "bin_end": 2.1,
                        "count": 65
                      },
                      {
                        "bin_start": 2.1,
                        "bin_end": 2.4,
                        "count": 0
                      },
                      {
                        "bin_start": 2.4,
                        "bin_end": 2.6999999999999997,
                        "count": 0
                      },
                      {
                        "bin_start": 2.6999999999999997,
                        "bin_end": 3,
                        "count": 2
                      }
                    ]
                  }
                },
                {
                  "name": "KitchenQual",
                  "dtype": "object",
                  "stats": {
                    "unique_count": 4,
                    "nan_count": 0,
                    "categories": [
                      {
                        "name": "TA",
                        "count": 735
                      },
                      {
                        "name": "Gd",
                        "count": 586
                      },
                      {
                        "name": "2 others",
                        "count": 139
                      }
                    ]
                  }
                },
                {
                  "name": "TotRmsAbvGrd",
                  "dtype": "int64",
                  "stats": {
                    "unique_count": 12,
                    "nan_count": 0,
                    "min": "2",
                    "max": "14",
                    "histogram": [
                      {
                        "bin_start": 2,
                        "bin_end": 3.2,
                        "count": 18
                      },
                      {
                        "bin_start": 3.2,
                        "bin_end": 4.4,
                        "count": 97
                      },
                      {
                        "bin_start": 4.4,
                        "bin_end": 5.6,
                        "count": 275
                      },
                      {
                        "bin_start": 5.6,
                        "bin_end": 6.8,
                        "count": 402
                      },
                      {
                        "bin_start": 6.8,
                        "bin_end": 8,
                        "count": 329
                      },
                      {
                        "bin_start": 8,
                        "bin_end": 9.2,
                        "count": 262
                      },
                      {
                        "bin_start": 9.2,
                        "bin_end": 10.4,
                        "count": 47
                      },
                      {
                        "bin_start": 10.4,
                        "bin_end": 11.6,
                        "count": 18
                      },
                      {
                        "bin_start": 11.6,
                        "bin_end": 12.799999999999999,
                        "count": 11
                      },
                      {
                        "bin_start": 12.799999999999999,
                        "bin_end": 14,
                        "count": 1
                      }
                    ]
                  }
                },
                {
                  "name": "Functional",
                  "dtype": "object",
                  "stats": {
                    "unique_count": 7,
                    "nan_count": 0,
                    "categories": [
                      {
                        "name": "Typ",
                        "count": 1360
                      },
                      {
                        "name": "Min2",
                        "count": 34
                      },
                      {
                        "name": "5 others",
                        "count": 66
                      }
                    ]
                  }
                },
                {
                  "name": "Fireplaces",
                  "dtype": "int64",
                  "stats": {
                    "unique_count": 4,
                    "nan_count": 0,
                    "min": "0",
                    "max": "3",
                    "histogram": [
                      {
                        "bin_start": 0,
                        "bin_end": 0.3,
                        "count": 690
                      },
                      {
                        "bin_start": 0.3,
                        "bin_end": 0.6,
                        "count": 0
                      },
                      {
                        "bin_start": 0.6,
                        "bin_end": 0.8999999999999999,
                        "count": 0
                      },
                      {
                        "bin_start": 0.8999999999999999,
                        "bin_end": 1.2,
                        "count": 650
                      },
                      {
                        "bin_start": 1.2,
                        "bin_end": 1.5,
                        "count": 0
                      },
                      {
                        "bin_start": 1.5,
                        "bin_end": 1.7999999999999998,
                        "count": 0
                      },
                      {
                        "bin_start": 1.7999999999999998,
                        "bin_end": 2.1,
                        "count": 115
                      },
                      {
                        "bin_start": 2.1,
                        "bin_end": 2.4,
                        "count": 0
                      },
                      {
                        "bin_start": 2.4,
                        "bin_end": 2.6999999999999997,
                        "count": 0
                      },
                      {
                        "bin_start": 2.6999999999999997,
                        "bin_end": 3,
                        "count": 5
                      }
                    ]
                  }
                },
                {
                  "name": "FireplaceQu",
                  "dtype": "object",
                  "stats": {
                    "unique_count": 5,
                    "nan_count": 690,
                    "categories": [
                      {
                        "name": "Gd",
                        "count": 380
                      },
                      {
                        "name": "4 others",
                        "count": 390
                      },
                      {
                        "name": "Missing",
                        "count": 690
                      }
                    ]
                  }
                },
                {
                  "name": "GarageType",
                  "dtype": "object",
                  "stats": {
                    "unique_count": 6,
                    "nan_count": 81,
                    "categories": [
                      {
                        "name": "Attchd",
                        "count": 870
                      },
                      {
                        "name": "5 others",
                        "count": 509
                      },
                      {
                        "name": "Missing",
                        "count": 81
                      }
                    ]
                  }
                },
                {
                  "name": "GarageYrBlt",
                  "dtype": "float64",
                  "stats": {
                    "unique_count": 97,
                    "nan_count": 81,
                    "min": "1900.0",
                    "max": "2010.0",
                    "histogram": [
                      {
                        "bin_start": 1900,
                        "bin_end": 1911,
                        "count": 6
                      },
                      {
                        "bin_start": 1911,
                        "bin_end": 1922,
                        "count": 28
                      },
                      {
                        "bin_start": 1922,
                        "bin_end": 1933,
                        "count": 49
                      },
                      {
                        "bin_start": 1933,
                        "bin_end": 1944,
                        "count": 52
                      },
                      {
                        "bin_start": 1944,
                        "bin_end": 1955,
                        "count": 93
                      },
                      {
                        "bin_start": 1955,
                        "bin_end": 1966,
                        "count": 195
                      },
                      {
                        "bin_start": 1966,
                        "bin_end": 1977,
                        "count": 194
                      },
                      {
                        "bin_start": 1977,
                        "bin_end": 1988,
                        "count": 140
                      },
                      {
                        "bin_start": 1988,
                        "bin_end": 1999,
                        "count": 190
                      },
                      {
                        "bin_start": 1999,
                        "bin_end": 2010,
                        "count": 432
                      }
                    ]
                  }
                },
                {
                  "name": "GarageFinish",
                  "dtype": "object",
                  "stats": {
                    "unique_count": 3,
                    "nan_count": 81,
                    "categories": [
                      {
                        "name": "Unf",
                        "count": 605
                      },
                      {
                        "name": "2 others",
                        "count": 774
                      },
                      {
                        "name": "Missing",
                        "count": 81
                      }
                    ]
                  }
                },
                {
                  "name": "GarageCars",
                  "dtype": "int64",
                  "stats": {
                    "unique_count": 5,
                    "nan_count": 0,
                    "min": "0",
                    "max": "4",
                    "histogram": [
                      {
                        "bin_start": 0,
                        "bin_end": 0.4,
                        "count": 81
                      },
                      {
                        "bin_start": 0.4,
                        "bin_end": 0.8,
                        "count": 0
                      },
                      {
                        "bin_start": 0.8,
                        "bin_end": 1.2000000000000002,
                        "count": 369
                      },
                      {
                        "bin_start": 1.2000000000000002,
                        "bin_end": 1.6,
                        "count": 0
                      },
                      {
                        "bin_start": 1.6,
                        "bin_end": 2,
                        "count": 0
                      },
                      {
                        "bin_start": 2,
                        "bin_end": 2.4000000000000004,
                        "count": 824
                      },
                      {
                        "bin_start": 2.4000000000000004,
                        "bin_end": 2.8000000000000003,
                        "count": 0
                      },
                      {
                        "bin_start": 2.8000000000000003,
                        "bin_end": 3.2,
                        "count": 181
                      },
                      {
                        "bin_start": 3.2,
                        "bin_end": 3.6,
                        "count": 0
                      },
                      {
                        "bin_start": 3.6,
                        "bin_end": 4,
                        "count": 5
                      }
                    ]
                  }
                },
                {
                  "name": "GarageArea",
                  "dtype": "int64",
                  "stats": {
                    "unique_count": 441,
                    "nan_count": 0,
                    "min": "0",
                    "max": "1418",
                    "histogram": [
                      {
                        "bin_start": 0,
                        "bin_end": 141.8,
                        "count": 81
                      },
                      {
                        "bin_start": 141.8,
                        "bin_end": 283.6,
                        "count": 167
                      },
                      {
                        "bin_start": 283.6,
                        "bin_end": 425.40000000000003,
                        "count": 293
                      },
                      {
                        "bin_start": 425.40000000000003,
                        "bin_end": 567.2,
                        "count": 500
                      },
                      {
                        "bin_start": 567.2,
                        "bin_end": 709,
                        "count": 240
                      },
                      {
                        "bin_start": 709,
                        "bin_end": 850.8000000000001,
                        "count": 106
                      },
                      {
                        "bin_start": 850.8000000000001,
                        "bin_end": 992.6000000000001,
                        "count": 57
                      },
                      {
                        "bin_start": 992.6000000000001,
                        "bin_end": 1134.4,
                        "count": 10
                      },
                      {
                        "bin_start": 1134.4,
                        "bin_end": 1276.2,
                        "count": 3
                      },
                      {
                        "bin_start": 1276.2,
                        "bin_end": 1418,
                        "count": 3
                      }
                    ]
                  }
                },
                {
                  "name": "GarageQual",
                  "dtype": "object",
                  "stats": {
                    "unique_count": 5,
                    "nan_count": 81,
                    "categories": [
                      {
                        "name": "TA",
                        "count": 1311
                      },
                      {
                        "name": "4 others",
                        "count": 68
                      },
                      {
                        "name": "Missing",
                        "count": 81
                      }
                    ]
                  }
                },
                {
                  "name": "GarageCond",
                  "dtype": "object",
                  "stats": {
                    "unique_count": 5,
                    "nan_count": 81,
                    "categories": [
                      {
                        "name": "TA",
                        "count": 1326
                      },
                      {
                        "name": "4 others",
                        "count": 53
                      },
                      {
                        "name": "Missing",
                        "count": 81
                      }
                    ]
                  }
                },
                {
                  "name": "PavedDrive",
                  "dtype": "object",
                  "stats": {
                    "unique_count": 3,
                    "nan_count": 0,
                    "categories": [
                      {
                        "name": "Y",
                        "count": 1340
                      },
                      {
                        "name": "N",
                        "count": 90
                      },
                      {
                        "name": "P",
                        "count": 30
                      }
                    ]
                  }
                },
                {
                  "name": "WoodDeckSF",
                  "dtype": "int64",
                  "stats": {
                    "unique_count": 274,
                    "nan_count": 0,
                    "min": "0",
                    "max": "857",
                    "histogram": [
                      {
                        "bin_start": 0,
                        "bin_end": 85.7,
                        "count": 826
                      },
                      {
                        "bin_start": 85.7,
                        "bin_end": 171.4,
                        "count": 286
                      },
                      {
                        "bin_start": 171.4,
                        "bin_end": 257.1,
                        "count": 198
                      },
                      {
                        "bin_start": 257.1,
                        "bin_end": 342.8,
                        "count": 82
                      },
                      {
                        "bin_start": 342.8,
                        "bin_end": 428.5,
                        "count": 38
                      },
                      {
                        "bin_start": 428.5,
                        "bin_end": 514.2,
                        "count": 17
                      },
                      {
                        "bin_start": 514.2,
                        "bin_end": 599.9,
                        "count": 7
                      },
                      {
                        "bin_start": 599.9,
                        "bin_end": 685.6,
                        "count": 3
                      },
                      {
                        "bin_start": 685.6,
                        "bin_end": 771.3000000000001,
                        "count": 2
                      },
                      {
                        "bin_start": 771.3000000000001,
                        "bin_end": 857,
                        "count": 1
                      }
                    ]
                  }
                },
                {
                  "name": "OpenPorchSF",
                  "dtype": "int64",
                  "stats": {
                    "unique_count": 202,
                    "nan_count": 0,
                    "min": "0",
                    "max": "547",
                    "histogram": [
                      {
                        "bin_start": 0,
                        "bin_end": 54.7,
                        "count": 1007
                      },
                      {
                        "bin_start": 54.7,
                        "bin_end": 109.4,
                        "count": 242
                      },
                      {
                        "bin_start": 109.4,
                        "bin_end": 164.10000000000002,
                        "count": 123
                      },
                      {
                        "bin_start": 164.10000000000002,
                        "bin_end": 218.8,
                        "count": 45
                      },
                      {
                        "bin_start": 218.8,
                        "bin_end": 273.5,
                        "count": 25
                      },
                      {
                        "bin_start": 273.5,
                        "bin_end": 328.20000000000005,
                        "count": 11
                      },
                      {
                        "bin_start": 328.20000000000005,
                        "bin_end": 382.90000000000003,
                        "count": 2
                      },
                      {
                        "bin_start": 382.90000000000003,
                        "bin_end": 437.6,
                        "count": 2
                      },
                      {
                        "bin_start": 437.6,
                        "bin_end": 492.3,
                        "count": 0
                      },
                      {
                        "bin_start": 492.3,
                        "bin_end": 547,
                        "count": 3
                      }
                    ]
                  }
                },
                {
                  "name": "EnclosedPorch",
                  "dtype": "int64"
                },
                {
                  "name": "3SsnPorch",
                  "dtype": "int64"
                },
                {
                  "name": "ScreenPorch",
                  "dtype": "int64"
                },
                {
                  "name": "PoolArea",
                  "dtype": "int64"
                },
                {
                  "name": "PoolQC",
                  "dtype": "object"
                },
                {
                  "name": "Fence",
                  "dtype": "object"
                },
                {
                  "name": "MiscFeature",
                  "dtype": "object"
                },
                {
                  "name": "MiscVal",
                  "dtype": "int64"
                },
                {
                  "name": "MoSold",
                  "dtype": "int64"
                },
                {
                  "name": "YrSold",
                  "dtype": "int64"
                },
                {
                  "name": "SaleType",
                  "dtype": "object"
                },
                {
                  "name": "SaleCondition",
                  "dtype": "object"
                },
                {
                  "name": "SalePrice",
                  "dtype": "int64"
                },
                {
                  "name": "_deepnote_index_column",
                  "dtype": "int64"
                }
              ],
              "rows_top": [
                {
                  "Id": 1,
                  "MSSubClass": 60,
                  "MSZoning": "RL",
                  "LotFrontage": 65,
                  "LotArea": 8450,
                  "Street": "Pave",
                  "Alley": "nan",
                  "LotShape": "Reg",
                  "LandContour": "Lvl",
                  "Utilities": "AllPub",
                  "LotConfig": "Inside",
                  "LandSlope": "Gtl",
                  "Neighborhood": "CollgCr",
                  "Condition1": "Norm",
                  "Condition2": "Norm",
                  "BldgType": "1Fam",
                  "HouseStyle": "2Story",
                  "OverallQual": 7,
                  "OverallCond": 5,
                  "YearBuilt": 2003,
                  "YearRemodAdd": 2003,
                  "RoofStyle": "Gable",
                  "RoofMatl": "CompShg",
                  "Exterior1st": "VinylSd",
                  "Exterior2nd": "VinylSd",
                  "MasVnrType": "BrkFace",
                  "MasVnrArea": 196,
                  "ExterQual": "Gd",
                  "ExterCond": "TA",
                  "Foundation": "PConc",
                  "BsmtQual": "Gd",
                  "BsmtCond": "TA",
                  "BsmtExposure": "No",
                  "BsmtFinType1": "GLQ",
                  "BsmtFinSF1": 706,
                  "BsmtFinType2": "Unf",
                  "BsmtFinSF2": 0,
                  "BsmtUnfSF": 150,
                  "TotalBsmtSF": 856,
                  "Heating": "GasA",
                  "HeatingQC": "Ex",
                  "CentralAir": "Y",
                  "Electrical": "SBrkr",
                  "1stFlrSF": 856,
                  "2ndFlrSF": 854,
                  "LowQualFinSF": 0,
                  "GrLivArea": 1710,
                  "BsmtFullBath": 1,
                  "BsmtHalfBath": 0,
                  "FullBath": 2,
                  "HalfBath": 1,
                  "BedroomAbvGr": 3,
                  "KitchenAbvGr": 1,
                  "KitchenQual": "Gd",
                  "TotRmsAbvGrd": 8,
                  "Functional": "Typ",
                  "Fireplaces": 0,
                  "FireplaceQu": "nan",
                  "GarageType": "Attchd",
                  "GarageYrBlt": 2003,
                  "GarageFinish": "RFn",
                  "GarageCars": 2,
                  "GarageArea": 548,
                  "GarageQual": "TA",
                  "GarageCond": "TA",
                  "PavedDrive": "Y",
                  "WoodDeckSF": 0,
                  "OpenPorchSF": 61,
                  "EnclosedPorch": 0,
                  "3SsnPorch": 0,
                  "ScreenPorch": 0,
                  "PoolArea": 0,
                  "PoolQC": "nan",
                  "Fence": "nan",
                  "MiscFeature": "nan",
                  "MiscVal": 0,
                  "MoSold": 2,
                  "YrSold": 2008,
                  "SaleType": "WD",
                  "SaleCondition": "Normal",
                  "SalePrice": 208500,
                  "_deepnote_index_column": 0
                },
                {
                  "Id": 2,
                  "MSSubClass": 20,
                  "MSZoning": "RL",
                  "LotFrontage": 80,
                  "LotArea": 9600,
                  "Street": "Pave",
                  "Alley": "nan",
                  "LotShape": "Reg",
                  "LandContour": "Lvl",
                  "Utilities": "AllPub",
                  "LotConfig": "FR2",
                  "LandSlope": "Gtl",
                  "Neighborhood": "Veenker",
                  "Condition1": "Feedr",
                  "Condition2": "Norm",
                  "BldgType": "1Fam",
                  "HouseStyle": "1Story",
                  "OverallQual": 6,
                  "OverallCond": 8,
                  "YearBuilt": 1976,
                  "YearRemodAdd": 1976,
                  "RoofStyle": "Gable",
                  "RoofMatl": "CompShg",
                  "Exterior1st": "MetalSd",
                  "Exterior2nd": "MetalSd",
                  "MasVnrType": "None",
                  "MasVnrArea": 0,
                  "ExterQual": "TA",
                  "ExterCond": "TA",
                  "Foundation": "CBlock",
                  "BsmtQual": "Gd",
                  "BsmtCond": "TA",
                  "BsmtExposure": "Gd",
                  "BsmtFinType1": "ALQ",
                  "BsmtFinSF1": 978,
                  "BsmtFinType2": "Unf",
                  "BsmtFinSF2": 0,
                  "BsmtUnfSF": 284,
                  "TotalBsmtSF": 1262,
                  "Heating": "GasA",
                  "HeatingQC": "Ex",
                  "CentralAir": "Y",
                  "Electrical": "SBrkr",
                  "1stFlrSF": 1262,
                  "2ndFlrSF": 0,
                  "LowQualFinSF": 0,
                  "GrLivArea": 1262,
                  "BsmtFullBath": 0,
                  "BsmtHalfBath": 1,
                  "FullBath": 2,
                  "HalfBath": 0,
                  "BedroomAbvGr": 3,
                  "KitchenAbvGr": 1,
                  "KitchenQual": "TA",
                  "TotRmsAbvGrd": 6,
                  "Functional": "Typ",
                  "Fireplaces": 1,
                  "FireplaceQu": "TA",
                  "GarageType": "Attchd",
                  "GarageYrBlt": 1976,
                  "GarageFinish": "RFn",
                  "GarageCars": 2,
                  "GarageArea": 460,
                  "GarageQual": "TA",
                  "GarageCond": "TA",
                  "PavedDrive": "Y",
                  "WoodDeckSF": 298,
                  "OpenPorchSF": 0,
                  "EnclosedPorch": 0,
                  "3SsnPorch": 0,
                  "ScreenPorch": 0,
                  "PoolArea": 0,
                  "PoolQC": "nan",
                  "Fence": "nan",
                  "MiscFeature": "nan",
                  "MiscVal": 0,
                  "MoSold": 5,
                  "YrSold": 2007,
                  "SaleType": "WD",
                  "SaleCondition": "Normal",
                  "SalePrice": 181500,
                  "_deepnote_index_column": 1
                },
                {
                  "Id": 3,
                  "MSSubClass": 60,
                  "MSZoning": "RL",
                  "LotFrontage": 68,
                  "LotArea": 11250,
                  "Street": "Pave",
                  "Alley": "nan",
                  "LotShape": "IR1",
                  "LandContour": "Lvl",
                  "Utilities": "AllPub",
                  "LotConfig": "Inside",
                  "LandSlope": "Gtl",
                  "Neighborhood": "CollgCr",
                  "Condition1": "Norm",
                  "Condition2": "Norm",
                  "BldgType": "1Fam",
                  "HouseStyle": "2Story",
                  "OverallQual": 7,
                  "OverallCond": 5,
                  "YearBuilt": 2001,
                  "YearRemodAdd": 2002,
                  "RoofStyle": "Gable",
                  "RoofMatl": "CompShg",
                  "Exterior1st": "VinylSd",
                  "Exterior2nd": "VinylSd",
                  "MasVnrType": "BrkFace",
                  "MasVnrArea": 162,
                  "ExterQual": "Gd",
                  "ExterCond": "TA",
                  "Foundation": "PConc",
                  "BsmtQual": "Gd",
                  "BsmtCond": "TA",
                  "BsmtExposure": "Mn",
                  "BsmtFinType1": "GLQ",
                  "BsmtFinSF1": 486,
                  "BsmtFinType2": "Unf",
                  "BsmtFinSF2": 0,
                  "BsmtUnfSF": 434,
                  "TotalBsmtSF": 920,
                  "Heating": "GasA",
                  "HeatingQC": "Ex",
                  "CentralAir": "Y",
                  "Electrical": "SBrkr",
                  "1stFlrSF": 920,
                  "2ndFlrSF": 866,
                  "LowQualFinSF": 0,
                  "GrLivArea": 1786,
                  "BsmtFullBath": 1,
                  "BsmtHalfBath": 0,
                  "FullBath": 2,
                  "HalfBath": 1,
                  "BedroomAbvGr": 3,
                  "KitchenAbvGr": 1,
                  "KitchenQual": "Gd",
                  "TotRmsAbvGrd": 6,
                  "Functional": "Typ",
                  "Fireplaces": 1,
                  "FireplaceQu": "TA",
                  "GarageType": "Attchd",
                  "GarageYrBlt": 2001,
                  "GarageFinish": "RFn",
                  "GarageCars": 2,
                  "GarageArea": 608,
                  "GarageQual": "TA",
                  "GarageCond": "TA",
                  "PavedDrive": "Y",
                  "WoodDeckSF": 0,
                  "OpenPorchSF": 42,
                  "EnclosedPorch": 0,
                  "3SsnPorch": 0,
                  "ScreenPorch": 0,
                  "PoolArea": 0,
                  "PoolQC": "nan",
                  "Fence": "nan",
                  "MiscFeature": "nan",
                  "MiscVal": 0,
                  "MoSold": 9,
                  "YrSold": 2008,
                  "SaleType": "WD",
                  "SaleCondition": "Normal",
                  "SalePrice": 223500,
                  "_deepnote_index_column": 2
                },
                {
                  "Id": 4,
                  "MSSubClass": 70,
                  "MSZoning": "RL",
                  "LotFrontage": 60,
                  "LotArea": 9550,
                  "Street": "Pave",
                  "Alley": "nan",
                  "LotShape": "IR1",
                  "LandContour": "Lvl",
                  "Utilities": "AllPub",
                  "LotConfig": "Corner",
                  "LandSlope": "Gtl",
                  "Neighborhood": "Crawfor",
                  "Condition1": "Norm",
                  "Condition2": "Norm",
                  "BldgType": "1Fam",
                  "HouseStyle": "2Story",
                  "OverallQual": 7,
                  "OverallCond": 5,
                  "YearBuilt": 1915,
                  "YearRemodAdd": 1970,
                  "RoofStyle": "Gable",
                  "RoofMatl": "CompShg",
                  "Exterior1st": "Wd Sdng",
                  "Exterior2nd": "Wd Shng",
                  "MasVnrType": "None",
                  "MasVnrArea": 0,
                  "ExterQual": "TA",
                  "ExterCond": "TA",
                  "Foundation": "BrkTil",
                  "BsmtQual": "TA",
                  "BsmtCond": "Gd",
                  "BsmtExposure": "No",
                  "BsmtFinType1": "ALQ",
                  "BsmtFinSF1": 216,
                  "BsmtFinType2": "Unf",
                  "BsmtFinSF2": 0,
                  "BsmtUnfSF": 540,
                  "TotalBsmtSF": 756,
                  "Heating": "GasA",
                  "HeatingQC": "Gd",
                  "CentralAir": "Y",
                  "Electrical": "SBrkr",
                  "1stFlrSF": 961,
                  "2ndFlrSF": 756,
                  "LowQualFinSF": 0,
                  "GrLivArea": 1717,
                  "BsmtFullBath": 1,
                  "BsmtHalfBath": 0,
                  "FullBath": 1,
                  "HalfBath": 0,
                  "BedroomAbvGr": 3,
                  "KitchenAbvGr": 1,
                  "KitchenQual": "Gd",
                  "TotRmsAbvGrd": 7,
                  "Functional": "Typ",
                  "Fireplaces": 1,
                  "FireplaceQu": "Gd",
                  "GarageType": "Detchd",
                  "GarageYrBlt": 1998,
                  "GarageFinish": "Unf",
                  "GarageCars": 3,
                  "GarageArea": 642,
                  "GarageQual": "TA",
                  "GarageCond": "TA",
                  "PavedDrive": "Y",
                  "WoodDeckSF": 0,
                  "OpenPorchSF": 35,
                  "EnclosedPorch": 272,
                  "3SsnPorch": 0,
                  "ScreenPorch": 0,
                  "PoolArea": 0,
                  "PoolQC": "nan",
                  "Fence": "nan",
                  "MiscFeature": "nan",
                  "MiscVal": 0,
                  "MoSold": 2,
                  "YrSold": 2006,
                  "SaleType": "WD",
                  "SaleCondition": "Abnorml",
                  "SalePrice": 140000,
                  "_deepnote_index_column": 3
                },
                {
                  "Id": 5,
                  "MSSubClass": 60,
                  "MSZoning": "RL",
                  "LotFrontage": 84,
                  "LotArea": 14260,
                  "Street": "Pave",
                  "Alley": "nan",
                  "LotShape": "IR1",
                  "LandContour": "Lvl",
                  "Utilities": "AllPub",
                  "LotConfig": "FR2",
                  "LandSlope": "Gtl",
                  "Neighborhood": "NoRidge",
                  "Condition1": "Norm",
                  "Condition2": "Norm",
                  "BldgType": "1Fam",
                  "HouseStyle": "2Story",
                  "OverallQual": 8,
                  "OverallCond": 5,
                  "YearBuilt": 2000,
                  "YearRemodAdd": 2000,
                  "RoofStyle": "Gable",
                  "RoofMatl": "CompShg",
                  "Exterior1st": "VinylSd",
                  "Exterior2nd": "VinylSd",
                  "MasVnrType": "BrkFace",
                  "MasVnrArea": 350,
                  "ExterQual": "Gd",
                  "ExterCond": "TA",
                  "Foundation": "PConc",
                  "BsmtQual": "Gd",
                  "BsmtCond": "TA",
                  "BsmtExposure": "Av",
                  "BsmtFinType1": "GLQ",
                  "BsmtFinSF1": 655,
                  "BsmtFinType2": "Unf",
                  "BsmtFinSF2": 0,
                  "BsmtUnfSF": 490,
                  "TotalBsmtSF": 1145,
                  "Heating": "GasA",
                  "HeatingQC": "Ex",
                  "CentralAir": "Y",
                  "Electrical": "SBrkr",
                  "1stFlrSF": 1145,
                  "2ndFlrSF": 1053,
                  "LowQualFinSF": 0,
                  "GrLivArea": 2198,
                  "BsmtFullBath": 1,
                  "BsmtHalfBath": 0,
                  "FullBath": 2,
                  "HalfBath": 1,
                  "BedroomAbvGr": 4,
                  "KitchenAbvGr": 1,
                  "KitchenQual": "Gd",
                  "TotRmsAbvGrd": 9,
                  "Functional": "Typ",
                  "Fireplaces": 1,
                  "FireplaceQu": "TA",
                  "GarageType": "Attchd",
                  "GarageYrBlt": 2000,
                  "GarageFinish": "RFn",
                  "GarageCars": 3,
                  "GarageArea": 836,
                  "GarageQual": "TA",
                  "GarageCond": "TA",
                  "PavedDrive": "Y",
                  "WoodDeckSF": 192,
                  "OpenPorchSF": 84,
                  "EnclosedPorch": 0,
                  "3SsnPorch": 0,
                  "ScreenPorch": 0,
                  "PoolArea": 0,
                  "PoolQC": "nan",
                  "Fence": "nan",
                  "MiscFeature": "nan",
                  "MiscVal": 0,
                  "MoSold": 12,
                  "YrSold": 2008,
                  "SaleType": "WD",
                  "SaleCondition": "Normal",
                  "SalePrice": 250000,
                  "_deepnote_index_column": 4
                },
                {
                  "Id": 6,
                  "MSSubClass": 50,
                  "MSZoning": "RL",
                  "LotFrontage": 85,
                  "LotArea": 14115,
                  "Street": "Pave",
                  "Alley": "nan",
                  "LotShape": "IR1",
                  "LandContour": "Lvl",
                  "Utilities": "AllPub",
                  "LotConfig": "Inside",
                  "LandSlope": "Gtl",
                  "Neighborhood": "Mitchel",
                  "Condition1": "Norm",
                  "Condition2": "Norm",
                  "BldgType": "1Fam",
                  "HouseStyle": "1.5Fin",
                  "OverallQual": 5,
                  "OverallCond": 5,
                  "YearBuilt": 1993,
                  "YearRemodAdd": 1995,
                  "RoofStyle": "Gable",
                  "RoofMatl": "CompShg",
                  "Exterior1st": "VinylSd",
                  "Exterior2nd": "VinylSd",
                  "MasVnrType": "None",
                  "MasVnrArea": 0,
                  "ExterQual": "TA",
                  "ExterCond": "TA",
                  "Foundation": "Wood",
                  "BsmtQual": "Gd",
                  "BsmtCond": "TA",
                  "BsmtExposure": "No",
                  "BsmtFinType1": "GLQ",
                  "BsmtFinSF1": 732,
                  "BsmtFinType2": "Unf",
                  "BsmtFinSF2": 0,
                  "BsmtUnfSF": 64,
                  "TotalBsmtSF": 796,
                  "Heating": "GasA",
                  "HeatingQC": "Ex",
                  "CentralAir": "Y",
                  "Electrical": "SBrkr",
                  "1stFlrSF": 796,
                  "2ndFlrSF": 566,
                  "LowQualFinSF": 0,
                  "GrLivArea": 1362,
                  "BsmtFullBath": 1,
                  "BsmtHalfBath": 0,
                  "FullBath": 1,
                  "HalfBath": 1,
                  "BedroomAbvGr": 1,
                  "KitchenAbvGr": 1,
                  "KitchenQual": "TA",
                  "TotRmsAbvGrd": 5,
                  "Functional": "Typ",
                  "Fireplaces": 0,
                  "FireplaceQu": "nan",
                  "GarageType": "Attchd",
                  "GarageYrBlt": 1993,
                  "GarageFinish": "Unf",
                  "GarageCars": 2,
                  "GarageArea": 480,
                  "GarageQual": "TA",
                  "GarageCond": "TA",
                  "PavedDrive": "Y",
                  "WoodDeckSF": 40,
                  "OpenPorchSF": 30,
                  "EnclosedPorch": 0,
                  "3SsnPorch": 320,
                  "ScreenPorch": 0,
                  "PoolArea": 0,
                  "PoolQC": "nan",
                  "Fence": "MnPrv",
                  "MiscFeature": "Shed",
                  "MiscVal": 700,
                  "MoSold": 10,
                  "YrSold": 2009,
                  "SaleType": "WD",
                  "SaleCondition": "Normal",
                  "SalePrice": 143000,
                  "_deepnote_index_column": 5
                }
              ],
              "rows_bottom": [
                {
                  "Id": 1455,
                  "MSSubClass": 20,
                  "MSZoning": "FV",
                  "LotFrontage": 62,
                  "LotArea": 7500,
                  "Street": "Pave",
                  "Alley": "Pave",
                  "LotShape": "Reg",
                  "LandContour": "Lvl",
                  "Utilities": "AllPub",
                  "LotConfig": "Inside",
                  "LandSlope": "Gtl",
                  "Neighborhood": "Somerst",
                  "Condition1": "Norm",
                  "Condition2": "Norm",
                  "BldgType": "1Fam",
                  "HouseStyle": "1Story",
                  "OverallQual": 7,
                  "OverallCond": 5,
                  "YearBuilt": 2004,
                  "YearRemodAdd": 2005,
                  "RoofStyle": "Gable",
                  "RoofMatl": "CompShg",
                  "Exterior1st": "VinylSd",
                  "Exterior2nd": "VinylSd",
                  "MasVnrType": "None",
                  "MasVnrArea": 0,
                  "ExterQual": "Gd",
                  "ExterCond": "TA",
                  "Foundation": "PConc",
                  "BsmtQual": "Gd",
                  "BsmtCond": "TA",
                  "BsmtExposure": "No",
                  "BsmtFinType1": "GLQ",
                  "BsmtFinSF1": 410,
                  "BsmtFinType2": "Unf",
                  "BsmtFinSF2": 0,
                  "BsmtUnfSF": 811,
                  "TotalBsmtSF": 1221,
                  "Heating": "GasA",
                  "HeatingQC": "Ex",
                  "CentralAir": "Y",
                  "Electrical": "SBrkr",
                  "1stFlrSF": 1221,
                  "2ndFlrSF": 0,
                  "LowQualFinSF": 0,
                  "GrLivArea": 1221,
                  "BsmtFullBath": 1,
                  "BsmtHalfBath": 0,
                  "FullBath": 2,
                  "HalfBath": 0,
                  "BedroomAbvGr": 2,
                  "KitchenAbvGr": 1,
                  "KitchenQual": "Gd",
                  "TotRmsAbvGrd": 6,
                  "Functional": "Typ",
                  "Fireplaces": 0,
                  "FireplaceQu": "nan",
                  "GarageType": "Attchd",
                  "GarageYrBlt": 2004,
                  "GarageFinish": "RFn",
                  "GarageCars": 2,
                  "GarageArea": 400,
                  "GarageQual": "TA",
                  "GarageCond": "TA",
                  "PavedDrive": "Y",
                  "WoodDeckSF": 0,
                  "OpenPorchSF": 113,
                  "EnclosedPorch": 0,
                  "3SsnPorch": 0,
                  "ScreenPorch": 0,
                  "PoolArea": 0,
                  "PoolQC": "nan",
                  "Fence": "nan",
                  "MiscFeature": "nan",
                  "MiscVal": 0,
                  "MoSold": 10,
                  "YrSold": 2009,
                  "SaleType": "WD",
                  "SaleCondition": "Normal",
                  "SalePrice": 185000,
                  "_deepnote_index_column": 1454
                },
                {
                  "Id": 1456,
                  "MSSubClass": 60,
                  "MSZoning": "RL",
                  "LotFrontage": 62,
                  "LotArea": 7917,
                  "Street": "Pave",
                  "Alley": "nan",
                  "LotShape": "Reg",
                  "LandContour": "Lvl",
                  "Utilities": "AllPub",
                  "LotConfig": "Inside",
                  "LandSlope": "Gtl",
                  "Neighborhood": "Gilbert",
                  "Condition1": "Norm",
                  "Condition2": "Norm",
                  "BldgType": "1Fam",
                  "HouseStyle": "2Story",
                  "OverallQual": 6,
                  "OverallCond": 5,
                  "YearBuilt": 1999,
                  "YearRemodAdd": 2000,
                  "RoofStyle": "Gable",
                  "RoofMatl": "CompShg",
                  "Exterior1st": "VinylSd",
                  "Exterior2nd": "VinylSd",
                  "MasVnrType": "None",
                  "MasVnrArea": 0,
                  "ExterQual": "TA",
                  "ExterCond": "TA",
                  "Foundation": "PConc",
                  "BsmtQual": "Gd",
                  "BsmtCond": "TA",
                  "BsmtExposure": "No",
                  "BsmtFinType1": "Unf",
                  "BsmtFinSF1": 0,
                  "BsmtFinType2": "Unf",
                  "BsmtFinSF2": 0,
                  "BsmtUnfSF": 953,
                  "TotalBsmtSF": 953,
                  "Heating": "GasA",
                  "HeatingQC": "Ex",
                  "CentralAir": "Y",
                  "Electrical": "SBrkr",
                  "1stFlrSF": 953,
                  "2ndFlrSF": 694,
                  "LowQualFinSF": 0,
                  "GrLivArea": 1647,
                  "BsmtFullBath": 0,
                  "BsmtHalfBath": 0,
                  "FullBath": 2,
                  "HalfBath": 1,
                  "BedroomAbvGr": 3,
                  "KitchenAbvGr": 1,
                  "KitchenQual": "TA",
                  "TotRmsAbvGrd": 7,
                  "Functional": "Typ",
                  "Fireplaces": 1,
                  "FireplaceQu": "TA",
                  "GarageType": "Attchd",
                  "GarageYrBlt": 1999,
                  "GarageFinish": "RFn",
                  "GarageCars": 2,
                  "GarageArea": 460,
                  "GarageQual": "TA",
                  "GarageCond": "TA",
                  "PavedDrive": "Y",
                  "WoodDeckSF": 0,
                  "OpenPorchSF": 40,
                  "EnclosedPorch": 0,
                  "3SsnPorch": 0,
                  "ScreenPorch": 0,
                  "PoolArea": 0,
                  "PoolQC": "nan",
                  "Fence": "nan",
                  "MiscFeature": "nan",
                  "MiscVal": 0,
                  "MoSold": 8,
                  "YrSold": 2007,
                  "SaleType": "WD",
                  "SaleCondition": "Normal",
                  "SalePrice": 175000,
                  "_deepnote_index_column": 1455
                },
                {
                  "Id": 1457,
                  "MSSubClass": 20,
                  "MSZoning": "RL",
                  "LotFrontage": 85,
                  "LotArea": 13175,
                  "Street": "Pave",
                  "Alley": "nan",
                  "LotShape": "Reg",
                  "LandContour": "Lvl",
                  "Utilities": "AllPub",
                  "LotConfig": "Inside",
                  "LandSlope": "Gtl",
                  "Neighborhood": "NWAmes",
                  "Condition1": "Norm",
                  "Condition2": "Norm",
                  "BldgType": "1Fam",
                  "HouseStyle": "1Story",
                  "OverallQual": 6,
                  "OverallCond": 6,
                  "YearBuilt": 1978,
                  "YearRemodAdd": 1988,
                  "RoofStyle": "Gable",
                  "RoofMatl": "CompShg",
                  "Exterior1st": "Plywood",
                  "Exterior2nd": "Plywood",
                  "MasVnrType": "Stone",
                  "MasVnrArea": 119,
                  "ExterQual": "TA",
                  "ExterCond": "TA",
                  "Foundation": "CBlock",
                  "BsmtQual": "Gd",
                  "BsmtCond": "TA",
                  "BsmtExposure": "No",
                  "BsmtFinType1": "ALQ",
                  "BsmtFinSF1": 790,
                  "BsmtFinType2": "Rec",
                  "BsmtFinSF2": 163,
                  "BsmtUnfSF": 589,
                  "TotalBsmtSF": 1542,
                  "Heating": "GasA",
                  "HeatingQC": "TA",
                  "CentralAir": "Y",
                  "Electrical": "SBrkr",
                  "1stFlrSF": 2073,
                  "2ndFlrSF": 0,
                  "LowQualFinSF": 0,
                  "GrLivArea": 2073,
                  "BsmtFullBath": 1,
                  "BsmtHalfBath": 0,
                  "FullBath": 2,
                  "HalfBath": 0,
                  "BedroomAbvGr": 3,
                  "KitchenAbvGr": 1,
                  "KitchenQual": "TA",
                  "TotRmsAbvGrd": 7,
                  "Functional": "Min1",
                  "Fireplaces": 2,
                  "FireplaceQu": "TA",
                  "GarageType": "Attchd",
                  "GarageYrBlt": 1978,
                  "GarageFinish": "Unf",
                  "GarageCars": 2,
                  "GarageArea": 500,
                  "GarageQual": "TA",
                  "GarageCond": "TA",
                  "PavedDrive": "Y",
                  "WoodDeckSF": 349,
                  "OpenPorchSF": 0,
                  "EnclosedPorch": 0,
                  "3SsnPorch": 0,
                  "ScreenPorch": 0,
                  "PoolArea": 0,
                  "PoolQC": "nan",
                  "Fence": "MnPrv",
                  "MiscFeature": "nan",
                  "MiscVal": 0,
                  "MoSold": 2,
                  "YrSold": 2010,
                  "SaleType": "WD",
                  "SaleCondition": "Normal",
                  "SalePrice": 210000,
                  "_deepnote_index_column": 1456
                },
                {
                  "Id": 1458,
                  "MSSubClass": 70,
                  "MSZoning": "RL",
                  "LotFrontage": 66,
                  "LotArea": 9042,
                  "Street": "Pave",
                  "Alley": "nan",
                  "LotShape": "Reg",
                  "LandContour": "Lvl",
                  "Utilities": "AllPub",
                  "LotConfig": "Inside",
                  "LandSlope": "Gtl",
                  "Neighborhood": "Crawfor",
                  "Condition1": "Norm",
                  "Condition2": "Norm",
                  "BldgType": "1Fam",
                  "HouseStyle": "2Story",
                  "OverallQual": 7,
                  "OverallCond": 9,
                  "YearBuilt": 1941,
                  "YearRemodAdd": 2006,
                  "RoofStyle": "Gable",
                  "RoofMatl": "CompShg",
                  "Exterior1st": "CemntBd",
                  "Exterior2nd": "CmentBd",
                  "MasVnrType": "None",
                  "MasVnrArea": 0,
                  "ExterQual": "Ex",
                  "ExterCond": "Gd",
                  "Foundation": "Stone",
                  "BsmtQual": "TA",
                  "BsmtCond": "Gd",
                  "BsmtExposure": "No",
                  "BsmtFinType1": "GLQ",
                  "BsmtFinSF1": 275,
                  "BsmtFinType2": "Unf",
                  "BsmtFinSF2": 0,
                  "BsmtUnfSF": 877,
                  "TotalBsmtSF": 1152,
                  "Heating": "GasA",
                  "HeatingQC": "Ex",
                  "CentralAir": "Y",
                  "Electrical": "SBrkr",
                  "1stFlrSF": 1188,
                  "2ndFlrSF": 1152,
                  "LowQualFinSF": 0,
                  "GrLivArea": 2340,
                  "BsmtFullBath": 0,
                  "BsmtHalfBath": 0,
                  "FullBath": 2,
                  "HalfBath": 0,
                  "BedroomAbvGr": 4,
                  "KitchenAbvGr": 1,
                  "KitchenQual": "Gd",
                  "TotRmsAbvGrd": 9,
                  "Functional": "Typ",
                  "Fireplaces": 2,
                  "FireplaceQu": "Gd",
                  "GarageType": "Attchd",
                  "GarageYrBlt": 1941,
                  "GarageFinish": "RFn",
                  "GarageCars": 1,
                  "GarageArea": 252,
                  "GarageQual": "TA",
                  "GarageCond": "TA",
                  "PavedDrive": "Y",
                  "WoodDeckSF": 0,
                  "OpenPorchSF": 60,
                  "EnclosedPorch": 0,
                  "3SsnPorch": 0,
                  "ScreenPorch": 0,
                  "PoolArea": 0,
                  "PoolQC": "nan",
                  "Fence": "GdPrv",
                  "MiscFeature": "Shed",
                  "MiscVal": 2500,
                  "MoSold": 5,
                  "YrSold": 2010,
                  "SaleType": "WD",
                  "SaleCondition": "Normal",
                  "SalePrice": 266500,
                  "_deepnote_index_column": 1457
                },
                {
                  "Id": 1459,
                  "MSSubClass": 20,
                  "MSZoning": "RL",
                  "LotFrontage": 68,
                  "LotArea": 9717,
                  "Street": "Pave",
                  "Alley": "nan",
                  "LotShape": "Reg",
                  "LandContour": "Lvl",
                  "Utilities": "AllPub",
                  "LotConfig": "Inside",
                  "LandSlope": "Gtl",
                  "Neighborhood": "NAmes",
                  "Condition1": "Norm",
                  "Condition2": "Norm",
                  "BldgType": "1Fam",
                  "HouseStyle": "1Story",
                  "OverallQual": 5,
                  "OverallCond": 6,
                  "YearBuilt": 1950,
                  "YearRemodAdd": 1996,
                  "RoofStyle": "Hip",
                  "RoofMatl": "CompShg",
                  "Exterior1st": "MetalSd",
                  "Exterior2nd": "MetalSd",
                  "MasVnrType": "None",
                  "MasVnrArea": 0,
                  "ExterQual": "TA",
                  "ExterCond": "TA",
                  "Foundation": "CBlock",
                  "BsmtQual": "TA",
                  "BsmtCond": "TA",
                  "BsmtExposure": "Mn",
                  "BsmtFinType1": "GLQ",
                  "BsmtFinSF1": 49,
                  "BsmtFinType2": "Rec",
                  "BsmtFinSF2": 1029,
                  "BsmtUnfSF": 0,
                  "TotalBsmtSF": 1078,
                  "Heating": "GasA",
                  "HeatingQC": "Gd",
                  "CentralAir": "Y",
                  "Electrical": "FuseA",
                  "1stFlrSF": 1078,
                  "2ndFlrSF": 0,
                  "LowQualFinSF": 0,
                  "GrLivArea": 1078,
                  "BsmtFullBath": 1,
                  "BsmtHalfBath": 0,
                  "FullBath": 1,
                  "HalfBath": 0,
                  "BedroomAbvGr": 2,
                  "KitchenAbvGr": 1,
                  "KitchenQual": "Gd",
                  "TotRmsAbvGrd": 5,
                  "Functional": "Typ",
                  "Fireplaces": 0,
                  "FireplaceQu": "nan",
                  "GarageType": "Attchd",
                  "GarageYrBlt": 1950,
                  "GarageFinish": "Unf",
                  "GarageCars": 1,
                  "GarageArea": 240,
                  "GarageQual": "TA",
                  "GarageCond": "TA",
                  "PavedDrive": "Y",
                  "WoodDeckSF": 366,
                  "OpenPorchSF": 0,
                  "EnclosedPorch": 112,
                  "3SsnPorch": 0,
                  "ScreenPorch": 0,
                  "PoolArea": 0,
                  "PoolQC": "nan",
                  "Fence": "nan",
                  "MiscFeature": "nan",
                  "MiscVal": 0,
                  "MoSold": 4,
                  "YrSold": 2010,
                  "SaleType": "WD",
                  "SaleCondition": "Normal",
                  "SalePrice": 142125,
                  "_deepnote_index_column": 1458
                },
                {
                  "Id": 1460,
                  "MSSubClass": 20,
                  "MSZoning": "RL",
                  "LotFrontage": 75,
                  "LotArea": 9937,
                  "Street": "Pave",
                  "Alley": "nan",
                  "LotShape": "Reg",
                  "LandContour": "Lvl",
                  "Utilities": "AllPub",
                  "LotConfig": "Inside",
                  "LandSlope": "Gtl",
                  "Neighborhood": "Edwards",
                  "Condition1": "Norm",
                  "Condition2": "Norm",
                  "BldgType": "1Fam",
                  "HouseStyle": "1Story",
                  "OverallQual": 5,
                  "OverallCond": 6,
                  "YearBuilt": 1965,
                  "YearRemodAdd": 1965,
                  "RoofStyle": "Gable",
                  "RoofMatl": "CompShg",
                  "Exterior1st": "HdBoard",
                  "Exterior2nd": "HdBoard",
                  "MasVnrType": "None",
                  "MasVnrArea": 0,
                  "ExterQual": "Gd",
                  "ExterCond": "TA",
                  "Foundation": "CBlock",
                  "BsmtQual": "TA",
                  "BsmtCond": "TA",
                  "BsmtExposure": "No",
                  "BsmtFinType1": "BLQ",
                  "BsmtFinSF1": 830,
                  "BsmtFinType2": "LwQ",
                  "BsmtFinSF2": 290,
                  "BsmtUnfSF": 136,
                  "TotalBsmtSF": 1256,
                  "Heating": "GasA",
                  "HeatingQC": "Gd",
                  "CentralAir": "Y",
                  "Electrical": "SBrkr",
                  "1stFlrSF": 1256,
                  "2ndFlrSF": 0,
                  "LowQualFinSF": 0,
                  "GrLivArea": 1256,
                  "BsmtFullBath": 1,
                  "BsmtHalfBath": 0,
                  "FullBath": 1,
                  "HalfBath": 1,
                  "BedroomAbvGr": 3,
                  "KitchenAbvGr": 1,
                  "KitchenQual": "TA",
                  "TotRmsAbvGrd": 6,
                  "Functional": "Typ",
                  "Fireplaces": 0,
                  "FireplaceQu": "nan",
                  "GarageType": "Attchd",
                  "GarageYrBlt": 1965,
                  "GarageFinish": "Fin",
                  "GarageCars": 1,
                  "GarageArea": 276,
                  "GarageQual": "TA",
                  "GarageCond": "TA",
                  "PavedDrive": "Y",
                  "WoodDeckSF": 736,
                  "OpenPorchSF": 68,
                  "EnclosedPorch": 0,
                  "3SsnPorch": 0,
                  "ScreenPorch": 0,
                  "PoolArea": 0,
                  "PoolQC": "nan",
                  "Fence": "nan",
                  "MiscFeature": "nan",
                  "MiscVal": 0,
                  "MoSold": 6,
                  "YrSold": 2008,
                  "SaleType": "WD",
                  "SaleCondition": "Normal",
                  "SalePrice": 147500,
                  "_deepnote_index_column": 1459
                }
              ]
            },
            "text/plain": "        Id  MSSubClass MSZoning  LotFrontage  LotArea Street Alley LotShape  \\\n0        1          60       RL         65.0     8450   Pave   NaN      Reg   \n1        2          20       RL         80.0     9600   Pave   NaN      Reg   \n2        3          60       RL         68.0    11250   Pave   NaN      IR1   \n3        4          70       RL         60.0     9550   Pave   NaN      IR1   \n4        5          60       RL         84.0    14260   Pave   NaN      IR1   \n...    ...         ...      ...          ...      ...    ...   ...      ...   \n1455  1456          60       RL         62.0     7917   Pave   NaN      Reg   \n1456  1457          20       RL         85.0    13175   Pave   NaN      Reg   \n1457  1458          70       RL         66.0     9042   Pave   NaN      Reg   \n1458  1459          20       RL         68.0     9717   Pave   NaN      Reg   \n1459  1460          20       RL         75.0     9937   Pave   NaN      Reg   \n\n     LandContour Utilities  ... PoolArea PoolQC  Fence MiscFeature MiscVal  \\\n0            Lvl    AllPub  ...        0    NaN    NaN         NaN       0   \n1            Lvl    AllPub  ...        0    NaN    NaN         NaN       0   \n2            Lvl    AllPub  ...        0    NaN    NaN         NaN       0   \n3            Lvl    AllPub  ...        0    NaN    NaN         NaN       0   \n4            Lvl    AllPub  ...        0    NaN    NaN         NaN       0   \n...          ...       ...  ...      ...    ...    ...         ...     ...   \n1455         Lvl    AllPub  ...        0    NaN    NaN         NaN       0   \n1456         Lvl    AllPub  ...        0    NaN  MnPrv         NaN       0   \n1457         Lvl    AllPub  ...        0    NaN  GdPrv        Shed    2500   \n1458         Lvl    AllPub  ...        0    NaN    NaN         NaN       0   \n1459         Lvl    AllPub  ...        0    NaN    NaN         NaN       0   \n\n     MoSold YrSold  SaleType  SaleCondition  SalePrice  \n0         2   2008        WD         Normal     208500  \n1         5   2007        WD         Normal     181500  \n2         9   2008        WD         Normal     223500  \n3         2   2006        WD        Abnorml     140000  \n4        12   2008        WD         Normal     250000  \n...     ...    ...       ...            ...        ...  \n1455      8   2007        WD         Normal     175000  \n1456      2   2010        WD         Normal     210000  \n1457      5   2010        WD         Normal     266500  \n1458      4   2010        WD         Normal     142125  \n1459      6   2008        WD         Normal     147500  \n\n[1460 rows x 81 columns]",
            "text/html": "<div>\n<style scoped>\n    .dataframe tbody tr th:only-of-type {\n        vertical-align: middle;\n    }\n\n    .dataframe tbody tr th {\n        vertical-align: top;\n    }\n\n    .dataframe thead th {\n        text-align: right;\n    }\n</style>\n<table border=\"1\" class=\"dataframe\">\n  <thead>\n    <tr style=\"text-align: right;\">\n      <th></th>\n      <th>Id</th>\n      <th>MSSubClass</th>\n      <th>MSZoning</th>\n      <th>LotFrontage</th>\n      <th>LotArea</th>\n      <th>Street</th>\n      <th>Alley</th>\n      <th>LotShape</th>\n      <th>LandContour</th>\n      <th>Utilities</th>\n      <th>...</th>\n      <th>PoolArea</th>\n      <th>PoolQC</th>\n      <th>Fence</th>\n      <th>MiscFeature</th>\n      <th>MiscVal</th>\n      <th>MoSold</th>\n      <th>YrSold</th>\n      <th>SaleType</th>\n      <th>SaleCondition</th>\n      <th>SalePrice</th>\n    </tr>\n  </thead>\n  <tbody>\n    <tr>\n      <th>0</th>\n      <td>1</td>\n      <td>60</td>\n      <td>RL</td>\n      <td>65.0</td>\n      <td>8450</td>\n      <td>Pave</td>\n      <td>NaN</td>\n      <td>Reg</td>\n      <td>Lvl</td>\n      <td>AllPub</td>\n      <td>...</td>\n      <td>0</td>\n      <td>NaN</td>\n      <td>NaN</td>\n      <td>NaN</td>\n      <td>0</td>\n      <td>2</td>\n      <td>2008</td>\n      <td>WD</td>\n      <td>Normal</td>\n      <td>208500</td>\n    </tr>\n    <tr>\n      <th>1</th>\n      <td>2</td>\n      <td>20</td>\n      <td>RL</td>\n      <td>80.0</td>\n      <td>9600</td>\n      <td>Pave</td>\n      <td>NaN</td>\n      <td>Reg</td>\n      <td>Lvl</td>\n      <td>AllPub</td>\n      <td>...</td>\n      <td>0</td>\n      <td>NaN</td>\n      <td>NaN</td>\n      <td>NaN</td>\n      <td>0</td>\n      <td>5</td>\n      <td>2007</td>\n      <td>WD</td>\n      <td>Normal</td>\n      <td>181500</td>\n    </tr>\n    <tr>\n      <th>2</th>\n      <td>3</td>\n      <td>60</td>\n      <td>RL</td>\n      <td>68.0</td>\n      <td>11250</td>\n      <td>Pave</td>\n      <td>NaN</td>\n      <td>IR1</td>\n      <td>Lvl</td>\n      <td>AllPub</td>\n      <td>...</td>\n      <td>0</td>\n      <td>NaN</td>\n      <td>NaN</td>\n      <td>NaN</td>\n      <td>0</td>\n      <td>9</td>\n      <td>2008</td>\n      <td>WD</td>\n      <td>Normal</td>\n      <td>223500</td>\n    </tr>\n    <tr>\n      <th>3</th>\n      <td>4</td>\n      <td>70</td>\n      <td>RL</td>\n      <td>60.0</td>\n      <td>9550</td>\n      <td>Pave</td>\n      <td>NaN</td>\n      <td>IR1</td>\n      <td>Lvl</td>\n      <td>AllPub</td>\n      <td>...</td>\n      <td>0</td>\n      <td>NaN</td>\n      <td>NaN</td>\n      <td>NaN</td>\n      <td>0</td>\n      <td>2</td>\n      <td>2006</td>\n      <td>WD</td>\n      <td>Abnorml</td>\n      <td>140000</td>\n    </tr>\n    <tr>\n      <th>4</th>\n      <td>5</td>\n      <td>60</td>\n      <td>RL</td>\n      <td>84.0</td>\n      <td>14260</td>\n      <td>Pave</td>\n      <td>NaN</td>\n      <td>IR1</td>\n      <td>Lvl</td>\n      <td>AllPub</td>\n      <td>...</td>\n      <td>0</td>\n      <td>NaN</td>\n      <td>NaN</td>\n      <td>NaN</td>\n      <td>0</td>\n      <td>12</td>\n      <td>2008</td>\n      <td>WD</td>\n      <td>Normal</td>\n      <td>250000</td>\n    </tr>\n    <tr>\n      <th>...</th>\n      <td>...</td>\n      <td>...</td>\n      <td>...</td>\n      <td>...</td>\n      <td>...</td>\n      <td>...</td>\n      <td>...</td>\n      <td>...</td>\n      <td>...</td>\n      <td>...</td>\n      <td>...</td>\n      <td>...</td>\n      <td>...</td>\n      <td>...</td>\n      <td>...</td>\n      <td>...</td>\n      <td>...</td>\n      <td>...</td>\n      <td>...</td>\n      <td>...</td>\n      <td>...</td>\n    </tr>\n    <tr>\n      <th>1455</th>\n      <td>1456</td>\n      <td>60</td>\n      <td>RL</td>\n      <td>62.0</td>\n      <td>7917</td>\n      <td>Pave</td>\n      <td>NaN</td>\n      <td>Reg</td>\n      <td>Lvl</td>\n      <td>AllPub</td>\n      <td>...</td>\n      <td>0</td>\n      <td>NaN</td>\n      <td>NaN</td>\n      <td>NaN</td>\n      <td>0</td>\n      <td>8</td>\n      <td>2007</td>\n      <td>WD</td>\n      <td>Normal</td>\n      <td>175000</td>\n    </tr>\n    <tr>\n      <th>1456</th>\n      <td>1457</td>\n      <td>20</td>\n      <td>RL</td>\n      <td>85.0</td>\n      <td>13175</td>\n      <td>Pave</td>\n      <td>NaN</td>\n      <td>Reg</td>\n      <td>Lvl</td>\n      <td>AllPub</td>\n      <td>...</td>\n      <td>0</td>\n      <td>NaN</td>\n      <td>MnPrv</td>\n      <td>NaN</td>\n      <td>0</td>\n      <td>2</td>\n      <td>2010</td>\n      <td>WD</td>\n      <td>Normal</td>\n      <td>210000</td>\n    </tr>\n    <tr>\n      <th>1457</th>\n      <td>1458</td>\n      <td>70</td>\n      <td>RL</td>\n      <td>66.0</td>\n      <td>9042</td>\n      <td>Pave</td>\n      <td>NaN</td>\n      <td>Reg</td>\n      <td>Lvl</td>\n      <td>AllPub</td>\n      <td>...</td>\n      <td>0</td>\n      <td>NaN</td>\n      <td>GdPrv</td>\n      <td>Shed</td>\n      <td>2500</td>\n      <td>5</td>\n      <td>2010</td>\n      <td>WD</td>\n      <td>Normal</td>\n      <td>266500</td>\n    </tr>\n    <tr>\n      <th>1458</th>\n      <td>1459</td>\n      <td>20</td>\n      <td>RL</td>\n      <td>68.0</td>\n      <td>9717</td>\n      <td>Pave</td>\n      <td>NaN</td>\n      <td>Reg</td>\n      <td>Lvl</td>\n      <td>AllPub</td>\n      <td>...</td>\n      <td>0</td>\n      <td>NaN</td>\n      <td>NaN</td>\n      <td>NaN</td>\n      <td>0</td>\n      <td>4</td>\n      <td>2010</td>\n      <td>WD</td>\n      <td>Normal</td>\n      <td>142125</td>\n    </tr>\n    <tr>\n      <th>1459</th>\n      <td>1460</td>\n      <td>20</td>\n      <td>RL</td>\n      <td>75.0</td>\n      <td>9937</td>\n      <td>Pave</td>\n      <td>NaN</td>\n      <td>Reg</td>\n      <td>Lvl</td>\n      <td>AllPub</td>\n      <td>...</td>\n      <td>0</td>\n      <td>NaN</td>\n      <td>NaN</td>\n      <td>NaN</td>\n      <td>0</td>\n      <td>6</td>\n      <td>2008</td>\n      <td>WD</td>\n      <td>Normal</td>\n      <td>147500</td>\n    </tr>\n  </tbody>\n</table>\n<p>1460 rows × 81 columns</p>\n</div>"
          },
          "metadata": {}
        }
      ]
    },
    {
      "cell_type": "code",
      "metadata": {
        "tags": [],
        "cell_id": "00002-033e1313-f85f-4ac6-9f96-a9fdc7327b19",
        "deepnote_to_be_reexecuted": false,
        "source_hash": "32c8726c",
        "execution_millis": 4,
        "execution_start": 1618938405013,
        "deepnote_cell_type": "code"
      },
      "source": "df_c = df.copy()",
      "execution_count": 3,
      "outputs": []
    },
    {
      "cell_type": "code",
      "metadata": {
        "tags": [],
        "cell_id": "00003-50e9cda7-a090-46db-8f92-4b803ff1a241",
        "deepnote_to_be_reexecuted": false,
        "source_hash": "36a5ef59",
        "execution_millis": 0,
        "execution_start": 1618938405017,
        "deepnote_cell_type": "code"
      },
      "source": "df_c = df_c.drop(columns=[\"YrSold\"])",
      "execution_count": 4,
      "outputs": []
    },
    {
      "cell_type": "code",
      "metadata": {
        "tags": [],
        "cell_id": "00002-bac68847-2ed3-4fec-b656-cbf976e647aa",
        "deepnote_to_be_reexecuted": false,
        "source_hash": "9a6090f1",
        "execution_millis": 297,
        "execution_start": 1618938405037,
        "deepnote_cell_type": "code"
      },
      "source": "df_c[\"Alley\"] = df[\"Alley\"].fillna(\"NoAlley\")\ndf_c[\"MasVnrType\"] = df[\"MasVnrType\"].fillna(\"None\")\ndf_c[\"BsmtQual\"] = df[\"BsmtQual\"].fillna(\"NoBsmt\")\ndf_c[\"BsmtCond\"] = df[\"BsmtCond\"].fillna(\"NoBsmt\")\ndf_c[\"BsmtExposure\"] = df[\"BsmtExposure\"].fillna(\"NoBsmt\")\ndf_c[\"BsmtFinType1\"] = df[\"BsmtFinType1\"].fillna(\"NoBsmt\")\ndf_c[\"BsmtFinType2\"] = df[\"BsmtFinType2\"].fillna(\"NoBsmt\")\ndf_c[\"Electrical\"] = df[\"Electrical\"].fillna(\"None\")\ndf_c[\"FireplaceQu\"] = df[\"FireplaceQu\"].fillna(\"NoFP\")\ndf_c[\"GarageType\"] = df[\"GarageType\"].fillna(\"NoGarage\")\ndf_c[\"GarageYrBlt\"] = df[\"GarageYrBlt\"].fillna(\"NoGarage\")\ndf_c[\"GarageFinish\"] = df[\"GarageFinish\"].fillna(\"NoGarage\")\ndf_c[\"GarageQual\"] = df[\"GarageQual\"].fillna(\"NoGarage\")\ndf_c[\"GarageCond\"] = df[\"GarageCond\"].fillna(\"NoGarage\")\ndf_c[\"PoolQC\"] = df[\"PoolQC\"].fillna(\"NoPool\")\ndf_c[\"Fence\"] = df[\"Fence\"].fillna(\"NoFence\")\ndf_c[\"MiscFeature\"] = df[\"MiscFeature\"].fillna(\"NoMF\")\ndf_c[\"LotFrontage\"] = df[\"LotFrontage\"].fillna(0.0)\n\ndf_c",
      "execution_count": 5,
      "outputs": [
        {
          "output_type": "execute_result",
          "execution_count": 5,
          "data": {
            "application/vnd.deepnote.dataframe.v2+json": {
              "row_count": 1460,
              "column_count": 80,
              "columns": [
                {
                  "name": "Id",
                  "dtype": "int64",
                  "stats": {
                    "unique_count": 1460,
                    "nan_count": 0,
                    "min": "1",
                    "max": "1460",
                    "histogram": [
                      {
                        "bin_start": 1,
                        "bin_end": 146.9,
                        "count": 146
                      },
                      {
                        "bin_start": 146.9,
                        "bin_end": 292.8,
                        "count": 146
                      },
                      {
                        "bin_start": 292.8,
                        "bin_end": 438.70000000000005,
                        "count": 146
                      },
                      {
                        "bin_start": 438.70000000000005,
                        "bin_end": 584.6,
                        "count": 146
                      },
                      {
                        "bin_start": 584.6,
                        "bin_end": 730.5,
                        "count": 146
                      },
                      {
                        "bin_start": 730.5,
                        "bin_end": 876.4000000000001,
                        "count": 146
                      },
                      {
                        "bin_start": 876.4000000000001,
                        "bin_end": 1022.3000000000001,
                        "count": 146
                      },
                      {
                        "bin_start": 1022.3000000000001,
                        "bin_end": 1168.2,
                        "count": 146
                      },
                      {
                        "bin_start": 1168.2,
                        "bin_end": 1314.1000000000001,
                        "count": 146
                      },
                      {
                        "bin_start": 1314.1000000000001,
                        "bin_end": 1460,
                        "count": 146
                      }
                    ]
                  }
                },
                {
                  "name": "MSSubClass",
                  "dtype": "int64",
                  "stats": {
                    "unique_count": 15,
                    "nan_count": 0,
                    "min": "20",
                    "max": "190",
                    "histogram": [
                      {
                        "bin_start": 20,
                        "bin_end": 37,
                        "count": 605
                      },
                      {
                        "bin_start": 37,
                        "bin_end": 54,
                        "count": 160
                      },
                      {
                        "bin_start": 54,
                        "bin_end": 71,
                        "count": 359
                      },
                      {
                        "bin_start": 71,
                        "bin_end": 88,
                        "count": 94
                      },
                      {
                        "bin_start": 88,
                        "bin_end": 105,
                        "count": 52
                      },
                      {
                        "bin_start": 105,
                        "bin_end": 122,
                        "count": 87
                      },
                      {
                        "bin_start": 122,
                        "bin_end": 139,
                        "count": 0
                      },
                      {
                        "bin_start": 139,
                        "bin_end": 156,
                        "count": 0
                      },
                      {
                        "bin_start": 156,
                        "bin_end": 173,
                        "count": 63
                      },
                      {
                        "bin_start": 173,
                        "bin_end": 190,
                        "count": 40
                      }
                    ]
                  }
                },
                {
                  "name": "MSZoning",
                  "dtype": "object",
                  "stats": {
                    "unique_count": 5,
                    "nan_count": 0,
                    "categories": [
                      {
                        "name": "RL",
                        "count": 1151
                      },
                      {
                        "name": "RM",
                        "count": 218
                      },
                      {
                        "name": "3 others",
                        "count": 91
                      }
                    ]
                  }
                },
                {
                  "name": "LotFrontage",
                  "dtype": "float64",
                  "stats": {
                    "unique_count": 111,
                    "nan_count": 0,
                    "min": "0.0",
                    "max": "313.0",
                    "histogram": [
                      {
                        "bin_start": 0,
                        "bin_end": 31.3,
                        "count": 307
                      },
                      {
                        "bin_start": 31.3,
                        "bin_end": 62.6,
                        "count": 416
                      },
                      {
                        "bin_start": 62.6,
                        "bin_end": 93.9,
                        "count": 603
                      },
                      {
                        "bin_start": 93.9,
                        "bin_end": 125.2,
                        "count": 110
                      },
                      {
                        "bin_start": 125.2,
                        "bin_end": 156.5,
                        "count": 17
                      },
                      {
                        "bin_start": 156.5,
                        "bin_end": 187.8,
                        "count": 5
                      },
                      {
                        "bin_start": 187.8,
                        "bin_end": 219.1,
                        "count": 0
                      },
                      {
                        "bin_start": 219.1,
                        "bin_end": 250.4,
                        "count": 0
                      },
                      {
                        "bin_start": 250.4,
                        "bin_end": 281.7,
                        "count": 0
                      },
                      {
                        "bin_start": 281.7,
                        "bin_end": 313,
                        "count": 2
                      }
                    ]
                  }
                },
                {
                  "name": "LotArea",
                  "dtype": "int64",
                  "stats": {
                    "unique_count": 1073,
                    "nan_count": 0,
                    "min": "1300",
                    "max": "215245",
                    "histogram": [
                      {
                        "bin_start": 1300,
                        "bin_end": 22694.5,
                        "count": 1423
                      },
                      {
                        "bin_start": 22694.5,
                        "bin_end": 44089,
                        "count": 24
                      },
                      {
                        "bin_start": 44089,
                        "bin_end": 65483.5,
                        "count": 8
                      },
                      {
                        "bin_start": 65483.5,
                        "bin_end": 86878,
                        "count": 1
                      },
                      {
                        "bin_start": 86878,
                        "bin_end": 108272.5,
                        "count": 0
                      },
                      {
                        "bin_start": 108272.5,
                        "bin_end": 129667,
                        "count": 1
                      },
                      {
                        "bin_start": 129667,
                        "bin_end": 151061.5,
                        "count": 0
                      },
                      {
                        "bin_start": 151061.5,
                        "bin_end": 172456,
                        "count": 2
                      },
                      {
                        "bin_start": 172456,
                        "bin_end": 193850.5,
                        "count": 0
                      },
                      {
                        "bin_start": 193850.5,
                        "bin_end": 215245,
                        "count": 1
                      }
                    ]
                  }
                },
                {
                  "name": "Street",
                  "dtype": "object",
                  "stats": {
                    "unique_count": 2,
                    "nan_count": 0,
                    "categories": [
                      {
                        "name": "Pave",
                        "count": 1454
                      },
                      {
                        "name": "Grvl",
                        "count": 6
                      }
                    ]
                  }
                },
                {
                  "name": "Alley",
                  "dtype": "object",
                  "stats": {
                    "unique_count": 3,
                    "nan_count": 0,
                    "categories": [
                      {
                        "name": "NoAlley",
                        "count": 1369
                      },
                      {
                        "name": "Grvl",
                        "count": 50
                      },
                      {
                        "name": "Pave",
                        "count": 41
                      }
                    ]
                  }
                },
                {
                  "name": "LotShape",
                  "dtype": "object",
                  "stats": {
                    "unique_count": 4,
                    "nan_count": 0,
                    "categories": [
                      {
                        "name": "Reg",
                        "count": 925
                      },
                      {
                        "name": "IR1",
                        "count": 484
                      },
                      {
                        "name": "2 others",
                        "count": 51
                      }
                    ]
                  }
                },
                {
                  "name": "LandContour",
                  "dtype": "object",
                  "stats": {
                    "unique_count": 4,
                    "nan_count": 0,
                    "categories": [
                      {
                        "name": "Lvl",
                        "count": 1311
                      },
                      {
                        "name": "Bnk",
                        "count": 63
                      },
                      {
                        "name": "2 others",
                        "count": 86
                      }
                    ]
                  }
                },
                {
                  "name": "Utilities",
                  "dtype": "object",
                  "stats": {
                    "unique_count": 2,
                    "nan_count": 0,
                    "categories": [
                      {
                        "name": "AllPub",
                        "count": 1459
                      },
                      {
                        "name": "NoSeWa",
                        "count": 1
                      }
                    ]
                  }
                },
                {
                  "name": "LotConfig",
                  "dtype": "object",
                  "stats": {
                    "unique_count": 5,
                    "nan_count": 0,
                    "categories": [
                      {
                        "name": "Inside",
                        "count": 1052
                      },
                      {
                        "name": "Corner",
                        "count": 263
                      },
                      {
                        "name": "3 others",
                        "count": 145
                      }
                    ]
                  }
                },
                {
                  "name": "LandSlope",
                  "dtype": "object",
                  "stats": {
                    "unique_count": 3,
                    "nan_count": 0,
                    "categories": [
                      {
                        "name": "Gtl",
                        "count": 1382
                      },
                      {
                        "name": "Mod",
                        "count": 65
                      },
                      {
                        "name": "Sev",
                        "count": 13
                      }
                    ]
                  }
                },
                {
                  "name": "Neighborhood",
                  "dtype": "object",
                  "stats": {
                    "unique_count": 25,
                    "nan_count": 0,
                    "categories": [
                      {
                        "name": "NAmes",
                        "count": 225
                      },
                      {
                        "name": "CollgCr",
                        "count": 150
                      },
                      {
                        "name": "23 others",
                        "count": 1085
                      }
                    ]
                  }
                },
                {
                  "name": "Condition1",
                  "dtype": "object",
                  "stats": {
                    "unique_count": 9,
                    "nan_count": 0,
                    "categories": [
                      {
                        "name": "Norm",
                        "count": 1260
                      },
                      {
                        "name": "Feedr",
                        "count": 81
                      },
                      {
                        "name": "7 others",
                        "count": 119
                      }
                    ]
                  }
                },
                {
                  "name": "Condition2",
                  "dtype": "object",
                  "stats": {
                    "unique_count": 8,
                    "nan_count": 0,
                    "categories": [
                      {
                        "name": "Norm",
                        "count": 1445
                      },
                      {
                        "name": "Feedr",
                        "count": 6
                      },
                      {
                        "name": "6 others",
                        "count": 9
                      }
                    ]
                  }
                },
                {
                  "name": "BldgType",
                  "dtype": "object",
                  "stats": {
                    "unique_count": 5,
                    "nan_count": 0,
                    "categories": [
                      {
                        "name": "1Fam",
                        "count": 1220
                      },
                      {
                        "name": "TwnhsE",
                        "count": 114
                      },
                      {
                        "name": "3 others",
                        "count": 126
                      }
                    ]
                  }
                },
                {
                  "name": "HouseStyle",
                  "dtype": "object",
                  "stats": {
                    "unique_count": 8,
                    "nan_count": 0,
                    "categories": [
                      {
                        "name": "1Story",
                        "count": 726
                      },
                      {
                        "name": "2Story",
                        "count": 445
                      },
                      {
                        "name": "6 others",
                        "count": 289
                      }
                    ]
                  }
                },
                {
                  "name": "OverallQual",
                  "dtype": "int64",
                  "stats": {
                    "unique_count": 10,
                    "nan_count": 0,
                    "min": "1",
                    "max": "10",
                    "histogram": [
                      {
                        "bin_start": 1,
                        "bin_end": 1.9,
                        "count": 2
                      },
                      {
                        "bin_start": 1.9,
                        "bin_end": 2.8,
                        "count": 3
                      },
                      {
                        "bin_start": 2.8,
                        "bin_end": 3.7,
                        "count": 20
                      },
                      {
                        "bin_start": 3.7,
                        "bin_end": 4.6,
                        "count": 116
                      },
                      {
                        "bin_start": 4.6,
                        "bin_end": 5.5,
                        "count": 397
                      },
                      {
                        "bin_start": 5.5,
                        "bin_end": 6.4,
                        "count": 374
                      },
                      {
                        "bin_start": 6.4,
                        "bin_end": 7.3,
                        "count": 319
                      },
                      {
                        "bin_start": 7.3,
                        "bin_end": 8.2,
                        "count": 168
                      },
                      {
                        "bin_start": 8.2,
                        "bin_end": 9.1,
                        "count": 43
                      },
                      {
                        "bin_start": 9.1,
                        "bin_end": 10,
                        "count": 18
                      }
                    ]
                  }
                },
                {
                  "name": "OverallCond",
                  "dtype": "int64",
                  "stats": {
                    "unique_count": 9,
                    "nan_count": 0,
                    "min": "1",
                    "max": "9",
                    "histogram": [
                      {
                        "bin_start": 1,
                        "bin_end": 1.8,
                        "count": 1
                      },
                      {
                        "bin_start": 1.8,
                        "bin_end": 2.6,
                        "count": 5
                      },
                      {
                        "bin_start": 2.6,
                        "bin_end": 3.4000000000000004,
                        "count": 25
                      },
                      {
                        "bin_start": 3.4000000000000004,
                        "bin_end": 4.2,
                        "count": 57
                      },
                      {
                        "bin_start": 4.2,
                        "bin_end": 5,
                        "count": 0
                      },
                      {
                        "bin_start": 5,
                        "bin_end": 5.800000000000001,
                        "count": 821
                      },
                      {
                        "bin_start": 5.800000000000001,
                        "bin_end": 6.6000000000000005,
                        "count": 252
                      },
                      {
                        "bin_start": 6.6000000000000005,
                        "bin_end": 7.4,
                        "count": 205
                      },
                      {
                        "bin_start": 7.4,
                        "bin_end": 8.2,
                        "count": 72
                      },
                      {
                        "bin_start": 8.2,
                        "bin_end": 9,
                        "count": 22
                      }
                    ]
                  }
                },
                {
                  "name": "YearBuilt",
                  "dtype": "int64",
                  "stats": {
                    "unique_count": 112,
                    "nan_count": 0,
                    "min": "1872",
                    "max": "2010",
                    "histogram": [
                      {
                        "bin_start": 1872,
                        "bin_end": 1885.8,
                        "count": 9
                      },
                      {
                        "bin_start": 1885.8,
                        "bin_end": 1899.6,
                        "count": 6
                      },
                      {
                        "bin_start": 1899.6,
                        "bin_end": 1913.4,
                        "count": 37
                      },
                      {
                        "bin_start": 1913.4,
                        "bin_end": 1927.2,
                        "count": 122
                      },
                      {
                        "bin_start": 1927.2,
                        "bin_end": 1941,
                        "count": 83
                      },
                      {
                        "bin_start": 1941,
                        "bin_end": 1954.8,
                        "count": 128
                      },
                      {
                        "bin_start": 1954.8,
                        "bin_end": 1968.6,
                        "count": 261
                      },
                      {
                        "bin_start": 1968.6,
                        "bin_end": 1982.4,
                        "count": 223
                      },
                      {
                        "bin_start": 1982.4,
                        "bin_end": 1996.2,
                        "count": 139
                      },
                      {
                        "bin_start": 1996.2,
                        "bin_end": 2010,
                        "count": 452
                      }
                    ]
                  }
                },
                {
                  "name": "YearRemodAdd",
                  "dtype": "int64",
                  "stats": {
                    "unique_count": 61,
                    "nan_count": 0,
                    "min": "1950",
                    "max": "2010",
                    "histogram": [
                      {
                        "bin_start": 1950,
                        "bin_end": 1956,
                        "count": 220
                      },
                      {
                        "bin_start": 1956,
                        "bin_end": 1962,
                        "count": 72
                      },
                      {
                        "bin_start": 1962,
                        "bin_end": 1968,
                        "count": 84
                      },
                      {
                        "bin_start": 1968,
                        "bin_end": 1974,
                        "count": 106
                      },
                      {
                        "bin_start": 1974,
                        "bin_end": 1980,
                        "count": 98
                      },
                      {
                        "bin_start": 1980,
                        "bin_end": 1986,
                        "count": 48
                      },
                      {
                        "bin_start": 1986,
                        "bin_end": 1992,
                        "count": 64
                      },
                      {
                        "bin_start": 1992,
                        "bin_end": 1998,
                        "count": 150
                      },
                      {
                        "bin_start": 1998,
                        "bin_end": 2004,
                        "count": 241
                      },
                      {
                        "bin_start": 2004,
                        "bin_end": 2010,
                        "count": 377
                      }
                    ]
                  }
                },
                {
                  "name": "RoofStyle",
                  "dtype": "object",
                  "stats": {
                    "unique_count": 6,
                    "nan_count": 0,
                    "categories": [
                      {
                        "name": "Gable",
                        "count": 1141
                      },
                      {
                        "name": "Hip",
                        "count": 286
                      },
                      {
                        "name": "4 others",
                        "count": 33
                      }
                    ]
                  }
                },
                {
                  "name": "RoofMatl",
                  "dtype": "object",
                  "stats": {
                    "unique_count": 8,
                    "nan_count": 0,
                    "categories": [
                      {
                        "name": "CompShg",
                        "count": 1434
                      },
                      {
                        "name": "Tar&Grv",
                        "count": 11
                      },
                      {
                        "name": "6 others",
                        "count": 15
                      }
                    ]
                  }
                },
                {
                  "name": "Exterior1st",
                  "dtype": "object",
                  "stats": {
                    "unique_count": 15,
                    "nan_count": 0,
                    "categories": [
                      {
                        "name": "VinylSd",
                        "count": 515
                      },
                      {
                        "name": "HdBoard",
                        "count": 222
                      },
                      {
                        "name": "13 others",
                        "count": 723
                      }
                    ]
                  }
                },
                {
                  "name": "Exterior2nd",
                  "dtype": "object",
                  "stats": {
                    "unique_count": 16,
                    "nan_count": 0,
                    "categories": [
                      {
                        "name": "VinylSd",
                        "count": 504
                      },
                      {
                        "name": "MetalSd",
                        "count": 214
                      },
                      {
                        "name": "14 others",
                        "count": 742
                      }
                    ]
                  }
                },
                {
                  "name": "MasVnrType",
                  "dtype": "object",
                  "stats": {
                    "unique_count": 4,
                    "nan_count": 0,
                    "categories": [
                      {
                        "name": "None",
                        "count": 872
                      },
                      {
                        "name": "BrkFace",
                        "count": 445
                      },
                      {
                        "name": "2 others",
                        "count": 143
                      }
                    ]
                  }
                },
                {
                  "name": "MasVnrArea",
                  "dtype": "float64",
                  "stats": {
                    "unique_count": 327,
                    "nan_count": 8,
                    "min": "0.0",
                    "max": "1600.0",
                    "histogram": [
                      {
                        "bin_start": 0,
                        "bin_end": 160,
                        "count": 1077
                      },
                      {
                        "bin_start": 160,
                        "bin_end": 320,
                        "count": 219
                      },
                      {
                        "bin_start": 320,
                        "bin_end": 480,
                        "count": 94
                      },
                      {
                        "bin_start": 480,
                        "bin_end": 640,
                        "count": 29
                      },
                      {
                        "bin_start": 640,
                        "bin_end": 800,
                        "count": 19
                      },
                      {
                        "bin_start": 800,
                        "bin_end": 960,
                        "count": 6
                      },
                      {
                        "bin_start": 960,
                        "bin_end": 1120,
                        "count": 4
                      },
                      {
                        "bin_start": 1120,
                        "bin_end": 1280,
                        "count": 2
                      },
                      {
                        "bin_start": 1280,
                        "bin_end": 1440,
                        "count": 1
                      },
                      {
                        "bin_start": 1440,
                        "bin_end": 1600,
                        "count": 1
                      }
                    ]
                  }
                },
                {
                  "name": "ExterQual",
                  "dtype": "object",
                  "stats": {
                    "unique_count": 4,
                    "nan_count": 0,
                    "categories": [
                      {
                        "name": "TA",
                        "count": 906
                      },
                      {
                        "name": "Gd",
                        "count": 488
                      },
                      {
                        "name": "2 others",
                        "count": 66
                      }
                    ]
                  }
                },
                {
                  "name": "ExterCond",
                  "dtype": "object",
                  "stats": {
                    "unique_count": 5,
                    "nan_count": 0,
                    "categories": [
                      {
                        "name": "TA",
                        "count": 1282
                      },
                      {
                        "name": "Gd",
                        "count": 146
                      },
                      {
                        "name": "3 others",
                        "count": 32
                      }
                    ]
                  }
                },
                {
                  "name": "Foundation",
                  "dtype": "object",
                  "stats": {
                    "unique_count": 6,
                    "nan_count": 0,
                    "categories": [
                      {
                        "name": "PConc",
                        "count": 647
                      },
                      {
                        "name": "CBlock",
                        "count": 634
                      },
                      {
                        "name": "4 others",
                        "count": 179
                      }
                    ]
                  }
                },
                {
                  "name": "BsmtQual",
                  "dtype": "object",
                  "stats": {
                    "unique_count": 5,
                    "nan_count": 0,
                    "categories": [
                      {
                        "name": "TA",
                        "count": 649
                      },
                      {
                        "name": "Gd",
                        "count": 618
                      },
                      {
                        "name": "3 others",
                        "count": 193
                      }
                    ]
                  }
                },
                {
                  "name": "BsmtCond",
                  "dtype": "object",
                  "stats": {
                    "unique_count": 5,
                    "nan_count": 0,
                    "categories": [
                      {
                        "name": "TA",
                        "count": 1311
                      },
                      {
                        "name": "Gd",
                        "count": 65
                      },
                      {
                        "name": "3 others",
                        "count": 84
                      }
                    ]
                  }
                },
                {
                  "name": "BsmtExposure",
                  "dtype": "object",
                  "stats": {
                    "unique_count": 5,
                    "nan_count": 0,
                    "categories": [
                      {
                        "name": "No",
                        "count": 953
                      },
                      {
                        "name": "Av",
                        "count": 221
                      },
                      {
                        "name": "3 others",
                        "count": 286
                      }
                    ]
                  }
                },
                {
                  "name": "BsmtFinType1",
                  "dtype": "object",
                  "stats": {
                    "unique_count": 7,
                    "nan_count": 0,
                    "categories": [
                      {
                        "name": "Unf",
                        "count": 430
                      },
                      {
                        "name": "GLQ",
                        "count": 418
                      },
                      {
                        "name": "5 others",
                        "count": 612
                      }
                    ]
                  }
                },
                {
                  "name": "BsmtFinSF1",
                  "dtype": "int64",
                  "stats": {
                    "unique_count": 637,
                    "nan_count": 0,
                    "min": "0",
                    "max": "5644",
                    "histogram": [
                      {
                        "bin_start": 0,
                        "bin_end": 564.4,
                        "count": 919
                      },
                      {
                        "bin_start": 564.4,
                        "bin_end": 1128.8,
                        "count": 417
                      },
                      {
                        "bin_start": 1128.8,
                        "bin_end": 1693.1999999999998,
                        "count": 114
                      },
                      {
                        "bin_start": 1693.1999999999998,
                        "bin_end": 2257.6,
                        "count": 8
                      },
                      {
                        "bin_start": 2257.6,
                        "bin_end": 2822,
                        "count": 1
                      },
                      {
                        "bin_start": 2822,
                        "bin_end": 3386.3999999999996,
                        "count": 0
                      },
                      {
                        "bin_start": 3386.3999999999996,
                        "bin_end": 3950.7999999999997,
                        "count": 0
                      },
                      {
                        "bin_start": 3950.7999999999997,
                        "bin_end": 4515.2,
                        "count": 0
                      },
                      {
                        "bin_start": 4515.2,
                        "bin_end": 5079.599999999999,
                        "count": 0
                      },
                      {
                        "bin_start": 5079.599999999999,
                        "bin_end": 5644,
                        "count": 1
                      }
                    ]
                  }
                },
                {
                  "name": "BsmtFinType2",
                  "dtype": "object",
                  "stats": {
                    "unique_count": 7,
                    "nan_count": 0,
                    "categories": [
                      {
                        "name": "Unf",
                        "count": 1256
                      },
                      {
                        "name": "Rec",
                        "count": 54
                      },
                      {
                        "name": "5 others",
                        "count": 150
                      }
                    ]
                  }
                },
                {
                  "name": "BsmtFinSF2",
                  "dtype": "int64",
                  "stats": {
                    "unique_count": 144,
                    "nan_count": 0,
                    "min": "0",
                    "max": "1474",
                    "histogram": [
                      {
                        "bin_start": 0,
                        "bin_end": 147.4,
                        "count": 1325
                      },
                      {
                        "bin_start": 147.4,
                        "bin_end": 294.8,
                        "count": 43
                      },
                      {
                        "bin_start": 294.8,
                        "bin_end": 442.20000000000005,
                        "count": 25
                      },
                      {
                        "bin_start": 442.20000000000005,
                        "bin_end": 589.6,
                        "count": 28
                      },
                      {
                        "bin_start": 589.6,
                        "bin_end": 737,
                        "count": 19
                      },
                      {
                        "bin_start": 737,
                        "bin_end": 884.4000000000001,
                        "count": 8
                      },
                      {
                        "bin_start": 884.4000000000001,
                        "bin_end": 1031.8,
                        "count": 4
                      },
                      {
                        "bin_start": 1031.8,
                        "bin_end": 1179.2,
                        "count": 7
                      },
                      {
                        "bin_start": 1179.2,
                        "bin_end": 1326.6000000000001,
                        "count": 0
                      },
                      {
                        "bin_start": 1326.6000000000001,
                        "bin_end": 1474,
                        "count": 1
                      }
                    ]
                  }
                },
                {
                  "name": "BsmtUnfSF",
                  "dtype": "int64",
                  "stats": {
                    "unique_count": 780,
                    "nan_count": 0,
                    "min": "0",
                    "max": "2336",
                    "histogram": [
                      {
                        "bin_start": 0,
                        "bin_end": 233.6,
                        "count": 375
                      },
                      {
                        "bin_start": 233.6,
                        "bin_end": 467.2,
                        "count": 346
                      },
                      {
                        "bin_start": 467.2,
                        "bin_end": 700.8,
                        "count": 256
                      },
                      {
                        "bin_start": 700.8,
                        "bin_end": 934.4,
                        "count": 216
                      },
                      {
                        "bin_start": 934.4,
                        "bin_end": 1168,
                        "count": 106
                      },
                      {
                        "bin_start": 1168,
                        "bin_end": 1401.6,
                        "count": 72
                      },
                      {
                        "bin_start": 1401.6,
                        "bin_end": 1635.2,
                        "count": 53
                      },
                      {
                        "bin_start": 1635.2,
                        "bin_end": 1868.8,
                        "count": 24
                      },
                      {
                        "bin_start": 1868.8,
                        "bin_end": 2102.4,
                        "count": 9
                      },
                      {
                        "bin_start": 2102.4,
                        "bin_end": 2336,
                        "count": 3
                      }
                    ]
                  }
                },
                {
                  "name": "TotalBsmtSF",
                  "dtype": "int64",
                  "stats": {
                    "unique_count": 721,
                    "nan_count": 0,
                    "min": "0",
                    "max": "6110",
                    "histogram": [
                      {
                        "bin_start": 0,
                        "bin_end": 611,
                        "count": 121
                      },
                      {
                        "bin_start": 611,
                        "bin_end": 1222,
                        "count": 907
                      },
                      {
                        "bin_start": 1222,
                        "bin_end": 1833,
                        "count": 372
                      },
                      {
                        "bin_start": 1833,
                        "bin_end": 2444,
                        "count": 52
                      },
                      {
                        "bin_start": 2444,
                        "bin_end": 3055,
                        "count": 3
                      },
                      {
                        "bin_start": 3055,
                        "bin_end": 3666,
                        "count": 4
                      },
                      {
                        "bin_start": 3666,
                        "bin_end": 4277,
                        "count": 0
                      },
                      {
                        "bin_start": 4277,
                        "bin_end": 4888,
                        "count": 0
                      },
                      {
                        "bin_start": 4888,
                        "bin_end": 5499,
                        "count": 0
                      },
                      {
                        "bin_start": 5499,
                        "bin_end": 6110,
                        "count": 1
                      }
                    ]
                  }
                },
                {
                  "name": "Heating",
                  "dtype": "object",
                  "stats": {
                    "unique_count": 6,
                    "nan_count": 0,
                    "categories": [
                      {
                        "name": "GasA",
                        "count": 1428
                      },
                      {
                        "name": "GasW",
                        "count": 18
                      },
                      {
                        "name": "4 others",
                        "count": 14
                      }
                    ]
                  }
                },
                {
                  "name": "HeatingQC",
                  "dtype": "object",
                  "stats": {
                    "unique_count": 5,
                    "nan_count": 0,
                    "categories": [
                      {
                        "name": "Ex",
                        "count": 741
                      },
                      {
                        "name": "TA",
                        "count": 428
                      },
                      {
                        "name": "3 others",
                        "count": 291
                      }
                    ]
                  }
                },
                {
                  "name": "CentralAir",
                  "dtype": "object",
                  "stats": {
                    "unique_count": 2,
                    "nan_count": 0,
                    "categories": [
                      {
                        "name": "Y",
                        "count": 1365
                      },
                      {
                        "name": "N",
                        "count": 95
                      }
                    ]
                  }
                },
                {
                  "name": "Electrical",
                  "dtype": "object",
                  "stats": {
                    "unique_count": 6,
                    "nan_count": 0,
                    "categories": [
                      {
                        "name": "SBrkr",
                        "count": 1334
                      },
                      {
                        "name": "FuseA",
                        "count": 94
                      },
                      {
                        "name": "4 others",
                        "count": 32
                      }
                    ]
                  }
                },
                {
                  "name": "1stFlrSF",
                  "dtype": "int64",
                  "stats": {
                    "unique_count": 753,
                    "nan_count": 0,
                    "min": "334",
                    "max": "4692",
                    "histogram": [
                      {
                        "bin_start": 334,
                        "bin_end": 769.8,
                        "count": 165
                      },
                      {
                        "bin_start": 769.8,
                        "bin_end": 1205.6,
                        "count": 735
                      },
                      {
                        "bin_start": 1205.6,
                        "bin_end": 1641.4,
                        "count": 385
                      },
                      {
                        "bin_start": 1641.4,
                        "bin_end": 2077.2,
                        "count": 147
                      },
                      {
                        "bin_start": 2077.2,
                        "bin_end": 2513,
                        "count": 21
                      },
                      {
                        "bin_start": 2513,
                        "bin_end": 2948.8,
                        "count": 4
                      },
                      {
                        "bin_start": 2948.8,
                        "bin_end": 3384.6,
                        "count": 2
                      },
                      {
                        "bin_start": 3384.6,
                        "bin_end": 3820.4,
                        "count": 0
                      },
                      {
                        "bin_start": 3820.4,
                        "bin_end": 4256.200000000001,
                        "count": 0
                      },
                      {
                        "bin_start": 4256.200000000001,
                        "bin_end": 4692,
                        "count": 1
                      }
                    ]
                  }
                },
                {
                  "name": "2ndFlrSF",
                  "dtype": "int64",
                  "stats": {
                    "unique_count": 417,
                    "nan_count": 0,
                    "min": "0",
                    "max": "2065",
                    "histogram": [
                      {
                        "bin_start": 0,
                        "bin_end": 206.5,
                        "count": 832
                      },
                      {
                        "bin_start": 206.5,
                        "bin_end": 413,
                        "count": 32
                      },
                      {
                        "bin_start": 413,
                        "bin_end": 619.5,
                        "count": 118
                      },
                      {
                        "bin_start": 619.5,
                        "bin_end": 826,
                        "count": 209
                      },
                      {
                        "bin_start": 826,
                        "bin_end": 1032.5,
                        "count": 154
                      },
                      {
                        "bin_start": 1032.5,
                        "bin_end": 1239,
                        "count": 69
                      },
                      {
                        "bin_start": 1239,
                        "bin_end": 1445.5,
                        "count": 34
                      },
                      {
                        "bin_start": 1445.5,
                        "bin_end": 1652,
                        "count": 8
                      },
                      {
                        "bin_start": 1652,
                        "bin_end": 1858.5,
                        "count": 2
                      },
                      {
                        "bin_start": 1858.5,
                        "bin_end": 2065,
                        "count": 2
                      }
                    ]
                  }
                },
                {
                  "name": "LowQualFinSF",
                  "dtype": "int64",
                  "stats": {
                    "unique_count": 24,
                    "nan_count": 0,
                    "min": "0",
                    "max": "572",
                    "histogram": [
                      {
                        "bin_start": 0,
                        "bin_end": 57.2,
                        "count": 1435
                      },
                      {
                        "bin_start": 57.2,
                        "bin_end": 114.4,
                        "count": 3
                      },
                      {
                        "bin_start": 114.4,
                        "bin_end": 171.60000000000002,
                        "count": 3
                      },
                      {
                        "bin_start": 171.60000000000002,
                        "bin_end": 228.8,
                        "count": 1
                      },
                      {
                        "bin_start": 228.8,
                        "bin_end": 286,
                        "count": 2
                      },
                      {
                        "bin_start": 286,
                        "bin_end": 343.20000000000005,
                        "count": 0
                      },
                      {
                        "bin_start": 343.20000000000005,
                        "bin_end": 400.40000000000003,
                        "count": 7
                      },
                      {
                        "bin_start": 400.40000000000003,
                        "bin_end": 457.6,
                        "count": 1
                      },
                      {
                        "bin_start": 457.6,
                        "bin_end": 514.8000000000001,
                        "count": 5
                      },
                      {
                        "bin_start": 514.8000000000001,
                        "bin_end": 572,
                        "count": 3
                      }
                    ]
                  }
                },
                {
                  "name": "GrLivArea",
                  "dtype": "int64",
                  "stats": {
                    "unique_count": 861,
                    "nan_count": 0,
                    "min": "334",
                    "max": "5642",
                    "histogram": [
                      {
                        "bin_start": 334,
                        "bin_end": 864.8,
                        "count": 107
                      },
                      {
                        "bin_start": 864.8,
                        "bin_end": 1395.6,
                        "count": 554
                      },
                      {
                        "bin_start": 1395.6,
                        "bin_end": 1926.3999999999999,
                        "count": 535
                      },
                      {
                        "bin_start": 1926.3999999999999,
                        "bin_end": 2457.2,
                        "count": 189
                      },
                      {
                        "bin_start": 2457.2,
                        "bin_end": 2988,
                        "count": 57
                      },
                      {
                        "bin_start": 2988,
                        "bin_end": 3518.7999999999997,
                        "count": 12
                      },
                      {
                        "bin_start": 3518.7999999999997,
                        "bin_end": 4049.5999999999995,
                        "count": 2
                      },
                      {
                        "bin_start": 4049.5999999999995,
                        "bin_end": 4580.4,
                        "count": 2
                      },
                      {
                        "bin_start": 4580.4,
                        "bin_end": 5111.2,
                        "count": 1
                      },
                      {
                        "bin_start": 5111.2,
                        "bin_end": 5642,
                        "count": 1
                      }
                    ]
                  }
                },
                {
                  "name": "BsmtFullBath",
                  "dtype": "int64",
                  "stats": {
                    "unique_count": 4,
                    "nan_count": 0,
                    "min": "0",
                    "max": "3",
                    "histogram": [
                      {
                        "bin_start": 0,
                        "bin_end": 0.3,
                        "count": 856
                      },
                      {
                        "bin_start": 0.3,
                        "bin_end": 0.6,
                        "count": 0
                      },
                      {
                        "bin_start": 0.6,
                        "bin_end": 0.8999999999999999,
                        "count": 0
                      },
                      {
                        "bin_start": 0.8999999999999999,
                        "bin_end": 1.2,
                        "count": 588
                      },
                      {
                        "bin_start": 1.2,
                        "bin_end": 1.5,
                        "count": 0
                      },
                      {
                        "bin_start": 1.5,
                        "bin_end": 1.7999999999999998,
                        "count": 0
                      },
                      {
                        "bin_start": 1.7999999999999998,
                        "bin_end": 2.1,
                        "count": 15
                      },
                      {
                        "bin_start": 2.1,
                        "bin_end": 2.4,
                        "count": 0
                      },
                      {
                        "bin_start": 2.4,
                        "bin_end": 2.6999999999999997,
                        "count": 0
                      },
                      {
                        "bin_start": 2.6999999999999997,
                        "bin_end": 3,
                        "count": 1
                      }
                    ]
                  }
                },
                {
                  "name": "BsmtHalfBath",
                  "dtype": "int64",
                  "stats": {
                    "unique_count": 3,
                    "nan_count": 0,
                    "min": "0",
                    "max": "2",
                    "histogram": [
                      {
                        "bin_start": 0,
                        "bin_end": 0.2,
                        "count": 1378
                      },
                      {
                        "bin_start": 0.2,
                        "bin_end": 0.4,
                        "count": 0
                      },
                      {
                        "bin_start": 0.4,
                        "bin_end": 0.6000000000000001,
                        "count": 0
                      },
                      {
                        "bin_start": 0.6000000000000001,
                        "bin_end": 0.8,
                        "count": 0
                      },
                      {
                        "bin_start": 0.8,
                        "bin_end": 1,
                        "count": 0
                      },
                      {
                        "bin_start": 1,
                        "bin_end": 1.2000000000000002,
                        "count": 80
                      },
                      {
                        "bin_start": 1.2000000000000002,
                        "bin_end": 1.4000000000000001,
                        "count": 0
                      },
                      {
                        "bin_start": 1.4000000000000001,
                        "bin_end": 1.6,
                        "count": 0
                      },
                      {
                        "bin_start": 1.6,
                        "bin_end": 1.8,
                        "count": 0
                      },
                      {
                        "bin_start": 1.8,
                        "bin_end": 2,
                        "count": 2
                      }
                    ]
                  }
                },
                {
                  "name": "FullBath",
                  "dtype": "int64",
                  "stats": {
                    "unique_count": 4,
                    "nan_count": 0,
                    "min": "0",
                    "max": "3",
                    "histogram": [
                      {
                        "bin_start": 0,
                        "bin_end": 0.3,
                        "count": 9
                      },
                      {
                        "bin_start": 0.3,
                        "bin_end": 0.6,
                        "count": 0
                      },
                      {
                        "bin_start": 0.6,
                        "bin_end": 0.8999999999999999,
                        "count": 0
                      },
                      {
                        "bin_start": 0.8999999999999999,
                        "bin_end": 1.2,
                        "count": 650
                      },
                      {
                        "bin_start": 1.2,
                        "bin_end": 1.5,
                        "count": 0
                      },
                      {
                        "bin_start": 1.5,
                        "bin_end": 1.7999999999999998,
                        "count": 0
                      },
                      {
                        "bin_start": 1.7999999999999998,
                        "bin_end": 2.1,
                        "count": 768
                      },
                      {
                        "bin_start": 2.1,
                        "bin_end": 2.4,
                        "count": 0
                      },
                      {
                        "bin_start": 2.4,
                        "bin_end": 2.6999999999999997,
                        "count": 0
                      },
                      {
                        "bin_start": 2.6999999999999997,
                        "bin_end": 3,
                        "count": 33
                      }
                    ]
                  }
                },
                {
                  "name": "HalfBath",
                  "dtype": "int64",
                  "stats": {
                    "unique_count": 3,
                    "nan_count": 0,
                    "min": "0",
                    "max": "2",
                    "histogram": [
                      {
                        "bin_start": 0,
                        "bin_end": 0.2,
                        "count": 913
                      },
                      {
                        "bin_start": 0.2,
                        "bin_end": 0.4,
                        "count": 0
                      },
                      {
                        "bin_start": 0.4,
                        "bin_end": 0.6000000000000001,
                        "count": 0
                      },
                      {
                        "bin_start": 0.6000000000000001,
                        "bin_end": 0.8,
                        "count": 0
                      },
                      {
                        "bin_start": 0.8,
                        "bin_end": 1,
                        "count": 0
                      },
                      {
                        "bin_start": 1,
                        "bin_end": 1.2000000000000002,
                        "count": 535
                      },
                      {
                        "bin_start": 1.2000000000000002,
                        "bin_end": 1.4000000000000001,
                        "count": 0
                      },
                      {
                        "bin_start": 1.4000000000000001,
                        "bin_end": 1.6,
                        "count": 0
                      },
                      {
                        "bin_start": 1.6,
                        "bin_end": 1.8,
                        "count": 0
                      },
                      {
                        "bin_start": 1.8,
                        "bin_end": 2,
                        "count": 12
                      }
                    ]
                  }
                },
                {
                  "name": "BedroomAbvGr",
                  "dtype": "int64",
                  "stats": {
                    "unique_count": 8,
                    "nan_count": 0,
                    "min": "0",
                    "max": "8",
                    "histogram": [
                      {
                        "bin_start": 0,
                        "bin_end": 0.8,
                        "count": 6
                      },
                      {
                        "bin_start": 0.8,
                        "bin_end": 1.6,
                        "count": 50
                      },
                      {
                        "bin_start": 1.6,
                        "bin_end": 2.4000000000000004,
                        "count": 358
                      },
                      {
                        "bin_start": 2.4000000000000004,
                        "bin_end": 3.2,
                        "count": 804
                      },
                      {
                        "bin_start": 3.2,
                        "bin_end": 4,
                        "count": 0
                      },
                      {
                        "bin_start": 4,
                        "bin_end": 4.800000000000001,
                        "count": 213
                      },
                      {
                        "bin_start": 4.800000000000001,
                        "bin_end": 5.6000000000000005,
                        "count": 21
                      },
                      {
                        "bin_start": 5.6000000000000005,
                        "bin_end": 6.4,
                        "count": 7
                      },
                      {
                        "bin_start": 6.4,
                        "bin_end": 7.2,
                        "count": 0
                      },
                      {
                        "bin_start": 7.2,
                        "bin_end": 8,
                        "count": 1
                      }
                    ]
                  }
                },
                {
                  "name": "KitchenAbvGr",
                  "dtype": "int64",
                  "stats": {
                    "unique_count": 4,
                    "nan_count": 0,
                    "min": "0",
                    "max": "3",
                    "histogram": [
                      {
                        "bin_start": 0,
                        "bin_end": 0.3,
                        "count": 1
                      },
                      {
                        "bin_start": 0.3,
                        "bin_end": 0.6,
                        "count": 0
                      },
                      {
                        "bin_start": 0.6,
                        "bin_end": 0.8999999999999999,
                        "count": 0
                      },
                      {
                        "bin_start": 0.8999999999999999,
                        "bin_end": 1.2,
                        "count": 1392
                      },
                      {
                        "bin_start": 1.2,
                        "bin_end": 1.5,
                        "count": 0
                      },
                      {
                        "bin_start": 1.5,
                        "bin_end": 1.7999999999999998,
                        "count": 0
                      },
                      {
                        "bin_start": 1.7999999999999998,
                        "bin_end": 2.1,
                        "count": 65
                      },
                      {
                        "bin_start": 2.1,
                        "bin_end": 2.4,
                        "count": 0
                      },
                      {
                        "bin_start": 2.4,
                        "bin_end": 2.6999999999999997,
                        "count": 0
                      },
                      {
                        "bin_start": 2.6999999999999997,
                        "bin_end": 3,
                        "count": 2
                      }
                    ]
                  }
                },
                {
                  "name": "KitchenQual",
                  "dtype": "object",
                  "stats": {
                    "unique_count": 4,
                    "nan_count": 0,
                    "categories": [
                      {
                        "name": "TA",
                        "count": 735
                      },
                      {
                        "name": "Gd",
                        "count": 586
                      },
                      {
                        "name": "2 others",
                        "count": 139
                      }
                    ]
                  }
                },
                {
                  "name": "TotRmsAbvGrd",
                  "dtype": "int64",
                  "stats": {
                    "unique_count": 12,
                    "nan_count": 0,
                    "min": "2",
                    "max": "14",
                    "histogram": [
                      {
                        "bin_start": 2,
                        "bin_end": 3.2,
                        "count": 18
                      },
                      {
                        "bin_start": 3.2,
                        "bin_end": 4.4,
                        "count": 97
                      },
                      {
                        "bin_start": 4.4,
                        "bin_end": 5.6,
                        "count": 275
                      },
                      {
                        "bin_start": 5.6,
                        "bin_end": 6.8,
                        "count": 402
                      },
                      {
                        "bin_start": 6.8,
                        "bin_end": 8,
                        "count": 329
                      },
                      {
                        "bin_start": 8,
                        "bin_end": 9.2,
                        "count": 262
                      },
                      {
                        "bin_start": 9.2,
                        "bin_end": 10.4,
                        "count": 47
                      },
                      {
                        "bin_start": 10.4,
                        "bin_end": 11.6,
                        "count": 18
                      },
                      {
                        "bin_start": 11.6,
                        "bin_end": 12.799999999999999,
                        "count": 11
                      },
                      {
                        "bin_start": 12.799999999999999,
                        "bin_end": 14,
                        "count": 1
                      }
                    ]
                  }
                },
                {
                  "name": "Functional",
                  "dtype": "object",
                  "stats": {
                    "unique_count": 7,
                    "nan_count": 0,
                    "categories": [
                      {
                        "name": "Typ",
                        "count": 1360
                      },
                      {
                        "name": "Min2",
                        "count": 34
                      },
                      {
                        "name": "5 others",
                        "count": 66
                      }
                    ]
                  }
                },
                {
                  "name": "Fireplaces",
                  "dtype": "int64",
                  "stats": {
                    "unique_count": 4,
                    "nan_count": 0,
                    "min": "0",
                    "max": "3",
                    "histogram": [
                      {
                        "bin_start": 0,
                        "bin_end": 0.3,
                        "count": 690
                      },
                      {
                        "bin_start": 0.3,
                        "bin_end": 0.6,
                        "count": 0
                      },
                      {
                        "bin_start": 0.6,
                        "bin_end": 0.8999999999999999,
                        "count": 0
                      },
                      {
                        "bin_start": 0.8999999999999999,
                        "bin_end": 1.2,
                        "count": 650
                      },
                      {
                        "bin_start": 1.2,
                        "bin_end": 1.5,
                        "count": 0
                      },
                      {
                        "bin_start": 1.5,
                        "bin_end": 1.7999999999999998,
                        "count": 0
                      },
                      {
                        "bin_start": 1.7999999999999998,
                        "bin_end": 2.1,
                        "count": 115
                      },
                      {
                        "bin_start": 2.1,
                        "bin_end": 2.4,
                        "count": 0
                      },
                      {
                        "bin_start": 2.4,
                        "bin_end": 2.6999999999999997,
                        "count": 0
                      },
                      {
                        "bin_start": 2.6999999999999997,
                        "bin_end": 3,
                        "count": 5
                      }
                    ]
                  }
                },
                {
                  "name": "FireplaceQu",
                  "dtype": "object",
                  "stats": {
                    "unique_count": 6,
                    "nan_count": 0,
                    "categories": [
                      {
                        "name": "NoFP",
                        "count": 690
                      },
                      {
                        "name": "Gd",
                        "count": 380
                      },
                      {
                        "name": "4 others",
                        "count": 390
                      }
                    ]
                  }
                },
                {
                  "name": "GarageType",
                  "dtype": "object",
                  "stats": {
                    "unique_count": 7,
                    "nan_count": 0,
                    "categories": [
                      {
                        "name": "Attchd",
                        "count": 870
                      },
                      {
                        "name": "Detchd",
                        "count": 387
                      },
                      {
                        "name": "5 others",
                        "count": 203
                      }
                    ]
                  }
                },
                {
                  "name": "GarageYrBlt",
                  "dtype": "object",
                  "stats": {
                    "unique_count": 98,
                    "nan_count": 0,
                    "categories": [
                      {
                        "name": "NoGarage",
                        "count": 81
                      },
                      {
                        "name": "2005.0",
                        "count": 65
                      },
                      {
                        "name": "96 others",
                        "count": 1314
                      }
                    ]
                  }
                },
                {
                  "name": "GarageFinish",
                  "dtype": "object",
                  "stats": {
                    "unique_count": 4,
                    "nan_count": 0,
                    "categories": [
                      {
                        "name": "Unf",
                        "count": 605
                      },
                      {
                        "name": "RFn",
                        "count": 422
                      },
                      {
                        "name": "2 others",
                        "count": 433
                      }
                    ]
                  }
                },
                {
                  "name": "GarageCars",
                  "dtype": "int64",
                  "stats": {
                    "unique_count": 5,
                    "nan_count": 0,
                    "min": "0",
                    "max": "4",
                    "histogram": [
                      {
                        "bin_start": 0,
                        "bin_end": 0.4,
                        "count": 81
                      },
                      {
                        "bin_start": 0.4,
                        "bin_end": 0.8,
                        "count": 0
                      },
                      {
                        "bin_start": 0.8,
                        "bin_end": 1.2000000000000002,
                        "count": 369
                      },
                      {
                        "bin_start": 1.2000000000000002,
                        "bin_end": 1.6,
                        "count": 0
                      },
                      {
                        "bin_start": 1.6,
                        "bin_end": 2,
                        "count": 0
                      },
                      {
                        "bin_start": 2,
                        "bin_end": 2.4000000000000004,
                        "count": 824
                      },
                      {
                        "bin_start": 2.4000000000000004,
                        "bin_end": 2.8000000000000003,
                        "count": 0
                      },
                      {
                        "bin_start": 2.8000000000000003,
                        "bin_end": 3.2,
                        "count": 181
                      },
                      {
                        "bin_start": 3.2,
                        "bin_end": 3.6,
                        "count": 0
                      },
                      {
                        "bin_start": 3.6,
                        "bin_end": 4,
                        "count": 5
                      }
                    ]
                  }
                },
                {
                  "name": "GarageArea",
                  "dtype": "int64",
                  "stats": {
                    "unique_count": 441,
                    "nan_count": 0,
                    "min": "0",
                    "max": "1418",
                    "histogram": [
                      {
                        "bin_start": 0,
                        "bin_end": 141.8,
                        "count": 81
                      },
                      {
                        "bin_start": 141.8,
                        "bin_end": 283.6,
                        "count": 167
                      },
                      {
                        "bin_start": 283.6,
                        "bin_end": 425.40000000000003,
                        "count": 293
                      },
                      {
                        "bin_start": 425.40000000000003,
                        "bin_end": 567.2,
                        "count": 500
                      },
                      {
                        "bin_start": 567.2,
                        "bin_end": 709,
                        "count": 240
                      },
                      {
                        "bin_start": 709,
                        "bin_end": 850.8000000000001,
                        "count": 106
                      },
                      {
                        "bin_start": 850.8000000000001,
                        "bin_end": 992.6000000000001,
                        "count": 57
                      },
                      {
                        "bin_start": 992.6000000000001,
                        "bin_end": 1134.4,
                        "count": 10
                      },
                      {
                        "bin_start": 1134.4,
                        "bin_end": 1276.2,
                        "count": 3
                      },
                      {
                        "bin_start": 1276.2,
                        "bin_end": 1418,
                        "count": 3
                      }
                    ]
                  }
                },
                {
                  "name": "GarageQual",
                  "dtype": "object",
                  "stats": {
                    "unique_count": 6,
                    "nan_count": 0,
                    "categories": [
                      {
                        "name": "TA",
                        "count": 1311
                      },
                      {
                        "name": "NoGarage",
                        "count": 81
                      },
                      {
                        "name": "4 others",
                        "count": 68
                      }
                    ]
                  }
                },
                {
                  "name": "GarageCond",
                  "dtype": "object",
                  "stats": {
                    "unique_count": 6,
                    "nan_count": 0,
                    "categories": [
                      {
                        "name": "TA",
                        "count": 1326
                      },
                      {
                        "name": "NoGarage",
                        "count": 81
                      },
                      {
                        "name": "4 others",
                        "count": 53
                      }
                    ]
                  }
                },
                {
                  "name": "PavedDrive",
                  "dtype": "object",
                  "stats": {
                    "unique_count": 3,
                    "nan_count": 0,
                    "categories": [
                      {
                        "name": "Y",
                        "count": 1340
                      },
                      {
                        "name": "N",
                        "count": 90
                      },
                      {
                        "name": "P",
                        "count": 30
                      }
                    ]
                  }
                },
                {
                  "name": "WoodDeckSF",
                  "dtype": "int64",
                  "stats": {
                    "unique_count": 274,
                    "nan_count": 0,
                    "min": "0",
                    "max": "857",
                    "histogram": [
                      {
                        "bin_start": 0,
                        "bin_end": 85.7,
                        "count": 826
                      },
                      {
                        "bin_start": 85.7,
                        "bin_end": 171.4,
                        "count": 286
                      },
                      {
                        "bin_start": 171.4,
                        "bin_end": 257.1,
                        "count": 198
                      },
                      {
                        "bin_start": 257.1,
                        "bin_end": 342.8,
                        "count": 82
                      },
                      {
                        "bin_start": 342.8,
                        "bin_end": 428.5,
                        "count": 38
                      },
                      {
                        "bin_start": 428.5,
                        "bin_end": 514.2,
                        "count": 17
                      },
                      {
                        "bin_start": 514.2,
                        "bin_end": 599.9,
                        "count": 7
                      },
                      {
                        "bin_start": 599.9,
                        "bin_end": 685.6,
                        "count": 3
                      },
                      {
                        "bin_start": 685.6,
                        "bin_end": 771.3000000000001,
                        "count": 2
                      },
                      {
                        "bin_start": 771.3000000000001,
                        "bin_end": 857,
                        "count": 1
                      }
                    ]
                  }
                },
                {
                  "name": "OpenPorchSF",
                  "dtype": "int64",
                  "stats": {
                    "unique_count": 202,
                    "nan_count": 0,
                    "min": "0",
                    "max": "547",
                    "histogram": [
                      {
                        "bin_start": 0,
                        "bin_end": 54.7,
                        "count": 1007
                      },
                      {
                        "bin_start": 54.7,
                        "bin_end": 109.4,
                        "count": 242
                      },
                      {
                        "bin_start": 109.4,
                        "bin_end": 164.10000000000002,
                        "count": 123
                      },
                      {
                        "bin_start": 164.10000000000002,
                        "bin_end": 218.8,
                        "count": 45
                      },
                      {
                        "bin_start": 218.8,
                        "bin_end": 273.5,
                        "count": 25
                      },
                      {
                        "bin_start": 273.5,
                        "bin_end": 328.20000000000005,
                        "count": 11
                      },
                      {
                        "bin_start": 328.20000000000005,
                        "bin_end": 382.90000000000003,
                        "count": 2
                      },
                      {
                        "bin_start": 382.90000000000003,
                        "bin_end": 437.6,
                        "count": 2
                      },
                      {
                        "bin_start": 437.6,
                        "bin_end": 492.3,
                        "count": 0
                      },
                      {
                        "bin_start": 492.3,
                        "bin_end": 547,
                        "count": 3
                      }
                    ]
                  }
                },
                {
                  "name": "EnclosedPorch",
                  "dtype": "int64"
                },
                {
                  "name": "3SsnPorch",
                  "dtype": "int64"
                },
                {
                  "name": "ScreenPorch",
                  "dtype": "int64"
                },
                {
                  "name": "PoolArea",
                  "dtype": "int64"
                },
                {
                  "name": "PoolQC",
                  "dtype": "object"
                },
                {
                  "name": "Fence",
                  "dtype": "object"
                },
                {
                  "name": "MiscFeature",
                  "dtype": "object"
                },
                {
                  "name": "MiscVal",
                  "dtype": "int64"
                },
                {
                  "name": "MoSold",
                  "dtype": "int64"
                },
                {
                  "name": "SaleType",
                  "dtype": "object"
                },
                {
                  "name": "SaleCondition",
                  "dtype": "object"
                },
                {
                  "name": "SalePrice",
                  "dtype": "int64"
                },
                {
                  "name": "_deepnote_index_column",
                  "dtype": "int64"
                }
              ],
              "rows_top": [
                {
                  "Id": 1,
                  "MSSubClass": 60,
                  "MSZoning": "RL",
                  "LotFrontage": 65,
                  "LotArea": 8450,
                  "Street": "Pave",
                  "Alley": "NoAlley",
                  "LotShape": "Reg",
                  "LandContour": "Lvl",
                  "Utilities": "AllPub",
                  "LotConfig": "Inside",
                  "LandSlope": "Gtl",
                  "Neighborhood": "CollgCr",
                  "Condition1": "Norm",
                  "Condition2": "Norm",
                  "BldgType": "1Fam",
                  "HouseStyle": "2Story",
                  "OverallQual": 7,
                  "OverallCond": 5,
                  "YearBuilt": 2003,
                  "YearRemodAdd": 2003,
                  "RoofStyle": "Gable",
                  "RoofMatl": "CompShg",
                  "Exterior1st": "VinylSd",
                  "Exterior2nd": "VinylSd",
                  "MasVnrType": "BrkFace",
                  "MasVnrArea": 196,
                  "ExterQual": "Gd",
                  "ExterCond": "TA",
                  "Foundation": "PConc",
                  "BsmtQual": "Gd",
                  "BsmtCond": "TA",
                  "BsmtExposure": "No",
                  "BsmtFinType1": "GLQ",
                  "BsmtFinSF1": 706,
                  "BsmtFinType2": "Unf",
                  "BsmtFinSF2": 0,
                  "BsmtUnfSF": 150,
                  "TotalBsmtSF": 856,
                  "Heating": "GasA",
                  "HeatingQC": "Ex",
                  "CentralAir": "Y",
                  "Electrical": "SBrkr",
                  "1stFlrSF": 856,
                  "2ndFlrSF": 854,
                  "LowQualFinSF": 0,
                  "GrLivArea": 1710,
                  "BsmtFullBath": 1,
                  "BsmtHalfBath": 0,
                  "FullBath": 2,
                  "HalfBath": 1,
                  "BedroomAbvGr": 3,
                  "KitchenAbvGr": 1,
                  "KitchenQual": "Gd",
                  "TotRmsAbvGrd": 8,
                  "Functional": "Typ",
                  "Fireplaces": 0,
                  "FireplaceQu": "NoFP",
                  "GarageType": "Attchd",
                  "GarageYrBlt": 2003,
                  "GarageFinish": "RFn",
                  "GarageCars": 2,
                  "GarageArea": 548,
                  "GarageQual": "TA",
                  "GarageCond": "TA",
                  "PavedDrive": "Y",
                  "WoodDeckSF": 0,
                  "OpenPorchSF": 61,
                  "EnclosedPorch": 0,
                  "3SsnPorch": 0,
                  "ScreenPorch": 0,
                  "PoolArea": 0,
                  "PoolQC": "NoPool",
                  "Fence": "NoFence",
                  "MiscFeature": "NoMF",
                  "MiscVal": 0,
                  "MoSold": 2,
                  "SaleType": "WD",
                  "SaleCondition": "Normal",
                  "SalePrice": 208500,
                  "_deepnote_index_column": 0
                },
                {
                  "Id": 2,
                  "MSSubClass": 20,
                  "MSZoning": "RL",
                  "LotFrontage": 80,
                  "LotArea": 9600,
                  "Street": "Pave",
                  "Alley": "NoAlley",
                  "LotShape": "Reg",
                  "LandContour": "Lvl",
                  "Utilities": "AllPub",
                  "LotConfig": "FR2",
                  "LandSlope": "Gtl",
                  "Neighborhood": "Veenker",
                  "Condition1": "Feedr",
                  "Condition2": "Norm",
                  "BldgType": "1Fam",
                  "HouseStyle": "1Story",
                  "OverallQual": 6,
                  "OverallCond": 8,
                  "YearBuilt": 1976,
                  "YearRemodAdd": 1976,
                  "RoofStyle": "Gable",
                  "RoofMatl": "CompShg",
                  "Exterior1st": "MetalSd",
                  "Exterior2nd": "MetalSd",
                  "MasVnrType": "None",
                  "MasVnrArea": 0,
                  "ExterQual": "TA",
                  "ExterCond": "TA",
                  "Foundation": "CBlock",
                  "BsmtQual": "Gd",
                  "BsmtCond": "TA",
                  "BsmtExposure": "Gd",
                  "BsmtFinType1": "ALQ",
                  "BsmtFinSF1": 978,
                  "BsmtFinType2": "Unf",
                  "BsmtFinSF2": 0,
                  "BsmtUnfSF": 284,
                  "TotalBsmtSF": 1262,
                  "Heating": "GasA",
                  "HeatingQC": "Ex",
                  "CentralAir": "Y",
                  "Electrical": "SBrkr",
                  "1stFlrSF": 1262,
                  "2ndFlrSF": 0,
                  "LowQualFinSF": 0,
                  "GrLivArea": 1262,
                  "BsmtFullBath": 0,
                  "BsmtHalfBath": 1,
                  "FullBath": 2,
                  "HalfBath": 0,
                  "BedroomAbvGr": 3,
                  "KitchenAbvGr": 1,
                  "KitchenQual": "TA",
                  "TotRmsAbvGrd": 6,
                  "Functional": "Typ",
                  "Fireplaces": 1,
                  "FireplaceQu": "TA",
                  "GarageType": "Attchd",
                  "GarageYrBlt": 1976,
                  "GarageFinish": "RFn",
                  "GarageCars": 2,
                  "GarageArea": 460,
                  "GarageQual": "TA",
                  "GarageCond": "TA",
                  "PavedDrive": "Y",
                  "WoodDeckSF": 298,
                  "OpenPorchSF": 0,
                  "EnclosedPorch": 0,
                  "3SsnPorch": 0,
                  "ScreenPorch": 0,
                  "PoolArea": 0,
                  "PoolQC": "NoPool",
                  "Fence": "NoFence",
                  "MiscFeature": "NoMF",
                  "MiscVal": 0,
                  "MoSold": 5,
                  "SaleType": "WD",
                  "SaleCondition": "Normal",
                  "SalePrice": 181500,
                  "_deepnote_index_column": 1
                },
                {
                  "Id": 3,
                  "MSSubClass": 60,
                  "MSZoning": "RL",
                  "LotFrontage": 68,
                  "LotArea": 11250,
                  "Street": "Pave",
                  "Alley": "NoAlley",
                  "LotShape": "IR1",
                  "LandContour": "Lvl",
                  "Utilities": "AllPub",
                  "LotConfig": "Inside",
                  "LandSlope": "Gtl",
                  "Neighborhood": "CollgCr",
                  "Condition1": "Norm",
                  "Condition2": "Norm",
                  "BldgType": "1Fam",
                  "HouseStyle": "2Story",
                  "OverallQual": 7,
                  "OverallCond": 5,
                  "YearBuilt": 2001,
                  "YearRemodAdd": 2002,
                  "RoofStyle": "Gable",
                  "RoofMatl": "CompShg",
                  "Exterior1st": "VinylSd",
                  "Exterior2nd": "VinylSd",
                  "MasVnrType": "BrkFace",
                  "MasVnrArea": 162,
                  "ExterQual": "Gd",
                  "ExterCond": "TA",
                  "Foundation": "PConc",
                  "BsmtQual": "Gd",
                  "BsmtCond": "TA",
                  "BsmtExposure": "Mn",
                  "BsmtFinType1": "GLQ",
                  "BsmtFinSF1": 486,
                  "BsmtFinType2": "Unf",
                  "BsmtFinSF2": 0,
                  "BsmtUnfSF": 434,
                  "TotalBsmtSF": 920,
                  "Heating": "GasA",
                  "HeatingQC": "Ex",
                  "CentralAir": "Y",
                  "Electrical": "SBrkr",
                  "1stFlrSF": 920,
                  "2ndFlrSF": 866,
                  "LowQualFinSF": 0,
                  "GrLivArea": 1786,
                  "BsmtFullBath": 1,
                  "BsmtHalfBath": 0,
                  "FullBath": 2,
                  "HalfBath": 1,
                  "BedroomAbvGr": 3,
                  "KitchenAbvGr": 1,
                  "KitchenQual": "Gd",
                  "TotRmsAbvGrd": 6,
                  "Functional": "Typ",
                  "Fireplaces": 1,
                  "FireplaceQu": "TA",
                  "GarageType": "Attchd",
                  "GarageYrBlt": 2001,
                  "GarageFinish": "RFn",
                  "GarageCars": 2,
                  "GarageArea": 608,
                  "GarageQual": "TA",
                  "GarageCond": "TA",
                  "PavedDrive": "Y",
                  "WoodDeckSF": 0,
                  "OpenPorchSF": 42,
                  "EnclosedPorch": 0,
                  "3SsnPorch": 0,
                  "ScreenPorch": 0,
                  "PoolArea": 0,
                  "PoolQC": "NoPool",
                  "Fence": "NoFence",
                  "MiscFeature": "NoMF",
                  "MiscVal": 0,
                  "MoSold": 9,
                  "SaleType": "WD",
                  "SaleCondition": "Normal",
                  "SalePrice": 223500,
                  "_deepnote_index_column": 2
                },
                {
                  "Id": 4,
                  "MSSubClass": 70,
                  "MSZoning": "RL",
                  "LotFrontage": 60,
                  "LotArea": 9550,
                  "Street": "Pave",
                  "Alley": "NoAlley",
                  "LotShape": "IR1",
                  "LandContour": "Lvl",
                  "Utilities": "AllPub",
                  "LotConfig": "Corner",
                  "LandSlope": "Gtl",
                  "Neighborhood": "Crawfor",
                  "Condition1": "Norm",
                  "Condition2": "Norm",
                  "BldgType": "1Fam",
                  "HouseStyle": "2Story",
                  "OverallQual": 7,
                  "OverallCond": 5,
                  "YearBuilt": 1915,
                  "YearRemodAdd": 1970,
                  "RoofStyle": "Gable",
                  "RoofMatl": "CompShg",
                  "Exterior1st": "Wd Sdng",
                  "Exterior2nd": "Wd Shng",
                  "MasVnrType": "None",
                  "MasVnrArea": 0,
                  "ExterQual": "TA",
                  "ExterCond": "TA",
                  "Foundation": "BrkTil",
                  "BsmtQual": "TA",
                  "BsmtCond": "Gd",
                  "BsmtExposure": "No",
                  "BsmtFinType1": "ALQ",
                  "BsmtFinSF1": 216,
                  "BsmtFinType2": "Unf",
                  "BsmtFinSF2": 0,
                  "BsmtUnfSF": 540,
                  "TotalBsmtSF": 756,
                  "Heating": "GasA",
                  "HeatingQC": "Gd",
                  "CentralAir": "Y",
                  "Electrical": "SBrkr",
                  "1stFlrSF": 961,
                  "2ndFlrSF": 756,
                  "LowQualFinSF": 0,
                  "GrLivArea": 1717,
                  "BsmtFullBath": 1,
                  "BsmtHalfBath": 0,
                  "FullBath": 1,
                  "HalfBath": 0,
                  "BedroomAbvGr": 3,
                  "KitchenAbvGr": 1,
                  "KitchenQual": "Gd",
                  "TotRmsAbvGrd": 7,
                  "Functional": "Typ",
                  "Fireplaces": 1,
                  "FireplaceQu": "Gd",
                  "GarageType": "Detchd",
                  "GarageYrBlt": 1998,
                  "GarageFinish": "Unf",
                  "GarageCars": 3,
                  "GarageArea": 642,
                  "GarageQual": "TA",
                  "GarageCond": "TA",
                  "PavedDrive": "Y",
                  "WoodDeckSF": 0,
                  "OpenPorchSF": 35,
                  "EnclosedPorch": 272,
                  "3SsnPorch": 0,
                  "ScreenPorch": 0,
                  "PoolArea": 0,
                  "PoolQC": "NoPool",
                  "Fence": "NoFence",
                  "MiscFeature": "NoMF",
                  "MiscVal": 0,
                  "MoSold": 2,
                  "SaleType": "WD",
                  "SaleCondition": "Abnorml",
                  "SalePrice": 140000,
                  "_deepnote_index_column": 3
                },
                {
                  "Id": 5,
                  "MSSubClass": 60,
                  "MSZoning": "RL",
                  "LotFrontage": 84,
                  "LotArea": 14260,
                  "Street": "Pave",
                  "Alley": "NoAlley",
                  "LotShape": "IR1",
                  "LandContour": "Lvl",
                  "Utilities": "AllPub",
                  "LotConfig": "FR2",
                  "LandSlope": "Gtl",
                  "Neighborhood": "NoRidge",
                  "Condition1": "Norm",
                  "Condition2": "Norm",
                  "BldgType": "1Fam",
                  "HouseStyle": "2Story",
                  "OverallQual": 8,
                  "OverallCond": 5,
                  "YearBuilt": 2000,
                  "YearRemodAdd": 2000,
                  "RoofStyle": "Gable",
                  "RoofMatl": "CompShg",
                  "Exterior1st": "VinylSd",
                  "Exterior2nd": "VinylSd",
                  "MasVnrType": "BrkFace",
                  "MasVnrArea": 350,
                  "ExterQual": "Gd",
                  "ExterCond": "TA",
                  "Foundation": "PConc",
                  "BsmtQual": "Gd",
                  "BsmtCond": "TA",
                  "BsmtExposure": "Av",
                  "BsmtFinType1": "GLQ",
                  "BsmtFinSF1": 655,
                  "BsmtFinType2": "Unf",
                  "BsmtFinSF2": 0,
                  "BsmtUnfSF": 490,
                  "TotalBsmtSF": 1145,
                  "Heating": "GasA",
                  "HeatingQC": "Ex",
                  "CentralAir": "Y",
                  "Electrical": "SBrkr",
                  "1stFlrSF": 1145,
                  "2ndFlrSF": 1053,
                  "LowQualFinSF": 0,
                  "GrLivArea": 2198,
                  "BsmtFullBath": 1,
                  "BsmtHalfBath": 0,
                  "FullBath": 2,
                  "HalfBath": 1,
                  "BedroomAbvGr": 4,
                  "KitchenAbvGr": 1,
                  "KitchenQual": "Gd",
                  "TotRmsAbvGrd": 9,
                  "Functional": "Typ",
                  "Fireplaces": 1,
                  "FireplaceQu": "TA",
                  "GarageType": "Attchd",
                  "GarageYrBlt": 2000,
                  "GarageFinish": "RFn",
                  "GarageCars": 3,
                  "GarageArea": 836,
                  "GarageQual": "TA",
                  "GarageCond": "TA",
                  "PavedDrive": "Y",
                  "WoodDeckSF": 192,
                  "OpenPorchSF": 84,
                  "EnclosedPorch": 0,
                  "3SsnPorch": 0,
                  "ScreenPorch": 0,
                  "PoolArea": 0,
                  "PoolQC": "NoPool",
                  "Fence": "NoFence",
                  "MiscFeature": "NoMF",
                  "MiscVal": 0,
                  "MoSold": 12,
                  "SaleType": "WD",
                  "SaleCondition": "Normal",
                  "SalePrice": 250000,
                  "_deepnote_index_column": 4
                },
                {
                  "Id": 6,
                  "MSSubClass": 50,
                  "MSZoning": "RL",
                  "LotFrontage": 85,
                  "LotArea": 14115,
                  "Street": "Pave",
                  "Alley": "NoAlley",
                  "LotShape": "IR1",
                  "LandContour": "Lvl",
                  "Utilities": "AllPub",
                  "LotConfig": "Inside",
                  "LandSlope": "Gtl",
                  "Neighborhood": "Mitchel",
                  "Condition1": "Norm",
                  "Condition2": "Norm",
                  "BldgType": "1Fam",
                  "HouseStyle": "1.5Fin",
                  "OverallQual": 5,
                  "OverallCond": 5,
                  "YearBuilt": 1993,
                  "YearRemodAdd": 1995,
                  "RoofStyle": "Gable",
                  "RoofMatl": "CompShg",
                  "Exterior1st": "VinylSd",
                  "Exterior2nd": "VinylSd",
                  "MasVnrType": "None",
                  "MasVnrArea": 0,
                  "ExterQual": "TA",
                  "ExterCond": "TA",
                  "Foundation": "Wood",
                  "BsmtQual": "Gd",
                  "BsmtCond": "TA",
                  "BsmtExposure": "No",
                  "BsmtFinType1": "GLQ",
                  "BsmtFinSF1": 732,
                  "BsmtFinType2": "Unf",
                  "BsmtFinSF2": 0,
                  "BsmtUnfSF": 64,
                  "TotalBsmtSF": 796,
                  "Heating": "GasA",
                  "HeatingQC": "Ex",
                  "CentralAir": "Y",
                  "Electrical": "SBrkr",
                  "1stFlrSF": 796,
                  "2ndFlrSF": 566,
                  "LowQualFinSF": 0,
                  "GrLivArea": 1362,
                  "BsmtFullBath": 1,
                  "BsmtHalfBath": 0,
                  "FullBath": 1,
                  "HalfBath": 1,
                  "BedroomAbvGr": 1,
                  "KitchenAbvGr": 1,
                  "KitchenQual": "TA",
                  "TotRmsAbvGrd": 5,
                  "Functional": "Typ",
                  "Fireplaces": 0,
                  "FireplaceQu": "NoFP",
                  "GarageType": "Attchd",
                  "GarageYrBlt": 1993,
                  "GarageFinish": "Unf",
                  "GarageCars": 2,
                  "GarageArea": 480,
                  "GarageQual": "TA",
                  "GarageCond": "TA",
                  "PavedDrive": "Y",
                  "WoodDeckSF": 40,
                  "OpenPorchSF": 30,
                  "EnclosedPorch": 0,
                  "3SsnPorch": 320,
                  "ScreenPorch": 0,
                  "PoolArea": 0,
                  "PoolQC": "NoPool",
                  "Fence": "MnPrv",
                  "MiscFeature": "Shed",
                  "MiscVal": 700,
                  "MoSold": 10,
                  "SaleType": "WD",
                  "SaleCondition": "Normal",
                  "SalePrice": 143000,
                  "_deepnote_index_column": 5
                }
              ],
              "rows_bottom": [
                {
                  "Id": 1455,
                  "MSSubClass": 20,
                  "MSZoning": "FV",
                  "LotFrontage": 62,
                  "LotArea": 7500,
                  "Street": "Pave",
                  "Alley": "Pave",
                  "LotShape": "Reg",
                  "LandContour": "Lvl",
                  "Utilities": "AllPub",
                  "LotConfig": "Inside",
                  "LandSlope": "Gtl",
                  "Neighborhood": "Somerst",
                  "Condition1": "Norm",
                  "Condition2": "Norm",
                  "BldgType": "1Fam",
                  "HouseStyle": "1Story",
                  "OverallQual": 7,
                  "OverallCond": 5,
                  "YearBuilt": 2004,
                  "YearRemodAdd": 2005,
                  "RoofStyle": "Gable",
                  "RoofMatl": "CompShg",
                  "Exterior1st": "VinylSd",
                  "Exterior2nd": "VinylSd",
                  "MasVnrType": "None",
                  "MasVnrArea": 0,
                  "ExterQual": "Gd",
                  "ExterCond": "TA",
                  "Foundation": "PConc",
                  "BsmtQual": "Gd",
                  "BsmtCond": "TA",
                  "BsmtExposure": "No",
                  "BsmtFinType1": "GLQ",
                  "BsmtFinSF1": 410,
                  "BsmtFinType2": "Unf",
                  "BsmtFinSF2": 0,
                  "BsmtUnfSF": 811,
                  "TotalBsmtSF": 1221,
                  "Heating": "GasA",
                  "HeatingQC": "Ex",
                  "CentralAir": "Y",
                  "Electrical": "SBrkr",
                  "1stFlrSF": 1221,
                  "2ndFlrSF": 0,
                  "LowQualFinSF": 0,
                  "GrLivArea": 1221,
                  "BsmtFullBath": 1,
                  "BsmtHalfBath": 0,
                  "FullBath": 2,
                  "HalfBath": 0,
                  "BedroomAbvGr": 2,
                  "KitchenAbvGr": 1,
                  "KitchenQual": "Gd",
                  "TotRmsAbvGrd": 6,
                  "Functional": "Typ",
                  "Fireplaces": 0,
                  "FireplaceQu": "NoFP",
                  "GarageType": "Attchd",
                  "GarageYrBlt": 2004,
                  "GarageFinish": "RFn",
                  "GarageCars": 2,
                  "GarageArea": 400,
                  "GarageQual": "TA",
                  "GarageCond": "TA",
                  "PavedDrive": "Y",
                  "WoodDeckSF": 0,
                  "OpenPorchSF": 113,
                  "EnclosedPorch": 0,
                  "3SsnPorch": 0,
                  "ScreenPorch": 0,
                  "PoolArea": 0,
                  "PoolQC": "NoPool",
                  "Fence": "NoFence",
                  "MiscFeature": "NoMF",
                  "MiscVal": 0,
                  "MoSold": 10,
                  "SaleType": "WD",
                  "SaleCondition": "Normal",
                  "SalePrice": 185000,
                  "_deepnote_index_column": 1454
                },
                {
                  "Id": 1456,
                  "MSSubClass": 60,
                  "MSZoning": "RL",
                  "LotFrontage": 62,
                  "LotArea": 7917,
                  "Street": "Pave",
                  "Alley": "NoAlley",
                  "LotShape": "Reg",
                  "LandContour": "Lvl",
                  "Utilities": "AllPub",
                  "LotConfig": "Inside",
                  "LandSlope": "Gtl",
                  "Neighborhood": "Gilbert",
                  "Condition1": "Norm",
                  "Condition2": "Norm",
                  "BldgType": "1Fam",
                  "HouseStyle": "2Story",
                  "OverallQual": 6,
                  "OverallCond": 5,
                  "YearBuilt": 1999,
                  "YearRemodAdd": 2000,
                  "RoofStyle": "Gable",
                  "RoofMatl": "CompShg",
                  "Exterior1st": "VinylSd",
                  "Exterior2nd": "VinylSd",
                  "MasVnrType": "None",
                  "MasVnrArea": 0,
                  "ExterQual": "TA",
                  "ExterCond": "TA",
                  "Foundation": "PConc",
                  "BsmtQual": "Gd",
                  "BsmtCond": "TA",
                  "BsmtExposure": "No",
                  "BsmtFinType1": "Unf",
                  "BsmtFinSF1": 0,
                  "BsmtFinType2": "Unf",
                  "BsmtFinSF2": 0,
                  "BsmtUnfSF": 953,
                  "TotalBsmtSF": 953,
                  "Heating": "GasA",
                  "HeatingQC": "Ex",
                  "CentralAir": "Y",
                  "Electrical": "SBrkr",
                  "1stFlrSF": 953,
                  "2ndFlrSF": 694,
                  "LowQualFinSF": 0,
                  "GrLivArea": 1647,
                  "BsmtFullBath": 0,
                  "BsmtHalfBath": 0,
                  "FullBath": 2,
                  "HalfBath": 1,
                  "BedroomAbvGr": 3,
                  "KitchenAbvGr": 1,
                  "KitchenQual": "TA",
                  "TotRmsAbvGrd": 7,
                  "Functional": "Typ",
                  "Fireplaces": 1,
                  "FireplaceQu": "TA",
                  "GarageType": "Attchd",
                  "GarageYrBlt": 1999,
                  "GarageFinish": "RFn",
                  "GarageCars": 2,
                  "GarageArea": 460,
                  "GarageQual": "TA",
                  "GarageCond": "TA",
                  "PavedDrive": "Y",
                  "WoodDeckSF": 0,
                  "OpenPorchSF": 40,
                  "EnclosedPorch": 0,
                  "3SsnPorch": 0,
                  "ScreenPorch": 0,
                  "PoolArea": 0,
                  "PoolQC": "NoPool",
                  "Fence": "NoFence",
                  "MiscFeature": "NoMF",
                  "MiscVal": 0,
                  "MoSold": 8,
                  "SaleType": "WD",
                  "SaleCondition": "Normal",
                  "SalePrice": 175000,
                  "_deepnote_index_column": 1455
                },
                {
                  "Id": 1457,
                  "MSSubClass": 20,
                  "MSZoning": "RL",
                  "LotFrontage": 85,
                  "LotArea": 13175,
                  "Street": "Pave",
                  "Alley": "NoAlley",
                  "LotShape": "Reg",
                  "LandContour": "Lvl",
                  "Utilities": "AllPub",
                  "LotConfig": "Inside",
                  "LandSlope": "Gtl",
                  "Neighborhood": "NWAmes",
                  "Condition1": "Norm",
                  "Condition2": "Norm",
                  "BldgType": "1Fam",
                  "HouseStyle": "1Story",
                  "OverallQual": 6,
                  "OverallCond": 6,
                  "YearBuilt": 1978,
                  "YearRemodAdd": 1988,
                  "RoofStyle": "Gable",
                  "RoofMatl": "CompShg",
                  "Exterior1st": "Plywood",
                  "Exterior2nd": "Plywood",
                  "MasVnrType": "Stone",
                  "MasVnrArea": 119,
                  "ExterQual": "TA",
                  "ExterCond": "TA",
                  "Foundation": "CBlock",
                  "BsmtQual": "Gd",
                  "BsmtCond": "TA",
                  "BsmtExposure": "No",
                  "BsmtFinType1": "ALQ",
                  "BsmtFinSF1": 790,
                  "BsmtFinType2": "Rec",
                  "BsmtFinSF2": 163,
                  "BsmtUnfSF": 589,
                  "TotalBsmtSF": 1542,
                  "Heating": "GasA",
                  "HeatingQC": "TA",
                  "CentralAir": "Y",
                  "Electrical": "SBrkr",
                  "1stFlrSF": 2073,
                  "2ndFlrSF": 0,
                  "LowQualFinSF": 0,
                  "GrLivArea": 2073,
                  "BsmtFullBath": 1,
                  "BsmtHalfBath": 0,
                  "FullBath": 2,
                  "HalfBath": 0,
                  "BedroomAbvGr": 3,
                  "KitchenAbvGr": 1,
                  "KitchenQual": "TA",
                  "TotRmsAbvGrd": 7,
                  "Functional": "Min1",
                  "Fireplaces": 2,
                  "FireplaceQu": "TA",
                  "GarageType": "Attchd",
                  "GarageYrBlt": 1978,
                  "GarageFinish": "Unf",
                  "GarageCars": 2,
                  "GarageArea": 500,
                  "GarageQual": "TA",
                  "GarageCond": "TA",
                  "PavedDrive": "Y",
                  "WoodDeckSF": 349,
                  "OpenPorchSF": 0,
                  "EnclosedPorch": 0,
                  "3SsnPorch": 0,
                  "ScreenPorch": 0,
                  "PoolArea": 0,
                  "PoolQC": "NoPool",
                  "Fence": "MnPrv",
                  "MiscFeature": "NoMF",
                  "MiscVal": 0,
                  "MoSold": 2,
                  "SaleType": "WD",
                  "SaleCondition": "Normal",
                  "SalePrice": 210000,
                  "_deepnote_index_column": 1456
                },
                {
                  "Id": 1458,
                  "MSSubClass": 70,
                  "MSZoning": "RL",
                  "LotFrontage": 66,
                  "LotArea": 9042,
                  "Street": "Pave",
                  "Alley": "NoAlley",
                  "LotShape": "Reg",
                  "LandContour": "Lvl",
                  "Utilities": "AllPub",
                  "LotConfig": "Inside",
                  "LandSlope": "Gtl",
                  "Neighborhood": "Crawfor",
                  "Condition1": "Norm",
                  "Condition2": "Norm",
                  "BldgType": "1Fam",
                  "HouseStyle": "2Story",
                  "OverallQual": 7,
                  "OverallCond": 9,
                  "YearBuilt": 1941,
                  "YearRemodAdd": 2006,
                  "RoofStyle": "Gable",
                  "RoofMatl": "CompShg",
                  "Exterior1st": "CemntBd",
                  "Exterior2nd": "CmentBd",
                  "MasVnrType": "None",
                  "MasVnrArea": 0,
                  "ExterQual": "Ex",
                  "ExterCond": "Gd",
                  "Foundation": "Stone",
                  "BsmtQual": "TA",
                  "BsmtCond": "Gd",
                  "BsmtExposure": "No",
                  "BsmtFinType1": "GLQ",
                  "BsmtFinSF1": 275,
                  "BsmtFinType2": "Unf",
                  "BsmtFinSF2": 0,
                  "BsmtUnfSF": 877,
                  "TotalBsmtSF": 1152,
                  "Heating": "GasA",
                  "HeatingQC": "Ex",
                  "CentralAir": "Y",
                  "Electrical": "SBrkr",
                  "1stFlrSF": 1188,
                  "2ndFlrSF": 1152,
                  "LowQualFinSF": 0,
                  "GrLivArea": 2340,
                  "BsmtFullBath": 0,
                  "BsmtHalfBath": 0,
                  "FullBath": 2,
                  "HalfBath": 0,
                  "BedroomAbvGr": 4,
                  "KitchenAbvGr": 1,
                  "KitchenQual": "Gd",
                  "TotRmsAbvGrd": 9,
                  "Functional": "Typ",
                  "Fireplaces": 2,
                  "FireplaceQu": "Gd",
                  "GarageType": "Attchd",
                  "GarageYrBlt": 1941,
                  "GarageFinish": "RFn",
                  "GarageCars": 1,
                  "GarageArea": 252,
                  "GarageQual": "TA",
                  "GarageCond": "TA",
                  "PavedDrive": "Y",
                  "WoodDeckSF": 0,
                  "OpenPorchSF": 60,
                  "EnclosedPorch": 0,
                  "3SsnPorch": 0,
                  "ScreenPorch": 0,
                  "PoolArea": 0,
                  "PoolQC": "NoPool",
                  "Fence": "GdPrv",
                  "MiscFeature": "Shed",
                  "MiscVal": 2500,
                  "MoSold": 5,
                  "SaleType": "WD",
                  "SaleCondition": "Normal",
                  "SalePrice": 266500,
                  "_deepnote_index_column": 1457
                },
                {
                  "Id": 1459,
                  "MSSubClass": 20,
                  "MSZoning": "RL",
                  "LotFrontage": 68,
                  "LotArea": 9717,
                  "Street": "Pave",
                  "Alley": "NoAlley",
                  "LotShape": "Reg",
                  "LandContour": "Lvl",
                  "Utilities": "AllPub",
                  "LotConfig": "Inside",
                  "LandSlope": "Gtl",
                  "Neighborhood": "NAmes",
                  "Condition1": "Norm",
                  "Condition2": "Norm",
                  "BldgType": "1Fam",
                  "HouseStyle": "1Story",
                  "OverallQual": 5,
                  "OverallCond": 6,
                  "YearBuilt": 1950,
                  "YearRemodAdd": 1996,
                  "RoofStyle": "Hip",
                  "RoofMatl": "CompShg",
                  "Exterior1st": "MetalSd",
                  "Exterior2nd": "MetalSd",
                  "MasVnrType": "None",
                  "MasVnrArea": 0,
                  "ExterQual": "TA",
                  "ExterCond": "TA",
                  "Foundation": "CBlock",
                  "BsmtQual": "TA",
                  "BsmtCond": "TA",
                  "BsmtExposure": "Mn",
                  "BsmtFinType1": "GLQ",
                  "BsmtFinSF1": 49,
                  "BsmtFinType2": "Rec",
                  "BsmtFinSF2": 1029,
                  "BsmtUnfSF": 0,
                  "TotalBsmtSF": 1078,
                  "Heating": "GasA",
                  "HeatingQC": "Gd",
                  "CentralAir": "Y",
                  "Electrical": "FuseA",
                  "1stFlrSF": 1078,
                  "2ndFlrSF": 0,
                  "LowQualFinSF": 0,
                  "GrLivArea": 1078,
                  "BsmtFullBath": 1,
                  "BsmtHalfBath": 0,
                  "FullBath": 1,
                  "HalfBath": 0,
                  "BedroomAbvGr": 2,
                  "KitchenAbvGr": 1,
                  "KitchenQual": "Gd",
                  "TotRmsAbvGrd": 5,
                  "Functional": "Typ",
                  "Fireplaces": 0,
                  "FireplaceQu": "NoFP",
                  "GarageType": "Attchd",
                  "GarageYrBlt": 1950,
                  "GarageFinish": "Unf",
                  "GarageCars": 1,
                  "GarageArea": 240,
                  "GarageQual": "TA",
                  "GarageCond": "TA",
                  "PavedDrive": "Y",
                  "WoodDeckSF": 366,
                  "OpenPorchSF": 0,
                  "EnclosedPorch": 112,
                  "3SsnPorch": 0,
                  "ScreenPorch": 0,
                  "PoolArea": 0,
                  "PoolQC": "NoPool",
                  "Fence": "NoFence",
                  "MiscFeature": "NoMF",
                  "MiscVal": 0,
                  "MoSold": 4,
                  "SaleType": "WD",
                  "SaleCondition": "Normal",
                  "SalePrice": 142125,
                  "_deepnote_index_column": 1458
                },
                {
                  "Id": 1460,
                  "MSSubClass": 20,
                  "MSZoning": "RL",
                  "LotFrontage": 75,
                  "LotArea": 9937,
                  "Street": "Pave",
                  "Alley": "NoAlley",
                  "LotShape": "Reg",
                  "LandContour": "Lvl",
                  "Utilities": "AllPub",
                  "LotConfig": "Inside",
                  "LandSlope": "Gtl",
                  "Neighborhood": "Edwards",
                  "Condition1": "Norm",
                  "Condition2": "Norm",
                  "BldgType": "1Fam",
                  "HouseStyle": "1Story",
                  "OverallQual": 5,
                  "OverallCond": 6,
                  "YearBuilt": 1965,
                  "YearRemodAdd": 1965,
                  "RoofStyle": "Gable",
                  "RoofMatl": "CompShg",
                  "Exterior1st": "HdBoard",
                  "Exterior2nd": "HdBoard",
                  "MasVnrType": "None",
                  "MasVnrArea": 0,
                  "ExterQual": "Gd",
                  "ExterCond": "TA",
                  "Foundation": "CBlock",
                  "BsmtQual": "TA",
                  "BsmtCond": "TA",
                  "BsmtExposure": "No",
                  "BsmtFinType1": "BLQ",
                  "BsmtFinSF1": 830,
                  "BsmtFinType2": "LwQ",
                  "BsmtFinSF2": 290,
                  "BsmtUnfSF": 136,
                  "TotalBsmtSF": 1256,
                  "Heating": "GasA",
                  "HeatingQC": "Gd",
                  "CentralAir": "Y",
                  "Electrical": "SBrkr",
                  "1stFlrSF": 1256,
                  "2ndFlrSF": 0,
                  "LowQualFinSF": 0,
                  "GrLivArea": 1256,
                  "BsmtFullBath": 1,
                  "BsmtHalfBath": 0,
                  "FullBath": 1,
                  "HalfBath": 1,
                  "BedroomAbvGr": 3,
                  "KitchenAbvGr": 1,
                  "KitchenQual": "TA",
                  "TotRmsAbvGrd": 6,
                  "Functional": "Typ",
                  "Fireplaces": 0,
                  "FireplaceQu": "NoFP",
                  "GarageType": "Attchd",
                  "GarageYrBlt": 1965,
                  "GarageFinish": "Fin",
                  "GarageCars": 1,
                  "GarageArea": 276,
                  "GarageQual": "TA",
                  "GarageCond": "TA",
                  "PavedDrive": "Y",
                  "WoodDeckSF": 736,
                  "OpenPorchSF": 68,
                  "EnclosedPorch": 0,
                  "3SsnPorch": 0,
                  "ScreenPorch": 0,
                  "PoolArea": 0,
                  "PoolQC": "NoPool",
                  "Fence": "NoFence",
                  "MiscFeature": "NoMF",
                  "MiscVal": 0,
                  "MoSold": 6,
                  "SaleType": "WD",
                  "SaleCondition": "Normal",
                  "SalePrice": 147500,
                  "_deepnote_index_column": 1459
                }
              ]
            },
            "text/plain": "        Id  MSSubClass MSZoning  LotFrontage  LotArea Street    Alley  \\\n0        1          60       RL         65.0     8450   Pave  NoAlley   \n1        2          20       RL         80.0     9600   Pave  NoAlley   \n2        3          60       RL         68.0    11250   Pave  NoAlley   \n3        4          70       RL         60.0     9550   Pave  NoAlley   \n4        5          60       RL         84.0    14260   Pave  NoAlley   \n...    ...         ...      ...          ...      ...    ...      ...   \n1455  1456          60       RL         62.0     7917   Pave  NoAlley   \n1456  1457          20       RL         85.0    13175   Pave  NoAlley   \n1457  1458          70       RL         66.0     9042   Pave  NoAlley   \n1458  1459          20       RL         68.0     9717   Pave  NoAlley   \n1459  1460          20       RL         75.0     9937   Pave  NoAlley   \n\n     LotShape LandContour Utilities  ... ScreenPorch PoolArea  PoolQC  \\\n0         Reg         Lvl    AllPub  ...           0        0  NoPool   \n1         Reg         Lvl    AllPub  ...           0        0  NoPool   \n2         IR1         Lvl    AllPub  ...           0        0  NoPool   \n3         IR1         Lvl    AllPub  ...           0        0  NoPool   \n4         IR1         Lvl    AllPub  ...           0        0  NoPool   \n...       ...         ...       ...  ...         ...      ...     ...   \n1455      Reg         Lvl    AllPub  ...           0        0  NoPool   \n1456      Reg         Lvl    AllPub  ...           0        0  NoPool   \n1457      Reg         Lvl    AllPub  ...           0        0  NoPool   \n1458      Reg         Lvl    AllPub  ...           0        0  NoPool   \n1459      Reg         Lvl    AllPub  ...           0        0  NoPool   \n\n        Fence MiscFeature MiscVal MoSold  SaleType  SaleCondition  SalePrice  \n0     NoFence        NoMF       0      2        WD         Normal     208500  \n1     NoFence        NoMF       0      5        WD         Normal     181500  \n2     NoFence        NoMF       0      9        WD         Normal     223500  \n3     NoFence        NoMF       0      2        WD        Abnorml     140000  \n4     NoFence        NoMF       0     12        WD         Normal     250000  \n...       ...         ...     ...    ...       ...            ...        ...  \n1455  NoFence        NoMF       0      8        WD         Normal     175000  \n1456    MnPrv        NoMF       0      2        WD         Normal     210000  \n1457    GdPrv        Shed    2500      5        WD         Normal     266500  \n1458  NoFence        NoMF       0      4        WD         Normal     142125  \n1459  NoFence        NoMF       0      6        WD         Normal     147500  \n\n[1460 rows x 80 columns]",
            "text/html": "<div>\n<style scoped>\n    .dataframe tbody tr th:only-of-type {\n        vertical-align: middle;\n    }\n\n    .dataframe tbody tr th {\n        vertical-align: top;\n    }\n\n    .dataframe thead th {\n        text-align: right;\n    }\n</style>\n<table border=\"1\" class=\"dataframe\">\n  <thead>\n    <tr style=\"text-align: right;\">\n      <th></th>\n      <th>Id</th>\n      <th>MSSubClass</th>\n      <th>MSZoning</th>\n      <th>LotFrontage</th>\n      <th>LotArea</th>\n      <th>Street</th>\n      <th>Alley</th>\n      <th>LotShape</th>\n      <th>LandContour</th>\n      <th>Utilities</th>\n      <th>...</th>\n      <th>ScreenPorch</th>\n      <th>PoolArea</th>\n      <th>PoolQC</th>\n      <th>Fence</th>\n      <th>MiscFeature</th>\n      <th>MiscVal</th>\n      <th>MoSold</th>\n      <th>SaleType</th>\n      <th>SaleCondition</th>\n      <th>SalePrice</th>\n    </tr>\n  </thead>\n  <tbody>\n    <tr>\n      <th>0</th>\n      <td>1</td>\n      <td>60</td>\n      <td>RL</td>\n      <td>65.0</td>\n      <td>8450</td>\n      <td>Pave</td>\n      <td>NoAlley</td>\n      <td>Reg</td>\n      <td>Lvl</td>\n      <td>AllPub</td>\n      <td>...</td>\n      <td>0</td>\n      <td>0</td>\n      <td>NoPool</td>\n      <td>NoFence</td>\n      <td>NoMF</td>\n      <td>0</td>\n      <td>2</td>\n      <td>WD</td>\n      <td>Normal</td>\n      <td>208500</td>\n    </tr>\n    <tr>\n      <th>1</th>\n      <td>2</td>\n      <td>20</td>\n      <td>RL</td>\n      <td>80.0</td>\n      <td>9600</td>\n      <td>Pave</td>\n      <td>NoAlley</td>\n      <td>Reg</td>\n      <td>Lvl</td>\n      <td>AllPub</td>\n      <td>...</td>\n      <td>0</td>\n      <td>0</td>\n      <td>NoPool</td>\n      <td>NoFence</td>\n      <td>NoMF</td>\n      <td>0</td>\n      <td>5</td>\n      <td>WD</td>\n      <td>Normal</td>\n      <td>181500</td>\n    </tr>\n    <tr>\n      <th>2</th>\n      <td>3</td>\n      <td>60</td>\n      <td>RL</td>\n      <td>68.0</td>\n      <td>11250</td>\n      <td>Pave</td>\n      <td>NoAlley</td>\n      <td>IR1</td>\n      <td>Lvl</td>\n      <td>AllPub</td>\n      <td>...</td>\n      <td>0</td>\n      <td>0</td>\n      <td>NoPool</td>\n      <td>NoFence</td>\n      <td>NoMF</td>\n      <td>0</td>\n      <td>9</td>\n      <td>WD</td>\n      <td>Normal</td>\n      <td>223500</td>\n    </tr>\n    <tr>\n      <th>3</th>\n      <td>4</td>\n      <td>70</td>\n      <td>RL</td>\n      <td>60.0</td>\n      <td>9550</td>\n      <td>Pave</td>\n      <td>NoAlley</td>\n      <td>IR1</td>\n      <td>Lvl</td>\n      <td>AllPub</td>\n      <td>...</td>\n      <td>0</td>\n      <td>0</td>\n      <td>NoPool</td>\n      <td>NoFence</td>\n      <td>NoMF</td>\n      <td>0</td>\n      <td>2</td>\n      <td>WD</td>\n      <td>Abnorml</td>\n      <td>140000</td>\n    </tr>\n    <tr>\n      <th>4</th>\n      <td>5</td>\n      <td>60</td>\n      <td>RL</td>\n      <td>84.0</td>\n      <td>14260</td>\n      <td>Pave</td>\n      <td>NoAlley</td>\n      <td>IR1</td>\n      <td>Lvl</td>\n      <td>AllPub</td>\n      <td>...</td>\n      <td>0</td>\n      <td>0</td>\n      <td>NoPool</td>\n      <td>NoFence</td>\n      <td>NoMF</td>\n      <td>0</td>\n      <td>12</td>\n      <td>WD</td>\n      <td>Normal</td>\n      <td>250000</td>\n    </tr>\n    <tr>\n      <th>...</th>\n      <td>...</td>\n      <td>...</td>\n      <td>...</td>\n      <td>...</td>\n      <td>...</td>\n      <td>...</td>\n      <td>...</td>\n      <td>...</td>\n      <td>...</td>\n      <td>...</td>\n      <td>...</td>\n      <td>...</td>\n      <td>...</td>\n      <td>...</td>\n      <td>...</td>\n      <td>...</td>\n      <td>...</td>\n      <td>...</td>\n      <td>...</td>\n      <td>...</td>\n      <td>...</td>\n    </tr>\n    <tr>\n      <th>1455</th>\n      <td>1456</td>\n      <td>60</td>\n      <td>RL</td>\n      <td>62.0</td>\n      <td>7917</td>\n      <td>Pave</td>\n      <td>NoAlley</td>\n      <td>Reg</td>\n      <td>Lvl</td>\n      <td>AllPub</td>\n      <td>...</td>\n      <td>0</td>\n      <td>0</td>\n      <td>NoPool</td>\n      <td>NoFence</td>\n      <td>NoMF</td>\n      <td>0</td>\n      <td>8</td>\n      <td>WD</td>\n      <td>Normal</td>\n      <td>175000</td>\n    </tr>\n    <tr>\n      <th>1456</th>\n      <td>1457</td>\n      <td>20</td>\n      <td>RL</td>\n      <td>85.0</td>\n      <td>13175</td>\n      <td>Pave</td>\n      <td>NoAlley</td>\n      <td>Reg</td>\n      <td>Lvl</td>\n      <td>AllPub</td>\n      <td>...</td>\n      <td>0</td>\n      <td>0</td>\n      <td>NoPool</td>\n      <td>MnPrv</td>\n      <td>NoMF</td>\n      <td>0</td>\n      <td>2</td>\n      <td>WD</td>\n      <td>Normal</td>\n      <td>210000</td>\n    </tr>\n    <tr>\n      <th>1457</th>\n      <td>1458</td>\n      <td>70</td>\n      <td>RL</td>\n      <td>66.0</td>\n      <td>9042</td>\n      <td>Pave</td>\n      <td>NoAlley</td>\n      <td>Reg</td>\n      <td>Lvl</td>\n      <td>AllPub</td>\n      <td>...</td>\n      <td>0</td>\n      <td>0</td>\n      <td>NoPool</td>\n      <td>GdPrv</td>\n      <td>Shed</td>\n      <td>2500</td>\n      <td>5</td>\n      <td>WD</td>\n      <td>Normal</td>\n      <td>266500</td>\n    </tr>\n    <tr>\n      <th>1458</th>\n      <td>1459</td>\n      <td>20</td>\n      <td>RL</td>\n      <td>68.0</td>\n      <td>9717</td>\n      <td>Pave</td>\n      <td>NoAlley</td>\n      <td>Reg</td>\n      <td>Lvl</td>\n      <td>AllPub</td>\n      <td>...</td>\n      <td>0</td>\n      <td>0</td>\n      <td>NoPool</td>\n      <td>NoFence</td>\n      <td>NoMF</td>\n      <td>0</td>\n      <td>4</td>\n      <td>WD</td>\n      <td>Normal</td>\n      <td>142125</td>\n    </tr>\n    <tr>\n      <th>1459</th>\n      <td>1460</td>\n      <td>20</td>\n      <td>RL</td>\n      <td>75.0</td>\n      <td>9937</td>\n      <td>Pave</td>\n      <td>NoAlley</td>\n      <td>Reg</td>\n      <td>Lvl</td>\n      <td>AllPub</td>\n      <td>...</td>\n      <td>0</td>\n      <td>0</td>\n      <td>NoPool</td>\n      <td>NoFence</td>\n      <td>NoMF</td>\n      <td>0</td>\n      <td>6</td>\n      <td>WD</td>\n      <td>Normal</td>\n      <td>147500</td>\n    </tr>\n  </tbody>\n</table>\n<p>1460 rows × 80 columns</p>\n</div>"
          },
          "metadata": {}
        }
      ]
    },
    {
      "cell_type": "code",
      "metadata": {
        "tags": [],
        "cell_id": "00004-14f21973-7833-49d7-b9ab-27c10efa72aa",
        "deepnote_to_be_reexecuted": false,
        "source_hash": "a3e15eab",
        "execution_millis": 4,
        "execution_start": 1618938405280,
        "deepnote_cell_type": "code"
      },
      "source": "df_c = df_c.dropna()",
      "execution_count": 6,
      "outputs": []
    },
    {
      "cell_type": "code",
      "metadata": {
        "tags": [],
        "cell_id": "00003-bb4dee32-882b-4701-ae1d-9d1fb78bda7e",
        "deepnote_to_be_reexecuted": false,
        "source_hash": "d3e85547",
        "execution_millis": 58,
        "execution_start": 1618938405285,
        "deepnote_cell_type": "code"
      },
      "source": "df_ch = pd.get_dummies(df_c)\ndf_ch = pd.get_dummies(df_ch, columns=[\"MSSubClass\",\"OverallQual\", \"OverallCond\", \"YearBuilt\", \"YearRemodAdd\", \"MoSold\"])",
      "execution_count": 7,
      "outputs": []
    },
    {
      "cell_type": "code",
      "metadata": {
        "tags": [],
        "cell_id": "00007-9b0433ec-38b3-46ae-9448-97ad3e1e5bc5",
        "deepnote_to_be_reexecuted": false,
        "source_hash": "179bd178",
        "execution_millis": 337,
        "execution_start": 1618938405343,
        "deepnote_cell_type": "code"
      },
      "source": "df_ch",
      "execution_count": 8,
      "outputs": [
        {
          "output_type": "execute_result",
          "execution_count": 8,
          "data": {
            "application/vnd.deepnote.dataframe.v2+json": {
              "row_count": 1452,
              "column_count": 614,
              "columns": [
                {
                  "name": "Id",
                  "dtype": "int64",
                  "stats": {
                    "unique_count": 1452,
                    "nan_count": 0,
                    "min": "1",
                    "max": "1460",
                    "histogram": [
                      {
                        "bin_start": 1,
                        "bin_end": 146.9,
                        "count": 146
                      },
                      {
                        "bin_start": 146.9,
                        "bin_end": 292.8,
                        "count": 145
                      },
                      {
                        "bin_start": 292.8,
                        "bin_end": 438.70000000000005,
                        "count": 146
                      },
                      {
                        "bin_start": 438.70000000000005,
                        "bin_end": 584.6,
                        "count": 145
                      },
                      {
                        "bin_start": 584.6,
                        "bin_end": 730.5,
                        "count": 145
                      },
                      {
                        "bin_start": 730.5,
                        "bin_end": 876.4000000000001,
                        "count": 146
                      },
                      {
                        "bin_start": 876.4000000000001,
                        "bin_end": 1022.3000000000001,
                        "count": 143
                      },
                      {
                        "bin_start": 1022.3000000000001,
                        "bin_end": 1168.2,
                        "count": 146
                      },
                      {
                        "bin_start": 1168.2,
                        "bin_end": 1314.1000000000001,
                        "count": 144
                      },
                      {
                        "bin_start": 1314.1000000000001,
                        "bin_end": 1460,
                        "count": 146
                      }
                    ]
                  }
                },
                {
                  "name": "LotFrontage",
                  "dtype": "float64",
                  "stats": {
                    "unique_count": 111,
                    "nan_count": 0,
                    "min": "0.0",
                    "max": "313.0",
                    "histogram": [
                      {
                        "bin_start": 0,
                        "bin_end": 31.3,
                        "count": 305
                      },
                      {
                        "bin_start": 31.3,
                        "bin_end": 62.6,
                        "count": 415
                      },
                      {
                        "bin_start": 62.6,
                        "bin_end": 93.9,
                        "count": 600
                      },
                      {
                        "bin_start": 93.9,
                        "bin_end": 125.2,
                        "count": 108
                      },
                      {
                        "bin_start": 125.2,
                        "bin_end": 156.5,
                        "count": 17
                      },
                      {
                        "bin_start": 156.5,
                        "bin_end": 187.8,
                        "count": 5
                      },
                      {
                        "bin_start": 187.8,
                        "bin_end": 219.1,
                        "count": 0
                      },
                      {
                        "bin_start": 219.1,
                        "bin_end": 250.4,
                        "count": 0
                      },
                      {
                        "bin_start": 250.4,
                        "bin_end": 281.7,
                        "count": 0
                      },
                      {
                        "bin_start": 281.7,
                        "bin_end": 313,
                        "count": 2
                      }
                    ]
                  }
                },
                {
                  "name": "LotArea",
                  "dtype": "int64",
                  "stats": {
                    "unique_count": 1067,
                    "nan_count": 0,
                    "min": "1300",
                    "max": "215245",
                    "histogram": [
                      {
                        "bin_start": 1300,
                        "bin_end": 22694.5,
                        "count": 1416
                      },
                      {
                        "bin_start": 22694.5,
                        "bin_end": 44089,
                        "count": 23
                      },
                      {
                        "bin_start": 44089,
                        "bin_end": 65483.5,
                        "count": 8
                      },
                      {
                        "bin_start": 65483.5,
                        "bin_end": 86878,
                        "count": 1
                      },
                      {
                        "bin_start": 86878,
                        "bin_end": 108272.5,
                        "count": 0
                      },
                      {
                        "bin_start": 108272.5,
                        "bin_end": 129667,
                        "count": 1
                      },
                      {
                        "bin_start": 129667,
                        "bin_end": 151061.5,
                        "count": 0
                      },
                      {
                        "bin_start": 151061.5,
                        "bin_end": 172456,
                        "count": 2
                      },
                      {
                        "bin_start": 172456,
                        "bin_end": 193850.5,
                        "count": 0
                      },
                      {
                        "bin_start": 193850.5,
                        "bin_end": 215245,
                        "count": 1
                      }
                    ]
                  }
                },
                {
                  "name": "MasVnrArea",
                  "dtype": "float64",
                  "stats": {
                    "unique_count": 327,
                    "nan_count": 0,
                    "min": "0.0",
                    "max": "1600.0",
                    "histogram": [
                      {
                        "bin_start": 0,
                        "bin_end": 160,
                        "count": 1077
                      },
                      {
                        "bin_start": 160,
                        "bin_end": 320,
                        "count": 219
                      },
                      {
                        "bin_start": 320,
                        "bin_end": 480,
                        "count": 94
                      },
                      {
                        "bin_start": 480,
                        "bin_end": 640,
                        "count": 29
                      },
                      {
                        "bin_start": 640,
                        "bin_end": 800,
                        "count": 19
                      },
                      {
                        "bin_start": 800,
                        "bin_end": 960,
                        "count": 6
                      },
                      {
                        "bin_start": 960,
                        "bin_end": 1120,
                        "count": 4
                      },
                      {
                        "bin_start": 1120,
                        "bin_end": 1280,
                        "count": 2
                      },
                      {
                        "bin_start": 1280,
                        "bin_end": 1440,
                        "count": 1
                      },
                      {
                        "bin_start": 1440,
                        "bin_end": 1600,
                        "count": 1
                      }
                    ]
                  }
                },
                {
                  "name": "BsmtFinSF1",
                  "dtype": "int64",
                  "stats": {
                    "unique_count": 633,
                    "nan_count": 0,
                    "min": "0",
                    "max": "5644",
                    "histogram": [
                      {
                        "bin_start": 0,
                        "bin_end": 564.4,
                        "count": 917
                      },
                      {
                        "bin_start": 564.4,
                        "bin_end": 1128.8,
                        "count": 413
                      },
                      {
                        "bin_start": 1128.8,
                        "bin_end": 1693.1999999999998,
                        "count": 112
                      },
                      {
                        "bin_start": 1693.1999999999998,
                        "bin_end": 2257.6,
                        "count": 8
                      },
                      {
                        "bin_start": 2257.6,
                        "bin_end": 2822,
                        "count": 1
                      },
                      {
                        "bin_start": 2822,
                        "bin_end": 3386.3999999999996,
                        "count": 0
                      },
                      {
                        "bin_start": 3386.3999999999996,
                        "bin_end": 3950.7999999999997,
                        "count": 0
                      },
                      {
                        "bin_start": 3950.7999999999997,
                        "bin_end": 4515.2,
                        "count": 0
                      },
                      {
                        "bin_start": 4515.2,
                        "bin_end": 5079.599999999999,
                        "count": 0
                      },
                      {
                        "bin_start": 5079.599999999999,
                        "bin_end": 5644,
                        "count": 1
                      }
                    ]
                  }
                },
                {
                  "name": "BsmtFinSF2",
                  "dtype": "int64",
                  "stats": {
                    "unique_count": 144,
                    "nan_count": 0,
                    "min": "0",
                    "max": "1474",
                    "histogram": [
                      {
                        "bin_start": 0,
                        "bin_end": 147.4,
                        "count": 1317
                      },
                      {
                        "bin_start": 147.4,
                        "bin_end": 294.8,
                        "count": 43
                      },
                      {
                        "bin_start": 294.8,
                        "bin_end": 442.20000000000005,
                        "count": 25
                      },
                      {
                        "bin_start": 442.20000000000005,
                        "bin_end": 589.6,
                        "count": 28
                      },
                      {
                        "bin_start": 589.6,
                        "bin_end": 737,
                        "count": 19
                      },
                      {
                        "bin_start": 737,
                        "bin_end": 884.4000000000001,
                        "count": 8
                      },
                      {
                        "bin_start": 884.4000000000001,
                        "bin_end": 1031.8,
                        "count": 4
                      },
                      {
                        "bin_start": 1031.8,
                        "bin_end": 1179.2,
                        "count": 7
                      },
                      {
                        "bin_start": 1179.2,
                        "bin_end": 1326.6000000000001,
                        "count": 0
                      },
                      {
                        "bin_start": 1326.6000000000001,
                        "bin_end": 1474,
                        "count": 1
                      }
                    ]
                  }
                },
                {
                  "name": "BsmtUnfSF",
                  "dtype": "int64",
                  "stats": {
                    "unique_count": 777,
                    "nan_count": 0,
                    "min": "0",
                    "max": "2336",
                    "histogram": [
                      {
                        "bin_start": 0,
                        "bin_end": 233.6,
                        "count": 374
                      },
                      {
                        "bin_start": 233.6,
                        "bin_end": 467.2,
                        "count": 343
                      },
                      {
                        "bin_start": 467.2,
                        "bin_end": 700.8,
                        "count": 255
                      },
                      {
                        "bin_start": 700.8,
                        "bin_end": 934.4,
                        "count": 214
                      },
                      {
                        "bin_start": 934.4,
                        "bin_end": 1168,
                        "count": 106
                      },
                      {
                        "bin_start": 1168,
                        "bin_end": 1401.6,
                        "count": 72
                      },
                      {
                        "bin_start": 1401.6,
                        "bin_end": 1635.2,
                        "count": 52
                      },
                      {
                        "bin_start": 1635.2,
                        "bin_end": 1868.8,
                        "count": 24
                      },
                      {
                        "bin_start": 1868.8,
                        "bin_end": 2102.4,
                        "count": 9
                      },
                      {
                        "bin_start": 2102.4,
                        "bin_end": 2336,
                        "count": 3
                      }
                    ]
                  }
                },
                {
                  "name": "TotalBsmtSF",
                  "dtype": "int64",
                  "stats": {
                    "unique_count": 717,
                    "nan_count": 0,
                    "min": "0",
                    "max": "6110",
                    "histogram": [
                      {
                        "bin_start": 0,
                        "bin_end": 611,
                        "count": 121
                      },
                      {
                        "bin_start": 611,
                        "bin_end": 1222,
                        "count": 903
                      },
                      {
                        "bin_start": 1222,
                        "bin_end": 1833,
                        "count": 370
                      },
                      {
                        "bin_start": 1833,
                        "bin_end": 2444,
                        "count": 50
                      },
                      {
                        "bin_start": 2444,
                        "bin_end": 3055,
                        "count": 3
                      },
                      {
                        "bin_start": 3055,
                        "bin_end": 3666,
                        "count": 4
                      },
                      {
                        "bin_start": 3666,
                        "bin_end": 4277,
                        "count": 0
                      },
                      {
                        "bin_start": 4277,
                        "bin_end": 4888,
                        "count": 0
                      },
                      {
                        "bin_start": 4888,
                        "bin_end": 5499,
                        "count": 0
                      },
                      {
                        "bin_start": 5499,
                        "bin_end": 6110,
                        "count": 1
                      }
                    ]
                  }
                },
                {
                  "name": "1stFlrSF",
                  "dtype": "int64",
                  "stats": {
                    "unique_count": 749,
                    "nan_count": 0,
                    "min": "334",
                    "max": "4692",
                    "histogram": [
                      {
                        "bin_start": 334,
                        "bin_end": 769.8,
                        "count": 165
                      },
                      {
                        "bin_start": 769.8,
                        "bin_end": 1205.6,
                        "count": 731
                      },
                      {
                        "bin_start": 1205.6,
                        "bin_end": 1641.4,
                        "count": 383
                      },
                      {
                        "bin_start": 1641.4,
                        "bin_end": 2077.2,
                        "count": 146
                      },
                      {
                        "bin_start": 2077.2,
                        "bin_end": 2513,
                        "count": 21
                      },
                      {
                        "bin_start": 2513,
                        "bin_end": 2948.8,
                        "count": 3
                      },
                      {
                        "bin_start": 2948.8,
                        "bin_end": 3384.6,
                        "count": 2
                      },
                      {
                        "bin_start": 3384.6,
                        "bin_end": 3820.4,
                        "count": 0
                      },
                      {
                        "bin_start": 3820.4,
                        "bin_end": 4256.200000000001,
                        "count": 0
                      },
                      {
                        "bin_start": 4256.200000000001,
                        "bin_end": 4692,
                        "count": 1
                      }
                    ]
                  }
                },
                {
                  "name": "2ndFlrSF",
                  "dtype": "int64",
                  "stats": {
                    "unique_count": 414,
                    "nan_count": 0,
                    "min": "0",
                    "max": "2065",
                    "histogram": [
                      {
                        "bin_start": 0,
                        "bin_end": 206.5,
                        "count": 827
                      },
                      {
                        "bin_start": 206.5,
                        "bin_end": 413,
                        "count": 32
                      },
                      {
                        "bin_start": 413,
                        "bin_end": 619.5,
                        "count": 118
                      },
                      {
                        "bin_start": 619.5,
                        "bin_end": 826,
                        "count": 209
                      },
                      {
                        "bin_start": 826,
                        "bin_end": 1032.5,
                        "count": 152
                      },
                      {
                        "bin_start": 1032.5,
                        "bin_end": 1239,
                        "count": 68
                      },
                      {
                        "bin_start": 1239,
                        "bin_end": 1445.5,
                        "count": 34
                      },
                      {
                        "bin_start": 1445.5,
                        "bin_end": 1652,
                        "count": 8
                      },
                      {
                        "bin_start": 1652,
                        "bin_end": 1858.5,
                        "count": 2
                      },
                      {
                        "bin_start": 1858.5,
                        "bin_end": 2065,
                        "count": 2
                      }
                    ]
                  }
                },
                {
                  "name": "LowQualFinSF",
                  "dtype": "int64",
                  "stats": {
                    "unique_count": 24,
                    "nan_count": 0,
                    "min": "0",
                    "max": "572",
                    "histogram": [
                      {
                        "bin_start": 0,
                        "bin_end": 57.2,
                        "count": 1427
                      },
                      {
                        "bin_start": 57.2,
                        "bin_end": 114.4,
                        "count": 3
                      },
                      {
                        "bin_start": 114.4,
                        "bin_end": 171.60000000000002,
                        "count": 3
                      },
                      {
                        "bin_start": 171.60000000000002,
                        "bin_end": 228.8,
                        "count": 1
                      },
                      {
                        "bin_start": 228.8,
                        "bin_end": 286,
                        "count": 2
                      },
                      {
                        "bin_start": 286,
                        "bin_end": 343.20000000000005,
                        "count": 0
                      },
                      {
                        "bin_start": 343.20000000000005,
                        "bin_end": 400.40000000000003,
                        "count": 7
                      },
                      {
                        "bin_start": 400.40000000000003,
                        "bin_end": 457.6,
                        "count": 1
                      },
                      {
                        "bin_start": 457.6,
                        "bin_end": 514.8000000000001,
                        "count": 5
                      },
                      {
                        "bin_start": 514.8000000000001,
                        "bin_end": 572,
                        "count": 3
                      }
                    ]
                  }
                },
                {
                  "name": "GrLivArea",
                  "dtype": "int64",
                  "stats": {
                    "unique_count": 858,
                    "nan_count": 0,
                    "min": "334",
                    "max": "5642",
                    "histogram": [
                      {
                        "bin_start": 334,
                        "bin_end": 864.8,
                        "count": 107
                      },
                      {
                        "bin_start": 864.8,
                        "bin_end": 1395.6,
                        "count": 552
                      },
                      {
                        "bin_start": 1395.6,
                        "bin_end": 1926.3999999999999,
                        "count": 533
                      },
                      {
                        "bin_start": 1926.3999999999999,
                        "bin_end": 2457.2,
                        "count": 186
                      },
                      {
                        "bin_start": 2457.2,
                        "bin_end": 2988,
                        "count": 56
                      },
                      {
                        "bin_start": 2988,
                        "bin_end": 3518.7999999999997,
                        "count": 12
                      },
                      {
                        "bin_start": 3518.7999999999997,
                        "bin_end": 4049.5999999999995,
                        "count": 2
                      },
                      {
                        "bin_start": 4049.5999999999995,
                        "bin_end": 4580.4,
                        "count": 2
                      },
                      {
                        "bin_start": 4580.4,
                        "bin_end": 5111.2,
                        "count": 1
                      },
                      {
                        "bin_start": 5111.2,
                        "bin_end": 5642,
                        "count": 1
                      }
                    ]
                  }
                },
                {
                  "name": "BsmtFullBath",
                  "dtype": "int64",
                  "stats": {
                    "unique_count": 4,
                    "nan_count": 0,
                    "min": "0",
                    "max": "3",
                    "histogram": [
                      {
                        "bin_start": 0,
                        "bin_end": 0.3,
                        "count": 854
                      },
                      {
                        "bin_start": 0.3,
                        "bin_end": 0.6,
                        "count": 0
                      },
                      {
                        "bin_start": 0.6,
                        "bin_end": 0.8999999999999999,
                        "count": 0
                      },
                      {
                        "bin_start": 0.8999999999999999,
                        "bin_end": 1.2,
                        "count": 582
                      },
                      {
                        "bin_start": 1.2,
                        "bin_end": 1.5,
                        "count": 0
                      },
                      {
                        "bin_start": 1.5,
                        "bin_end": 1.7999999999999998,
                        "count": 0
                      },
                      {
                        "bin_start": 1.7999999999999998,
                        "bin_end": 2.1,
                        "count": 15
                      },
                      {
                        "bin_start": 2.1,
                        "bin_end": 2.4,
                        "count": 0
                      },
                      {
                        "bin_start": 2.4,
                        "bin_end": 2.6999999999999997,
                        "count": 0
                      },
                      {
                        "bin_start": 2.6999999999999997,
                        "bin_end": 3,
                        "count": 1
                      }
                    ]
                  }
                },
                {
                  "name": "BsmtHalfBath",
                  "dtype": "int64",
                  "stats": {
                    "unique_count": 3,
                    "nan_count": 0,
                    "min": "0",
                    "max": "2",
                    "histogram": [
                      {
                        "bin_start": 0,
                        "bin_end": 0.2,
                        "count": 1370
                      },
                      {
                        "bin_start": 0.2,
                        "bin_end": 0.4,
                        "count": 0
                      },
                      {
                        "bin_start": 0.4,
                        "bin_end": 0.6000000000000001,
                        "count": 0
                      },
                      {
                        "bin_start": 0.6000000000000001,
                        "bin_end": 0.8,
                        "count": 0
                      },
                      {
                        "bin_start": 0.8,
                        "bin_end": 1,
                        "count": 0
                      },
                      {
                        "bin_start": 1,
                        "bin_end": 1.2000000000000002,
                        "count": 80
                      },
                      {
                        "bin_start": 1.2000000000000002,
                        "bin_end": 1.4000000000000001,
                        "count": 0
                      },
                      {
                        "bin_start": 1.4000000000000001,
                        "bin_end": 1.6,
                        "count": 0
                      },
                      {
                        "bin_start": 1.6,
                        "bin_end": 1.8,
                        "count": 0
                      },
                      {
                        "bin_start": 1.8,
                        "bin_end": 2,
                        "count": 2
                      }
                    ]
                  }
                },
                {
                  "name": "FullBath",
                  "dtype": "int64",
                  "stats": {
                    "unique_count": 4,
                    "nan_count": 0,
                    "min": "0",
                    "max": "3",
                    "histogram": [
                      {
                        "bin_start": 0,
                        "bin_end": 0.3,
                        "count": 9
                      },
                      {
                        "bin_start": 0.3,
                        "bin_end": 0.6,
                        "count": 0
                      },
                      {
                        "bin_start": 0.6,
                        "bin_end": 0.8999999999999999,
                        "count": 0
                      },
                      {
                        "bin_start": 0.8999999999999999,
                        "bin_end": 1.2,
                        "count": 649
                      },
                      {
                        "bin_start": 1.2,
                        "bin_end": 1.5,
                        "count": 0
                      },
                      {
                        "bin_start": 1.5,
                        "bin_end": 1.7999999999999998,
                        "count": 0
                      },
                      {
                        "bin_start": 1.7999999999999998,
                        "bin_end": 2.1,
                        "count": 762
                      },
                      {
                        "bin_start": 2.1,
                        "bin_end": 2.4,
                        "count": 0
                      },
                      {
                        "bin_start": 2.4,
                        "bin_end": 2.6999999999999997,
                        "count": 0
                      },
                      {
                        "bin_start": 2.6999999999999997,
                        "bin_end": 3,
                        "count": 32
                      }
                    ]
                  }
                },
                {
                  "name": "HalfBath",
                  "dtype": "int64",
                  "stats": {
                    "unique_count": 3,
                    "nan_count": 0,
                    "min": "0",
                    "max": "2",
                    "histogram": [
                      {
                        "bin_start": 0,
                        "bin_end": 0.2,
                        "count": 910
                      },
                      {
                        "bin_start": 0.2,
                        "bin_end": 0.4,
                        "count": 0
                      },
                      {
                        "bin_start": 0.4,
                        "bin_end": 0.6000000000000001,
                        "count": 0
                      },
                      {
                        "bin_start": 0.6000000000000001,
                        "bin_end": 0.8,
                        "count": 0
                      },
                      {
                        "bin_start": 0.8,
                        "bin_end": 1,
                        "count": 0
                      },
                      {
                        "bin_start": 1,
                        "bin_end": 1.2000000000000002,
                        "count": 530
                      },
                      {
                        "bin_start": 1.2000000000000002,
                        "bin_end": 1.4000000000000001,
                        "count": 0
                      },
                      {
                        "bin_start": 1.4000000000000001,
                        "bin_end": 1.6,
                        "count": 0
                      },
                      {
                        "bin_start": 1.6,
                        "bin_end": 1.8,
                        "count": 0
                      },
                      {
                        "bin_start": 1.8,
                        "bin_end": 2,
                        "count": 12
                      }
                    ]
                  }
                },
                {
                  "name": "BedroomAbvGr",
                  "dtype": "int64",
                  "stats": {
                    "unique_count": 8,
                    "nan_count": 0,
                    "min": "0",
                    "max": "8",
                    "histogram": [
                      {
                        "bin_start": 0,
                        "bin_end": 0.8,
                        "count": 6
                      },
                      {
                        "bin_start": 0.8,
                        "bin_end": 1.6,
                        "count": 49
                      },
                      {
                        "bin_start": 1.6,
                        "bin_end": 2.4000000000000004,
                        "count": 356
                      },
                      {
                        "bin_start": 2.4000000000000004,
                        "bin_end": 3.2,
                        "count": 801
                      },
                      {
                        "bin_start": 3.2,
                        "bin_end": 4,
                        "count": 0
                      },
                      {
                        "bin_start": 4,
                        "bin_end": 4.800000000000001,
                        "count": 211
                      },
                      {
                        "bin_start": 4.800000000000001,
                        "bin_end": 5.6000000000000005,
                        "count": 21
                      },
                      {
                        "bin_start": 5.6000000000000005,
                        "bin_end": 6.4,
                        "count": 7
                      },
                      {
                        "bin_start": 6.4,
                        "bin_end": 7.2,
                        "count": 0
                      },
                      {
                        "bin_start": 7.2,
                        "bin_end": 8,
                        "count": 1
                      }
                    ]
                  }
                },
                {
                  "name": "KitchenAbvGr",
                  "dtype": "int64",
                  "stats": {
                    "unique_count": 4,
                    "nan_count": 0,
                    "min": "0",
                    "max": "3",
                    "histogram": [
                      {
                        "bin_start": 0,
                        "bin_end": 0.3,
                        "count": 1
                      },
                      {
                        "bin_start": 0.3,
                        "bin_end": 0.6,
                        "count": 0
                      },
                      {
                        "bin_start": 0.6,
                        "bin_end": 0.8999999999999999,
                        "count": 0
                      },
                      {
                        "bin_start": 0.8999999999999999,
                        "bin_end": 1.2,
                        "count": 1385
                      },
                      {
                        "bin_start": 1.2,
                        "bin_end": 1.5,
                        "count": 0
                      },
                      {
                        "bin_start": 1.5,
                        "bin_end": 1.7999999999999998,
                        "count": 0
                      },
                      {
                        "bin_start": 1.7999999999999998,
                        "bin_end": 2.1,
                        "count": 64
                      },
                      {
                        "bin_start": 2.1,
                        "bin_end": 2.4,
                        "count": 0
                      },
                      {
                        "bin_start": 2.4,
                        "bin_end": 2.6999999999999997,
                        "count": 0
                      },
                      {
                        "bin_start": 2.6999999999999997,
                        "bin_end": 3,
                        "count": 2
                      }
                    ]
                  }
                },
                {
                  "name": "TotRmsAbvGrd",
                  "dtype": "int64",
                  "stats": {
                    "unique_count": 12,
                    "nan_count": 0,
                    "min": "2",
                    "max": "14",
                    "histogram": [
                      {
                        "bin_start": 2,
                        "bin_end": 3.2,
                        "count": 18
                      },
                      {
                        "bin_start": 3.2,
                        "bin_end": 4.4,
                        "count": 96
                      },
                      {
                        "bin_start": 4.4,
                        "bin_end": 5.6,
                        "count": 274
                      },
                      {
                        "bin_start": 5.6,
                        "bin_end": 6.8,
                        "count": 401
                      },
                      {
                        "bin_start": 6.8,
                        "bin_end": 8,
                        "count": 326
                      },
                      {
                        "bin_start": 8,
                        "bin_end": 9.2,
                        "count": 260
                      },
                      {
                        "bin_start": 9.2,
                        "bin_end": 10.4,
                        "count": 47
                      },
                      {
                        "bin_start": 10.4,
                        "bin_end": 11.6,
                        "count": 18
                      },
                      {
                        "bin_start": 11.6,
                        "bin_end": 12.799999999999999,
                        "count": 11
                      },
                      {
                        "bin_start": 12.799999999999999,
                        "bin_end": 14,
                        "count": 1
                      }
                    ]
                  }
                },
                {
                  "name": "Fireplaces",
                  "dtype": "int64",
                  "stats": {
                    "unique_count": 4,
                    "nan_count": 0,
                    "min": "0",
                    "max": "3",
                    "histogram": [
                      {
                        "bin_start": 0,
                        "bin_end": 0.3,
                        "count": 686
                      },
                      {
                        "bin_start": 0.3,
                        "bin_end": 0.6,
                        "count": 0
                      },
                      {
                        "bin_start": 0.6,
                        "bin_end": 0.8999999999999999,
                        "count": 0
                      },
                      {
                        "bin_start": 0.8999999999999999,
                        "bin_end": 1.2,
                        "count": 648
                      },
                      {
                        "bin_start": 1.2,
                        "bin_end": 1.5,
                        "count": 0
                      },
                      {
                        "bin_start": 1.5,
                        "bin_end": 1.7999999999999998,
                        "count": 0
                      },
                      {
                        "bin_start": 1.7999999999999998,
                        "bin_end": 2.1,
                        "count": 113
                      },
                      {
                        "bin_start": 2.1,
                        "bin_end": 2.4,
                        "count": 0
                      },
                      {
                        "bin_start": 2.4,
                        "bin_end": 2.6999999999999997,
                        "count": 0
                      },
                      {
                        "bin_start": 2.6999999999999997,
                        "bin_end": 3,
                        "count": 5
                      }
                    ]
                  }
                },
                {
                  "name": "GarageCars",
                  "dtype": "int64",
                  "stats": {
                    "unique_count": 5,
                    "nan_count": 0,
                    "min": "0",
                    "max": "4",
                    "histogram": [
                      {
                        "bin_start": 0,
                        "bin_end": 0.4,
                        "count": 81
                      },
                      {
                        "bin_start": 0.4,
                        "bin_end": 0.8,
                        "count": 0
                      },
                      {
                        "bin_start": 0.8,
                        "bin_end": 1.2000000000000002,
                        "count": 369
                      },
                      {
                        "bin_start": 1.2000000000000002,
                        "bin_end": 1.6,
                        "count": 0
                      },
                      {
                        "bin_start": 1.6,
                        "bin_end": 2,
                        "count": 0
                      },
                      {
                        "bin_start": 2,
                        "bin_end": 2.4000000000000004,
                        "count": 817
                      },
                      {
                        "bin_start": 2.4000000000000004,
                        "bin_end": 2.8000000000000003,
                        "count": 0
                      },
                      {
                        "bin_start": 2.8000000000000003,
                        "bin_end": 3.2,
                        "count": 180
                      },
                      {
                        "bin_start": 3.2,
                        "bin_end": 3.6,
                        "count": 0
                      },
                      {
                        "bin_start": 3.6,
                        "bin_end": 4,
                        "count": 5
                      }
                    ]
                  }
                },
                {
                  "name": "GarageArea",
                  "dtype": "int64",
                  "stats": {
                    "unique_count": 438,
                    "nan_count": 0,
                    "min": "0",
                    "max": "1418",
                    "histogram": [
                      {
                        "bin_start": 0,
                        "bin_end": 141.8,
                        "count": 81
                      },
                      {
                        "bin_start": 141.8,
                        "bin_end": 283.6,
                        "count": 167
                      },
                      {
                        "bin_start": 283.6,
                        "bin_end": 425.40000000000003,
                        "count": 293
                      },
                      {
                        "bin_start": 425.40000000000003,
                        "bin_end": 567.2,
                        "count": 495
                      },
                      {
                        "bin_start": 567.2,
                        "bin_end": 709,
                        "count": 238
                      },
                      {
                        "bin_start": 709,
                        "bin_end": 850.8000000000001,
                        "count": 105
                      },
                      {
                        "bin_start": 850.8000000000001,
                        "bin_end": 992.6000000000001,
                        "count": 57
                      },
                      {
                        "bin_start": 992.6000000000001,
                        "bin_end": 1134.4,
                        "count": 10
                      },
                      {
                        "bin_start": 1134.4,
                        "bin_end": 1276.2,
                        "count": 3
                      },
                      {
                        "bin_start": 1276.2,
                        "bin_end": 1418,
                        "count": 3
                      }
                    ]
                  }
                },
                {
                  "name": "WoodDeckSF",
                  "dtype": "int64",
                  "stats": {
                    "unique_count": 274,
                    "nan_count": 0,
                    "min": "0",
                    "max": "857",
                    "histogram": [
                      {
                        "bin_start": 0,
                        "bin_end": 85.7,
                        "count": 820
                      },
                      {
                        "bin_start": 85.7,
                        "bin_end": 171.4,
                        "count": 286
                      },
                      {
                        "bin_start": 171.4,
                        "bin_end": 257.1,
                        "count": 197
                      },
                      {
                        "bin_start": 257.1,
                        "bin_end": 342.8,
                        "count": 81
                      },
                      {
                        "bin_start": 342.8,
                        "bin_end": 428.5,
                        "count": 38
                      },
                      {
                        "bin_start": 428.5,
                        "bin_end": 514.2,
                        "count": 17
                      },
                      {
                        "bin_start": 514.2,
                        "bin_end": 599.9,
                        "count": 7
                      },
                      {
                        "bin_start": 599.9,
                        "bin_end": 685.6,
                        "count": 3
                      },
                      {
                        "bin_start": 685.6,
                        "bin_end": 771.3000000000001,
                        "count": 2
                      },
                      {
                        "bin_start": 771.3000000000001,
                        "bin_end": 857,
                        "count": 1
                      }
                    ]
                  }
                },
                {
                  "name": "OpenPorchSF",
                  "dtype": "int64",
                  "stats": {
                    "unique_count": 201,
                    "nan_count": 0,
                    "min": "0",
                    "max": "547",
                    "histogram": [
                      {
                        "bin_start": 0,
                        "bin_end": 54.7,
                        "count": 1003
                      },
                      {
                        "bin_start": 54.7,
                        "bin_end": 109.4,
                        "count": 242
                      },
                      {
                        "bin_start": 109.4,
                        "bin_end": 164.10000000000002,
                        "count": 121
                      },
                      {
                        "bin_start": 164.10000000000002,
                        "bin_end": 218.8,
                        "count": 44
                      },
                      {
                        "bin_start": 218.8,
                        "bin_end": 273.5,
                        "count": 24
                      },
                      {
                        "bin_start": 273.5,
                        "bin_end": 328.20000000000005,
                        "count": 11
                      },
                      {
                        "bin_start": 328.20000000000005,
                        "bin_end": 382.90000000000003,
                        "count": 2
                      },
                      {
                        "bin_start": 382.90000000000003,
                        "bin_end": 437.6,
                        "count": 2
                      },
                      {
                        "bin_start": 437.6,
                        "bin_end": 492.3,
                        "count": 0
                      },
                      {
                        "bin_start": 492.3,
                        "bin_end": 547,
                        "count": 3
                      }
                    ]
                  }
                },
                {
                  "name": "EnclosedPorch",
                  "dtype": "int64",
                  "stats": {
                    "unique_count": 119,
                    "nan_count": 0,
                    "min": "0",
                    "max": "552",
                    "histogram": [
                      {
                        "bin_start": 0,
                        "bin_end": 55.2,
                        "count": 1267
                      },
                      {
                        "bin_start": 55.2,
                        "bin_end": 110.4,
                        "count": 33
                      },
                      {
                        "bin_start": 110.4,
                        "bin_end": 165.60000000000002,
                        "count": 68
                      },
                      {
                        "bin_start": 165.60000000000002,
                        "bin_end": 220.8,
                        "count": 44
                      },
                      {
                        "bin_start": 220.8,
                        "bin_end": 276,
                        "count": 30
                      },
                      {
                        "bin_start": 276,
                        "bin_end": 331.20000000000005,
                        "count": 8
                      },
                      {
                        "bin_start": 331.20000000000005,
                        "bin_end": 386.40000000000003,
                        "count": 1
                      },
                      {
                        "bin_start": 386.40000000000003,
                        "bin_end": 441.6,
                        "count": 0
                      },
                      {
                        "bin_start": 441.6,
                        "bin_end": 496.8,
                        "count": 0
                      },
                      {
                        "bin_start": 496.8,
                        "bin_end": 552,
                        "count": 1
                      }
                    ]
                  }
                },
                {
                  "name": "3SsnPorch",
                  "dtype": "int64",
                  "stats": {
                    "unique_count": 20,
                    "nan_count": 0,
                    "min": "0",
                    "max": "508",
                    "histogram": [
                      {
                        "bin_start": 0,
                        "bin_end": 50.8,
                        "count": 1429
                      },
                      {
                        "bin_start": 50.8,
                        "bin_end": 101.6,
                        "count": 1
                      },
                      {
                        "bin_start": 101.6,
                        "bin_end": 152.39999999999998,
                        "count": 4
                      },
                      {
                        "bin_start": 152.39999999999998,
                        "bin_end": 203.2,
                        "count": 9
                      },
                      {
                        "bin_start": 203.2,
                        "bin_end": 254,
                        "count": 4
                      },
                      {
                        "bin_start": 254,
                        "bin_end": 304.79999999999995,
                        "count": 2
                      },
                      {
                        "bin_start": 304.79999999999995,
                        "bin_end": 355.59999999999997,
                        "count": 1
                      },
                      {
                        "bin_start": 355.59999999999997,
                        "bin_end": 406.4,
                        "count": 0
                      },
                      {
                        "bin_start": 406.4,
                        "bin_end": 457.2,
                        "count": 1
                      },
                      {
                        "bin_start": 457.2,
                        "bin_end": 508,
                        "count": 1
                      }
                    ]
                  }
                },
                {
                  "name": "ScreenPorch",
                  "dtype": "int64",
                  "stats": {
                    "unique_count": 76,
                    "nan_count": 0,
                    "min": "0",
                    "max": "480",
                    "histogram": [
                      {
                        "bin_start": 0,
                        "bin_end": 48,
                        "count": 1337
                      },
                      {
                        "bin_start": 48,
                        "bin_end": 96,
                        "count": 8
                      },
                      {
                        "bin_start": 96,
                        "bin_end": 144,
                        "count": 20
                      },
                      {
                        "bin_start": 144,
                        "bin_end": 192,
                        "count": 40
                      },
                      {
                        "bin_start": 192,
                        "bin_end": 240,
                        "count": 25
                      },
                      {
                        "bin_start": 240,
                        "bin_end": 288,
                        "count": 11
                      },
                      {
                        "bin_start": 288,
                        "bin_end": 336,
                        "count": 5
                      },
                      {
                        "bin_start": 336,
                        "bin_end": 384,
                        "count": 1
                      },
                      {
                        "bin_start": 384,
                        "bin_end": 432,
                        "count": 3
                      },
                      {
                        "bin_start": 432,
                        "bin_end": 480,
                        "count": 2
                      }
                    ]
                  }
                },
                {
                  "name": "PoolArea",
                  "dtype": "int64",
                  "stats": {
                    "unique_count": 8,
                    "nan_count": 0,
                    "min": "0",
                    "max": "738",
                    "histogram": [
                      {
                        "bin_start": 0,
                        "bin_end": 73.8,
                        "count": 1445
                      },
                      {
                        "bin_start": 73.8,
                        "bin_end": 147.6,
                        "count": 0
                      },
                      {
                        "bin_start": 147.6,
                        "bin_end": 221.39999999999998,
                        "count": 0
                      },
                      {
                        "bin_start": 221.39999999999998,
                        "bin_end": 295.2,
                        "count": 0
                      },
                      {
                        "bin_start": 295.2,
                        "bin_end": 369,
                        "count": 0
                      },
                      {
                        "bin_start": 369,
                        "bin_end": 442.79999999999995,
                        "count": 0
                      },
                      {
                        "bin_start": 442.79999999999995,
                        "bin_end": 516.6,
                        "count": 2
                      },
                      {
                        "bin_start": 516.6,
                        "bin_end": 590.4,
                        "count": 3
                      },
                      {
                        "bin_start": 590.4,
                        "bin_end": 664.1999999999999,
                        "count": 1
                      },
                      {
                        "bin_start": 664.1999999999999,
                        "bin_end": 738,
                        "count": 1
                      }
                    ]
                  }
                },
                {
                  "name": "MiscVal",
                  "dtype": "int64",
                  "stats": {
                    "unique_count": 21,
                    "nan_count": 0,
                    "min": "0",
                    "max": "15500",
                    "histogram": [
                      {
                        "bin_start": 0,
                        "bin_end": 1550,
                        "count": 1444
                      },
                      {
                        "bin_start": 1550,
                        "bin_end": 3100,
                        "count": 5
                      },
                      {
                        "bin_start": 3100,
                        "bin_end": 4650,
                        "count": 1
                      },
                      {
                        "bin_start": 4650,
                        "bin_end": 6200,
                        "count": 0
                      },
                      {
                        "bin_start": 6200,
                        "bin_end": 7750,
                        "count": 0
                      },
                      {
                        "bin_start": 7750,
                        "bin_end": 9300,
                        "count": 1
                      },
                      {
                        "bin_start": 9300,
                        "bin_end": 10850,
                        "count": 0
                      },
                      {
                        "bin_start": 10850,
                        "bin_end": 12400,
                        "count": 0
                      },
                      {
                        "bin_start": 12400,
                        "bin_end": 13950,
                        "count": 0
                      },
                      {
                        "bin_start": 13950,
                        "bin_end": 15500,
                        "count": 1
                      }
                    ]
                  }
                },
                {
                  "name": "SalePrice",
                  "dtype": "int64",
                  "stats": {
                    "unique_count": 657,
                    "nan_count": 0,
                    "min": "34900",
                    "max": "755000",
                    "histogram": [
                      {
                        "bin_start": 34900,
                        "bin_end": 106910,
                        "count": 148
                      },
                      {
                        "bin_start": 106910,
                        "bin_end": 178920,
                        "count": 723
                      },
                      {
                        "bin_start": 178920,
                        "bin_end": 250930,
                        "count": 366
                      },
                      {
                        "bin_start": 250930,
                        "bin_end": 322940,
                        "count": 135
                      },
                      {
                        "bin_start": 322940,
                        "bin_end": 394950,
                        "count": 51
                      },
                      {
                        "bin_start": 394950,
                        "bin_end": 466960,
                        "count": 18
                      },
                      {
                        "bin_start": 466960,
                        "bin_end": 538970,
                        "count": 4
                      },
                      {
                        "bin_start": 538970,
                        "bin_end": 610980,
                        "count": 3
                      },
                      {
                        "bin_start": 610980,
                        "bin_end": 682990,
                        "count": 2
                      },
                      {
                        "bin_start": 682990,
                        "bin_end": 755000,
                        "count": 2
                      }
                    ]
                  }
                },
                {
                  "name": "MSZoning_C (all)",
                  "dtype": "uint8",
                  "stats": {
                    "unique_count": 2,
                    "nan_count": 0,
                    "min": "0",
                    "max": "1",
                    "histogram": [
                      {
                        "bin_start": 0,
                        "bin_end": 0.1,
                        "count": 1442
                      },
                      {
                        "bin_start": 0.1,
                        "bin_end": 0.2,
                        "count": 0
                      },
                      {
                        "bin_start": 0.2,
                        "bin_end": 0.30000000000000004,
                        "count": 0
                      },
                      {
                        "bin_start": 0.30000000000000004,
                        "bin_end": 0.4,
                        "count": 0
                      },
                      {
                        "bin_start": 0.4,
                        "bin_end": 0.5,
                        "count": 0
                      },
                      {
                        "bin_start": 0.5,
                        "bin_end": 0.6000000000000001,
                        "count": 0
                      },
                      {
                        "bin_start": 0.6000000000000001,
                        "bin_end": 0.7000000000000001,
                        "count": 0
                      },
                      {
                        "bin_start": 0.7000000000000001,
                        "bin_end": 0.8,
                        "count": 0
                      },
                      {
                        "bin_start": 0.8,
                        "bin_end": 0.9,
                        "count": 0
                      },
                      {
                        "bin_start": 0.9,
                        "bin_end": 1,
                        "count": 10
                      }
                    ]
                  }
                },
                {
                  "name": "MSZoning_FV",
                  "dtype": "uint8",
                  "stats": {
                    "unique_count": 2,
                    "nan_count": 0,
                    "min": "0",
                    "max": "1",
                    "histogram": [
                      {
                        "bin_start": 0,
                        "bin_end": 0.1,
                        "count": 1390
                      },
                      {
                        "bin_start": 0.1,
                        "bin_end": 0.2,
                        "count": 0
                      },
                      {
                        "bin_start": 0.2,
                        "bin_end": 0.30000000000000004,
                        "count": 0
                      },
                      {
                        "bin_start": 0.30000000000000004,
                        "bin_end": 0.4,
                        "count": 0
                      },
                      {
                        "bin_start": 0.4,
                        "bin_end": 0.5,
                        "count": 0
                      },
                      {
                        "bin_start": 0.5,
                        "bin_end": 0.6000000000000001,
                        "count": 0
                      },
                      {
                        "bin_start": 0.6000000000000001,
                        "bin_end": 0.7000000000000001,
                        "count": 0
                      },
                      {
                        "bin_start": 0.7000000000000001,
                        "bin_end": 0.8,
                        "count": 0
                      },
                      {
                        "bin_start": 0.8,
                        "bin_end": 0.9,
                        "count": 0
                      },
                      {
                        "bin_start": 0.9,
                        "bin_end": 1,
                        "count": 62
                      }
                    ]
                  }
                },
                {
                  "name": "MSZoning_RH",
                  "dtype": "uint8",
                  "stats": {
                    "unique_count": 2,
                    "nan_count": 0,
                    "min": "0",
                    "max": "1",
                    "histogram": [
                      {
                        "bin_start": 0,
                        "bin_end": 0.1,
                        "count": 1436
                      },
                      {
                        "bin_start": 0.1,
                        "bin_end": 0.2,
                        "count": 0
                      },
                      {
                        "bin_start": 0.2,
                        "bin_end": 0.30000000000000004,
                        "count": 0
                      },
                      {
                        "bin_start": 0.30000000000000004,
                        "bin_end": 0.4,
                        "count": 0
                      },
                      {
                        "bin_start": 0.4,
                        "bin_end": 0.5,
                        "count": 0
                      },
                      {
                        "bin_start": 0.5,
                        "bin_end": 0.6000000000000001,
                        "count": 0
                      },
                      {
                        "bin_start": 0.6000000000000001,
                        "bin_end": 0.7000000000000001,
                        "count": 0
                      },
                      {
                        "bin_start": 0.7000000000000001,
                        "bin_end": 0.8,
                        "count": 0
                      },
                      {
                        "bin_start": 0.8,
                        "bin_end": 0.9,
                        "count": 0
                      },
                      {
                        "bin_start": 0.9,
                        "bin_end": 1,
                        "count": 16
                      }
                    ]
                  }
                },
                {
                  "name": "MSZoning_RL",
                  "dtype": "uint8",
                  "stats": {
                    "unique_count": 2,
                    "nan_count": 0,
                    "min": "0",
                    "max": "1",
                    "histogram": [
                      {
                        "bin_start": 0,
                        "bin_end": 0.1,
                        "count": 306
                      },
                      {
                        "bin_start": 0.1,
                        "bin_end": 0.2,
                        "count": 0
                      },
                      {
                        "bin_start": 0.2,
                        "bin_end": 0.30000000000000004,
                        "count": 0
                      },
                      {
                        "bin_start": 0.30000000000000004,
                        "bin_end": 0.4,
                        "count": 0
                      },
                      {
                        "bin_start": 0.4,
                        "bin_end": 0.5,
                        "count": 0
                      },
                      {
                        "bin_start": 0.5,
                        "bin_end": 0.6000000000000001,
                        "count": 0
                      },
                      {
                        "bin_start": 0.6000000000000001,
                        "bin_end": 0.7000000000000001,
                        "count": 0
                      },
                      {
                        "bin_start": 0.7000000000000001,
                        "bin_end": 0.8,
                        "count": 0
                      },
                      {
                        "bin_start": 0.8,
                        "bin_end": 0.9,
                        "count": 0
                      },
                      {
                        "bin_start": 0.9,
                        "bin_end": 1,
                        "count": 1146
                      }
                    ]
                  }
                },
                {
                  "name": "MSZoning_RM",
                  "dtype": "uint8",
                  "stats": {
                    "unique_count": 2,
                    "nan_count": 0,
                    "min": "0",
                    "max": "1",
                    "histogram": [
                      {
                        "bin_start": 0,
                        "bin_end": 0.1,
                        "count": 1234
                      },
                      {
                        "bin_start": 0.1,
                        "bin_end": 0.2,
                        "count": 0
                      },
                      {
                        "bin_start": 0.2,
                        "bin_end": 0.30000000000000004,
                        "count": 0
                      },
                      {
                        "bin_start": 0.30000000000000004,
                        "bin_end": 0.4,
                        "count": 0
                      },
                      {
                        "bin_start": 0.4,
                        "bin_end": 0.5,
                        "count": 0
                      },
                      {
                        "bin_start": 0.5,
                        "bin_end": 0.6000000000000001,
                        "count": 0
                      },
                      {
                        "bin_start": 0.6000000000000001,
                        "bin_end": 0.7000000000000001,
                        "count": 0
                      },
                      {
                        "bin_start": 0.7000000000000001,
                        "bin_end": 0.8,
                        "count": 0
                      },
                      {
                        "bin_start": 0.8,
                        "bin_end": 0.9,
                        "count": 0
                      },
                      {
                        "bin_start": 0.9,
                        "bin_end": 1,
                        "count": 218
                      }
                    ]
                  }
                },
                {
                  "name": "Street_Grvl",
                  "dtype": "uint8",
                  "stats": {
                    "unique_count": 2,
                    "nan_count": 0,
                    "min": "0",
                    "max": "1",
                    "histogram": [
                      {
                        "bin_start": 0,
                        "bin_end": 0.1,
                        "count": 1446
                      },
                      {
                        "bin_start": 0.1,
                        "bin_end": 0.2,
                        "count": 0
                      },
                      {
                        "bin_start": 0.2,
                        "bin_end": 0.30000000000000004,
                        "count": 0
                      },
                      {
                        "bin_start": 0.30000000000000004,
                        "bin_end": 0.4,
                        "count": 0
                      },
                      {
                        "bin_start": 0.4,
                        "bin_end": 0.5,
                        "count": 0
                      },
                      {
                        "bin_start": 0.5,
                        "bin_end": 0.6000000000000001,
                        "count": 0
                      },
                      {
                        "bin_start": 0.6000000000000001,
                        "bin_end": 0.7000000000000001,
                        "count": 0
                      },
                      {
                        "bin_start": 0.7000000000000001,
                        "bin_end": 0.8,
                        "count": 0
                      },
                      {
                        "bin_start": 0.8,
                        "bin_end": 0.9,
                        "count": 0
                      },
                      {
                        "bin_start": 0.9,
                        "bin_end": 1,
                        "count": 6
                      }
                    ]
                  }
                },
                {
                  "name": "Street_Pave",
                  "dtype": "uint8",
                  "stats": {
                    "unique_count": 2,
                    "nan_count": 0,
                    "min": "0",
                    "max": "1",
                    "histogram": [
                      {
                        "bin_start": 0,
                        "bin_end": 0.1,
                        "count": 6
                      },
                      {
                        "bin_start": 0.1,
                        "bin_end": 0.2,
                        "count": 0
                      },
                      {
                        "bin_start": 0.2,
                        "bin_end": 0.30000000000000004,
                        "count": 0
                      },
                      {
                        "bin_start": 0.30000000000000004,
                        "bin_end": 0.4,
                        "count": 0
                      },
                      {
                        "bin_start": 0.4,
                        "bin_end": 0.5,
                        "count": 0
                      },
                      {
                        "bin_start": 0.5,
                        "bin_end": 0.6000000000000001,
                        "count": 0
                      },
                      {
                        "bin_start": 0.6000000000000001,
                        "bin_end": 0.7000000000000001,
                        "count": 0
                      },
                      {
                        "bin_start": 0.7000000000000001,
                        "bin_end": 0.8,
                        "count": 0
                      },
                      {
                        "bin_start": 0.8,
                        "bin_end": 0.9,
                        "count": 0
                      },
                      {
                        "bin_start": 0.9,
                        "bin_end": 1,
                        "count": 1446
                      }
                    ]
                  }
                },
                {
                  "name": "Alley_Grvl",
                  "dtype": "uint8",
                  "stats": {
                    "unique_count": 2,
                    "nan_count": 0,
                    "min": "0",
                    "max": "1",
                    "histogram": [
                      {
                        "bin_start": 0,
                        "bin_end": 0.1,
                        "count": 1402
                      },
                      {
                        "bin_start": 0.1,
                        "bin_end": 0.2,
                        "count": 0
                      },
                      {
                        "bin_start": 0.2,
                        "bin_end": 0.30000000000000004,
                        "count": 0
                      },
                      {
                        "bin_start": 0.30000000000000004,
                        "bin_end": 0.4,
                        "count": 0
                      },
                      {
                        "bin_start": 0.4,
                        "bin_end": 0.5,
                        "count": 0
                      },
                      {
                        "bin_start": 0.5,
                        "bin_end": 0.6000000000000001,
                        "count": 0
                      },
                      {
                        "bin_start": 0.6000000000000001,
                        "bin_end": 0.7000000000000001,
                        "count": 0
                      },
                      {
                        "bin_start": 0.7000000000000001,
                        "bin_end": 0.8,
                        "count": 0
                      },
                      {
                        "bin_start": 0.8,
                        "bin_end": 0.9,
                        "count": 0
                      },
                      {
                        "bin_start": 0.9,
                        "bin_end": 1,
                        "count": 50
                      }
                    ]
                  }
                },
                {
                  "name": "Alley_NoAlley",
                  "dtype": "uint8",
                  "stats": {
                    "unique_count": 2,
                    "nan_count": 0,
                    "min": "0",
                    "max": "1",
                    "histogram": [
                      {
                        "bin_start": 0,
                        "bin_end": 0.1,
                        "count": 90
                      },
                      {
                        "bin_start": 0.1,
                        "bin_end": 0.2,
                        "count": 0
                      },
                      {
                        "bin_start": 0.2,
                        "bin_end": 0.30000000000000004,
                        "count": 0
                      },
                      {
                        "bin_start": 0.30000000000000004,
                        "bin_end": 0.4,
                        "count": 0
                      },
                      {
                        "bin_start": 0.4,
                        "bin_end": 0.5,
                        "count": 0
                      },
                      {
                        "bin_start": 0.5,
                        "bin_end": 0.6000000000000001,
                        "count": 0
                      },
                      {
                        "bin_start": 0.6000000000000001,
                        "bin_end": 0.7000000000000001,
                        "count": 0
                      },
                      {
                        "bin_start": 0.7000000000000001,
                        "bin_end": 0.8,
                        "count": 0
                      },
                      {
                        "bin_start": 0.8,
                        "bin_end": 0.9,
                        "count": 0
                      },
                      {
                        "bin_start": 0.9,
                        "bin_end": 1,
                        "count": 1362
                      }
                    ]
                  }
                },
                {
                  "name": "Alley_Pave",
                  "dtype": "uint8",
                  "stats": {
                    "unique_count": 2,
                    "nan_count": 0,
                    "min": "0",
                    "max": "1",
                    "histogram": [
                      {
                        "bin_start": 0,
                        "bin_end": 0.1,
                        "count": 1412
                      },
                      {
                        "bin_start": 0.1,
                        "bin_end": 0.2,
                        "count": 0
                      },
                      {
                        "bin_start": 0.2,
                        "bin_end": 0.30000000000000004,
                        "count": 0
                      },
                      {
                        "bin_start": 0.30000000000000004,
                        "bin_end": 0.4,
                        "count": 0
                      },
                      {
                        "bin_start": 0.4,
                        "bin_end": 0.5,
                        "count": 0
                      },
                      {
                        "bin_start": 0.5,
                        "bin_end": 0.6000000000000001,
                        "count": 0
                      },
                      {
                        "bin_start": 0.6000000000000001,
                        "bin_end": 0.7000000000000001,
                        "count": 0
                      },
                      {
                        "bin_start": 0.7000000000000001,
                        "bin_end": 0.8,
                        "count": 0
                      },
                      {
                        "bin_start": 0.8,
                        "bin_end": 0.9,
                        "count": 0
                      },
                      {
                        "bin_start": 0.9,
                        "bin_end": 1,
                        "count": 40
                      }
                    ]
                  }
                },
                {
                  "name": "LotShape_IR1",
                  "dtype": "uint8",
                  "stats": {
                    "unique_count": 2,
                    "nan_count": 0,
                    "min": "0",
                    "max": "1",
                    "histogram": [
                      {
                        "bin_start": 0,
                        "bin_end": 0.1,
                        "count": 970
                      },
                      {
                        "bin_start": 0.1,
                        "bin_end": 0.2,
                        "count": 0
                      },
                      {
                        "bin_start": 0.2,
                        "bin_end": 0.30000000000000004,
                        "count": 0
                      },
                      {
                        "bin_start": 0.30000000000000004,
                        "bin_end": 0.4,
                        "count": 0
                      },
                      {
                        "bin_start": 0.4,
                        "bin_end": 0.5,
                        "count": 0
                      },
                      {
                        "bin_start": 0.5,
                        "bin_end": 0.6000000000000001,
                        "count": 0
                      },
                      {
                        "bin_start": 0.6000000000000001,
                        "bin_end": 0.7000000000000001,
                        "count": 0
                      },
                      {
                        "bin_start": 0.7000000000000001,
                        "bin_end": 0.8,
                        "count": 0
                      },
                      {
                        "bin_start": 0.8,
                        "bin_end": 0.9,
                        "count": 0
                      },
                      {
                        "bin_start": 0.9,
                        "bin_end": 1,
                        "count": 482
                      }
                    ]
                  }
                },
                {
                  "name": "LotShape_IR2",
                  "dtype": "uint8",
                  "stats": {
                    "unique_count": 2,
                    "nan_count": 0,
                    "min": "0",
                    "max": "1",
                    "histogram": [
                      {
                        "bin_start": 0,
                        "bin_end": 0.1,
                        "count": 1411
                      },
                      {
                        "bin_start": 0.1,
                        "bin_end": 0.2,
                        "count": 0
                      },
                      {
                        "bin_start": 0.2,
                        "bin_end": 0.30000000000000004,
                        "count": 0
                      },
                      {
                        "bin_start": 0.30000000000000004,
                        "bin_end": 0.4,
                        "count": 0
                      },
                      {
                        "bin_start": 0.4,
                        "bin_end": 0.5,
                        "count": 0
                      },
                      {
                        "bin_start": 0.5,
                        "bin_end": 0.6000000000000001,
                        "count": 0
                      },
                      {
                        "bin_start": 0.6000000000000001,
                        "bin_end": 0.7000000000000001,
                        "count": 0
                      },
                      {
                        "bin_start": 0.7000000000000001,
                        "bin_end": 0.8,
                        "count": 0
                      },
                      {
                        "bin_start": 0.8,
                        "bin_end": 0.9,
                        "count": 0
                      },
                      {
                        "bin_start": 0.9,
                        "bin_end": 1,
                        "count": 41
                      }
                    ]
                  }
                },
                {
                  "name": "LotShape_IR3",
                  "dtype": "uint8",
                  "stats": {
                    "unique_count": 2,
                    "nan_count": 0,
                    "min": "0",
                    "max": "1",
                    "histogram": [
                      {
                        "bin_start": 0,
                        "bin_end": 0.1,
                        "count": 1442
                      },
                      {
                        "bin_start": 0.1,
                        "bin_end": 0.2,
                        "count": 0
                      },
                      {
                        "bin_start": 0.2,
                        "bin_end": 0.30000000000000004,
                        "count": 0
                      },
                      {
                        "bin_start": 0.30000000000000004,
                        "bin_end": 0.4,
                        "count": 0
                      },
                      {
                        "bin_start": 0.4,
                        "bin_end": 0.5,
                        "count": 0
                      },
                      {
                        "bin_start": 0.5,
                        "bin_end": 0.6000000000000001,
                        "count": 0
                      },
                      {
                        "bin_start": 0.6000000000000001,
                        "bin_end": 0.7000000000000001,
                        "count": 0
                      },
                      {
                        "bin_start": 0.7000000000000001,
                        "bin_end": 0.8,
                        "count": 0
                      },
                      {
                        "bin_start": 0.8,
                        "bin_end": 0.9,
                        "count": 0
                      },
                      {
                        "bin_start": 0.9,
                        "bin_end": 1,
                        "count": 10
                      }
                    ]
                  }
                },
                {
                  "name": "LotShape_Reg",
                  "dtype": "uint8",
                  "stats": {
                    "unique_count": 2,
                    "nan_count": 0,
                    "min": "0",
                    "max": "1",
                    "histogram": [
                      {
                        "bin_start": 0,
                        "bin_end": 0.1,
                        "count": 533
                      },
                      {
                        "bin_start": 0.1,
                        "bin_end": 0.2,
                        "count": 0
                      },
                      {
                        "bin_start": 0.2,
                        "bin_end": 0.30000000000000004,
                        "count": 0
                      },
                      {
                        "bin_start": 0.30000000000000004,
                        "bin_end": 0.4,
                        "count": 0
                      },
                      {
                        "bin_start": 0.4,
                        "bin_end": 0.5,
                        "count": 0
                      },
                      {
                        "bin_start": 0.5,
                        "bin_end": 0.6000000000000001,
                        "count": 0
                      },
                      {
                        "bin_start": 0.6000000000000001,
                        "bin_end": 0.7000000000000001,
                        "count": 0
                      },
                      {
                        "bin_start": 0.7000000000000001,
                        "bin_end": 0.8,
                        "count": 0
                      },
                      {
                        "bin_start": 0.8,
                        "bin_end": 0.9,
                        "count": 0
                      },
                      {
                        "bin_start": 0.9,
                        "bin_end": 1,
                        "count": 919
                      }
                    ]
                  }
                },
                {
                  "name": "LandContour_Bnk",
                  "dtype": "uint8",
                  "stats": {
                    "unique_count": 2,
                    "nan_count": 0,
                    "min": "0",
                    "max": "1",
                    "histogram": [
                      {
                        "bin_start": 0,
                        "bin_end": 0.1,
                        "count": 1389
                      },
                      {
                        "bin_start": 0.1,
                        "bin_end": 0.2,
                        "count": 0
                      },
                      {
                        "bin_start": 0.2,
                        "bin_end": 0.30000000000000004,
                        "count": 0
                      },
                      {
                        "bin_start": 0.30000000000000004,
                        "bin_end": 0.4,
                        "count": 0
                      },
                      {
                        "bin_start": 0.4,
                        "bin_end": 0.5,
                        "count": 0
                      },
                      {
                        "bin_start": 0.5,
                        "bin_end": 0.6000000000000001,
                        "count": 0
                      },
                      {
                        "bin_start": 0.6000000000000001,
                        "bin_end": 0.7000000000000001,
                        "count": 0
                      },
                      {
                        "bin_start": 0.7000000000000001,
                        "bin_end": 0.8,
                        "count": 0
                      },
                      {
                        "bin_start": 0.8,
                        "bin_end": 0.9,
                        "count": 0
                      },
                      {
                        "bin_start": 0.9,
                        "bin_end": 1,
                        "count": 63
                      }
                    ]
                  }
                },
                {
                  "name": "LandContour_HLS",
                  "dtype": "uint8",
                  "stats": {
                    "unique_count": 2,
                    "nan_count": 0,
                    "min": "0",
                    "max": "1",
                    "histogram": [
                      {
                        "bin_start": 0,
                        "bin_end": 0.1,
                        "count": 1402
                      },
                      {
                        "bin_start": 0.1,
                        "bin_end": 0.2,
                        "count": 0
                      },
                      {
                        "bin_start": 0.2,
                        "bin_end": 0.30000000000000004,
                        "count": 0
                      },
                      {
                        "bin_start": 0.30000000000000004,
                        "bin_end": 0.4,
                        "count": 0
                      },
                      {
                        "bin_start": 0.4,
                        "bin_end": 0.5,
                        "count": 0
                      },
                      {
                        "bin_start": 0.5,
                        "bin_end": 0.6000000000000001,
                        "count": 0
                      },
                      {
                        "bin_start": 0.6000000000000001,
                        "bin_end": 0.7000000000000001,
                        "count": 0
                      },
                      {
                        "bin_start": 0.7000000000000001,
                        "bin_end": 0.8,
                        "count": 0
                      },
                      {
                        "bin_start": 0.8,
                        "bin_end": 0.9,
                        "count": 0
                      },
                      {
                        "bin_start": 0.9,
                        "bin_end": 1,
                        "count": 50
                      }
                    ]
                  }
                },
                {
                  "name": "LandContour_Low",
                  "dtype": "uint8",
                  "stats": {
                    "unique_count": 2,
                    "nan_count": 0,
                    "min": "0",
                    "max": "1",
                    "histogram": [
                      {
                        "bin_start": 0,
                        "bin_end": 0.1,
                        "count": 1416
                      },
                      {
                        "bin_start": 0.1,
                        "bin_end": 0.2,
                        "count": 0
                      },
                      {
                        "bin_start": 0.2,
                        "bin_end": 0.30000000000000004,
                        "count": 0
                      },
                      {
                        "bin_start": 0.30000000000000004,
                        "bin_end": 0.4,
                        "count": 0
                      },
                      {
                        "bin_start": 0.4,
                        "bin_end": 0.5,
                        "count": 0
                      },
                      {
                        "bin_start": 0.5,
                        "bin_end": 0.6000000000000001,
                        "count": 0
                      },
                      {
                        "bin_start": 0.6000000000000001,
                        "bin_end": 0.7000000000000001,
                        "count": 0
                      },
                      {
                        "bin_start": 0.7000000000000001,
                        "bin_end": 0.8,
                        "count": 0
                      },
                      {
                        "bin_start": 0.8,
                        "bin_end": 0.9,
                        "count": 0
                      },
                      {
                        "bin_start": 0.9,
                        "bin_end": 1,
                        "count": 36
                      }
                    ]
                  }
                },
                {
                  "name": "LandContour_Lvl",
                  "dtype": "uint8",
                  "stats": {
                    "unique_count": 2,
                    "nan_count": 0,
                    "min": "0",
                    "max": "1",
                    "histogram": [
                      {
                        "bin_start": 0,
                        "bin_end": 0.1,
                        "count": 149
                      },
                      {
                        "bin_start": 0.1,
                        "bin_end": 0.2,
                        "count": 0
                      },
                      {
                        "bin_start": 0.2,
                        "bin_end": 0.30000000000000004,
                        "count": 0
                      },
                      {
                        "bin_start": 0.30000000000000004,
                        "bin_end": 0.4,
                        "count": 0
                      },
                      {
                        "bin_start": 0.4,
                        "bin_end": 0.5,
                        "count": 0
                      },
                      {
                        "bin_start": 0.5,
                        "bin_end": 0.6000000000000001,
                        "count": 0
                      },
                      {
                        "bin_start": 0.6000000000000001,
                        "bin_end": 0.7000000000000001,
                        "count": 0
                      },
                      {
                        "bin_start": 0.7000000000000001,
                        "bin_end": 0.8,
                        "count": 0
                      },
                      {
                        "bin_start": 0.8,
                        "bin_end": 0.9,
                        "count": 0
                      },
                      {
                        "bin_start": 0.9,
                        "bin_end": 1,
                        "count": 1303
                      }
                    ]
                  }
                },
                {
                  "name": "Utilities_AllPub",
                  "dtype": "uint8",
                  "stats": {
                    "unique_count": 2,
                    "nan_count": 0,
                    "min": "0",
                    "max": "1",
                    "histogram": [
                      {
                        "bin_start": 0,
                        "bin_end": 0.1,
                        "count": 1
                      },
                      {
                        "bin_start": 0.1,
                        "bin_end": 0.2,
                        "count": 0
                      },
                      {
                        "bin_start": 0.2,
                        "bin_end": 0.30000000000000004,
                        "count": 0
                      },
                      {
                        "bin_start": 0.30000000000000004,
                        "bin_end": 0.4,
                        "count": 0
                      },
                      {
                        "bin_start": 0.4,
                        "bin_end": 0.5,
                        "count": 0
                      },
                      {
                        "bin_start": 0.5,
                        "bin_end": 0.6000000000000001,
                        "count": 0
                      },
                      {
                        "bin_start": 0.6000000000000001,
                        "bin_end": 0.7000000000000001,
                        "count": 0
                      },
                      {
                        "bin_start": 0.7000000000000001,
                        "bin_end": 0.8,
                        "count": 0
                      },
                      {
                        "bin_start": 0.8,
                        "bin_end": 0.9,
                        "count": 0
                      },
                      {
                        "bin_start": 0.9,
                        "bin_end": 1,
                        "count": 1451
                      }
                    ]
                  }
                },
                {
                  "name": "Utilities_NoSeWa",
                  "dtype": "uint8",
                  "stats": {
                    "unique_count": 2,
                    "nan_count": 0,
                    "min": "0",
                    "max": "1",
                    "histogram": [
                      {
                        "bin_start": 0,
                        "bin_end": 0.1,
                        "count": 1451
                      },
                      {
                        "bin_start": 0.1,
                        "bin_end": 0.2,
                        "count": 0
                      },
                      {
                        "bin_start": 0.2,
                        "bin_end": 0.30000000000000004,
                        "count": 0
                      },
                      {
                        "bin_start": 0.30000000000000004,
                        "bin_end": 0.4,
                        "count": 0
                      },
                      {
                        "bin_start": 0.4,
                        "bin_end": 0.5,
                        "count": 0
                      },
                      {
                        "bin_start": 0.5,
                        "bin_end": 0.6000000000000001,
                        "count": 0
                      },
                      {
                        "bin_start": 0.6000000000000001,
                        "bin_end": 0.7000000000000001,
                        "count": 0
                      },
                      {
                        "bin_start": 0.7000000000000001,
                        "bin_end": 0.8,
                        "count": 0
                      },
                      {
                        "bin_start": 0.8,
                        "bin_end": 0.9,
                        "count": 0
                      },
                      {
                        "bin_start": 0.9,
                        "bin_end": 1,
                        "count": 1
                      }
                    ]
                  }
                },
                {
                  "name": "LotConfig_Corner",
                  "dtype": "uint8",
                  "stats": {
                    "unique_count": 2,
                    "nan_count": 0,
                    "min": "0",
                    "max": "1",
                    "histogram": [
                      {
                        "bin_start": 0,
                        "bin_end": 0.1,
                        "count": 1190
                      },
                      {
                        "bin_start": 0.1,
                        "bin_end": 0.2,
                        "count": 0
                      },
                      {
                        "bin_start": 0.2,
                        "bin_end": 0.30000000000000004,
                        "count": 0
                      },
                      {
                        "bin_start": 0.30000000000000004,
                        "bin_end": 0.4,
                        "count": 0
                      },
                      {
                        "bin_start": 0.4,
                        "bin_end": 0.5,
                        "count": 0
                      },
                      {
                        "bin_start": 0.5,
                        "bin_end": 0.6000000000000001,
                        "count": 0
                      },
                      {
                        "bin_start": 0.6000000000000001,
                        "bin_end": 0.7000000000000001,
                        "count": 0
                      },
                      {
                        "bin_start": 0.7000000000000001,
                        "bin_end": 0.8,
                        "count": 0
                      },
                      {
                        "bin_start": 0.8,
                        "bin_end": 0.9,
                        "count": 0
                      },
                      {
                        "bin_start": 0.9,
                        "bin_end": 1,
                        "count": 262
                      }
                    ]
                  }
                },
                {
                  "name": "LotConfig_CulDSac",
                  "dtype": "uint8",
                  "stats": {
                    "unique_count": 2,
                    "nan_count": 0,
                    "min": "0",
                    "max": "1",
                    "histogram": [
                      {
                        "bin_start": 0,
                        "bin_end": 0.1,
                        "count": 1359
                      },
                      {
                        "bin_start": 0.1,
                        "bin_end": 0.2,
                        "count": 0
                      },
                      {
                        "bin_start": 0.2,
                        "bin_end": 0.30000000000000004,
                        "count": 0
                      },
                      {
                        "bin_start": 0.30000000000000004,
                        "bin_end": 0.4,
                        "count": 0
                      },
                      {
                        "bin_start": 0.4,
                        "bin_end": 0.5,
                        "count": 0
                      },
                      {
                        "bin_start": 0.5,
                        "bin_end": 0.6000000000000001,
                        "count": 0
                      },
                      {
                        "bin_start": 0.6000000000000001,
                        "bin_end": 0.7000000000000001,
                        "count": 0
                      },
                      {
                        "bin_start": 0.7000000000000001,
                        "bin_end": 0.8,
                        "count": 0
                      },
                      {
                        "bin_start": 0.8,
                        "bin_end": 0.9,
                        "count": 0
                      },
                      {
                        "bin_start": 0.9,
                        "bin_end": 1,
                        "count": 93
                      }
                    ]
                  }
                },
                {
                  "name": "LotConfig_FR2",
                  "dtype": "uint8",
                  "stats": {
                    "unique_count": 2,
                    "nan_count": 0,
                    "min": "0",
                    "max": "1",
                    "histogram": [
                      {
                        "bin_start": 0,
                        "bin_end": 0.1,
                        "count": 1405
                      },
                      {
                        "bin_start": 0.1,
                        "bin_end": 0.2,
                        "count": 0
                      },
                      {
                        "bin_start": 0.2,
                        "bin_end": 0.30000000000000004,
                        "count": 0
                      },
                      {
                        "bin_start": 0.30000000000000004,
                        "bin_end": 0.4,
                        "count": 0
                      },
                      {
                        "bin_start": 0.4,
                        "bin_end": 0.5,
                        "count": 0
                      },
                      {
                        "bin_start": 0.5,
                        "bin_end": 0.6000000000000001,
                        "count": 0
                      },
                      {
                        "bin_start": 0.6000000000000001,
                        "bin_end": 0.7000000000000001,
                        "count": 0
                      },
                      {
                        "bin_start": 0.7000000000000001,
                        "bin_end": 0.8,
                        "count": 0
                      },
                      {
                        "bin_start": 0.8,
                        "bin_end": 0.9,
                        "count": 0
                      },
                      {
                        "bin_start": 0.9,
                        "bin_end": 1,
                        "count": 47
                      }
                    ]
                  }
                },
                {
                  "name": "LotConfig_FR3",
                  "dtype": "uint8",
                  "stats": {
                    "unique_count": 2,
                    "nan_count": 0,
                    "min": "0",
                    "max": "1",
                    "histogram": [
                      {
                        "bin_start": 0,
                        "bin_end": 0.1,
                        "count": 1448
                      },
                      {
                        "bin_start": 0.1,
                        "bin_end": 0.2,
                        "count": 0
                      },
                      {
                        "bin_start": 0.2,
                        "bin_end": 0.30000000000000004,
                        "count": 0
                      },
                      {
                        "bin_start": 0.30000000000000004,
                        "bin_end": 0.4,
                        "count": 0
                      },
                      {
                        "bin_start": 0.4,
                        "bin_end": 0.5,
                        "count": 0
                      },
                      {
                        "bin_start": 0.5,
                        "bin_end": 0.6000000000000001,
                        "count": 0
                      },
                      {
                        "bin_start": 0.6000000000000001,
                        "bin_end": 0.7000000000000001,
                        "count": 0
                      },
                      {
                        "bin_start": 0.7000000000000001,
                        "bin_end": 0.8,
                        "count": 0
                      },
                      {
                        "bin_start": 0.8,
                        "bin_end": 0.9,
                        "count": 0
                      },
                      {
                        "bin_start": 0.9,
                        "bin_end": 1,
                        "count": 4
                      }
                    ]
                  }
                },
                {
                  "name": "LotConfig_Inside",
                  "dtype": "uint8",
                  "stats": {
                    "unique_count": 2,
                    "nan_count": 0,
                    "min": "0",
                    "max": "1",
                    "histogram": [
                      {
                        "bin_start": 0,
                        "bin_end": 0.1,
                        "count": 406
                      },
                      {
                        "bin_start": 0.1,
                        "bin_end": 0.2,
                        "count": 0
                      },
                      {
                        "bin_start": 0.2,
                        "bin_end": 0.30000000000000004,
                        "count": 0
                      },
                      {
                        "bin_start": 0.30000000000000004,
                        "bin_end": 0.4,
                        "count": 0
                      },
                      {
                        "bin_start": 0.4,
                        "bin_end": 0.5,
                        "count": 0
                      },
                      {
                        "bin_start": 0.5,
                        "bin_end": 0.6000000000000001,
                        "count": 0
                      },
                      {
                        "bin_start": 0.6000000000000001,
                        "bin_end": 0.7000000000000001,
                        "count": 0
                      },
                      {
                        "bin_start": 0.7000000000000001,
                        "bin_end": 0.8,
                        "count": 0
                      },
                      {
                        "bin_start": 0.8,
                        "bin_end": 0.9,
                        "count": 0
                      },
                      {
                        "bin_start": 0.9,
                        "bin_end": 1,
                        "count": 1046
                      }
                    ]
                  }
                },
                {
                  "name": "LandSlope_Gtl",
                  "dtype": "uint8",
                  "stats": {
                    "unique_count": 2,
                    "nan_count": 0,
                    "min": "0",
                    "max": "1",
                    "histogram": [
                      {
                        "bin_start": 0,
                        "bin_end": 0.1,
                        "count": 78
                      },
                      {
                        "bin_start": 0.1,
                        "bin_end": 0.2,
                        "count": 0
                      },
                      {
                        "bin_start": 0.2,
                        "bin_end": 0.30000000000000004,
                        "count": 0
                      },
                      {
                        "bin_start": 0.30000000000000004,
                        "bin_end": 0.4,
                        "count": 0
                      },
                      {
                        "bin_start": 0.4,
                        "bin_end": 0.5,
                        "count": 0
                      },
                      {
                        "bin_start": 0.5,
                        "bin_end": 0.6000000000000001,
                        "count": 0
                      },
                      {
                        "bin_start": 0.6000000000000001,
                        "bin_end": 0.7000000000000001,
                        "count": 0
                      },
                      {
                        "bin_start": 0.7000000000000001,
                        "bin_end": 0.8,
                        "count": 0
                      },
                      {
                        "bin_start": 0.8,
                        "bin_end": 0.9,
                        "count": 0
                      },
                      {
                        "bin_start": 0.9,
                        "bin_end": 1,
                        "count": 1374
                      }
                    ]
                  }
                },
                {
                  "name": "LandSlope_Mod",
                  "dtype": "uint8",
                  "stats": {
                    "unique_count": 2,
                    "nan_count": 0,
                    "min": "0",
                    "max": "1",
                    "histogram": [
                      {
                        "bin_start": 0,
                        "bin_end": 0.1,
                        "count": 1387
                      },
                      {
                        "bin_start": 0.1,
                        "bin_end": 0.2,
                        "count": 0
                      },
                      {
                        "bin_start": 0.2,
                        "bin_end": 0.30000000000000004,
                        "count": 0
                      },
                      {
                        "bin_start": 0.30000000000000004,
                        "bin_end": 0.4,
                        "count": 0
                      },
                      {
                        "bin_start": 0.4,
                        "bin_end": 0.5,
                        "count": 0
                      },
                      {
                        "bin_start": 0.5,
                        "bin_end": 0.6000000000000001,
                        "count": 0
                      },
                      {
                        "bin_start": 0.6000000000000001,
                        "bin_end": 0.7000000000000001,
                        "count": 0
                      },
                      {
                        "bin_start": 0.7000000000000001,
                        "bin_end": 0.8,
                        "count": 0
                      },
                      {
                        "bin_start": 0.8,
                        "bin_end": 0.9,
                        "count": 0
                      },
                      {
                        "bin_start": 0.9,
                        "bin_end": 1,
                        "count": 65
                      }
                    ]
                  }
                },
                {
                  "name": "LandSlope_Sev",
                  "dtype": "uint8",
                  "stats": {
                    "unique_count": 2,
                    "nan_count": 0,
                    "min": "0",
                    "max": "1",
                    "histogram": [
                      {
                        "bin_start": 0,
                        "bin_end": 0.1,
                        "count": 1439
                      },
                      {
                        "bin_start": 0.1,
                        "bin_end": 0.2,
                        "count": 0
                      },
                      {
                        "bin_start": 0.2,
                        "bin_end": 0.30000000000000004,
                        "count": 0
                      },
                      {
                        "bin_start": 0.30000000000000004,
                        "bin_end": 0.4,
                        "count": 0
                      },
                      {
                        "bin_start": 0.4,
                        "bin_end": 0.5,
                        "count": 0
                      },
                      {
                        "bin_start": 0.5,
                        "bin_end": 0.6000000000000001,
                        "count": 0
                      },
                      {
                        "bin_start": 0.6000000000000001,
                        "bin_end": 0.7000000000000001,
                        "count": 0
                      },
                      {
                        "bin_start": 0.7000000000000001,
                        "bin_end": 0.8,
                        "count": 0
                      },
                      {
                        "bin_start": 0.8,
                        "bin_end": 0.9,
                        "count": 0
                      },
                      {
                        "bin_start": 0.9,
                        "bin_end": 1,
                        "count": 13
                      }
                    ]
                  }
                },
                {
                  "name": "Neighborhood_Blmngtn",
                  "dtype": "uint8",
                  "stats": {
                    "unique_count": 2,
                    "nan_count": 0,
                    "min": "0",
                    "max": "1",
                    "histogram": [
                      {
                        "bin_start": 0,
                        "bin_end": 0.1,
                        "count": 1435
                      },
                      {
                        "bin_start": 0.1,
                        "bin_end": 0.2,
                        "count": 0
                      },
                      {
                        "bin_start": 0.2,
                        "bin_end": 0.30000000000000004,
                        "count": 0
                      },
                      {
                        "bin_start": 0.30000000000000004,
                        "bin_end": 0.4,
                        "count": 0
                      },
                      {
                        "bin_start": 0.4,
                        "bin_end": 0.5,
                        "count": 0
                      },
                      {
                        "bin_start": 0.5,
                        "bin_end": 0.6000000000000001,
                        "count": 0
                      },
                      {
                        "bin_start": 0.6000000000000001,
                        "bin_end": 0.7000000000000001,
                        "count": 0
                      },
                      {
                        "bin_start": 0.7000000000000001,
                        "bin_end": 0.8,
                        "count": 0
                      },
                      {
                        "bin_start": 0.8,
                        "bin_end": 0.9,
                        "count": 0
                      },
                      {
                        "bin_start": 0.9,
                        "bin_end": 1,
                        "count": 17
                      }
                    ]
                  }
                },
                {
                  "name": "Neighborhood_Blueste",
                  "dtype": "uint8",
                  "stats": {
                    "unique_count": 2,
                    "nan_count": 0,
                    "min": "0",
                    "max": "1",
                    "histogram": [
                      {
                        "bin_start": 0,
                        "bin_end": 0.1,
                        "count": 1450
                      },
                      {
                        "bin_start": 0.1,
                        "bin_end": 0.2,
                        "count": 0
                      },
                      {
                        "bin_start": 0.2,
                        "bin_end": 0.30000000000000004,
                        "count": 0
                      },
                      {
                        "bin_start": 0.30000000000000004,
                        "bin_end": 0.4,
                        "count": 0
                      },
                      {
                        "bin_start": 0.4,
                        "bin_end": 0.5,
                        "count": 0
                      },
                      {
                        "bin_start": 0.5,
                        "bin_end": 0.6000000000000001,
                        "count": 0
                      },
                      {
                        "bin_start": 0.6000000000000001,
                        "bin_end": 0.7000000000000001,
                        "count": 0
                      },
                      {
                        "bin_start": 0.7000000000000001,
                        "bin_end": 0.8,
                        "count": 0
                      },
                      {
                        "bin_start": 0.8,
                        "bin_end": 0.9,
                        "count": 0
                      },
                      {
                        "bin_start": 0.9,
                        "bin_end": 1,
                        "count": 2
                      }
                    ]
                  }
                },
                {
                  "name": "Neighborhood_BrDale",
                  "dtype": "uint8",
                  "stats": {
                    "unique_count": 2,
                    "nan_count": 0,
                    "min": "0",
                    "max": "1",
                    "histogram": [
                      {
                        "bin_start": 0,
                        "bin_end": 0.1,
                        "count": 1436
                      },
                      {
                        "bin_start": 0.1,
                        "bin_end": 0.2,
                        "count": 0
                      },
                      {
                        "bin_start": 0.2,
                        "bin_end": 0.30000000000000004,
                        "count": 0
                      },
                      {
                        "bin_start": 0.30000000000000004,
                        "bin_end": 0.4,
                        "count": 0
                      },
                      {
                        "bin_start": 0.4,
                        "bin_end": 0.5,
                        "count": 0
                      },
                      {
                        "bin_start": 0.5,
                        "bin_end": 0.6000000000000001,
                        "count": 0
                      },
                      {
                        "bin_start": 0.6000000000000001,
                        "bin_end": 0.7000000000000001,
                        "count": 0
                      },
                      {
                        "bin_start": 0.7000000000000001,
                        "bin_end": 0.8,
                        "count": 0
                      },
                      {
                        "bin_start": 0.8,
                        "bin_end": 0.9,
                        "count": 0
                      },
                      {
                        "bin_start": 0.9,
                        "bin_end": 1,
                        "count": 16
                      }
                    ]
                  }
                },
                {
                  "name": "Neighborhood_BrkSide",
                  "dtype": "uint8",
                  "stats": {
                    "unique_count": 2,
                    "nan_count": 0,
                    "min": "0",
                    "max": "1",
                    "histogram": [
                      {
                        "bin_start": 0,
                        "bin_end": 0.1,
                        "count": 1394
                      },
                      {
                        "bin_start": 0.1,
                        "bin_end": 0.2,
                        "count": 0
                      },
                      {
                        "bin_start": 0.2,
                        "bin_end": 0.30000000000000004,
                        "count": 0
                      },
                      {
                        "bin_start": 0.30000000000000004,
                        "bin_end": 0.4,
                        "count": 0
                      },
                      {
                        "bin_start": 0.4,
                        "bin_end": 0.5,
                        "count": 0
                      },
                      {
                        "bin_start": 0.5,
                        "bin_end": 0.6000000000000001,
                        "count": 0
                      },
                      {
                        "bin_start": 0.6000000000000001,
                        "bin_end": 0.7000000000000001,
                        "count": 0
                      },
                      {
                        "bin_start": 0.7000000000000001,
                        "bin_end": 0.8,
                        "count": 0
                      },
                      {
                        "bin_start": 0.8,
                        "bin_end": 0.9,
                        "count": 0
                      },
                      {
                        "bin_start": 0.9,
                        "bin_end": 1,
                        "count": 58
                      }
                    ]
                  }
                },
                {
                  "name": "Neighborhood_ClearCr",
                  "dtype": "uint8",
                  "stats": {
                    "unique_count": 2,
                    "nan_count": 0,
                    "min": "0",
                    "max": "1",
                    "histogram": [
                      {
                        "bin_start": 0,
                        "bin_end": 0.1,
                        "count": 1424
                      },
                      {
                        "bin_start": 0.1,
                        "bin_end": 0.2,
                        "count": 0
                      },
                      {
                        "bin_start": 0.2,
                        "bin_end": 0.30000000000000004,
                        "count": 0
                      },
                      {
                        "bin_start": 0.30000000000000004,
                        "bin_end": 0.4,
                        "count": 0
                      },
                      {
                        "bin_start": 0.4,
                        "bin_end": 0.5,
                        "count": 0
                      },
                      {
                        "bin_start": 0.5,
                        "bin_end": 0.6000000000000001,
                        "count": 0
                      },
                      {
                        "bin_start": 0.6000000000000001,
                        "bin_end": 0.7000000000000001,
                        "count": 0
                      },
                      {
                        "bin_start": 0.7000000000000001,
                        "bin_end": 0.8,
                        "count": 0
                      },
                      {
                        "bin_start": 0.8,
                        "bin_end": 0.9,
                        "count": 0
                      },
                      {
                        "bin_start": 0.9,
                        "bin_end": 1,
                        "count": 28
                      }
                    ]
                  }
                },
                {
                  "name": "Neighborhood_CollgCr",
                  "dtype": "uint8",
                  "stats": {
                    "unique_count": 2,
                    "nan_count": 0,
                    "min": "0",
                    "max": "1",
                    "histogram": [
                      {
                        "bin_start": 0,
                        "bin_end": 0.1,
                        "count": 1303
                      },
                      {
                        "bin_start": 0.1,
                        "bin_end": 0.2,
                        "count": 0
                      },
                      {
                        "bin_start": 0.2,
                        "bin_end": 0.30000000000000004,
                        "count": 0
                      },
                      {
                        "bin_start": 0.30000000000000004,
                        "bin_end": 0.4,
                        "count": 0
                      },
                      {
                        "bin_start": 0.4,
                        "bin_end": 0.5,
                        "count": 0
                      },
                      {
                        "bin_start": 0.5,
                        "bin_end": 0.6000000000000001,
                        "count": 0
                      },
                      {
                        "bin_start": 0.6000000000000001,
                        "bin_end": 0.7000000000000001,
                        "count": 0
                      },
                      {
                        "bin_start": 0.7000000000000001,
                        "bin_end": 0.8,
                        "count": 0
                      },
                      {
                        "bin_start": 0.8,
                        "bin_end": 0.9,
                        "count": 0
                      },
                      {
                        "bin_start": 0.9,
                        "bin_end": 1,
                        "count": 149
                      }
                    ]
                  }
                },
                {
                  "name": "Neighborhood_Crawfor",
                  "dtype": "uint8",
                  "stats": {
                    "unique_count": 2,
                    "nan_count": 0,
                    "min": "0",
                    "max": "1",
                    "histogram": [
                      {
                        "bin_start": 0,
                        "bin_end": 0.1,
                        "count": 1402
                      },
                      {
                        "bin_start": 0.1,
                        "bin_end": 0.2,
                        "count": 0
                      },
                      {
                        "bin_start": 0.2,
                        "bin_end": 0.30000000000000004,
                        "count": 0
                      },
                      {
                        "bin_start": 0.30000000000000004,
                        "bin_end": 0.4,
                        "count": 0
                      },
                      {
                        "bin_start": 0.4,
                        "bin_end": 0.5,
                        "count": 0
                      },
                      {
                        "bin_start": 0.5,
                        "bin_end": 0.6000000000000001,
                        "count": 0
                      },
                      {
                        "bin_start": 0.6000000000000001,
                        "bin_end": 0.7000000000000001,
                        "count": 0
                      },
                      {
                        "bin_start": 0.7000000000000001,
                        "bin_end": 0.8,
                        "count": 0
                      },
                      {
                        "bin_start": 0.8,
                        "bin_end": 0.9,
                        "count": 0
                      },
                      {
                        "bin_start": 0.9,
                        "bin_end": 1,
                        "count": 50
                      }
                    ]
                  }
                },
                {
                  "name": "Neighborhood_Edwards",
                  "dtype": "uint8",
                  "stats": {
                    "unique_count": 2,
                    "nan_count": 0,
                    "min": "0",
                    "max": "1",
                    "histogram": [
                      {
                        "bin_start": 0,
                        "bin_end": 0.1,
                        "count": 1352
                      },
                      {
                        "bin_start": 0.1,
                        "bin_end": 0.2,
                        "count": 0
                      },
                      {
                        "bin_start": 0.2,
                        "bin_end": 0.30000000000000004,
                        "count": 0
                      },
                      {
                        "bin_start": 0.30000000000000004,
                        "bin_end": 0.4,
                        "count": 0
                      },
                      {
                        "bin_start": 0.4,
                        "bin_end": 0.5,
                        "count": 0
                      },
                      {
                        "bin_start": 0.5,
                        "bin_end": 0.6000000000000001,
                        "count": 0
                      },
                      {
                        "bin_start": 0.6000000000000001,
                        "bin_end": 0.7000000000000001,
                        "count": 0
                      },
                      {
                        "bin_start": 0.7000000000000001,
                        "bin_end": 0.8,
                        "count": 0
                      },
                      {
                        "bin_start": 0.8,
                        "bin_end": 0.9,
                        "count": 0
                      },
                      {
                        "bin_start": 0.9,
                        "bin_end": 1,
                        "count": 100
                      }
                    ]
                  }
                },
                {
                  "name": "Neighborhood_Gilbert",
                  "dtype": "uint8",
                  "stats": {
                    "unique_count": 2,
                    "nan_count": 0,
                    "min": "0",
                    "max": "1",
                    "histogram": [
                      {
                        "bin_start": 0,
                        "bin_end": 0.1,
                        "count": 1374
                      },
                      {
                        "bin_start": 0.1,
                        "bin_end": 0.2,
                        "count": 0
                      },
                      {
                        "bin_start": 0.2,
                        "bin_end": 0.30000000000000004,
                        "count": 0
                      },
                      {
                        "bin_start": 0.30000000000000004,
                        "bin_end": 0.4,
                        "count": 0
                      },
                      {
                        "bin_start": 0.4,
                        "bin_end": 0.5,
                        "count": 0
                      },
                      {
                        "bin_start": 0.5,
                        "bin_end": 0.6000000000000001,
                        "count": 0
                      },
                      {
                        "bin_start": 0.6000000000000001,
                        "bin_end": 0.7000000000000001,
                        "count": 0
                      },
                      {
                        "bin_start": 0.7000000000000001,
                        "bin_end": 0.8,
                        "count": 0
                      },
                      {
                        "bin_start": 0.8,
                        "bin_end": 0.9,
                        "count": 0
                      },
                      {
                        "bin_start": 0.9,
                        "bin_end": 1,
                        "count": 78
                      }
                    ]
                  }
                },
                {
                  "name": "Neighborhood_IDOTRR",
                  "dtype": "uint8",
                  "stats": {
                    "unique_count": 2,
                    "nan_count": 0,
                    "min": "0",
                    "max": "1",
                    "histogram": [
                      {
                        "bin_start": 0,
                        "bin_end": 0.1,
                        "count": 1415
                      },
                      {
                        "bin_start": 0.1,
                        "bin_end": 0.2,
                        "count": 0
                      },
                      {
                        "bin_start": 0.2,
                        "bin_end": 0.30000000000000004,
                        "count": 0
                      },
                      {
                        "bin_start": 0.30000000000000004,
                        "bin_end": 0.4,
                        "count": 0
                      },
                      {
                        "bin_start": 0.4,
                        "bin_end": 0.5,
                        "count": 0
                      },
                      {
                        "bin_start": 0.5,
                        "bin_end": 0.6000000000000001,
                        "count": 0
                      },
                      {
                        "bin_start": 0.6000000000000001,
                        "bin_end": 0.7000000000000001,
                        "count": 0
                      },
                      {
                        "bin_start": 0.7000000000000001,
                        "bin_end": 0.8,
                        "count": 0
                      },
                      {
                        "bin_start": 0.8,
                        "bin_end": 0.9,
                        "count": 0
                      },
                      {
                        "bin_start": 0.9,
                        "bin_end": 1,
                        "count": 37
                      }
                    ]
                  }
                },
                {
                  "name": "Neighborhood_MeadowV",
                  "dtype": "uint8"
                },
                {
                  "name": "Neighborhood_Mitchel",
                  "dtype": "uint8"
                },
                {
                  "name": "Neighborhood_NAmes",
                  "dtype": "uint8"
                },
                {
                  "name": "Neighborhood_NPkVill",
                  "dtype": "uint8"
                },
                {
                  "name": "Neighborhood_NWAmes",
                  "dtype": "uint8"
                },
                {
                  "name": "Neighborhood_NoRidge",
                  "dtype": "uint8"
                },
                {
                  "name": "Neighborhood_NridgHt",
                  "dtype": "uint8"
                },
                {
                  "name": "Neighborhood_OldTown",
                  "dtype": "uint8"
                },
                {
                  "name": "Neighborhood_SWISU",
                  "dtype": "uint8"
                },
                {
                  "name": "Neighborhood_Sawyer",
                  "dtype": "uint8"
                },
                {
                  "name": "Neighborhood_SawyerW",
                  "dtype": "uint8"
                },
                {
                  "name": "Neighborhood_Somerst",
                  "dtype": "uint8"
                },
                {
                  "name": "Neighborhood_StoneBr",
                  "dtype": "uint8"
                },
                {
                  "name": "Neighborhood_Timber",
                  "dtype": "uint8"
                },
                {
                  "name": "Neighborhood_Veenker",
                  "dtype": "uint8"
                },
                {
                  "name": "Condition1_Artery",
                  "dtype": "uint8"
                },
                {
                  "name": "Condition1_Feedr",
                  "dtype": "uint8"
                },
                {
                  "name": "Condition1_Norm",
                  "dtype": "uint8"
                },
                {
                  "name": "Condition1_PosA",
                  "dtype": "uint8"
                },
                {
                  "name": "Condition1_PosN",
                  "dtype": "uint8"
                },
                {
                  "name": "Condition1_RRAe",
                  "dtype": "uint8"
                },
                {
                  "name": "Condition1_RRAn",
                  "dtype": "uint8"
                },
                {
                  "name": "Condition1_RRNe",
                  "dtype": "uint8"
                },
                {
                  "name": "Condition1_RRNn",
                  "dtype": "uint8"
                },
                {
                  "name": "Condition2_Artery",
                  "dtype": "uint8"
                },
                {
                  "name": "Condition2_Feedr",
                  "dtype": "uint8"
                },
                {
                  "name": "Condition2_Norm",
                  "dtype": "uint8"
                },
                {
                  "name": "Condition2_PosA",
                  "dtype": "uint8"
                },
                {
                  "name": "Condition2_PosN",
                  "dtype": "uint8"
                },
                {
                  "name": "Condition2_RRAe",
                  "dtype": "uint8"
                },
                {
                  "name": "Condition2_RRAn",
                  "dtype": "uint8"
                },
                {
                  "name": "Condition2_RRNn",
                  "dtype": "uint8"
                },
                {
                  "name": "BldgType_1Fam",
                  "dtype": "uint8"
                },
                {
                  "name": "BldgType_2fmCon",
                  "dtype": "uint8"
                },
                {
                  "name": "BldgType_Duplex",
                  "dtype": "uint8"
                },
                {
                  "name": "BldgType_Twnhs",
                  "dtype": "uint8"
                },
                {
                  "name": "BldgType_TwnhsE",
                  "dtype": "uint8"
                },
                {
                  "name": "HouseStyle_1.5Fin",
                  "dtype": "uint8"
                },
                {
                  "name": "HouseStyle_1.5Unf",
                  "dtype": "uint8"
                },
                {
                  "name": "HouseStyle_1Story",
                  "dtype": "uint8"
                },
                {
                  "name": "HouseStyle_2.5Fin",
                  "dtype": "uint8"
                },
                {
                  "name": "HouseStyle_2.5Unf",
                  "dtype": "uint8"
                },
                {
                  "name": "HouseStyle_2Story",
                  "dtype": "uint8"
                },
                {
                  "name": "HouseStyle_SFoyer",
                  "dtype": "uint8"
                },
                {
                  "name": "HouseStyle_SLvl",
                  "dtype": "uint8"
                },
                {
                  "name": "RoofStyle_Flat",
                  "dtype": "uint8"
                },
                {
                  "name": "RoofStyle_Gable",
                  "dtype": "uint8"
                },
                {
                  "name": "RoofStyle_Gambrel",
                  "dtype": "uint8"
                },
                {
                  "name": "RoofStyle_Hip",
                  "dtype": "uint8"
                },
                {
                  "name": "RoofStyle_Mansard",
                  "dtype": "uint8"
                },
                {
                  "name": "RoofStyle_Shed",
                  "dtype": "uint8"
                },
                {
                  "name": "RoofMatl_ClyTile",
                  "dtype": "uint8"
                },
                {
                  "name": "RoofMatl_CompShg",
                  "dtype": "uint8"
                },
                {
                  "name": "RoofMatl_Membran",
                  "dtype": "uint8"
                },
                {
                  "name": "RoofMatl_Metal",
                  "dtype": "uint8"
                },
                {
                  "name": "RoofMatl_Roll",
                  "dtype": "uint8"
                },
                {
                  "name": "RoofMatl_Tar&Grv",
                  "dtype": "uint8"
                },
                {
                  "name": "RoofMatl_WdShake",
                  "dtype": "uint8"
                },
                {
                  "name": "RoofMatl_WdShngl",
                  "dtype": "uint8"
                },
                {
                  "name": "Exterior1st_AsbShng",
                  "dtype": "uint8"
                },
                {
                  "name": "Exterior1st_AsphShn",
                  "dtype": "uint8"
                },
                {
                  "name": "Exterior1st_BrkComm",
                  "dtype": "uint8"
                },
                {
                  "name": "Exterior1st_BrkFace",
                  "dtype": "uint8"
                },
                {
                  "name": "Exterior1st_CBlock",
                  "dtype": "uint8"
                },
                {
                  "name": "Exterior1st_CemntBd",
                  "dtype": "uint8"
                },
                {
                  "name": "Exterior1st_HdBoard",
                  "dtype": "uint8"
                },
                {
                  "name": "Exterior1st_ImStucc",
                  "dtype": "uint8"
                },
                {
                  "name": "Exterior1st_MetalSd",
                  "dtype": "uint8"
                },
                {
                  "name": "Exterior1st_Plywood",
                  "dtype": "uint8"
                },
                {
                  "name": "Exterior1st_Stone",
                  "dtype": "uint8"
                },
                {
                  "name": "Exterior1st_Stucco",
                  "dtype": "uint8"
                },
                {
                  "name": "Exterior1st_VinylSd",
                  "dtype": "uint8"
                },
                {
                  "name": "Exterior1st_Wd Sdng",
                  "dtype": "uint8"
                },
                {
                  "name": "Exterior1st_WdShing",
                  "dtype": "uint8"
                },
                {
                  "name": "Exterior2nd_AsbShng",
                  "dtype": "uint8"
                },
                {
                  "name": "Exterior2nd_AsphShn",
                  "dtype": "uint8"
                },
                {
                  "name": "Exterior2nd_Brk Cmn",
                  "dtype": "uint8"
                },
                {
                  "name": "Exterior2nd_BrkFace",
                  "dtype": "uint8"
                },
                {
                  "name": "Exterior2nd_CBlock",
                  "dtype": "uint8"
                },
                {
                  "name": "Exterior2nd_CmentBd",
                  "dtype": "uint8"
                },
                {
                  "name": "Exterior2nd_HdBoard",
                  "dtype": "uint8"
                },
                {
                  "name": "Exterior2nd_ImStucc",
                  "dtype": "uint8"
                },
                {
                  "name": "Exterior2nd_MetalSd",
                  "dtype": "uint8"
                },
                {
                  "name": "Exterior2nd_Other",
                  "dtype": "uint8"
                },
                {
                  "name": "Exterior2nd_Plywood",
                  "dtype": "uint8"
                },
                {
                  "name": "Exterior2nd_Stone",
                  "dtype": "uint8"
                },
                {
                  "name": "Exterior2nd_Stucco",
                  "dtype": "uint8"
                },
                {
                  "name": "Exterior2nd_VinylSd",
                  "dtype": "uint8"
                },
                {
                  "name": "Exterior2nd_Wd Sdng",
                  "dtype": "uint8"
                },
                {
                  "name": "Exterior2nd_Wd Shng",
                  "dtype": "uint8"
                },
                {
                  "name": "MasVnrType_BrkCmn",
                  "dtype": "uint8"
                },
                {
                  "name": "MasVnrType_BrkFace",
                  "dtype": "uint8"
                },
                {
                  "name": "MasVnrType_None",
                  "dtype": "uint8"
                },
                {
                  "name": "MasVnrType_Stone",
                  "dtype": "uint8"
                },
                {
                  "name": "ExterQual_Ex",
                  "dtype": "uint8"
                },
                {
                  "name": "ExterQual_Fa",
                  "dtype": "uint8"
                },
                {
                  "name": "ExterQual_Gd",
                  "dtype": "uint8"
                },
                {
                  "name": "ExterQual_TA",
                  "dtype": "uint8"
                },
                {
                  "name": "ExterCond_Ex",
                  "dtype": "uint8"
                },
                {
                  "name": "ExterCond_Fa",
                  "dtype": "uint8"
                },
                {
                  "name": "ExterCond_Gd",
                  "dtype": "uint8"
                },
                {
                  "name": "ExterCond_Po",
                  "dtype": "uint8"
                },
                {
                  "name": "ExterCond_TA",
                  "dtype": "uint8"
                },
                {
                  "name": "Foundation_BrkTil",
                  "dtype": "uint8"
                },
                {
                  "name": "Foundation_CBlock",
                  "dtype": "uint8"
                },
                {
                  "name": "Foundation_PConc",
                  "dtype": "uint8"
                },
                {
                  "name": "Foundation_Slab",
                  "dtype": "uint8"
                },
                {
                  "name": "Foundation_Stone",
                  "dtype": "uint8"
                },
                {
                  "name": "Foundation_Wood",
                  "dtype": "uint8"
                },
                {
                  "name": "BsmtQual_Ex",
                  "dtype": "uint8"
                },
                {
                  "name": "BsmtQual_Fa",
                  "dtype": "uint8"
                },
                {
                  "name": "BsmtQual_Gd",
                  "dtype": "uint8"
                },
                {
                  "name": "BsmtQual_NoBsmt",
                  "dtype": "uint8"
                },
                {
                  "name": "BsmtQual_TA",
                  "dtype": "uint8"
                },
                {
                  "name": "BsmtCond_Fa",
                  "dtype": "uint8"
                },
                {
                  "name": "BsmtCond_Gd",
                  "dtype": "uint8"
                },
                {
                  "name": "BsmtCond_NoBsmt",
                  "dtype": "uint8"
                },
                {
                  "name": "BsmtCond_Po",
                  "dtype": "uint8"
                },
                {
                  "name": "BsmtCond_TA",
                  "dtype": "uint8"
                },
                {
                  "name": "BsmtExposure_Av",
                  "dtype": "uint8"
                },
                {
                  "name": "BsmtExposure_Gd",
                  "dtype": "uint8"
                },
                {
                  "name": "BsmtExposure_Mn",
                  "dtype": "uint8"
                },
                {
                  "name": "BsmtExposure_No",
                  "dtype": "uint8"
                },
                {
                  "name": "BsmtExposure_NoBsmt",
                  "dtype": "uint8"
                },
                {
                  "name": "BsmtFinType1_ALQ",
                  "dtype": "uint8"
                },
                {
                  "name": "BsmtFinType1_BLQ",
                  "dtype": "uint8"
                },
                {
                  "name": "BsmtFinType1_GLQ",
                  "dtype": "uint8"
                },
                {
                  "name": "BsmtFinType1_LwQ",
                  "dtype": "uint8"
                },
                {
                  "name": "BsmtFinType1_NoBsmt",
                  "dtype": "uint8"
                },
                {
                  "name": "BsmtFinType1_Rec",
                  "dtype": "uint8"
                },
                {
                  "name": "BsmtFinType1_Unf",
                  "dtype": "uint8"
                },
                {
                  "name": "BsmtFinType2_ALQ",
                  "dtype": "uint8"
                },
                {
                  "name": "BsmtFinType2_BLQ",
                  "dtype": "uint8"
                },
                {
                  "name": "BsmtFinType2_GLQ",
                  "dtype": "uint8"
                },
                {
                  "name": "BsmtFinType2_LwQ",
                  "dtype": "uint8"
                },
                {
                  "name": "BsmtFinType2_NoBsmt",
                  "dtype": "uint8"
                },
                {
                  "name": "BsmtFinType2_Rec",
                  "dtype": "uint8"
                },
                {
                  "name": "BsmtFinType2_Unf",
                  "dtype": "uint8"
                },
                {
                  "name": "Heating_Floor",
                  "dtype": "uint8"
                },
                {
                  "name": "Heating_GasA",
                  "dtype": "uint8"
                },
                {
                  "name": "Heating_GasW",
                  "dtype": "uint8"
                },
                {
                  "name": "Heating_Grav",
                  "dtype": "uint8"
                },
                {
                  "name": "Heating_OthW",
                  "dtype": "uint8"
                },
                {
                  "name": "Heating_Wall",
                  "dtype": "uint8"
                },
                {
                  "name": "HeatingQC_Ex",
                  "dtype": "uint8"
                },
                {
                  "name": "HeatingQC_Fa",
                  "dtype": "uint8"
                },
                {
                  "name": "HeatingQC_Gd",
                  "dtype": "uint8"
                },
                {
                  "name": "HeatingQC_Po",
                  "dtype": "uint8"
                },
                {
                  "name": "HeatingQC_TA",
                  "dtype": "uint8"
                },
                {
                  "name": "CentralAir_N",
                  "dtype": "uint8"
                },
                {
                  "name": "CentralAir_Y",
                  "dtype": "uint8"
                },
                {
                  "name": "Electrical_FuseA",
                  "dtype": "uint8"
                },
                {
                  "name": "Electrical_FuseF",
                  "dtype": "uint8"
                },
                {
                  "name": "Electrical_FuseP",
                  "dtype": "uint8"
                },
                {
                  "name": "Electrical_Mix",
                  "dtype": "uint8"
                },
                {
                  "name": "Electrical_None",
                  "dtype": "uint8"
                },
                {
                  "name": "Electrical_SBrkr",
                  "dtype": "uint8"
                },
                {
                  "name": "KitchenQual_Ex",
                  "dtype": "uint8"
                },
                {
                  "name": "KitchenQual_Fa",
                  "dtype": "uint8"
                },
                {
                  "name": "KitchenQual_Gd",
                  "dtype": "uint8"
                },
                {
                  "name": "KitchenQual_TA",
                  "dtype": "uint8"
                },
                {
                  "name": "Functional_Maj1",
                  "dtype": "uint8"
                },
                {
                  "name": "Functional_Maj2",
                  "dtype": "uint8"
                },
                {
                  "name": "Functional_Min1",
                  "dtype": "uint8"
                },
                {
                  "name": "Functional_Min2",
                  "dtype": "uint8"
                },
                {
                  "name": "Functional_Mod",
                  "dtype": "uint8"
                },
                {
                  "name": "Functional_Sev",
                  "dtype": "uint8"
                },
                {
                  "name": "Functional_Typ",
                  "dtype": "uint8"
                },
                {
                  "name": "FireplaceQu_Ex",
                  "dtype": "uint8"
                },
                {
                  "name": "FireplaceQu_Fa",
                  "dtype": "uint8"
                },
                {
                  "name": "FireplaceQu_Gd",
                  "dtype": "uint8"
                },
                {
                  "name": "FireplaceQu_NoFP",
                  "dtype": "uint8"
                },
                {
                  "name": "FireplaceQu_Po",
                  "dtype": "uint8"
                },
                {
                  "name": "FireplaceQu_TA",
                  "dtype": "uint8"
                },
                {
                  "name": "GarageType_2Types",
                  "dtype": "uint8"
                },
                {
                  "name": "GarageType_Attchd",
                  "dtype": "uint8"
                },
                {
                  "name": "GarageType_Basment",
                  "dtype": "uint8"
                },
                {
                  "name": "GarageType_BuiltIn",
                  "dtype": "uint8"
                },
                {
                  "name": "GarageType_CarPort",
                  "dtype": "uint8"
                },
                {
                  "name": "GarageType_Detchd",
                  "dtype": "uint8"
                },
                {
                  "name": "GarageType_NoGarage",
                  "dtype": "uint8"
                },
                {
                  "name": "GarageYrBlt_1900.0",
                  "dtype": "uint8"
                },
                {
                  "name": "GarageYrBlt_1906.0",
                  "dtype": "uint8"
                },
                {
                  "name": "GarageYrBlt_1908.0",
                  "dtype": "uint8"
                },
                {
                  "name": "GarageYrBlt_1910.0",
                  "dtype": "uint8"
                },
                {
                  "name": "GarageYrBlt_1914.0",
                  "dtype": "uint8"
                },
                {
                  "name": "GarageYrBlt_1915.0",
                  "dtype": "uint8"
                },
                {
                  "name": "GarageYrBlt_1916.0",
                  "dtype": "uint8"
                },
                {
                  "name": "GarageYrBlt_1918.0",
                  "dtype": "uint8"
                },
                {
                  "name": "GarageYrBlt_1920.0",
                  "dtype": "uint8"
                },
                {
                  "name": "GarageYrBlt_1921.0",
                  "dtype": "uint8"
                },
                {
                  "name": "GarageYrBlt_1922.0",
                  "dtype": "uint8"
                },
                {
                  "name": "GarageYrBlt_1923.0",
                  "dtype": "uint8"
                },
                {
                  "name": "GarageYrBlt_1924.0",
                  "dtype": "uint8"
                },
                {
                  "name": "GarageYrBlt_1925.0",
                  "dtype": "uint8"
                },
                {
                  "name": "GarageYrBlt_1926.0",
                  "dtype": "uint8"
                },
                {
                  "name": "GarageYrBlt_1927.0",
                  "dtype": "uint8"
                },
                {
                  "name": "GarageYrBlt_1928.0",
                  "dtype": "uint8"
                },
                {
                  "name": "GarageYrBlt_1929.0",
                  "dtype": "uint8"
                },
                {
                  "name": "GarageYrBlt_1930.0",
                  "dtype": "uint8"
                },
                {
                  "name": "GarageYrBlt_1931.0",
                  "dtype": "uint8"
                },
                {
                  "name": "GarageYrBlt_1932.0",
                  "dtype": "uint8"
                },
                {
                  "name": "GarageYrBlt_1933.0",
                  "dtype": "uint8"
                },
                {
                  "name": "GarageYrBlt_1934.0",
                  "dtype": "uint8"
                },
                {
                  "name": "GarageYrBlt_1935.0",
                  "dtype": "uint8"
                },
                {
                  "name": "GarageYrBlt_1936.0",
                  "dtype": "uint8"
                },
                {
                  "name": "GarageYrBlt_1937.0",
                  "dtype": "uint8"
                },
                {
                  "name": "GarageYrBlt_1938.0",
                  "dtype": "uint8"
                },
                {
                  "name": "GarageYrBlt_1939.0",
                  "dtype": "uint8"
                },
                {
                  "name": "GarageYrBlt_1940.0",
                  "dtype": "uint8"
                },
                {
                  "name": "GarageYrBlt_1941.0",
                  "dtype": "uint8"
                },
                {
                  "name": "GarageYrBlt_1942.0",
                  "dtype": "uint8"
                },
                {
                  "name": "GarageYrBlt_1945.0",
                  "dtype": "uint8"
                },
                {
                  "name": "GarageYrBlt_1946.0",
                  "dtype": "uint8"
                },
                {
                  "name": "GarageYrBlt_1947.0",
                  "dtype": "uint8"
                },
                {
                  "name": "GarageYrBlt_1948.0",
                  "dtype": "uint8"
                },
                {
                  "name": "GarageYrBlt_1949.0",
                  "dtype": "uint8"
                },
                {
                  "name": "GarageYrBlt_1950.0",
                  "dtype": "uint8"
                },
                {
                  "name": "GarageYrBlt_1951.0",
                  "dtype": "uint8"
                },
                {
                  "name": "GarageYrBlt_1952.0",
                  "dtype": "uint8"
                },
                {
                  "name": "GarageYrBlt_1953.0",
                  "dtype": "uint8"
                },
                {
                  "name": "GarageYrBlt_1954.0",
                  "dtype": "uint8"
                },
                {
                  "name": "GarageYrBlt_1955.0",
                  "dtype": "uint8"
                },
                {
                  "name": "GarageYrBlt_1956.0",
                  "dtype": "uint8"
                },
                {
                  "name": "GarageYrBlt_1957.0",
                  "dtype": "uint8"
                },
                {
                  "name": "GarageYrBlt_1958.0",
                  "dtype": "uint8"
                },
                {
                  "name": "GarageYrBlt_1959.0",
                  "dtype": "uint8"
                },
                {
                  "name": "GarageYrBlt_1960.0",
                  "dtype": "uint8"
                },
                {
                  "name": "GarageYrBlt_1961.0",
                  "dtype": "uint8"
                },
                {
                  "name": "GarageYrBlt_1962.0",
                  "dtype": "uint8"
                },
                {
                  "name": "GarageYrBlt_1963.0",
                  "dtype": "uint8"
                },
                {
                  "name": "GarageYrBlt_1964.0",
                  "dtype": "uint8"
                },
                {
                  "name": "GarageYrBlt_1965.0",
                  "dtype": "uint8"
                },
                {
                  "name": "GarageYrBlt_1966.0",
                  "dtype": "uint8"
                },
                {
                  "name": "GarageYrBlt_1967.0",
                  "dtype": "uint8"
                },
                {
                  "name": "GarageYrBlt_1968.0",
                  "dtype": "uint8"
                },
                {
                  "name": "GarageYrBlt_1969.0",
                  "dtype": "uint8"
                },
                {
                  "name": "GarageYrBlt_1970.0",
                  "dtype": "uint8"
                },
                {
                  "name": "GarageYrBlt_1971.0",
                  "dtype": "uint8"
                },
                {
                  "name": "GarageYrBlt_1972.0",
                  "dtype": "uint8"
                },
                {
                  "name": "GarageYrBlt_1973.0",
                  "dtype": "uint8"
                },
                {
                  "name": "GarageYrBlt_1974.0",
                  "dtype": "uint8"
                },
                {
                  "name": "GarageYrBlt_1975.0",
                  "dtype": "uint8"
                },
                {
                  "name": "GarageYrBlt_1976.0",
                  "dtype": "uint8"
                },
                {
                  "name": "GarageYrBlt_1977.0",
                  "dtype": "uint8"
                },
                {
                  "name": "GarageYrBlt_1978.0",
                  "dtype": "uint8"
                },
                {
                  "name": "GarageYrBlt_1979.0",
                  "dtype": "uint8"
                },
                {
                  "name": "GarageYrBlt_1980.0",
                  "dtype": "uint8"
                },
                {
                  "name": "GarageYrBlt_1981.0",
                  "dtype": "uint8"
                },
                {
                  "name": "GarageYrBlt_1982.0",
                  "dtype": "uint8"
                },
                {
                  "name": "GarageYrBlt_1983.0",
                  "dtype": "uint8"
                },
                {
                  "name": "GarageYrBlt_1984.0",
                  "dtype": "uint8"
                },
                {
                  "name": "GarageYrBlt_1985.0",
                  "dtype": "uint8"
                },
                {
                  "name": "GarageYrBlt_1986.0",
                  "dtype": "uint8"
                },
                {
                  "name": "GarageYrBlt_1987.0",
                  "dtype": "uint8"
                },
                {
                  "name": "GarageYrBlt_1988.0",
                  "dtype": "uint8"
                },
                {
                  "name": "GarageYrBlt_1989.0",
                  "dtype": "uint8"
                },
                {
                  "name": "GarageYrBlt_1990.0",
                  "dtype": "uint8"
                },
                {
                  "name": "GarageYrBlt_1991.0",
                  "dtype": "uint8"
                },
                {
                  "name": "GarageYrBlt_1992.0",
                  "dtype": "uint8"
                },
                {
                  "name": "GarageYrBlt_1993.0",
                  "dtype": "uint8"
                },
                {
                  "name": "GarageYrBlt_1994.0",
                  "dtype": "uint8"
                },
                {
                  "name": "GarageYrBlt_1995.0",
                  "dtype": "uint8"
                },
                {
                  "name": "GarageYrBlt_1996.0",
                  "dtype": "uint8"
                },
                {
                  "name": "GarageYrBlt_1997.0",
                  "dtype": "uint8"
                },
                {
                  "name": "GarageYrBlt_1998.0",
                  "dtype": "uint8"
                },
                {
                  "name": "GarageYrBlt_1999.0",
                  "dtype": "uint8"
                },
                {
                  "name": "GarageYrBlt_2000.0",
                  "dtype": "uint8"
                },
                {
                  "name": "GarageYrBlt_2001.0",
                  "dtype": "uint8"
                },
                {
                  "name": "GarageYrBlt_2002.0",
                  "dtype": "uint8"
                },
                {
                  "name": "GarageYrBlt_2003.0",
                  "dtype": "uint8"
                },
                {
                  "name": "GarageYrBlt_2004.0",
                  "dtype": "uint8"
                },
                {
                  "name": "GarageYrBlt_2005.0",
                  "dtype": "uint8"
                },
                {
                  "name": "GarageYrBlt_2006.0",
                  "dtype": "uint8"
                },
                {
                  "name": "GarageYrBlt_2007.0",
                  "dtype": "uint8"
                },
                {
                  "name": "GarageYrBlt_2008.0",
                  "dtype": "uint8"
                },
                {
                  "name": "GarageYrBlt_2009.0",
                  "dtype": "uint8"
                },
                {
                  "name": "GarageYrBlt_2010.0",
                  "dtype": "uint8"
                },
                {
                  "name": "GarageYrBlt_NoGarage",
                  "dtype": "uint8"
                },
                {
                  "name": "GarageFinish_Fin",
                  "dtype": "uint8"
                },
                {
                  "name": "GarageFinish_NoGarage",
                  "dtype": "uint8"
                },
                {
                  "name": "GarageFinish_RFn",
                  "dtype": "uint8"
                },
                {
                  "name": "GarageFinish_Unf",
                  "dtype": "uint8"
                },
                {
                  "name": "GarageQual_Ex",
                  "dtype": "uint8"
                },
                {
                  "name": "GarageQual_Fa",
                  "dtype": "uint8"
                },
                {
                  "name": "GarageQual_Gd",
                  "dtype": "uint8"
                },
                {
                  "name": "GarageQual_NoGarage",
                  "dtype": "uint8"
                },
                {
                  "name": "GarageQual_Po",
                  "dtype": "uint8"
                },
                {
                  "name": "GarageQual_TA",
                  "dtype": "uint8"
                },
                {
                  "name": "GarageCond_Ex",
                  "dtype": "uint8"
                },
                {
                  "name": "GarageCond_Fa",
                  "dtype": "uint8"
                },
                {
                  "name": "GarageCond_Gd",
                  "dtype": "uint8"
                },
                {
                  "name": "GarageCond_NoGarage",
                  "dtype": "uint8"
                },
                {
                  "name": "GarageCond_Po",
                  "dtype": "uint8"
                },
                {
                  "name": "GarageCond_TA",
                  "dtype": "uint8"
                },
                {
                  "name": "PavedDrive_N",
                  "dtype": "uint8"
                },
                {
                  "name": "PavedDrive_P",
                  "dtype": "uint8"
                },
                {
                  "name": "PavedDrive_Y",
                  "dtype": "uint8"
                },
                {
                  "name": "PoolQC_Ex",
                  "dtype": "uint8"
                },
                {
                  "name": "PoolQC_Fa",
                  "dtype": "uint8"
                },
                {
                  "name": "PoolQC_Gd",
                  "dtype": "uint8"
                },
                {
                  "name": "PoolQC_NoPool",
                  "dtype": "uint8"
                },
                {
                  "name": "Fence_GdPrv",
                  "dtype": "uint8"
                },
                {
                  "name": "Fence_GdWo",
                  "dtype": "uint8"
                },
                {
                  "name": "Fence_MnPrv",
                  "dtype": "uint8"
                },
                {
                  "name": "Fence_MnWw",
                  "dtype": "uint8"
                },
                {
                  "name": "Fence_NoFence",
                  "dtype": "uint8"
                },
                {
                  "name": "MiscFeature_Gar2",
                  "dtype": "uint8"
                },
                {
                  "name": "MiscFeature_NoMF",
                  "dtype": "uint8"
                },
                {
                  "name": "MiscFeature_Othr",
                  "dtype": "uint8"
                },
                {
                  "name": "MiscFeature_Shed",
                  "dtype": "uint8"
                },
                {
                  "name": "MiscFeature_TenC",
                  "dtype": "uint8"
                },
                {
                  "name": "SaleType_COD",
                  "dtype": "uint8"
                },
                {
                  "name": "SaleType_CWD",
                  "dtype": "uint8"
                },
                {
                  "name": "SaleType_Con",
                  "dtype": "uint8"
                },
                {
                  "name": "SaleType_ConLD",
                  "dtype": "uint8"
                },
                {
                  "name": "SaleType_ConLI",
                  "dtype": "uint8"
                },
                {
                  "name": "SaleType_ConLw",
                  "dtype": "uint8"
                },
                {
                  "name": "SaleType_New",
                  "dtype": "uint8"
                },
                {
                  "name": "SaleType_Oth",
                  "dtype": "uint8"
                },
                {
                  "name": "SaleType_WD",
                  "dtype": "uint8"
                },
                {
                  "name": "SaleCondition_Abnorml",
                  "dtype": "uint8"
                },
                {
                  "name": "SaleCondition_AdjLand",
                  "dtype": "uint8"
                },
                {
                  "name": "SaleCondition_Alloca",
                  "dtype": "uint8"
                },
                {
                  "name": "SaleCondition_Family",
                  "dtype": "uint8"
                },
                {
                  "name": "SaleCondition_Normal",
                  "dtype": "uint8"
                },
                {
                  "name": "SaleCondition_Partial",
                  "dtype": "uint8"
                },
                {
                  "name": "MSSubClass_20",
                  "dtype": "uint8"
                },
                {
                  "name": "MSSubClass_30",
                  "dtype": "uint8"
                },
                {
                  "name": "MSSubClass_40",
                  "dtype": "uint8"
                },
                {
                  "name": "MSSubClass_45",
                  "dtype": "uint8"
                },
                {
                  "name": "MSSubClass_50",
                  "dtype": "uint8"
                },
                {
                  "name": "MSSubClass_60",
                  "dtype": "uint8"
                },
                {
                  "name": "MSSubClass_70",
                  "dtype": "uint8"
                },
                {
                  "name": "MSSubClass_75",
                  "dtype": "uint8"
                },
                {
                  "name": "MSSubClass_80",
                  "dtype": "uint8"
                },
                {
                  "name": "MSSubClass_85",
                  "dtype": "uint8"
                },
                {
                  "name": "MSSubClass_90",
                  "dtype": "uint8"
                },
                {
                  "name": "MSSubClass_120",
                  "dtype": "uint8"
                },
                {
                  "name": "MSSubClass_160",
                  "dtype": "uint8"
                },
                {
                  "name": "MSSubClass_180",
                  "dtype": "uint8"
                },
                {
                  "name": "MSSubClass_190",
                  "dtype": "uint8"
                },
                {
                  "name": "OverallQual_1",
                  "dtype": "uint8"
                },
                {
                  "name": "OverallQual_2",
                  "dtype": "uint8"
                },
                {
                  "name": "OverallQual_3",
                  "dtype": "uint8"
                },
                {
                  "name": "OverallQual_4",
                  "dtype": "uint8"
                },
                {
                  "name": "OverallQual_5",
                  "dtype": "uint8"
                },
                {
                  "name": "OverallQual_6",
                  "dtype": "uint8"
                },
                {
                  "name": "OverallQual_7",
                  "dtype": "uint8"
                },
                {
                  "name": "OverallQual_8",
                  "dtype": "uint8"
                },
                {
                  "name": "OverallQual_9",
                  "dtype": "uint8"
                },
                {
                  "name": "OverallQual_10",
                  "dtype": "uint8"
                },
                {
                  "name": "OverallCond_1",
                  "dtype": "uint8"
                },
                {
                  "name": "OverallCond_2",
                  "dtype": "uint8"
                },
                {
                  "name": "OverallCond_3",
                  "dtype": "uint8"
                },
                {
                  "name": "OverallCond_4",
                  "dtype": "uint8"
                },
                {
                  "name": "OverallCond_5",
                  "dtype": "uint8"
                },
                {
                  "name": "OverallCond_6",
                  "dtype": "uint8"
                },
                {
                  "name": "OverallCond_7",
                  "dtype": "uint8"
                },
                {
                  "name": "OverallCond_8",
                  "dtype": "uint8"
                },
                {
                  "name": "OverallCond_9",
                  "dtype": "uint8"
                },
                {
                  "name": "YearBuilt_1872",
                  "dtype": "uint8"
                },
                {
                  "name": "YearBuilt_1875",
                  "dtype": "uint8"
                },
                {
                  "name": "YearBuilt_1880",
                  "dtype": "uint8"
                },
                {
                  "name": "YearBuilt_1882",
                  "dtype": "uint8"
                },
                {
                  "name": "YearBuilt_1885",
                  "dtype": "uint8"
                },
                {
                  "name": "YearBuilt_1890",
                  "dtype": "uint8"
                },
                {
                  "name": "YearBuilt_1892",
                  "dtype": "uint8"
                },
                {
                  "name": "YearBuilt_1893",
                  "dtype": "uint8"
                },
                {
                  "name": "YearBuilt_1898",
                  "dtype": "uint8"
                },
                {
                  "name": "YearBuilt_1900",
                  "dtype": "uint8"
                },
                {
                  "name": "YearBuilt_1904",
                  "dtype": "uint8"
                },
                {
                  "name": "YearBuilt_1905",
                  "dtype": "uint8"
                },
                {
                  "name": "YearBuilt_1906",
                  "dtype": "uint8"
                },
                {
                  "name": "YearBuilt_1908",
                  "dtype": "uint8"
                },
                {
                  "name": "YearBuilt_1910",
                  "dtype": "uint8"
                },
                {
                  "name": "YearBuilt_1911",
                  "dtype": "uint8"
                },
                {
                  "name": "YearBuilt_1912",
                  "dtype": "uint8"
                },
                {
                  "name": "YearBuilt_1913",
                  "dtype": "uint8"
                },
                {
                  "name": "YearBuilt_1914",
                  "dtype": "uint8"
                },
                {
                  "name": "YearBuilt_1915",
                  "dtype": "uint8"
                },
                {
                  "name": "YearBuilt_1916",
                  "dtype": "uint8"
                },
                {
                  "name": "YearBuilt_1917",
                  "dtype": "uint8"
                },
                {
                  "name": "YearBuilt_1918",
                  "dtype": "uint8"
                },
                {
                  "name": "YearBuilt_1919",
                  "dtype": "uint8"
                },
                {
                  "name": "YearBuilt_1920",
                  "dtype": "uint8"
                },
                {
                  "name": "YearBuilt_1921",
                  "dtype": "uint8"
                },
                {
                  "name": "YearBuilt_1922",
                  "dtype": "uint8"
                },
                {
                  "name": "YearBuilt_1923",
                  "dtype": "uint8"
                },
                {
                  "name": "YearBuilt_1924",
                  "dtype": "uint8"
                },
                {
                  "name": "YearBuilt_1925",
                  "dtype": "uint8"
                },
                {
                  "name": "YearBuilt_1926",
                  "dtype": "uint8"
                },
                {
                  "name": "YearBuilt_1927",
                  "dtype": "uint8"
                },
                {
                  "name": "YearBuilt_1928",
                  "dtype": "uint8"
                },
                {
                  "name": "YearBuilt_1929",
                  "dtype": "uint8"
                },
                {
                  "name": "YearBuilt_1930",
                  "dtype": "uint8"
                },
                {
                  "name": "YearBuilt_1931",
                  "dtype": "uint8"
                },
                {
                  "name": "YearBuilt_1932",
                  "dtype": "uint8"
                },
                {
                  "name": "YearBuilt_1934",
                  "dtype": "uint8"
                },
                {
                  "name": "YearBuilt_1935",
                  "dtype": "uint8"
                },
                {
                  "name": "YearBuilt_1936",
                  "dtype": "uint8"
                },
                {
                  "name": "YearBuilt_1937",
                  "dtype": "uint8"
                },
                {
                  "name": "YearBuilt_1938",
                  "dtype": "uint8"
                },
                {
                  "name": "YearBuilt_1939",
                  "dtype": "uint8"
                },
                {
                  "name": "YearBuilt_1940",
                  "dtype": "uint8"
                },
                {
                  "name": "YearBuilt_1941",
                  "dtype": "uint8"
                },
                {
                  "name": "YearBuilt_1942",
                  "dtype": "uint8"
                },
                {
                  "name": "YearBuilt_1945",
                  "dtype": "uint8"
                },
                {
                  "name": "YearBuilt_1946",
                  "dtype": "uint8"
                },
                {
                  "name": "YearBuilt_1947",
                  "dtype": "uint8"
                },
                {
                  "name": "YearBuilt_1948",
                  "dtype": "uint8"
                },
                {
                  "name": "YearBuilt_1949",
                  "dtype": "uint8"
                },
                {
                  "name": "YearBuilt_1950",
                  "dtype": "uint8"
                },
                {
                  "name": "YearBuilt_1951",
                  "dtype": "uint8"
                },
                {
                  "name": "YearBuilt_1952",
                  "dtype": "uint8"
                },
                {
                  "name": "YearBuilt_1953",
                  "dtype": "uint8"
                },
                {
                  "name": "YearBuilt_1954",
                  "dtype": "uint8"
                },
                {
                  "name": "YearBuilt_1955",
                  "dtype": "uint8"
                },
                {
                  "name": "YearBuilt_1956",
                  "dtype": "uint8"
                },
                {
                  "name": "YearBuilt_1957",
                  "dtype": "uint8"
                },
                {
                  "name": "YearBuilt_1958",
                  "dtype": "uint8"
                },
                {
                  "name": "YearBuilt_1959",
                  "dtype": "uint8"
                },
                {
                  "name": "YearBuilt_1960",
                  "dtype": "uint8"
                },
                {
                  "name": "YearBuilt_1961",
                  "dtype": "uint8"
                },
                {
                  "name": "YearBuilt_1962",
                  "dtype": "uint8"
                },
                {
                  "name": "YearBuilt_1963",
                  "dtype": "uint8"
                },
                {
                  "name": "YearBuilt_1964",
                  "dtype": "uint8"
                },
                {
                  "name": "YearBuilt_1965",
                  "dtype": "uint8"
                },
                {
                  "name": "YearBuilt_1966",
                  "dtype": "uint8"
                },
                {
                  "name": "YearBuilt_1967",
                  "dtype": "uint8"
                },
                {
                  "name": "YearBuilt_1968",
                  "dtype": "uint8"
                },
                {
                  "name": "YearBuilt_1969",
                  "dtype": "uint8"
                },
                {
                  "name": "_deepnote_index_column",
                  "dtype": "int64"
                }
              ],
              "rows_top": [
                {
                  "Id": 1,
                  "LotFrontage": 65,
                  "LotArea": 8450,
                  "MasVnrArea": 196,
                  "BsmtFinSF1": 706,
                  "BsmtFinSF2": 0,
                  "BsmtUnfSF": 150,
                  "TotalBsmtSF": 856,
                  "1stFlrSF": 856,
                  "2ndFlrSF": 854,
                  "LowQualFinSF": 0,
                  "GrLivArea": 1710,
                  "BsmtFullBath": 1,
                  "BsmtHalfBath": 0,
                  "FullBath": 2,
                  "HalfBath": 1,
                  "BedroomAbvGr": 3,
                  "KitchenAbvGr": 1,
                  "TotRmsAbvGrd": 8,
                  "Fireplaces": 0,
                  "GarageCars": 2,
                  "GarageArea": 548,
                  "WoodDeckSF": 0,
                  "OpenPorchSF": 61,
                  "EnclosedPorch": 0,
                  "3SsnPorch": 0,
                  "ScreenPorch": 0,
                  "PoolArea": 0,
                  "MiscVal": 0,
                  "SalePrice": 208500,
                  "MSZoning_C (all)": 0,
                  "MSZoning_FV": 0,
                  "MSZoning_RH": 0,
                  "MSZoning_RL": 1,
                  "MSZoning_RM": 0,
                  "Street_Grvl": 0,
                  "Street_Pave": 1,
                  "Alley_Grvl": 0,
                  "Alley_NoAlley": 1,
                  "Alley_Pave": 0,
                  "LotShape_IR1": 0,
                  "LotShape_IR2": 0,
                  "LotShape_IR3": 0,
                  "LotShape_Reg": 1,
                  "LandContour_Bnk": 0,
                  "LandContour_HLS": 0,
                  "LandContour_Low": 0,
                  "LandContour_Lvl": 1,
                  "Utilities_AllPub": 1,
                  "Utilities_NoSeWa": 0,
                  "LotConfig_Corner": 0,
                  "LotConfig_CulDSac": 0,
                  "LotConfig_FR2": 0,
                  "LotConfig_FR3": 0,
                  "LotConfig_Inside": 1,
                  "LandSlope_Gtl": 1,
                  "LandSlope_Mod": 0,
                  "LandSlope_Sev": 0,
                  "Neighborhood_Blmngtn": 0,
                  "Neighborhood_Blueste": 0,
                  "Neighborhood_BrDale": 0,
                  "Neighborhood_BrkSide": 0,
                  "Neighborhood_ClearCr": 0,
                  "Neighborhood_CollgCr": 1,
                  "Neighborhood_Crawfor": 0,
                  "Neighborhood_Edwards": 0,
                  "Neighborhood_Gilbert": 0,
                  "Neighborhood_IDOTRR": 0,
                  "Neighborhood_MeadowV": 0,
                  "Neighborhood_Mitchel": 0,
                  "Neighborhood_NAmes": 0,
                  "Neighborhood_NPkVill": 0,
                  "Neighborhood_NWAmes": 0,
                  "Neighborhood_NoRidge": 0,
                  "Neighborhood_NridgHt": 0,
                  "Neighborhood_OldTown": 0,
                  "Neighborhood_SWISU": 0,
                  "Neighborhood_Sawyer": 0,
                  "Neighborhood_SawyerW": 0,
                  "Neighborhood_Somerst": 0,
                  "Neighborhood_StoneBr": 0,
                  "Neighborhood_Timber": 0,
                  "Neighborhood_Veenker": 0,
                  "Condition1_Artery": 0,
                  "Condition1_Feedr": 0,
                  "Condition1_Norm": 1,
                  "Condition1_PosA": 0,
                  "Condition1_PosN": 0,
                  "Condition1_RRAe": 0,
                  "Condition1_RRAn": 0,
                  "Condition1_RRNe": 0,
                  "Condition1_RRNn": 0,
                  "Condition2_Artery": 0,
                  "Condition2_Feedr": 0,
                  "Condition2_Norm": 1,
                  "Condition2_PosA": 0,
                  "Condition2_PosN": 0,
                  "Condition2_RRAe": 0,
                  "Condition2_RRAn": 0,
                  "Condition2_RRNn": 0,
                  "BldgType_1Fam": 1,
                  "BldgType_2fmCon": 0,
                  "BldgType_Duplex": 0,
                  "BldgType_Twnhs": 0,
                  "BldgType_TwnhsE": 0,
                  "HouseStyle_1.5Fin": 0,
                  "HouseStyle_1.5Unf": 0,
                  "HouseStyle_1Story": 0,
                  "HouseStyle_2.5Fin": 0,
                  "HouseStyle_2.5Unf": 0,
                  "HouseStyle_2Story": 1,
                  "HouseStyle_SFoyer": 0,
                  "HouseStyle_SLvl": 0,
                  "RoofStyle_Flat": 0,
                  "RoofStyle_Gable": 1,
                  "RoofStyle_Gambrel": 0,
                  "RoofStyle_Hip": 0,
                  "RoofStyle_Mansard": 0,
                  "RoofStyle_Shed": 0,
                  "RoofMatl_ClyTile": 0,
                  "RoofMatl_CompShg": 1,
                  "RoofMatl_Membran": 0,
                  "RoofMatl_Metal": 0,
                  "RoofMatl_Roll": 0,
                  "RoofMatl_Tar&Grv": 0,
                  "RoofMatl_WdShake": 0,
                  "RoofMatl_WdShngl": 0,
                  "Exterior1st_AsbShng": 0,
                  "Exterior1st_AsphShn": 0,
                  "Exterior1st_BrkComm": 0,
                  "Exterior1st_BrkFace": 0,
                  "Exterior1st_CBlock": 0,
                  "Exterior1st_CemntBd": 0,
                  "Exterior1st_HdBoard": 0,
                  "Exterior1st_ImStucc": 0,
                  "Exterior1st_MetalSd": 0,
                  "Exterior1st_Plywood": 0,
                  "Exterior1st_Stone": 0,
                  "Exterior1st_Stucco": 0,
                  "Exterior1st_VinylSd": 1,
                  "Exterior1st_Wd Sdng": 0,
                  "Exterior1st_WdShing": 0,
                  "Exterior2nd_AsbShng": 0,
                  "Exterior2nd_AsphShn": 0,
                  "Exterior2nd_Brk Cmn": 0,
                  "Exterior2nd_BrkFace": 0,
                  "Exterior2nd_CBlock": 0,
                  "Exterior2nd_CmentBd": 0,
                  "Exterior2nd_HdBoard": 0,
                  "Exterior2nd_ImStucc": 0,
                  "Exterior2nd_MetalSd": 0,
                  "Exterior2nd_Other": 0,
                  "Exterior2nd_Plywood": 0,
                  "Exterior2nd_Stone": 0,
                  "Exterior2nd_Stucco": 0,
                  "Exterior2nd_VinylSd": 1,
                  "Exterior2nd_Wd Sdng": 0,
                  "Exterior2nd_Wd Shng": 0,
                  "MasVnrType_BrkCmn": 0,
                  "MasVnrType_BrkFace": 1,
                  "MasVnrType_None": 0,
                  "MasVnrType_Stone": 0,
                  "ExterQual_Ex": 0,
                  "ExterQual_Fa": 0,
                  "ExterQual_Gd": 1,
                  "ExterQual_TA": 0,
                  "ExterCond_Ex": 0,
                  "ExterCond_Fa": 0,
                  "ExterCond_Gd": 0,
                  "ExterCond_Po": 0,
                  "ExterCond_TA": 1,
                  "Foundation_BrkTil": 0,
                  "Foundation_CBlock": 0,
                  "Foundation_PConc": 1,
                  "Foundation_Slab": 0,
                  "Foundation_Stone": 0,
                  "Foundation_Wood": 0,
                  "BsmtQual_Ex": 0,
                  "BsmtQual_Fa": 0,
                  "BsmtQual_Gd": 1,
                  "BsmtQual_NoBsmt": 0,
                  "BsmtQual_TA": 0,
                  "BsmtCond_Fa": 0,
                  "BsmtCond_Gd": 0,
                  "BsmtCond_NoBsmt": 0,
                  "BsmtCond_Po": 0,
                  "BsmtCond_TA": 1,
                  "BsmtExposure_Av": 0,
                  "BsmtExposure_Gd": 0,
                  "BsmtExposure_Mn": 0,
                  "BsmtExposure_No": 1,
                  "BsmtExposure_NoBsmt": 0,
                  "BsmtFinType1_ALQ": 0,
                  "BsmtFinType1_BLQ": 0,
                  "BsmtFinType1_GLQ": 1,
                  "BsmtFinType1_LwQ": 0,
                  "BsmtFinType1_NoBsmt": 0,
                  "BsmtFinType1_Rec": 0,
                  "BsmtFinType1_Unf": 0,
                  "BsmtFinType2_ALQ": 0,
                  "BsmtFinType2_BLQ": 0,
                  "BsmtFinType2_GLQ": 0,
                  "BsmtFinType2_LwQ": 0,
                  "BsmtFinType2_NoBsmt": 0,
                  "BsmtFinType2_Rec": 0,
                  "BsmtFinType2_Unf": 1,
                  "Heating_Floor": 0,
                  "Heating_GasA": 1,
                  "Heating_GasW": 0,
                  "Heating_Grav": 0,
                  "Heating_OthW": 0,
                  "Heating_Wall": 0,
                  "HeatingQC_Ex": 1,
                  "HeatingQC_Fa": 0,
                  "HeatingQC_Gd": 0,
                  "HeatingQC_Po": 0,
                  "HeatingQC_TA": 0,
                  "CentralAir_N": 0,
                  "CentralAir_Y": 1,
                  "Electrical_FuseA": 0,
                  "Electrical_FuseF": 0,
                  "Electrical_FuseP": 0,
                  "Electrical_Mix": 0,
                  "Electrical_None": 0,
                  "Electrical_SBrkr": 1,
                  "KitchenQual_Ex": 0,
                  "KitchenQual_Fa": 0,
                  "KitchenQual_Gd": 1,
                  "KitchenQual_TA": 0,
                  "Functional_Maj1": 0,
                  "Functional_Maj2": 0,
                  "Functional_Min1": 0,
                  "Functional_Min2": 0,
                  "Functional_Mod": 0,
                  "Functional_Sev": 0,
                  "Functional_Typ": 1,
                  "FireplaceQu_Ex": 0,
                  "FireplaceQu_Fa": 0,
                  "FireplaceQu_Gd": 0,
                  "FireplaceQu_NoFP": 1,
                  "FireplaceQu_Po": 0,
                  "FireplaceQu_TA": 0,
                  "GarageType_2Types": 0,
                  "GarageType_Attchd": 1,
                  "GarageType_Basment": 0,
                  "GarageType_BuiltIn": 0,
                  "GarageType_CarPort": 0,
                  "GarageType_Detchd": 0,
                  "GarageType_NoGarage": 0,
                  "GarageYrBlt_1900.0": 0,
                  "GarageYrBlt_1906.0": 0,
                  "GarageYrBlt_1908.0": 0,
                  "GarageYrBlt_1910.0": 0,
                  "GarageYrBlt_1914.0": 0,
                  "GarageYrBlt_1915.0": 0,
                  "GarageYrBlt_1916.0": 0,
                  "GarageYrBlt_1918.0": 0,
                  "GarageYrBlt_1920.0": 0,
                  "GarageYrBlt_1921.0": 0,
                  "GarageYrBlt_1922.0": 0,
                  "GarageYrBlt_1923.0": 0,
                  "GarageYrBlt_1924.0": 0,
                  "GarageYrBlt_1925.0": 0,
                  "GarageYrBlt_1926.0": 0,
                  "GarageYrBlt_1927.0": 0,
                  "GarageYrBlt_1928.0": 0,
                  "GarageYrBlt_1929.0": 0,
                  "GarageYrBlt_1930.0": 0,
                  "GarageYrBlt_1931.0": 0,
                  "GarageYrBlt_1932.0": 0,
                  "GarageYrBlt_1933.0": 0,
                  "GarageYrBlt_1934.0": 0,
                  "GarageYrBlt_1935.0": 0,
                  "GarageYrBlt_1936.0": 0,
                  "GarageYrBlt_1937.0": 0,
                  "GarageYrBlt_1938.0": 0,
                  "GarageYrBlt_1939.0": 0,
                  "GarageYrBlt_1940.0": 0,
                  "GarageYrBlt_1941.0": 0,
                  "GarageYrBlt_1942.0": 0,
                  "GarageYrBlt_1945.0": 0,
                  "GarageYrBlt_1946.0": 0,
                  "GarageYrBlt_1947.0": 0,
                  "GarageYrBlt_1948.0": 0,
                  "GarageYrBlt_1949.0": 0,
                  "GarageYrBlt_1950.0": 0,
                  "GarageYrBlt_1951.0": 0,
                  "GarageYrBlt_1952.0": 0,
                  "GarageYrBlt_1953.0": 0,
                  "GarageYrBlt_1954.0": 0,
                  "GarageYrBlt_1955.0": 0,
                  "GarageYrBlt_1956.0": 0,
                  "GarageYrBlt_1957.0": 0,
                  "GarageYrBlt_1958.0": 0,
                  "GarageYrBlt_1959.0": 0,
                  "GarageYrBlt_1960.0": 0,
                  "GarageYrBlt_1961.0": 0,
                  "GarageYrBlt_1962.0": 0,
                  "GarageYrBlt_1963.0": 0,
                  "GarageYrBlt_1964.0": 0,
                  "GarageYrBlt_1965.0": 0,
                  "GarageYrBlt_1966.0": 0,
                  "GarageYrBlt_1967.0": 0,
                  "GarageYrBlt_1968.0": 0,
                  "GarageYrBlt_1969.0": 0,
                  "GarageYrBlt_1970.0": 0,
                  "GarageYrBlt_1971.0": 0,
                  "GarageYrBlt_1972.0": 0,
                  "GarageYrBlt_1973.0": 0,
                  "GarageYrBlt_1974.0": 0,
                  "GarageYrBlt_1975.0": 0,
                  "GarageYrBlt_1976.0": 0,
                  "GarageYrBlt_1977.0": 0,
                  "GarageYrBlt_1978.0": 0,
                  "GarageYrBlt_1979.0": 0,
                  "GarageYrBlt_1980.0": 0,
                  "GarageYrBlt_1981.0": 0,
                  "GarageYrBlt_1982.0": 0,
                  "GarageYrBlt_1983.0": 0,
                  "GarageYrBlt_1984.0": 0,
                  "GarageYrBlt_1985.0": 0,
                  "GarageYrBlt_1986.0": 0,
                  "GarageYrBlt_1987.0": 0,
                  "GarageYrBlt_1988.0": 0,
                  "GarageYrBlt_1989.0": 0,
                  "GarageYrBlt_1990.0": 0,
                  "GarageYrBlt_1991.0": 0,
                  "GarageYrBlt_1992.0": 0,
                  "GarageYrBlt_1993.0": 0,
                  "GarageYrBlt_1994.0": 0,
                  "GarageYrBlt_1995.0": 0,
                  "GarageYrBlt_1996.0": 0,
                  "GarageYrBlt_1997.0": 0,
                  "GarageYrBlt_1998.0": 0,
                  "GarageYrBlt_1999.0": 0,
                  "GarageYrBlt_2000.0": 0,
                  "GarageYrBlt_2001.0": 0,
                  "GarageYrBlt_2002.0": 0,
                  "GarageYrBlt_2003.0": 1,
                  "GarageYrBlt_2004.0": 0,
                  "GarageYrBlt_2005.0": 0,
                  "GarageYrBlt_2006.0": 0,
                  "GarageYrBlt_2007.0": 0,
                  "GarageYrBlt_2008.0": 0,
                  "GarageYrBlt_2009.0": 0,
                  "GarageYrBlt_2010.0": 0,
                  "GarageYrBlt_NoGarage": 0,
                  "GarageFinish_Fin": 0,
                  "GarageFinish_NoGarage": 0,
                  "GarageFinish_RFn": 1,
                  "GarageFinish_Unf": 0,
                  "GarageQual_Ex": 0,
                  "GarageQual_Fa": 0,
                  "GarageQual_Gd": 0,
                  "GarageQual_NoGarage": 0,
                  "GarageQual_Po": 0,
                  "GarageQual_TA": 1,
                  "GarageCond_Ex": 0,
                  "GarageCond_Fa": 0,
                  "GarageCond_Gd": 0,
                  "GarageCond_NoGarage": 0,
                  "GarageCond_Po": 0,
                  "GarageCond_TA": 1,
                  "PavedDrive_N": 0,
                  "PavedDrive_P": 0,
                  "PavedDrive_Y": 1,
                  "PoolQC_Ex": 0,
                  "PoolQC_Fa": 0,
                  "PoolQC_Gd": 0,
                  "PoolQC_NoPool": 1,
                  "Fence_GdPrv": 0,
                  "Fence_GdWo": 0,
                  "Fence_MnPrv": 0,
                  "Fence_MnWw": 0,
                  "Fence_NoFence": 1,
                  "MiscFeature_Gar2": 0,
                  "MiscFeature_NoMF": 1,
                  "MiscFeature_Othr": 0,
                  "MiscFeature_Shed": 0,
                  "MiscFeature_TenC": 0,
                  "SaleType_COD": 0,
                  "SaleType_CWD": 0,
                  "SaleType_Con": 0,
                  "SaleType_ConLD": 0,
                  "SaleType_ConLI": 0,
                  "SaleType_ConLw": 0,
                  "SaleType_New": 0,
                  "SaleType_Oth": 0,
                  "SaleType_WD": 1,
                  "SaleCondition_Abnorml": 0,
                  "SaleCondition_AdjLand": 0,
                  "SaleCondition_Alloca": 0,
                  "SaleCondition_Family": 0,
                  "SaleCondition_Normal": 1,
                  "SaleCondition_Partial": 0,
                  "MSSubClass_20": 0,
                  "MSSubClass_30": 0,
                  "MSSubClass_40": 0,
                  "MSSubClass_45": 0,
                  "MSSubClass_50": 0,
                  "MSSubClass_60": 1,
                  "MSSubClass_70": 0,
                  "MSSubClass_75": 0,
                  "MSSubClass_80": 0,
                  "MSSubClass_85": 0,
                  "MSSubClass_90": 0,
                  "MSSubClass_120": 0,
                  "MSSubClass_160": 0,
                  "MSSubClass_180": 0,
                  "MSSubClass_190": 0,
                  "OverallQual_1": 0,
                  "OverallQual_2": 0,
                  "OverallQual_3": 0,
                  "OverallQual_4": 0,
                  "OverallQual_5": 0,
                  "OverallQual_6": 0,
                  "OverallQual_7": 1,
                  "OverallQual_8": 0,
                  "OverallQual_9": 0,
                  "OverallQual_10": 0,
                  "OverallCond_1": 0,
                  "OverallCond_2": 0,
                  "OverallCond_3": 0,
                  "OverallCond_4": 0,
                  "OverallCond_5": 1,
                  "OverallCond_6": 0,
                  "OverallCond_7": 0,
                  "OverallCond_8": 0,
                  "OverallCond_9": 0,
                  "YearBuilt_1872": 0,
                  "YearBuilt_1875": 0,
                  "YearBuilt_1880": 0,
                  "YearBuilt_1882": 0,
                  "YearBuilt_1885": 0,
                  "YearBuilt_1890": 0,
                  "YearBuilt_1892": 0,
                  "YearBuilt_1893": 0,
                  "YearBuilt_1898": 0,
                  "YearBuilt_1900": 0,
                  "YearBuilt_1904": 0,
                  "YearBuilt_1905": 0,
                  "YearBuilt_1906": 0,
                  "YearBuilt_1908": 0,
                  "YearBuilt_1910": 0,
                  "YearBuilt_1911": 0,
                  "YearBuilt_1912": 0,
                  "YearBuilt_1913": 0,
                  "YearBuilt_1914": 0,
                  "YearBuilt_1915": 0,
                  "YearBuilt_1916": 0,
                  "YearBuilt_1917": 0,
                  "YearBuilt_1918": 0,
                  "YearBuilt_1919": 0,
                  "YearBuilt_1920": 0,
                  "YearBuilt_1921": 0,
                  "YearBuilt_1922": 0,
                  "YearBuilt_1923": 0,
                  "YearBuilt_1924": 0,
                  "YearBuilt_1925": 0,
                  "YearBuilt_1926": 0,
                  "YearBuilt_1927": 0,
                  "YearBuilt_1928": 0,
                  "YearBuilt_1929": 0,
                  "YearBuilt_1930": 0,
                  "YearBuilt_1931": 0,
                  "YearBuilt_1932": 0,
                  "YearBuilt_1934": 0,
                  "YearBuilt_1935": 0,
                  "YearBuilt_1936": 0,
                  "YearBuilt_1937": 0,
                  "YearBuilt_1938": 0,
                  "YearBuilt_1939": 0,
                  "YearBuilt_1940": 0,
                  "YearBuilt_1941": 0,
                  "YearBuilt_1942": 0,
                  "YearBuilt_1945": 0,
                  "YearBuilt_1946": 0,
                  "YearBuilt_1947": 0,
                  "YearBuilt_1948": 0,
                  "YearBuilt_1949": 0,
                  "YearBuilt_1950": 0,
                  "YearBuilt_1951": 0,
                  "YearBuilt_1952": 0,
                  "YearBuilt_1953": 0,
                  "YearBuilt_1954": 0,
                  "YearBuilt_1955": 0,
                  "YearBuilt_1956": 0,
                  "YearBuilt_1957": 0,
                  "YearBuilt_1958": 0,
                  "YearBuilt_1959": 0,
                  "YearBuilt_1960": 0,
                  "YearBuilt_1961": 0,
                  "YearBuilt_1962": 0,
                  "YearBuilt_1963": 0,
                  "YearBuilt_1964": 0,
                  "YearBuilt_1965": 0,
                  "YearBuilt_1966": 0,
                  "YearBuilt_1967": 0,
                  "YearBuilt_1968": 0,
                  "YearBuilt_1969": 0,
                  "_deepnote_index_column": 0
                }
              ],
              "rows_bottom": [
                {
                  "Id": 1460,
                  "LotFrontage": 75,
                  "LotArea": 9937,
                  "MasVnrArea": 0,
                  "BsmtFinSF1": 830,
                  "BsmtFinSF2": 290,
                  "BsmtUnfSF": 136,
                  "TotalBsmtSF": 1256,
                  "1stFlrSF": 1256,
                  "2ndFlrSF": 0,
                  "LowQualFinSF": 0,
                  "GrLivArea": 1256,
                  "BsmtFullBath": 1,
                  "BsmtHalfBath": 0,
                  "FullBath": 1,
                  "HalfBath": 1,
                  "BedroomAbvGr": 3,
                  "KitchenAbvGr": 1,
                  "TotRmsAbvGrd": 6,
                  "Fireplaces": 0,
                  "GarageCars": 1,
                  "GarageArea": 276,
                  "WoodDeckSF": 736,
                  "OpenPorchSF": 68,
                  "EnclosedPorch": 0,
                  "3SsnPorch": 0,
                  "ScreenPorch": 0,
                  "PoolArea": 0,
                  "MiscVal": 0,
                  "SalePrice": 147500,
                  "MSZoning_C (all)": 0,
                  "MSZoning_FV": 0,
                  "MSZoning_RH": 0,
                  "MSZoning_RL": 1,
                  "MSZoning_RM": 0,
                  "Street_Grvl": 0,
                  "Street_Pave": 1,
                  "Alley_Grvl": 0,
                  "Alley_NoAlley": 1,
                  "Alley_Pave": 0,
                  "LotShape_IR1": 0,
                  "LotShape_IR2": 0,
                  "LotShape_IR3": 0,
                  "LotShape_Reg": 1,
                  "LandContour_Bnk": 0,
                  "LandContour_HLS": 0,
                  "LandContour_Low": 0,
                  "LandContour_Lvl": 1,
                  "Utilities_AllPub": 1,
                  "Utilities_NoSeWa": 0,
                  "LotConfig_Corner": 0,
                  "LotConfig_CulDSac": 0,
                  "LotConfig_FR2": 0,
                  "LotConfig_FR3": 0,
                  "LotConfig_Inside": 1,
                  "LandSlope_Gtl": 1,
                  "LandSlope_Mod": 0,
                  "LandSlope_Sev": 0,
                  "Neighborhood_Blmngtn": 0,
                  "Neighborhood_Blueste": 0,
                  "Neighborhood_BrDale": 0,
                  "Neighborhood_BrkSide": 0,
                  "Neighborhood_ClearCr": 0,
                  "Neighborhood_CollgCr": 0,
                  "Neighborhood_Crawfor": 0,
                  "Neighborhood_Edwards": 1,
                  "Neighborhood_Gilbert": 0,
                  "Neighborhood_IDOTRR": 0,
                  "Neighborhood_MeadowV": 0,
                  "Neighborhood_Mitchel": 0,
                  "Neighborhood_NAmes": 0,
                  "Neighborhood_NPkVill": 0,
                  "Neighborhood_NWAmes": 0,
                  "Neighborhood_NoRidge": 0,
                  "Neighborhood_NridgHt": 0,
                  "Neighborhood_OldTown": 0,
                  "Neighborhood_SWISU": 0,
                  "Neighborhood_Sawyer": 0,
                  "Neighborhood_SawyerW": 0,
                  "Neighborhood_Somerst": 0,
                  "Neighborhood_StoneBr": 0,
                  "Neighborhood_Timber": 0,
                  "Neighborhood_Veenker": 0,
                  "Condition1_Artery": 0,
                  "Condition1_Feedr": 0,
                  "Condition1_Norm": 1,
                  "Condition1_PosA": 0,
                  "Condition1_PosN": 0,
                  "Condition1_RRAe": 0,
                  "Condition1_RRAn": 0,
                  "Condition1_RRNe": 0,
                  "Condition1_RRNn": 0,
                  "Condition2_Artery": 0,
                  "Condition2_Feedr": 0,
                  "Condition2_Norm": 1,
                  "Condition2_PosA": 0,
                  "Condition2_PosN": 0,
                  "Condition2_RRAe": 0,
                  "Condition2_RRAn": 0,
                  "Condition2_RRNn": 0,
                  "BldgType_1Fam": 1,
                  "BldgType_2fmCon": 0,
                  "BldgType_Duplex": 0,
                  "BldgType_Twnhs": 0,
                  "BldgType_TwnhsE": 0,
                  "HouseStyle_1.5Fin": 0,
                  "HouseStyle_1.5Unf": 0,
                  "HouseStyle_1Story": 1,
                  "HouseStyle_2.5Fin": 0,
                  "HouseStyle_2.5Unf": 0,
                  "HouseStyle_2Story": 0,
                  "HouseStyle_SFoyer": 0,
                  "HouseStyle_SLvl": 0,
                  "RoofStyle_Flat": 0,
                  "RoofStyle_Gable": 1,
                  "RoofStyle_Gambrel": 0,
                  "RoofStyle_Hip": 0,
                  "RoofStyle_Mansard": 0,
                  "RoofStyle_Shed": 0,
                  "RoofMatl_ClyTile": 0,
                  "RoofMatl_CompShg": 1,
                  "RoofMatl_Membran": 0,
                  "RoofMatl_Metal": 0,
                  "RoofMatl_Roll": 0,
                  "RoofMatl_Tar&Grv": 0,
                  "RoofMatl_WdShake": 0,
                  "RoofMatl_WdShngl": 0,
                  "Exterior1st_AsbShng": 0,
                  "Exterior1st_AsphShn": 0,
                  "Exterior1st_BrkComm": 0,
                  "Exterior1st_BrkFace": 0,
                  "Exterior1st_CBlock": 0,
                  "Exterior1st_CemntBd": 0,
                  "Exterior1st_HdBoard": 1,
                  "Exterior1st_ImStucc": 0,
                  "Exterior1st_MetalSd": 0,
                  "Exterior1st_Plywood": 0,
                  "Exterior1st_Stone": 0,
                  "Exterior1st_Stucco": 0,
                  "Exterior1st_VinylSd": 0,
                  "Exterior1st_Wd Sdng": 0,
                  "Exterior1st_WdShing": 0,
                  "Exterior2nd_AsbShng": 0,
                  "Exterior2nd_AsphShn": 0,
                  "Exterior2nd_Brk Cmn": 0,
                  "Exterior2nd_BrkFace": 0,
                  "Exterior2nd_CBlock": 0,
                  "Exterior2nd_CmentBd": 0,
                  "Exterior2nd_HdBoard": 1,
                  "Exterior2nd_ImStucc": 0,
                  "Exterior2nd_MetalSd": 0,
                  "Exterior2nd_Other": 0,
                  "Exterior2nd_Plywood": 0,
                  "Exterior2nd_Stone": 0,
                  "Exterior2nd_Stucco": 0,
                  "Exterior2nd_VinylSd": 0,
                  "Exterior2nd_Wd Sdng": 0,
                  "Exterior2nd_Wd Shng": 0,
                  "MasVnrType_BrkCmn": 0,
                  "MasVnrType_BrkFace": 0,
                  "MasVnrType_None": 1,
                  "MasVnrType_Stone": 0,
                  "ExterQual_Ex": 0,
                  "ExterQual_Fa": 0,
                  "ExterQual_Gd": 1,
                  "ExterQual_TA": 0,
                  "ExterCond_Ex": 0,
                  "ExterCond_Fa": 0,
                  "ExterCond_Gd": 0,
                  "ExterCond_Po": 0,
                  "ExterCond_TA": 1,
                  "Foundation_BrkTil": 0,
                  "Foundation_CBlock": 1,
                  "Foundation_PConc": 0,
                  "Foundation_Slab": 0,
                  "Foundation_Stone": 0,
                  "Foundation_Wood": 0,
                  "BsmtQual_Ex": 0,
                  "BsmtQual_Fa": 0,
                  "BsmtQual_Gd": 0,
                  "BsmtQual_NoBsmt": 0,
                  "BsmtQual_TA": 1,
                  "BsmtCond_Fa": 0,
                  "BsmtCond_Gd": 0,
                  "BsmtCond_NoBsmt": 0,
                  "BsmtCond_Po": 0,
                  "BsmtCond_TA": 1,
                  "BsmtExposure_Av": 0,
                  "BsmtExposure_Gd": 0,
                  "BsmtExposure_Mn": 0,
                  "BsmtExposure_No": 1,
                  "BsmtExposure_NoBsmt": 0,
                  "BsmtFinType1_ALQ": 0,
                  "BsmtFinType1_BLQ": 1,
                  "BsmtFinType1_GLQ": 0,
                  "BsmtFinType1_LwQ": 0,
                  "BsmtFinType1_NoBsmt": 0,
                  "BsmtFinType1_Rec": 0,
                  "BsmtFinType1_Unf": 0,
                  "BsmtFinType2_ALQ": 0,
                  "BsmtFinType2_BLQ": 0,
                  "BsmtFinType2_GLQ": 0,
                  "BsmtFinType2_LwQ": 1,
                  "BsmtFinType2_NoBsmt": 0,
                  "BsmtFinType2_Rec": 0,
                  "BsmtFinType2_Unf": 0,
                  "Heating_Floor": 0,
                  "Heating_GasA": 1,
                  "Heating_GasW": 0,
                  "Heating_Grav": 0,
                  "Heating_OthW": 0,
                  "Heating_Wall": 0,
                  "HeatingQC_Ex": 0,
                  "HeatingQC_Fa": 0,
                  "HeatingQC_Gd": 1,
                  "HeatingQC_Po": 0,
                  "HeatingQC_TA": 0,
                  "CentralAir_N": 0,
                  "CentralAir_Y": 1,
                  "Electrical_FuseA": 0,
                  "Electrical_FuseF": 0,
                  "Electrical_FuseP": 0,
                  "Electrical_Mix": 0,
                  "Electrical_None": 0,
                  "Electrical_SBrkr": 1,
                  "KitchenQual_Ex": 0,
                  "KitchenQual_Fa": 0,
                  "KitchenQual_Gd": 0,
                  "KitchenQual_TA": 1,
                  "Functional_Maj1": 0,
                  "Functional_Maj2": 0,
                  "Functional_Min1": 0,
                  "Functional_Min2": 0,
                  "Functional_Mod": 0,
                  "Functional_Sev": 0,
                  "Functional_Typ": 1,
                  "FireplaceQu_Ex": 0,
                  "FireplaceQu_Fa": 0,
                  "FireplaceQu_Gd": 0,
                  "FireplaceQu_NoFP": 1,
                  "FireplaceQu_Po": 0,
                  "FireplaceQu_TA": 0,
                  "GarageType_2Types": 0,
                  "GarageType_Attchd": 1,
                  "GarageType_Basment": 0,
                  "GarageType_BuiltIn": 0,
                  "GarageType_CarPort": 0,
                  "GarageType_Detchd": 0,
                  "GarageType_NoGarage": 0,
                  "GarageYrBlt_1900.0": 0,
                  "GarageYrBlt_1906.0": 0,
                  "GarageYrBlt_1908.0": 0,
                  "GarageYrBlt_1910.0": 0,
                  "GarageYrBlt_1914.0": 0,
                  "GarageYrBlt_1915.0": 0,
                  "GarageYrBlt_1916.0": 0,
                  "GarageYrBlt_1918.0": 0,
                  "GarageYrBlt_1920.0": 0,
                  "GarageYrBlt_1921.0": 0,
                  "GarageYrBlt_1922.0": 0,
                  "GarageYrBlt_1923.0": 0,
                  "GarageYrBlt_1924.0": 0,
                  "GarageYrBlt_1925.0": 0,
                  "GarageYrBlt_1926.0": 0,
                  "GarageYrBlt_1927.0": 0,
                  "GarageYrBlt_1928.0": 0,
                  "GarageYrBlt_1929.0": 0,
                  "GarageYrBlt_1930.0": 0,
                  "GarageYrBlt_1931.0": 0,
                  "GarageYrBlt_1932.0": 0,
                  "GarageYrBlt_1933.0": 0,
                  "GarageYrBlt_1934.0": 0,
                  "GarageYrBlt_1935.0": 0,
                  "GarageYrBlt_1936.0": 0,
                  "GarageYrBlt_1937.0": 0,
                  "GarageYrBlt_1938.0": 0,
                  "GarageYrBlt_1939.0": 0,
                  "GarageYrBlt_1940.0": 0,
                  "GarageYrBlt_1941.0": 0,
                  "GarageYrBlt_1942.0": 0,
                  "GarageYrBlt_1945.0": 0,
                  "GarageYrBlt_1946.0": 0,
                  "GarageYrBlt_1947.0": 0,
                  "GarageYrBlt_1948.0": 0,
                  "GarageYrBlt_1949.0": 0,
                  "GarageYrBlt_1950.0": 0,
                  "GarageYrBlt_1951.0": 0,
                  "GarageYrBlt_1952.0": 0,
                  "GarageYrBlt_1953.0": 0,
                  "GarageYrBlt_1954.0": 0,
                  "GarageYrBlt_1955.0": 0,
                  "GarageYrBlt_1956.0": 0,
                  "GarageYrBlt_1957.0": 0,
                  "GarageYrBlt_1958.0": 0,
                  "GarageYrBlt_1959.0": 0,
                  "GarageYrBlt_1960.0": 0,
                  "GarageYrBlt_1961.0": 0,
                  "GarageYrBlt_1962.0": 0,
                  "GarageYrBlt_1963.0": 0,
                  "GarageYrBlt_1964.0": 0,
                  "GarageYrBlt_1965.0": 1,
                  "GarageYrBlt_1966.0": 0,
                  "GarageYrBlt_1967.0": 0,
                  "GarageYrBlt_1968.0": 0,
                  "GarageYrBlt_1969.0": 0,
                  "GarageYrBlt_1970.0": 0,
                  "GarageYrBlt_1971.0": 0,
                  "GarageYrBlt_1972.0": 0,
                  "GarageYrBlt_1973.0": 0,
                  "GarageYrBlt_1974.0": 0,
                  "GarageYrBlt_1975.0": 0,
                  "GarageYrBlt_1976.0": 0,
                  "GarageYrBlt_1977.0": 0,
                  "GarageYrBlt_1978.0": 0,
                  "GarageYrBlt_1979.0": 0,
                  "GarageYrBlt_1980.0": 0,
                  "GarageYrBlt_1981.0": 0,
                  "GarageYrBlt_1982.0": 0,
                  "GarageYrBlt_1983.0": 0,
                  "GarageYrBlt_1984.0": 0,
                  "GarageYrBlt_1985.0": 0,
                  "GarageYrBlt_1986.0": 0,
                  "GarageYrBlt_1987.0": 0,
                  "GarageYrBlt_1988.0": 0,
                  "GarageYrBlt_1989.0": 0,
                  "GarageYrBlt_1990.0": 0,
                  "GarageYrBlt_1991.0": 0,
                  "GarageYrBlt_1992.0": 0,
                  "GarageYrBlt_1993.0": 0,
                  "GarageYrBlt_1994.0": 0,
                  "GarageYrBlt_1995.0": 0,
                  "GarageYrBlt_1996.0": 0,
                  "GarageYrBlt_1997.0": 0,
                  "GarageYrBlt_1998.0": 0,
                  "GarageYrBlt_1999.0": 0,
                  "GarageYrBlt_2000.0": 0,
                  "GarageYrBlt_2001.0": 0,
                  "GarageYrBlt_2002.0": 0,
                  "GarageYrBlt_2003.0": 0,
                  "GarageYrBlt_2004.0": 0,
                  "GarageYrBlt_2005.0": 0,
                  "GarageYrBlt_2006.0": 0,
                  "GarageYrBlt_2007.0": 0,
                  "GarageYrBlt_2008.0": 0,
                  "GarageYrBlt_2009.0": 0,
                  "GarageYrBlt_2010.0": 0,
                  "GarageYrBlt_NoGarage": 0,
                  "GarageFinish_Fin": 1,
                  "GarageFinish_NoGarage": 0,
                  "GarageFinish_RFn": 0,
                  "GarageFinish_Unf": 0,
                  "GarageQual_Ex": 0,
                  "GarageQual_Fa": 0,
                  "GarageQual_Gd": 0,
                  "GarageQual_NoGarage": 0,
                  "GarageQual_Po": 0,
                  "GarageQual_TA": 1,
                  "GarageCond_Ex": 0,
                  "GarageCond_Fa": 0,
                  "GarageCond_Gd": 0,
                  "GarageCond_NoGarage": 0,
                  "GarageCond_Po": 0,
                  "GarageCond_TA": 1,
                  "PavedDrive_N": 0,
                  "PavedDrive_P": 0,
                  "PavedDrive_Y": 1,
                  "PoolQC_Ex": 0,
                  "PoolQC_Fa": 0,
                  "PoolQC_Gd": 0,
                  "PoolQC_NoPool": 1,
                  "Fence_GdPrv": 0,
                  "Fence_GdWo": 0,
                  "Fence_MnPrv": 0,
                  "Fence_MnWw": 0,
                  "Fence_NoFence": 1,
                  "MiscFeature_Gar2": 0,
                  "MiscFeature_NoMF": 1,
                  "MiscFeature_Othr": 0,
                  "MiscFeature_Shed": 0,
                  "MiscFeature_TenC": 0,
                  "SaleType_COD": 0,
                  "SaleType_CWD": 0,
                  "SaleType_Con": 0,
                  "SaleType_ConLD": 0,
                  "SaleType_ConLI": 0,
                  "SaleType_ConLw": 0,
                  "SaleType_New": 0,
                  "SaleType_Oth": 0,
                  "SaleType_WD": 1,
                  "SaleCondition_Abnorml": 0,
                  "SaleCondition_AdjLand": 0,
                  "SaleCondition_Alloca": 0,
                  "SaleCondition_Family": 0,
                  "SaleCondition_Normal": 1,
                  "SaleCondition_Partial": 0,
                  "MSSubClass_20": 1,
                  "MSSubClass_30": 0,
                  "MSSubClass_40": 0,
                  "MSSubClass_45": 0,
                  "MSSubClass_50": 0,
                  "MSSubClass_60": 0,
                  "MSSubClass_70": 0,
                  "MSSubClass_75": 0,
                  "MSSubClass_80": 0,
                  "MSSubClass_85": 0,
                  "MSSubClass_90": 0,
                  "MSSubClass_120": 0,
                  "MSSubClass_160": 0,
                  "MSSubClass_180": 0,
                  "MSSubClass_190": 0,
                  "OverallQual_1": 0,
                  "OverallQual_2": 0,
                  "OverallQual_3": 0,
                  "OverallQual_4": 0,
                  "OverallQual_5": 1,
                  "OverallQual_6": 0,
                  "OverallQual_7": 0,
                  "OverallQual_8": 0,
                  "OverallQual_9": 0,
                  "OverallQual_10": 0,
                  "OverallCond_1": 0,
                  "OverallCond_2": 0,
                  "OverallCond_3": 0,
                  "OverallCond_4": 0,
                  "OverallCond_5": 0,
                  "OverallCond_6": 1,
                  "OverallCond_7": 0,
                  "OverallCond_8": 0,
                  "OverallCond_9": 0,
                  "YearBuilt_1872": 0,
                  "YearBuilt_1875": 0,
                  "YearBuilt_1880": 0,
                  "YearBuilt_1882": 0,
                  "YearBuilt_1885": 0,
                  "YearBuilt_1890": 0,
                  "YearBuilt_1892": 0,
                  "YearBuilt_1893": 0,
                  "YearBuilt_1898": 0,
                  "YearBuilt_1900": 0,
                  "YearBuilt_1904": 0,
                  "YearBuilt_1905": 0,
                  "YearBuilt_1906": 0,
                  "YearBuilt_1908": 0,
                  "YearBuilt_1910": 0,
                  "YearBuilt_1911": 0,
                  "YearBuilt_1912": 0,
                  "YearBuilt_1913": 0,
                  "YearBuilt_1914": 0,
                  "YearBuilt_1915": 0,
                  "YearBuilt_1916": 0,
                  "YearBuilt_1917": 0,
                  "YearBuilt_1918": 0,
                  "YearBuilt_1919": 0,
                  "YearBuilt_1920": 0,
                  "YearBuilt_1921": 0,
                  "YearBuilt_1922": 0,
                  "YearBuilt_1923": 0,
                  "YearBuilt_1924": 0,
                  "YearBuilt_1925": 0,
                  "YearBuilt_1926": 0,
                  "YearBuilt_1927": 0,
                  "YearBuilt_1928": 0,
                  "YearBuilt_1929": 0,
                  "YearBuilt_1930": 0,
                  "YearBuilt_1931": 0,
                  "YearBuilt_1932": 0,
                  "YearBuilt_1934": 0,
                  "YearBuilt_1935": 0,
                  "YearBuilt_1936": 0,
                  "YearBuilt_1937": 0,
                  "YearBuilt_1938": 0,
                  "YearBuilt_1939": 0,
                  "YearBuilt_1940": 0,
                  "YearBuilt_1941": 0,
                  "YearBuilt_1942": 0,
                  "YearBuilt_1945": 0,
                  "YearBuilt_1946": 0,
                  "YearBuilt_1947": 0,
                  "YearBuilt_1948": 0,
                  "YearBuilt_1949": 0,
                  "YearBuilt_1950": 0,
                  "YearBuilt_1951": 0,
                  "YearBuilt_1952": 0,
                  "YearBuilt_1953": 0,
                  "YearBuilt_1954": 0,
                  "YearBuilt_1955": 0,
                  "YearBuilt_1956": 0,
                  "YearBuilt_1957": 0,
                  "YearBuilt_1958": 0,
                  "YearBuilt_1959": 0,
                  "YearBuilt_1960": 0,
                  "YearBuilt_1961": 0,
                  "YearBuilt_1962": 0,
                  "YearBuilt_1963": 0,
                  "YearBuilt_1964": 0,
                  "YearBuilt_1965": 1,
                  "YearBuilt_1966": 0,
                  "YearBuilt_1967": 0,
                  "YearBuilt_1968": 0,
                  "YearBuilt_1969": 0,
                  "_deepnote_index_column": 1459
                }
              ]
            },
            "text/plain": "        Id  LotFrontage  LotArea  MasVnrArea  BsmtFinSF1  BsmtFinSF2  \\\n0        1         65.0     8450       196.0         706           0   \n1        2         80.0     9600         0.0         978           0   \n2        3         68.0    11250       162.0         486           0   \n3        4         60.0     9550         0.0         216           0   \n4        5         84.0    14260       350.0         655           0   \n...    ...          ...      ...         ...         ...         ...   \n1455  1456         62.0     7917         0.0           0           0   \n1456  1457         85.0    13175       119.0         790         163   \n1457  1458         66.0     9042         0.0         275           0   \n1458  1459         68.0     9717         0.0          49        1029   \n1459  1460         75.0     9937         0.0         830         290   \n\n      BsmtUnfSF  TotalBsmtSF  1stFlrSF  2ndFlrSF  ...  MoSold_3  MoSold_4  \\\n0           150          856       856       854  ...         0         0   \n1           284         1262      1262         0  ...         0         0   \n2           434          920       920       866  ...         0         0   \n3           540          756       961       756  ...         0         0   \n4           490         1145      1145      1053  ...         0         0   \n...         ...          ...       ...       ...  ...       ...       ...   \n1455        953          953       953       694  ...         0         0   \n1456        589         1542      2073         0  ...         0         0   \n1457        877         1152      1188      1152  ...         0         0   \n1458          0         1078      1078         0  ...         0         1   \n1459        136         1256      1256         0  ...         0         0   \n\n      MoSold_5  MoSold_6  MoSold_7  MoSold_8  MoSold_9  MoSold_10  MoSold_11  \\\n0            0         0         0         0         0          0          0   \n1            1         0         0         0         0          0          0   \n2            0         0         0         0         1          0          0   \n3            0         0         0         0         0          0          0   \n4            0         0         0         0         0          0          0   \n...        ...       ...       ...       ...       ...        ...        ...   \n1455         0         0         0         1         0          0          0   \n1456         0         0         0         0         0          0          0   \n1457         1         0         0         0         0          0          0   \n1458         0         0         0         0         0          0          0   \n1459         0         1         0         0         0          0          0   \n\n      MoSold_12  \n0             0  \n1             0  \n2             0  \n3             0  \n4             1  \n...         ...  \n1455          0  \n1456          0  \n1457          0  \n1458          0  \n1459          0  \n\n[1452 rows x 614 columns]",
            "text/html": "<div>\n<style scoped>\n    .dataframe tbody tr th:only-of-type {\n        vertical-align: middle;\n    }\n\n    .dataframe tbody tr th {\n        vertical-align: top;\n    }\n\n    .dataframe thead th {\n        text-align: right;\n    }\n</style>\n<table border=\"1\" class=\"dataframe\">\n  <thead>\n    <tr style=\"text-align: right;\">\n      <th></th>\n      <th>Id</th>\n      <th>LotFrontage</th>\n      <th>LotArea</th>\n      <th>MasVnrArea</th>\n      <th>BsmtFinSF1</th>\n      <th>BsmtFinSF2</th>\n      <th>BsmtUnfSF</th>\n      <th>TotalBsmtSF</th>\n      <th>1stFlrSF</th>\n      <th>2ndFlrSF</th>\n      <th>...</th>\n      <th>MoSold_3</th>\n      <th>MoSold_4</th>\n      <th>MoSold_5</th>\n      <th>MoSold_6</th>\n      <th>MoSold_7</th>\n      <th>MoSold_8</th>\n      <th>MoSold_9</th>\n      <th>MoSold_10</th>\n      <th>MoSold_11</th>\n      <th>MoSold_12</th>\n    </tr>\n  </thead>\n  <tbody>\n    <tr>\n      <th>0</th>\n      <td>1</td>\n      <td>65.0</td>\n      <td>8450</td>\n      <td>196.0</td>\n      <td>706</td>\n      <td>0</td>\n      <td>150</td>\n      <td>856</td>\n      <td>856</td>\n      <td>854</td>\n      <td>...</td>\n      <td>0</td>\n      <td>0</td>\n      <td>0</td>\n      <td>0</td>\n      <td>0</td>\n      <td>0</td>\n      <td>0</td>\n      <td>0</td>\n      <td>0</td>\n      <td>0</td>\n    </tr>\n    <tr>\n      <th>1</th>\n      <td>2</td>\n      <td>80.0</td>\n      <td>9600</td>\n      <td>0.0</td>\n      <td>978</td>\n      <td>0</td>\n      <td>284</td>\n      <td>1262</td>\n      <td>1262</td>\n      <td>0</td>\n      <td>...</td>\n      <td>0</td>\n      <td>0</td>\n      <td>1</td>\n      <td>0</td>\n      <td>0</td>\n      <td>0</td>\n      <td>0</td>\n      <td>0</td>\n      <td>0</td>\n      <td>0</td>\n    </tr>\n    <tr>\n      <th>2</th>\n      <td>3</td>\n      <td>68.0</td>\n      <td>11250</td>\n      <td>162.0</td>\n      <td>486</td>\n      <td>0</td>\n      <td>434</td>\n      <td>920</td>\n      <td>920</td>\n      <td>866</td>\n      <td>...</td>\n      <td>0</td>\n      <td>0</td>\n      <td>0</td>\n      <td>0</td>\n      <td>0</td>\n      <td>0</td>\n      <td>1</td>\n      <td>0</td>\n      <td>0</td>\n      <td>0</td>\n    </tr>\n    <tr>\n      <th>3</th>\n      <td>4</td>\n      <td>60.0</td>\n      <td>9550</td>\n      <td>0.0</td>\n      <td>216</td>\n      <td>0</td>\n      <td>540</td>\n      <td>756</td>\n      <td>961</td>\n      <td>756</td>\n      <td>...</td>\n      <td>0</td>\n      <td>0</td>\n      <td>0</td>\n      <td>0</td>\n      <td>0</td>\n      <td>0</td>\n      <td>0</td>\n      <td>0</td>\n      <td>0</td>\n      <td>0</td>\n    </tr>\n    <tr>\n      <th>4</th>\n      <td>5</td>\n      <td>84.0</td>\n      <td>14260</td>\n      <td>350.0</td>\n      <td>655</td>\n      <td>0</td>\n      <td>490</td>\n      <td>1145</td>\n      <td>1145</td>\n      <td>1053</td>\n      <td>...</td>\n      <td>0</td>\n      <td>0</td>\n      <td>0</td>\n      <td>0</td>\n      <td>0</td>\n      <td>0</td>\n      <td>0</td>\n      <td>0</td>\n      <td>0</td>\n      <td>1</td>\n    </tr>\n    <tr>\n      <th>...</th>\n      <td>...</td>\n      <td>...</td>\n      <td>...</td>\n      <td>...</td>\n      <td>...</td>\n      <td>...</td>\n      <td>...</td>\n      <td>...</td>\n      <td>...</td>\n      <td>...</td>\n      <td>...</td>\n      <td>...</td>\n      <td>...</td>\n      <td>...</td>\n      <td>...</td>\n      <td>...</td>\n      <td>...</td>\n      <td>...</td>\n      <td>...</td>\n      <td>...</td>\n      <td>...</td>\n    </tr>\n    <tr>\n      <th>1455</th>\n      <td>1456</td>\n      <td>62.0</td>\n      <td>7917</td>\n      <td>0.0</td>\n      <td>0</td>\n      <td>0</td>\n      <td>953</td>\n      <td>953</td>\n      <td>953</td>\n      <td>694</td>\n      <td>...</td>\n      <td>0</td>\n      <td>0</td>\n      <td>0</td>\n      <td>0</td>\n      <td>0</td>\n      <td>1</td>\n      <td>0</td>\n      <td>0</td>\n      <td>0</td>\n      <td>0</td>\n    </tr>\n    <tr>\n      <th>1456</th>\n      <td>1457</td>\n      <td>85.0</td>\n      <td>13175</td>\n      <td>119.0</td>\n      <td>790</td>\n      <td>163</td>\n      <td>589</td>\n      <td>1542</td>\n      <td>2073</td>\n      <td>0</td>\n      <td>...</td>\n      <td>0</td>\n      <td>0</td>\n      <td>0</td>\n      <td>0</td>\n      <td>0</td>\n      <td>0</td>\n      <td>0</td>\n      <td>0</td>\n      <td>0</td>\n      <td>0</td>\n    </tr>\n    <tr>\n      <th>1457</th>\n      <td>1458</td>\n      <td>66.0</td>\n      <td>9042</td>\n      <td>0.0</td>\n      <td>275</td>\n      <td>0</td>\n      <td>877</td>\n      <td>1152</td>\n      <td>1188</td>\n      <td>1152</td>\n      <td>...</td>\n      <td>0</td>\n      <td>0</td>\n      <td>1</td>\n      <td>0</td>\n      <td>0</td>\n      <td>0</td>\n      <td>0</td>\n      <td>0</td>\n      <td>0</td>\n      <td>0</td>\n    </tr>\n    <tr>\n      <th>1458</th>\n      <td>1459</td>\n      <td>68.0</td>\n      <td>9717</td>\n      <td>0.0</td>\n      <td>49</td>\n      <td>1029</td>\n      <td>0</td>\n      <td>1078</td>\n      <td>1078</td>\n      <td>0</td>\n      <td>...</td>\n      <td>0</td>\n      <td>1</td>\n      <td>0</td>\n      <td>0</td>\n      <td>0</td>\n      <td>0</td>\n      <td>0</td>\n      <td>0</td>\n      <td>0</td>\n      <td>0</td>\n    </tr>\n    <tr>\n      <th>1459</th>\n      <td>1460</td>\n      <td>75.0</td>\n      <td>9937</td>\n      <td>0.0</td>\n      <td>830</td>\n      <td>290</td>\n      <td>136</td>\n      <td>1256</td>\n      <td>1256</td>\n      <td>0</td>\n      <td>...</td>\n      <td>0</td>\n      <td>0</td>\n      <td>0</td>\n      <td>1</td>\n      <td>0</td>\n      <td>0</td>\n      <td>0</td>\n      <td>0</td>\n      <td>0</td>\n      <td>0</td>\n    </tr>\n  </tbody>\n</table>\n<p>1452 rows × 614 columns</p>\n</div>"
          },
          "metadata": {}
        }
      ]
    },
    {
      "cell_type": "code",
      "metadata": {
        "tags": [],
        "cell_id": "00008-b278aeb1-b7ee-4ae0-ab6d-cd7512181810",
        "deepnote_to_be_reexecuted": false,
        "source_hash": "2bd39155",
        "execution_millis": 0,
        "execution_start": 1618938405666,
        "deepnote_cell_type": "code"
      },
      "source": "df_chn = df_ch.copy()",
      "execution_count": 9,
      "outputs": []
    },
    {
      "cell_type": "code",
      "metadata": {
        "tags": [],
        "cell_id": "00008-df40557e-ed5d-46b3-bb5b-077824d6342a",
        "deepnote_to_be_reexecuted": false,
        "source_hash": "22abf758",
        "execution_millis": 15,
        "execution_start": 1618938405671,
        "deepnote_cell_type": "code"
      },
      "source": "scaler = MinMaxScaler()\ndf_chn[[\"LotFrontage\",\"LotArea\",\"MasVnrArea\",\"BsmtFinSF1\", \"BsmtFinSF2\", \"BsmtUnfSF\", \"TotalBsmtSF\", \"1stFlrSF\", \"2ndFlrSF\", \"LowQualFinSF\", \"GrLivArea\", \"BsmtFullBath\", \"BsmtHalfBath\", \"FullBath\", \"HalfBath\", \"BedroomAbvGr\", \"KitchenAbvGr\", \"TotRmsAbvGrd\", \"Fireplaces\", \"GarageCars\", \"GarageArea\", \"WoodDeckSF\", \"OpenPorchSF\", \"EnclosedPorch\", \"3SsnPorch\", \"ScreenPorch\", \"PoolArea\", \"MiscVal\"]] = scaler.fit_transform(df_chn[[\"LotFrontage\",\"LotArea\",\"MasVnrArea\",\"BsmtFinSF1\", \"BsmtFinSF2\", \"BsmtUnfSF\", \"TotalBsmtSF\", \"1stFlrSF\", \"2ndFlrSF\", \"LowQualFinSF\", \"GrLivArea\", \"BsmtFullBath\", \"BsmtHalfBath\", \"FullBath\", \"HalfBath\", \"BedroomAbvGr\", \"KitchenAbvGr\", \"TotRmsAbvGrd\", \"Fireplaces\", \"GarageCars\", \"GarageArea\", \"WoodDeckSF\", \"OpenPorchSF\", \"EnclosedPorch\", \"3SsnPorch\", \"ScreenPorch\", \"PoolArea\", \"MiscVal\"]])",
      "execution_count": 10,
      "outputs": []
    },
    {
      "cell_type": "code",
      "metadata": {
        "tags": [],
        "cell_id": "00010-64f45fc7-b2cf-4758-a9e6-d9de2d7f77ca",
        "deepnote_to_be_reexecuted": false,
        "source_hash": "c5c9941b",
        "execution_millis": 324,
        "execution_start": 1618938405757,
        "deepnote_cell_type": "code"
      },
      "source": "df_chn",
      "execution_count": 11,
      "outputs": [
        {
          "output_type": "execute_result",
          "execution_count": 11,
          "data": {
            "application/vnd.deepnote.dataframe.v2+json": {
              "row_count": 1452,
              "column_count": 614,
              "columns": [
                {
                  "name": "Id",
                  "dtype": "int64",
                  "stats": {
                    "unique_count": 1452,
                    "nan_count": 0,
                    "min": "1",
                    "max": "1460",
                    "histogram": [
                      {
                        "bin_start": 1,
                        "bin_end": 146.9,
                        "count": 146
                      },
                      {
                        "bin_start": 146.9,
                        "bin_end": 292.8,
                        "count": 145
                      },
                      {
                        "bin_start": 292.8,
                        "bin_end": 438.70000000000005,
                        "count": 146
                      },
                      {
                        "bin_start": 438.70000000000005,
                        "bin_end": 584.6,
                        "count": 145
                      },
                      {
                        "bin_start": 584.6,
                        "bin_end": 730.5,
                        "count": 145
                      },
                      {
                        "bin_start": 730.5,
                        "bin_end": 876.4000000000001,
                        "count": 146
                      },
                      {
                        "bin_start": 876.4000000000001,
                        "bin_end": 1022.3000000000001,
                        "count": 143
                      },
                      {
                        "bin_start": 1022.3000000000001,
                        "bin_end": 1168.2,
                        "count": 146
                      },
                      {
                        "bin_start": 1168.2,
                        "bin_end": 1314.1000000000001,
                        "count": 144
                      },
                      {
                        "bin_start": 1314.1000000000001,
                        "bin_end": 1460,
                        "count": 146
                      }
                    ]
                  }
                },
                {
                  "name": "LotFrontage",
                  "dtype": "float64",
                  "stats": {
                    "unique_count": 111,
                    "nan_count": 0,
                    "min": "0.0",
                    "max": "1.0",
                    "histogram": [
                      {
                        "bin_start": 0,
                        "bin_end": 0.1,
                        "count": 305
                      },
                      {
                        "bin_start": 0.1,
                        "bin_end": 0.2,
                        "count": 415
                      },
                      {
                        "bin_start": 0.2,
                        "bin_end": 0.30000000000000004,
                        "count": 600
                      },
                      {
                        "bin_start": 0.30000000000000004,
                        "bin_end": 0.4,
                        "count": 108
                      },
                      {
                        "bin_start": 0.4,
                        "bin_end": 0.5,
                        "count": 17
                      },
                      {
                        "bin_start": 0.5,
                        "bin_end": 0.6000000000000001,
                        "count": 5
                      },
                      {
                        "bin_start": 0.6000000000000001,
                        "bin_end": 0.7000000000000001,
                        "count": 0
                      },
                      {
                        "bin_start": 0.7000000000000001,
                        "bin_end": 0.8,
                        "count": 0
                      },
                      {
                        "bin_start": 0.8,
                        "bin_end": 0.9,
                        "count": 0
                      },
                      {
                        "bin_start": 0.9,
                        "bin_end": 1,
                        "count": 2
                      }
                    ]
                  }
                },
                {
                  "name": "LotArea",
                  "dtype": "float64",
                  "stats": {
                    "unique_count": 1067,
                    "nan_count": 0,
                    "min": "0.0",
                    "max": "0.9999999999999999",
                    "histogram": [
                      {
                        "bin_start": 0,
                        "bin_end": 0.09999999999999999,
                        "count": 1416
                      },
                      {
                        "bin_start": 0.09999999999999999,
                        "bin_end": 0.19999999999999998,
                        "count": 23
                      },
                      {
                        "bin_start": 0.19999999999999998,
                        "bin_end": 0.3,
                        "count": 8
                      },
                      {
                        "bin_start": 0.3,
                        "bin_end": 0.39999999999999997,
                        "count": 1
                      },
                      {
                        "bin_start": 0.39999999999999997,
                        "bin_end": 0.49999999999999994,
                        "count": 0
                      },
                      {
                        "bin_start": 0.49999999999999994,
                        "bin_end": 0.6,
                        "count": 1
                      },
                      {
                        "bin_start": 0.6,
                        "bin_end": 0.7,
                        "count": 0
                      },
                      {
                        "bin_start": 0.7,
                        "bin_end": 0.7999999999999999,
                        "count": 2
                      },
                      {
                        "bin_start": 0.7999999999999999,
                        "bin_end": 0.8999999999999999,
                        "count": 0
                      },
                      {
                        "bin_start": 0.8999999999999999,
                        "bin_end": 0.9999999999999999,
                        "count": 1
                      }
                    ]
                  }
                },
                {
                  "name": "MasVnrArea",
                  "dtype": "float64",
                  "stats": {
                    "unique_count": 327,
                    "nan_count": 0,
                    "min": "0.0",
                    "max": "1.0",
                    "histogram": [
                      {
                        "bin_start": 0,
                        "bin_end": 0.1,
                        "count": 1077
                      },
                      {
                        "bin_start": 0.1,
                        "bin_end": 0.2,
                        "count": 219
                      },
                      {
                        "bin_start": 0.2,
                        "bin_end": 0.30000000000000004,
                        "count": 96
                      },
                      {
                        "bin_start": 0.30000000000000004,
                        "bin_end": 0.4,
                        "count": 27
                      },
                      {
                        "bin_start": 0.4,
                        "bin_end": 0.5,
                        "count": 19
                      },
                      {
                        "bin_start": 0.5,
                        "bin_end": 0.6000000000000001,
                        "count": 6
                      },
                      {
                        "bin_start": 0.6000000000000001,
                        "bin_end": 0.7000000000000001,
                        "count": 4
                      },
                      {
                        "bin_start": 0.7000000000000001,
                        "bin_end": 0.8,
                        "count": 2
                      },
                      {
                        "bin_start": 0.8,
                        "bin_end": 0.9,
                        "count": 1
                      },
                      {
                        "bin_start": 0.9,
                        "bin_end": 1,
                        "count": 1
                      }
                    ]
                  }
                },
                {
                  "name": "BsmtFinSF1",
                  "dtype": "float64",
                  "stats": {
                    "unique_count": 633,
                    "nan_count": 0,
                    "min": "0.0",
                    "max": "1.0",
                    "histogram": [
                      {
                        "bin_start": 0,
                        "bin_end": 0.1,
                        "count": 917
                      },
                      {
                        "bin_start": 0.1,
                        "bin_end": 0.2,
                        "count": 413
                      },
                      {
                        "bin_start": 0.2,
                        "bin_end": 0.30000000000000004,
                        "count": 112
                      },
                      {
                        "bin_start": 0.30000000000000004,
                        "bin_end": 0.4,
                        "count": 8
                      },
                      {
                        "bin_start": 0.4,
                        "bin_end": 0.5,
                        "count": 1
                      },
                      {
                        "bin_start": 0.5,
                        "bin_end": 0.6000000000000001,
                        "count": 0
                      },
                      {
                        "bin_start": 0.6000000000000001,
                        "bin_end": 0.7000000000000001,
                        "count": 0
                      },
                      {
                        "bin_start": 0.7000000000000001,
                        "bin_end": 0.8,
                        "count": 0
                      },
                      {
                        "bin_start": 0.8,
                        "bin_end": 0.9,
                        "count": 0
                      },
                      {
                        "bin_start": 0.9,
                        "bin_end": 1,
                        "count": 1
                      }
                    ]
                  }
                },
                {
                  "name": "BsmtFinSF2",
                  "dtype": "float64",
                  "stats": {
                    "unique_count": 144,
                    "nan_count": 0,
                    "min": "0.0",
                    "max": "0.9999999999999999",
                    "histogram": [
                      {
                        "bin_start": 0,
                        "bin_end": 0.09999999999999999,
                        "count": 1317
                      },
                      {
                        "bin_start": 0.09999999999999999,
                        "bin_end": 0.19999999999999998,
                        "count": 43
                      },
                      {
                        "bin_start": 0.19999999999999998,
                        "bin_end": 0.3,
                        "count": 25
                      },
                      {
                        "bin_start": 0.3,
                        "bin_end": 0.39999999999999997,
                        "count": 28
                      },
                      {
                        "bin_start": 0.39999999999999997,
                        "bin_end": 0.49999999999999994,
                        "count": 19
                      },
                      {
                        "bin_start": 0.49999999999999994,
                        "bin_end": 0.6,
                        "count": 8
                      },
                      {
                        "bin_start": 0.6,
                        "bin_end": 0.7,
                        "count": 4
                      },
                      {
                        "bin_start": 0.7,
                        "bin_end": 0.7999999999999999,
                        "count": 7
                      },
                      {
                        "bin_start": 0.7999999999999999,
                        "bin_end": 0.8999999999999999,
                        "count": 0
                      },
                      {
                        "bin_start": 0.8999999999999999,
                        "bin_end": 0.9999999999999999,
                        "count": 1
                      }
                    ]
                  }
                },
                {
                  "name": "BsmtUnfSF",
                  "dtype": "float64",
                  "stats": {
                    "unique_count": 777,
                    "nan_count": 0,
                    "min": "0.0",
                    "max": "1.0",
                    "histogram": [
                      {
                        "bin_start": 0,
                        "bin_end": 0.1,
                        "count": 374
                      },
                      {
                        "bin_start": 0.1,
                        "bin_end": 0.2,
                        "count": 343
                      },
                      {
                        "bin_start": 0.2,
                        "bin_end": 0.30000000000000004,
                        "count": 255
                      },
                      {
                        "bin_start": 0.30000000000000004,
                        "bin_end": 0.4,
                        "count": 214
                      },
                      {
                        "bin_start": 0.4,
                        "bin_end": 0.5,
                        "count": 106
                      },
                      {
                        "bin_start": 0.5,
                        "bin_end": 0.6000000000000001,
                        "count": 72
                      },
                      {
                        "bin_start": 0.6000000000000001,
                        "bin_end": 0.7000000000000001,
                        "count": 52
                      },
                      {
                        "bin_start": 0.7000000000000001,
                        "bin_end": 0.8,
                        "count": 24
                      },
                      {
                        "bin_start": 0.8,
                        "bin_end": 0.9,
                        "count": 9
                      },
                      {
                        "bin_start": 0.9,
                        "bin_end": 1,
                        "count": 3
                      }
                    ]
                  }
                },
                {
                  "name": "TotalBsmtSF",
                  "dtype": "float64",
                  "stats": {
                    "unique_count": 717,
                    "nan_count": 0,
                    "min": "0.0",
                    "max": "1.0",
                    "histogram": [
                      {
                        "bin_start": 0,
                        "bin_end": 0.1,
                        "count": 121
                      },
                      {
                        "bin_start": 0.1,
                        "bin_end": 0.2,
                        "count": 903
                      },
                      {
                        "bin_start": 0.2,
                        "bin_end": 0.30000000000000004,
                        "count": 370
                      },
                      {
                        "bin_start": 0.30000000000000004,
                        "bin_end": 0.4,
                        "count": 50
                      },
                      {
                        "bin_start": 0.4,
                        "bin_end": 0.5,
                        "count": 3
                      },
                      {
                        "bin_start": 0.5,
                        "bin_end": 0.6000000000000001,
                        "count": 4
                      },
                      {
                        "bin_start": 0.6000000000000001,
                        "bin_end": 0.7000000000000001,
                        "count": 0
                      },
                      {
                        "bin_start": 0.7000000000000001,
                        "bin_end": 0.8,
                        "count": 0
                      },
                      {
                        "bin_start": 0.8,
                        "bin_end": 0.9,
                        "count": 0
                      },
                      {
                        "bin_start": 0.9,
                        "bin_end": 1,
                        "count": 1
                      }
                    ]
                  }
                },
                {
                  "name": "1stFlrSF",
                  "dtype": "float64",
                  "stats": {
                    "unique_count": 749,
                    "nan_count": 0,
                    "min": "0.0",
                    "max": "1.0",
                    "histogram": [
                      {
                        "bin_start": 0,
                        "bin_end": 0.1,
                        "count": 165
                      },
                      {
                        "bin_start": 0.1,
                        "bin_end": 0.2,
                        "count": 731
                      },
                      {
                        "bin_start": 0.2,
                        "bin_end": 0.30000000000000004,
                        "count": 383
                      },
                      {
                        "bin_start": 0.30000000000000004,
                        "bin_end": 0.4,
                        "count": 146
                      },
                      {
                        "bin_start": 0.4,
                        "bin_end": 0.5,
                        "count": 21
                      },
                      {
                        "bin_start": 0.5,
                        "bin_end": 0.6000000000000001,
                        "count": 3
                      },
                      {
                        "bin_start": 0.6000000000000001,
                        "bin_end": 0.7000000000000001,
                        "count": 2
                      },
                      {
                        "bin_start": 0.7000000000000001,
                        "bin_end": 0.8,
                        "count": 0
                      },
                      {
                        "bin_start": 0.8,
                        "bin_end": 0.9,
                        "count": 0
                      },
                      {
                        "bin_start": 0.9,
                        "bin_end": 1,
                        "count": 1
                      }
                    ]
                  }
                },
                {
                  "name": "2ndFlrSF",
                  "dtype": "float64",
                  "stats": {
                    "unique_count": 414,
                    "nan_count": 0,
                    "min": "0.0",
                    "max": "1.0",
                    "histogram": [
                      {
                        "bin_start": 0,
                        "bin_end": 0.1,
                        "count": 827
                      },
                      {
                        "bin_start": 0.1,
                        "bin_end": 0.2,
                        "count": 32
                      },
                      {
                        "bin_start": 0.2,
                        "bin_end": 0.30000000000000004,
                        "count": 118
                      },
                      {
                        "bin_start": 0.30000000000000004,
                        "bin_end": 0.4,
                        "count": 209
                      },
                      {
                        "bin_start": 0.4,
                        "bin_end": 0.5,
                        "count": 152
                      },
                      {
                        "bin_start": 0.5,
                        "bin_end": 0.6000000000000001,
                        "count": 68
                      },
                      {
                        "bin_start": 0.6000000000000001,
                        "bin_end": 0.7000000000000001,
                        "count": 34
                      },
                      {
                        "bin_start": 0.7000000000000001,
                        "bin_end": 0.8,
                        "count": 8
                      },
                      {
                        "bin_start": 0.8,
                        "bin_end": 0.9,
                        "count": 2
                      },
                      {
                        "bin_start": 0.9,
                        "bin_end": 1,
                        "count": 2
                      }
                    ]
                  }
                },
                {
                  "name": "LowQualFinSF",
                  "dtype": "float64",
                  "stats": {
                    "unique_count": 24,
                    "nan_count": 0,
                    "min": "0.0",
                    "max": "1.0",
                    "histogram": [
                      {
                        "bin_start": 0,
                        "bin_end": 0.1,
                        "count": 1427
                      },
                      {
                        "bin_start": 0.1,
                        "bin_end": 0.2,
                        "count": 3
                      },
                      {
                        "bin_start": 0.2,
                        "bin_end": 0.30000000000000004,
                        "count": 3
                      },
                      {
                        "bin_start": 0.30000000000000004,
                        "bin_end": 0.4,
                        "count": 1
                      },
                      {
                        "bin_start": 0.4,
                        "bin_end": 0.5,
                        "count": 2
                      },
                      {
                        "bin_start": 0.5,
                        "bin_end": 0.6000000000000001,
                        "count": 0
                      },
                      {
                        "bin_start": 0.6000000000000001,
                        "bin_end": 0.7000000000000001,
                        "count": 7
                      },
                      {
                        "bin_start": 0.7000000000000001,
                        "bin_end": 0.8,
                        "count": 1
                      },
                      {
                        "bin_start": 0.8,
                        "bin_end": 0.9,
                        "count": 5
                      },
                      {
                        "bin_start": 0.9,
                        "bin_end": 1,
                        "count": 3
                      }
                    ]
                  }
                },
                {
                  "name": "GrLivArea",
                  "dtype": "float64",
                  "stats": {
                    "unique_count": 858,
                    "nan_count": 0,
                    "min": "0.0",
                    "max": "1.0",
                    "histogram": [
                      {
                        "bin_start": 0,
                        "bin_end": 0.1,
                        "count": 107
                      },
                      {
                        "bin_start": 0.1,
                        "bin_end": 0.2,
                        "count": 552
                      },
                      {
                        "bin_start": 0.2,
                        "bin_end": 0.30000000000000004,
                        "count": 533
                      },
                      {
                        "bin_start": 0.30000000000000004,
                        "bin_end": 0.4,
                        "count": 186
                      },
                      {
                        "bin_start": 0.4,
                        "bin_end": 0.5,
                        "count": 56
                      },
                      {
                        "bin_start": 0.5,
                        "bin_end": 0.6000000000000001,
                        "count": 12
                      },
                      {
                        "bin_start": 0.6000000000000001,
                        "bin_end": 0.7000000000000001,
                        "count": 2
                      },
                      {
                        "bin_start": 0.7000000000000001,
                        "bin_end": 0.8,
                        "count": 2
                      },
                      {
                        "bin_start": 0.8,
                        "bin_end": 0.9,
                        "count": 1
                      },
                      {
                        "bin_start": 0.9,
                        "bin_end": 1,
                        "count": 1
                      }
                    ]
                  }
                },
                {
                  "name": "BsmtFullBath",
                  "dtype": "float64",
                  "stats": {
                    "unique_count": 4,
                    "nan_count": 0,
                    "min": "0.0",
                    "max": "1.0",
                    "histogram": [
                      {
                        "bin_start": 0,
                        "bin_end": 0.1,
                        "count": 854
                      },
                      {
                        "bin_start": 0.1,
                        "bin_end": 0.2,
                        "count": 0
                      },
                      {
                        "bin_start": 0.2,
                        "bin_end": 0.30000000000000004,
                        "count": 0
                      },
                      {
                        "bin_start": 0.30000000000000004,
                        "bin_end": 0.4,
                        "count": 582
                      },
                      {
                        "bin_start": 0.4,
                        "bin_end": 0.5,
                        "count": 0
                      },
                      {
                        "bin_start": 0.5,
                        "bin_end": 0.6000000000000001,
                        "count": 0
                      },
                      {
                        "bin_start": 0.6000000000000001,
                        "bin_end": 0.7000000000000001,
                        "count": 15
                      },
                      {
                        "bin_start": 0.7000000000000001,
                        "bin_end": 0.8,
                        "count": 0
                      },
                      {
                        "bin_start": 0.8,
                        "bin_end": 0.9,
                        "count": 0
                      },
                      {
                        "bin_start": 0.9,
                        "bin_end": 1,
                        "count": 1
                      }
                    ]
                  }
                },
                {
                  "name": "BsmtHalfBath",
                  "dtype": "float64",
                  "stats": {
                    "unique_count": 3,
                    "nan_count": 0,
                    "min": "0.0",
                    "max": "1.0",
                    "histogram": [
                      {
                        "bin_start": 0,
                        "bin_end": 0.1,
                        "count": 1370
                      },
                      {
                        "bin_start": 0.1,
                        "bin_end": 0.2,
                        "count": 0
                      },
                      {
                        "bin_start": 0.2,
                        "bin_end": 0.30000000000000004,
                        "count": 0
                      },
                      {
                        "bin_start": 0.30000000000000004,
                        "bin_end": 0.4,
                        "count": 0
                      },
                      {
                        "bin_start": 0.4,
                        "bin_end": 0.5,
                        "count": 0
                      },
                      {
                        "bin_start": 0.5,
                        "bin_end": 0.6000000000000001,
                        "count": 80
                      },
                      {
                        "bin_start": 0.6000000000000001,
                        "bin_end": 0.7000000000000001,
                        "count": 0
                      },
                      {
                        "bin_start": 0.7000000000000001,
                        "bin_end": 0.8,
                        "count": 0
                      },
                      {
                        "bin_start": 0.8,
                        "bin_end": 0.9,
                        "count": 0
                      },
                      {
                        "bin_start": 0.9,
                        "bin_end": 1,
                        "count": 2
                      }
                    ]
                  }
                },
                {
                  "name": "FullBath",
                  "dtype": "float64",
                  "stats": {
                    "unique_count": 4,
                    "nan_count": 0,
                    "min": "0.0",
                    "max": "1.0",
                    "histogram": [
                      {
                        "bin_start": 0,
                        "bin_end": 0.1,
                        "count": 9
                      },
                      {
                        "bin_start": 0.1,
                        "bin_end": 0.2,
                        "count": 0
                      },
                      {
                        "bin_start": 0.2,
                        "bin_end": 0.30000000000000004,
                        "count": 0
                      },
                      {
                        "bin_start": 0.30000000000000004,
                        "bin_end": 0.4,
                        "count": 649
                      },
                      {
                        "bin_start": 0.4,
                        "bin_end": 0.5,
                        "count": 0
                      },
                      {
                        "bin_start": 0.5,
                        "bin_end": 0.6000000000000001,
                        "count": 0
                      },
                      {
                        "bin_start": 0.6000000000000001,
                        "bin_end": 0.7000000000000001,
                        "count": 762
                      },
                      {
                        "bin_start": 0.7000000000000001,
                        "bin_end": 0.8,
                        "count": 0
                      },
                      {
                        "bin_start": 0.8,
                        "bin_end": 0.9,
                        "count": 0
                      },
                      {
                        "bin_start": 0.9,
                        "bin_end": 1,
                        "count": 32
                      }
                    ]
                  }
                },
                {
                  "name": "HalfBath",
                  "dtype": "float64",
                  "stats": {
                    "unique_count": 3,
                    "nan_count": 0,
                    "min": "0.0",
                    "max": "1.0",
                    "histogram": [
                      {
                        "bin_start": 0,
                        "bin_end": 0.1,
                        "count": 910
                      },
                      {
                        "bin_start": 0.1,
                        "bin_end": 0.2,
                        "count": 0
                      },
                      {
                        "bin_start": 0.2,
                        "bin_end": 0.30000000000000004,
                        "count": 0
                      },
                      {
                        "bin_start": 0.30000000000000004,
                        "bin_end": 0.4,
                        "count": 0
                      },
                      {
                        "bin_start": 0.4,
                        "bin_end": 0.5,
                        "count": 0
                      },
                      {
                        "bin_start": 0.5,
                        "bin_end": 0.6000000000000001,
                        "count": 530
                      },
                      {
                        "bin_start": 0.6000000000000001,
                        "bin_end": 0.7000000000000001,
                        "count": 0
                      },
                      {
                        "bin_start": 0.7000000000000001,
                        "bin_end": 0.8,
                        "count": 0
                      },
                      {
                        "bin_start": 0.8,
                        "bin_end": 0.9,
                        "count": 0
                      },
                      {
                        "bin_start": 0.9,
                        "bin_end": 1,
                        "count": 12
                      }
                    ]
                  }
                },
                {
                  "name": "BedroomAbvGr",
                  "dtype": "float64",
                  "stats": {
                    "unique_count": 8,
                    "nan_count": 0,
                    "min": "0.0",
                    "max": "1.0",
                    "histogram": [
                      {
                        "bin_start": 0,
                        "bin_end": 0.1,
                        "count": 6
                      },
                      {
                        "bin_start": 0.1,
                        "bin_end": 0.2,
                        "count": 49
                      },
                      {
                        "bin_start": 0.2,
                        "bin_end": 0.30000000000000004,
                        "count": 356
                      },
                      {
                        "bin_start": 0.30000000000000004,
                        "bin_end": 0.4,
                        "count": 801
                      },
                      {
                        "bin_start": 0.4,
                        "bin_end": 0.5,
                        "count": 0
                      },
                      {
                        "bin_start": 0.5,
                        "bin_end": 0.6000000000000001,
                        "count": 211
                      },
                      {
                        "bin_start": 0.6000000000000001,
                        "bin_end": 0.7000000000000001,
                        "count": 21
                      },
                      {
                        "bin_start": 0.7000000000000001,
                        "bin_end": 0.8,
                        "count": 7
                      },
                      {
                        "bin_start": 0.8,
                        "bin_end": 0.9,
                        "count": 0
                      },
                      {
                        "bin_start": 0.9,
                        "bin_end": 1,
                        "count": 1
                      }
                    ]
                  }
                },
                {
                  "name": "KitchenAbvGr",
                  "dtype": "float64",
                  "stats": {
                    "unique_count": 4,
                    "nan_count": 0,
                    "min": "0.0",
                    "max": "1.0",
                    "histogram": [
                      {
                        "bin_start": 0,
                        "bin_end": 0.1,
                        "count": 1
                      },
                      {
                        "bin_start": 0.1,
                        "bin_end": 0.2,
                        "count": 0
                      },
                      {
                        "bin_start": 0.2,
                        "bin_end": 0.30000000000000004,
                        "count": 0
                      },
                      {
                        "bin_start": 0.30000000000000004,
                        "bin_end": 0.4,
                        "count": 1385
                      },
                      {
                        "bin_start": 0.4,
                        "bin_end": 0.5,
                        "count": 0
                      },
                      {
                        "bin_start": 0.5,
                        "bin_end": 0.6000000000000001,
                        "count": 0
                      },
                      {
                        "bin_start": 0.6000000000000001,
                        "bin_end": 0.7000000000000001,
                        "count": 64
                      },
                      {
                        "bin_start": 0.7000000000000001,
                        "bin_end": 0.8,
                        "count": 0
                      },
                      {
                        "bin_start": 0.8,
                        "bin_end": 0.9,
                        "count": 0
                      },
                      {
                        "bin_start": 0.9,
                        "bin_end": 1,
                        "count": 2
                      }
                    ]
                  }
                },
                {
                  "name": "TotRmsAbvGrd",
                  "dtype": "float64",
                  "stats": {
                    "unique_count": 12,
                    "nan_count": 0,
                    "min": "0.0",
                    "max": "0.9999999999999999",
                    "histogram": [
                      {
                        "bin_start": 0,
                        "bin_end": 0.09999999999999999,
                        "count": 18
                      },
                      {
                        "bin_start": 0.09999999999999999,
                        "bin_end": 0.19999999999999998,
                        "count": 96
                      },
                      {
                        "bin_start": 0.19999999999999998,
                        "bin_end": 0.3,
                        "count": 274
                      },
                      {
                        "bin_start": 0.3,
                        "bin_end": 0.39999999999999997,
                        "count": 401
                      },
                      {
                        "bin_start": 0.39999999999999997,
                        "bin_end": 0.49999999999999994,
                        "count": 326
                      },
                      {
                        "bin_start": 0.49999999999999994,
                        "bin_end": 0.6,
                        "count": 260
                      },
                      {
                        "bin_start": 0.6,
                        "bin_end": 0.7,
                        "count": 47
                      },
                      {
                        "bin_start": 0.7,
                        "bin_end": 0.7999999999999999,
                        "count": 18
                      },
                      {
                        "bin_start": 0.7999999999999999,
                        "bin_end": 0.8999999999999999,
                        "count": 11
                      },
                      {
                        "bin_start": 0.8999999999999999,
                        "bin_end": 0.9999999999999999,
                        "count": 1
                      }
                    ]
                  }
                },
                {
                  "name": "Fireplaces",
                  "dtype": "float64",
                  "stats": {
                    "unique_count": 4,
                    "nan_count": 0,
                    "min": "0.0",
                    "max": "1.0",
                    "histogram": [
                      {
                        "bin_start": 0,
                        "bin_end": 0.1,
                        "count": 686
                      },
                      {
                        "bin_start": 0.1,
                        "bin_end": 0.2,
                        "count": 0
                      },
                      {
                        "bin_start": 0.2,
                        "bin_end": 0.30000000000000004,
                        "count": 0
                      },
                      {
                        "bin_start": 0.30000000000000004,
                        "bin_end": 0.4,
                        "count": 648
                      },
                      {
                        "bin_start": 0.4,
                        "bin_end": 0.5,
                        "count": 0
                      },
                      {
                        "bin_start": 0.5,
                        "bin_end": 0.6000000000000001,
                        "count": 0
                      },
                      {
                        "bin_start": 0.6000000000000001,
                        "bin_end": 0.7000000000000001,
                        "count": 113
                      },
                      {
                        "bin_start": 0.7000000000000001,
                        "bin_end": 0.8,
                        "count": 0
                      },
                      {
                        "bin_start": 0.8,
                        "bin_end": 0.9,
                        "count": 0
                      },
                      {
                        "bin_start": 0.9,
                        "bin_end": 1,
                        "count": 5
                      }
                    ]
                  }
                },
                {
                  "name": "GarageCars",
                  "dtype": "float64",
                  "stats": {
                    "unique_count": 5,
                    "nan_count": 0,
                    "min": "0.0",
                    "max": "1.0",
                    "histogram": [
                      {
                        "bin_start": 0,
                        "bin_end": 0.1,
                        "count": 81
                      },
                      {
                        "bin_start": 0.1,
                        "bin_end": 0.2,
                        "count": 0
                      },
                      {
                        "bin_start": 0.2,
                        "bin_end": 0.30000000000000004,
                        "count": 369
                      },
                      {
                        "bin_start": 0.30000000000000004,
                        "bin_end": 0.4,
                        "count": 0
                      },
                      {
                        "bin_start": 0.4,
                        "bin_end": 0.5,
                        "count": 0
                      },
                      {
                        "bin_start": 0.5,
                        "bin_end": 0.6000000000000001,
                        "count": 817
                      },
                      {
                        "bin_start": 0.6000000000000001,
                        "bin_end": 0.7000000000000001,
                        "count": 0
                      },
                      {
                        "bin_start": 0.7000000000000001,
                        "bin_end": 0.8,
                        "count": 180
                      },
                      {
                        "bin_start": 0.8,
                        "bin_end": 0.9,
                        "count": 0
                      },
                      {
                        "bin_start": 0.9,
                        "bin_end": 1,
                        "count": 5
                      }
                    ]
                  }
                },
                {
                  "name": "GarageArea",
                  "dtype": "float64",
                  "stats": {
                    "unique_count": 438,
                    "nan_count": 0,
                    "min": "0.0",
                    "max": "1.0",
                    "histogram": [
                      {
                        "bin_start": 0,
                        "bin_end": 0.1,
                        "count": 81
                      },
                      {
                        "bin_start": 0.1,
                        "bin_end": 0.2,
                        "count": 167
                      },
                      {
                        "bin_start": 0.2,
                        "bin_end": 0.30000000000000004,
                        "count": 293
                      },
                      {
                        "bin_start": 0.30000000000000004,
                        "bin_end": 0.4,
                        "count": 495
                      },
                      {
                        "bin_start": 0.4,
                        "bin_end": 0.5,
                        "count": 238
                      },
                      {
                        "bin_start": 0.5,
                        "bin_end": 0.6000000000000001,
                        "count": 105
                      },
                      {
                        "bin_start": 0.6000000000000001,
                        "bin_end": 0.7000000000000001,
                        "count": 57
                      },
                      {
                        "bin_start": 0.7000000000000001,
                        "bin_end": 0.8,
                        "count": 10
                      },
                      {
                        "bin_start": 0.8,
                        "bin_end": 0.9,
                        "count": 3
                      },
                      {
                        "bin_start": 0.9,
                        "bin_end": 1,
                        "count": 3
                      }
                    ]
                  }
                },
                {
                  "name": "WoodDeckSF",
                  "dtype": "float64",
                  "stats": {
                    "unique_count": 274,
                    "nan_count": 0,
                    "min": "0.0",
                    "max": "0.9999999999999999",
                    "histogram": [
                      {
                        "bin_start": 0,
                        "bin_end": 0.09999999999999999,
                        "count": 820
                      },
                      {
                        "bin_start": 0.09999999999999999,
                        "bin_end": 0.19999999999999998,
                        "count": 286
                      },
                      {
                        "bin_start": 0.19999999999999998,
                        "bin_end": 0.3,
                        "count": 197
                      },
                      {
                        "bin_start": 0.3,
                        "bin_end": 0.39999999999999997,
                        "count": 81
                      },
                      {
                        "bin_start": 0.39999999999999997,
                        "bin_end": 0.49999999999999994,
                        "count": 38
                      },
                      {
                        "bin_start": 0.49999999999999994,
                        "bin_end": 0.6,
                        "count": 17
                      },
                      {
                        "bin_start": 0.6,
                        "bin_end": 0.7,
                        "count": 7
                      },
                      {
                        "bin_start": 0.7,
                        "bin_end": 0.7999999999999999,
                        "count": 3
                      },
                      {
                        "bin_start": 0.7999999999999999,
                        "bin_end": 0.8999999999999999,
                        "count": 2
                      },
                      {
                        "bin_start": 0.8999999999999999,
                        "bin_end": 0.9999999999999999,
                        "count": 1
                      }
                    ]
                  }
                },
                {
                  "name": "OpenPorchSF",
                  "dtype": "float64",
                  "stats": {
                    "unique_count": 201,
                    "nan_count": 0,
                    "min": "0.0",
                    "max": "1.0",
                    "histogram": [
                      {
                        "bin_start": 0,
                        "bin_end": 0.1,
                        "count": 1003
                      },
                      {
                        "bin_start": 0.1,
                        "bin_end": 0.2,
                        "count": 242
                      },
                      {
                        "bin_start": 0.2,
                        "bin_end": 0.30000000000000004,
                        "count": 121
                      },
                      {
                        "bin_start": 0.30000000000000004,
                        "bin_end": 0.4,
                        "count": 44
                      },
                      {
                        "bin_start": 0.4,
                        "bin_end": 0.5,
                        "count": 24
                      },
                      {
                        "bin_start": 0.5,
                        "bin_end": 0.6000000000000001,
                        "count": 11
                      },
                      {
                        "bin_start": 0.6000000000000001,
                        "bin_end": 0.7000000000000001,
                        "count": 2
                      },
                      {
                        "bin_start": 0.7000000000000001,
                        "bin_end": 0.8,
                        "count": 2
                      },
                      {
                        "bin_start": 0.8,
                        "bin_end": 0.9,
                        "count": 0
                      },
                      {
                        "bin_start": 0.9,
                        "bin_end": 1,
                        "count": 3
                      }
                    ]
                  }
                },
                {
                  "name": "EnclosedPorch",
                  "dtype": "float64",
                  "stats": {
                    "unique_count": 119,
                    "nan_count": 0,
                    "min": "0.0",
                    "max": "1.0",
                    "histogram": [
                      {
                        "bin_start": 0,
                        "bin_end": 0.1,
                        "count": 1267
                      },
                      {
                        "bin_start": 0.1,
                        "bin_end": 0.2,
                        "count": 33
                      },
                      {
                        "bin_start": 0.2,
                        "bin_end": 0.30000000000000004,
                        "count": 68
                      },
                      {
                        "bin_start": 0.30000000000000004,
                        "bin_end": 0.4,
                        "count": 44
                      },
                      {
                        "bin_start": 0.4,
                        "bin_end": 0.5,
                        "count": 30
                      },
                      {
                        "bin_start": 0.5,
                        "bin_end": 0.6000000000000001,
                        "count": 8
                      },
                      {
                        "bin_start": 0.6000000000000001,
                        "bin_end": 0.7000000000000001,
                        "count": 1
                      },
                      {
                        "bin_start": 0.7000000000000001,
                        "bin_end": 0.8,
                        "count": 0
                      },
                      {
                        "bin_start": 0.8,
                        "bin_end": 0.9,
                        "count": 0
                      },
                      {
                        "bin_start": 0.9,
                        "bin_end": 1,
                        "count": 1
                      }
                    ]
                  }
                },
                {
                  "name": "3SsnPorch",
                  "dtype": "float64",
                  "stats": {
                    "unique_count": 20,
                    "nan_count": 0,
                    "min": "0.0",
                    "max": "1.0",
                    "histogram": [
                      {
                        "bin_start": 0,
                        "bin_end": 0.1,
                        "count": 1429
                      },
                      {
                        "bin_start": 0.1,
                        "bin_end": 0.2,
                        "count": 1
                      },
                      {
                        "bin_start": 0.2,
                        "bin_end": 0.30000000000000004,
                        "count": 4
                      },
                      {
                        "bin_start": 0.30000000000000004,
                        "bin_end": 0.4,
                        "count": 9
                      },
                      {
                        "bin_start": 0.4,
                        "bin_end": 0.5,
                        "count": 4
                      },
                      {
                        "bin_start": 0.5,
                        "bin_end": 0.6000000000000001,
                        "count": 2
                      },
                      {
                        "bin_start": 0.6000000000000001,
                        "bin_end": 0.7000000000000001,
                        "count": 1
                      },
                      {
                        "bin_start": 0.7000000000000001,
                        "bin_end": 0.8,
                        "count": 0
                      },
                      {
                        "bin_start": 0.8,
                        "bin_end": 0.9,
                        "count": 1
                      },
                      {
                        "bin_start": 0.9,
                        "bin_end": 1,
                        "count": 1
                      }
                    ]
                  }
                },
                {
                  "name": "ScreenPorch",
                  "dtype": "float64",
                  "stats": {
                    "unique_count": 76,
                    "nan_count": 0,
                    "min": "0.0",
                    "max": "1.0",
                    "histogram": [
                      {
                        "bin_start": 0,
                        "bin_end": 0.1,
                        "count": 1337
                      },
                      {
                        "bin_start": 0.1,
                        "bin_end": 0.2,
                        "count": 8
                      },
                      {
                        "bin_start": 0.2,
                        "bin_end": 0.30000000000000004,
                        "count": 23
                      },
                      {
                        "bin_start": 0.30000000000000004,
                        "bin_end": 0.4,
                        "count": 37
                      },
                      {
                        "bin_start": 0.4,
                        "bin_end": 0.5,
                        "count": 25
                      },
                      {
                        "bin_start": 0.5,
                        "bin_end": 0.6000000000000001,
                        "count": 13
                      },
                      {
                        "bin_start": 0.6000000000000001,
                        "bin_end": 0.7000000000000001,
                        "count": 3
                      },
                      {
                        "bin_start": 0.7000000000000001,
                        "bin_end": 0.8,
                        "count": 1
                      },
                      {
                        "bin_start": 0.8,
                        "bin_end": 0.9,
                        "count": 3
                      },
                      {
                        "bin_start": 0.9,
                        "bin_end": 1,
                        "count": 2
                      }
                    ]
                  }
                },
                {
                  "name": "PoolArea",
                  "dtype": "float64",
                  "stats": {
                    "unique_count": 8,
                    "nan_count": 0,
                    "min": "0.0",
                    "max": "1.0",
                    "histogram": [
                      {
                        "bin_start": 0,
                        "bin_end": 0.1,
                        "count": 1445
                      },
                      {
                        "bin_start": 0.1,
                        "bin_end": 0.2,
                        "count": 0
                      },
                      {
                        "bin_start": 0.2,
                        "bin_end": 0.30000000000000004,
                        "count": 0
                      },
                      {
                        "bin_start": 0.30000000000000004,
                        "bin_end": 0.4,
                        "count": 0
                      },
                      {
                        "bin_start": 0.4,
                        "bin_end": 0.5,
                        "count": 0
                      },
                      {
                        "bin_start": 0.5,
                        "bin_end": 0.6000000000000001,
                        "count": 0
                      },
                      {
                        "bin_start": 0.6000000000000001,
                        "bin_end": 0.7000000000000001,
                        "count": 2
                      },
                      {
                        "bin_start": 0.7000000000000001,
                        "bin_end": 0.8,
                        "count": 3
                      },
                      {
                        "bin_start": 0.8,
                        "bin_end": 0.9,
                        "count": 1
                      },
                      {
                        "bin_start": 0.9,
                        "bin_end": 1,
                        "count": 1
                      }
                    ]
                  }
                },
                {
                  "name": "MiscVal",
                  "dtype": "float64",
                  "stats": {
                    "unique_count": 21,
                    "nan_count": 0,
                    "min": "0.0",
                    "max": "1.0",
                    "histogram": [
                      {
                        "bin_start": 0,
                        "bin_end": 0.1,
                        "count": 1444
                      },
                      {
                        "bin_start": 0.1,
                        "bin_end": 0.2,
                        "count": 5
                      },
                      {
                        "bin_start": 0.2,
                        "bin_end": 0.30000000000000004,
                        "count": 1
                      },
                      {
                        "bin_start": 0.30000000000000004,
                        "bin_end": 0.4,
                        "count": 0
                      },
                      {
                        "bin_start": 0.4,
                        "bin_end": 0.5,
                        "count": 0
                      },
                      {
                        "bin_start": 0.5,
                        "bin_end": 0.6000000000000001,
                        "count": 1
                      },
                      {
                        "bin_start": 0.6000000000000001,
                        "bin_end": 0.7000000000000001,
                        "count": 0
                      },
                      {
                        "bin_start": 0.7000000000000001,
                        "bin_end": 0.8,
                        "count": 0
                      },
                      {
                        "bin_start": 0.8,
                        "bin_end": 0.9,
                        "count": 0
                      },
                      {
                        "bin_start": 0.9,
                        "bin_end": 1,
                        "count": 1
                      }
                    ]
                  }
                },
                {
                  "name": "SalePrice",
                  "dtype": "int64",
                  "stats": {
                    "unique_count": 657,
                    "nan_count": 0,
                    "min": "34900",
                    "max": "755000",
                    "histogram": [
                      {
                        "bin_start": 34900,
                        "bin_end": 106910,
                        "count": 148
                      },
                      {
                        "bin_start": 106910,
                        "bin_end": 178920,
                        "count": 723
                      },
                      {
                        "bin_start": 178920,
                        "bin_end": 250930,
                        "count": 366
                      },
                      {
                        "bin_start": 250930,
                        "bin_end": 322940,
                        "count": 135
                      },
                      {
                        "bin_start": 322940,
                        "bin_end": 394950,
                        "count": 51
                      },
                      {
                        "bin_start": 394950,
                        "bin_end": 466960,
                        "count": 18
                      },
                      {
                        "bin_start": 466960,
                        "bin_end": 538970,
                        "count": 4
                      },
                      {
                        "bin_start": 538970,
                        "bin_end": 610980,
                        "count": 3
                      },
                      {
                        "bin_start": 610980,
                        "bin_end": 682990,
                        "count": 2
                      },
                      {
                        "bin_start": 682990,
                        "bin_end": 755000,
                        "count": 2
                      }
                    ]
                  }
                },
                {
                  "name": "MSZoning_C (all)",
                  "dtype": "uint8",
                  "stats": {
                    "unique_count": 2,
                    "nan_count": 0,
                    "min": "0",
                    "max": "1",
                    "histogram": [
                      {
                        "bin_start": 0,
                        "bin_end": 0.1,
                        "count": 1442
                      },
                      {
                        "bin_start": 0.1,
                        "bin_end": 0.2,
                        "count": 0
                      },
                      {
                        "bin_start": 0.2,
                        "bin_end": 0.30000000000000004,
                        "count": 0
                      },
                      {
                        "bin_start": 0.30000000000000004,
                        "bin_end": 0.4,
                        "count": 0
                      },
                      {
                        "bin_start": 0.4,
                        "bin_end": 0.5,
                        "count": 0
                      },
                      {
                        "bin_start": 0.5,
                        "bin_end": 0.6000000000000001,
                        "count": 0
                      },
                      {
                        "bin_start": 0.6000000000000001,
                        "bin_end": 0.7000000000000001,
                        "count": 0
                      },
                      {
                        "bin_start": 0.7000000000000001,
                        "bin_end": 0.8,
                        "count": 0
                      },
                      {
                        "bin_start": 0.8,
                        "bin_end": 0.9,
                        "count": 0
                      },
                      {
                        "bin_start": 0.9,
                        "bin_end": 1,
                        "count": 10
                      }
                    ]
                  }
                },
                {
                  "name": "MSZoning_FV",
                  "dtype": "uint8",
                  "stats": {
                    "unique_count": 2,
                    "nan_count": 0,
                    "min": "0",
                    "max": "1",
                    "histogram": [
                      {
                        "bin_start": 0,
                        "bin_end": 0.1,
                        "count": 1390
                      },
                      {
                        "bin_start": 0.1,
                        "bin_end": 0.2,
                        "count": 0
                      },
                      {
                        "bin_start": 0.2,
                        "bin_end": 0.30000000000000004,
                        "count": 0
                      },
                      {
                        "bin_start": 0.30000000000000004,
                        "bin_end": 0.4,
                        "count": 0
                      },
                      {
                        "bin_start": 0.4,
                        "bin_end": 0.5,
                        "count": 0
                      },
                      {
                        "bin_start": 0.5,
                        "bin_end": 0.6000000000000001,
                        "count": 0
                      },
                      {
                        "bin_start": 0.6000000000000001,
                        "bin_end": 0.7000000000000001,
                        "count": 0
                      },
                      {
                        "bin_start": 0.7000000000000001,
                        "bin_end": 0.8,
                        "count": 0
                      },
                      {
                        "bin_start": 0.8,
                        "bin_end": 0.9,
                        "count": 0
                      },
                      {
                        "bin_start": 0.9,
                        "bin_end": 1,
                        "count": 62
                      }
                    ]
                  }
                },
                {
                  "name": "MSZoning_RH",
                  "dtype": "uint8",
                  "stats": {
                    "unique_count": 2,
                    "nan_count": 0,
                    "min": "0",
                    "max": "1",
                    "histogram": [
                      {
                        "bin_start": 0,
                        "bin_end": 0.1,
                        "count": 1436
                      },
                      {
                        "bin_start": 0.1,
                        "bin_end": 0.2,
                        "count": 0
                      },
                      {
                        "bin_start": 0.2,
                        "bin_end": 0.30000000000000004,
                        "count": 0
                      },
                      {
                        "bin_start": 0.30000000000000004,
                        "bin_end": 0.4,
                        "count": 0
                      },
                      {
                        "bin_start": 0.4,
                        "bin_end": 0.5,
                        "count": 0
                      },
                      {
                        "bin_start": 0.5,
                        "bin_end": 0.6000000000000001,
                        "count": 0
                      },
                      {
                        "bin_start": 0.6000000000000001,
                        "bin_end": 0.7000000000000001,
                        "count": 0
                      },
                      {
                        "bin_start": 0.7000000000000001,
                        "bin_end": 0.8,
                        "count": 0
                      },
                      {
                        "bin_start": 0.8,
                        "bin_end": 0.9,
                        "count": 0
                      },
                      {
                        "bin_start": 0.9,
                        "bin_end": 1,
                        "count": 16
                      }
                    ]
                  }
                },
                {
                  "name": "MSZoning_RL",
                  "dtype": "uint8",
                  "stats": {
                    "unique_count": 2,
                    "nan_count": 0,
                    "min": "0",
                    "max": "1",
                    "histogram": [
                      {
                        "bin_start": 0,
                        "bin_end": 0.1,
                        "count": 306
                      },
                      {
                        "bin_start": 0.1,
                        "bin_end": 0.2,
                        "count": 0
                      },
                      {
                        "bin_start": 0.2,
                        "bin_end": 0.30000000000000004,
                        "count": 0
                      },
                      {
                        "bin_start": 0.30000000000000004,
                        "bin_end": 0.4,
                        "count": 0
                      },
                      {
                        "bin_start": 0.4,
                        "bin_end": 0.5,
                        "count": 0
                      },
                      {
                        "bin_start": 0.5,
                        "bin_end": 0.6000000000000001,
                        "count": 0
                      },
                      {
                        "bin_start": 0.6000000000000001,
                        "bin_end": 0.7000000000000001,
                        "count": 0
                      },
                      {
                        "bin_start": 0.7000000000000001,
                        "bin_end": 0.8,
                        "count": 0
                      },
                      {
                        "bin_start": 0.8,
                        "bin_end": 0.9,
                        "count": 0
                      },
                      {
                        "bin_start": 0.9,
                        "bin_end": 1,
                        "count": 1146
                      }
                    ]
                  }
                },
                {
                  "name": "MSZoning_RM",
                  "dtype": "uint8",
                  "stats": {
                    "unique_count": 2,
                    "nan_count": 0,
                    "min": "0",
                    "max": "1",
                    "histogram": [
                      {
                        "bin_start": 0,
                        "bin_end": 0.1,
                        "count": 1234
                      },
                      {
                        "bin_start": 0.1,
                        "bin_end": 0.2,
                        "count": 0
                      },
                      {
                        "bin_start": 0.2,
                        "bin_end": 0.30000000000000004,
                        "count": 0
                      },
                      {
                        "bin_start": 0.30000000000000004,
                        "bin_end": 0.4,
                        "count": 0
                      },
                      {
                        "bin_start": 0.4,
                        "bin_end": 0.5,
                        "count": 0
                      },
                      {
                        "bin_start": 0.5,
                        "bin_end": 0.6000000000000001,
                        "count": 0
                      },
                      {
                        "bin_start": 0.6000000000000001,
                        "bin_end": 0.7000000000000001,
                        "count": 0
                      },
                      {
                        "bin_start": 0.7000000000000001,
                        "bin_end": 0.8,
                        "count": 0
                      },
                      {
                        "bin_start": 0.8,
                        "bin_end": 0.9,
                        "count": 0
                      },
                      {
                        "bin_start": 0.9,
                        "bin_end": 1,
                        "count": 218
                      }
                    ]
                  }
                },
                {
                  "name": "Street_Grvl",
                  "dtype": "uint8",
                  "stats": {
                    "unique_count": 2,
                    "nan_count": 0,
                    "min": "0",
                    "max": "1",
                    "histogram": [
                      {
                        "bin_start": 0,
                        "bin_end": 0.1,
                        "count": 1446
                      },
                      {
                        "bin_start": 0.1,
                        "bin_end": 0.2,
                        "count": 0
                      },
                      {
                        "bin_start": 0.2,
                        "bin_end": 0.30000000000000004,
                        "count": 0
                      },
                      {
                        "bin_start": 0.30000000000000004,
                        "bin_end": 0.4,
                        "count": 0
                      },
                      {
                        "bin_start": 0.4,
                        "bin_end": 0.5,
                        "count": 0
                      },
                      {
                        "bin_start": 0.5,
                        "bin_end": 0.6000000000000001,
                        "count": 0
                      },
                      {
                        "bin_start": 0.6000000000000001,
                        "bin_end": 0.7000000000000001,
                        "count": 0
                      },
                      {
                        "bin_start": 0.7000000000000001,
                        "bin_end": 0.8,
                        "count": 0
                      },
                      {
                        "bin_start": 0.8,
                        "bin_end": 0.9,
                        "count": 0
                      },
                      {
                        "bin_start": 0.9,
                        "bin_end": 1,
                        "count": 6
                      }
                    ]
                  }
                },
                {
                  "name": "Street_Pave",
                  "dtype": "uint8",
                  "stats": {
                    "unique_count": 2,
                    "nan_count": 0,
                    "min": "0",
                    "max": "1",
                    "histogram": [
                      {
                        "bin_start": 0,
                        "bin_end": 0.1,
                        "count": 6
                      },
                      {
                        "bin_start": 0.1,
                        "bin_end": 0.2,
                        "count": 0
                      },
                      {
                        "bin_start": 0.2,
                        "bin_end": 0.30000000000000004,
                        "count": 0
                      },
                      {
                        "bin_start": 0.30000000000000004,
                        "bin_end": 0.4,
                        "count": 0
                      },
                      {
                        "bin_start": 0.4,
                        "bin_end": 0.5,
                        "count": 0
                      },
                      {
                        "bin_start": 0.5,
                        "bin_end": 0.6000000000000001,
                        "count": 0
                      },
                      {
                        "bin_start": 0.6000000000000001,
                        "bin_end": 0.7000000000000001,
                        "count": 0
                      },
                      {
                        "bin_start": 0.7000000000000001,
                        "bin_end": 0.8,
                        "count": 0
                      },
                      {
                        "bin_start": 0.8,
                        "bin_end": 0.9,
                        "count": 0
                      },
                      {
                        "bin_start": 0.9,
                        "bin_end": 1,
                        "count": 1446
                      }
                    ]
                  }
                },
                {
                  "name": "Alley_Grvl",
                  "dtype": "uint8",
                  "stats": {
                    "unique_count": 2,
                    "nan_count": 0,
                    "min": "0",
                    "max": "1",
                    "histogram": [
                      {
                        "bin_start": 0,
                        "bin_end": 0.1,
                        "count": 1402
                      },
                      {
                        "bin_start": 0.1,
                        "bin_end": 0.2,
                        "count": 0
                      },
                      {
                        "bin_start": 0.2,
                        "bin_end": 0.30000000000000004,
                        "count": 0
                      },
                      {
                        "bin_start": 0.30000000000000004,
                        "bin_end": 0.4,
                        "count": 0
                      },
                      {
                        "bin_start": 0.4,
                        "bin_end": 0.5,
                        "count": 0
                      },
                      {
                        "bin_start": 0.5,
                        "bin_end": 0.6000000000000001,
                        "count": 0
                      },
                      {
                        "bin_start": 0.6000000000000001,
                        "bin_end": 0.7000000000000001,
                        "count": 0
                      },
                      {
                        "bin_start": 0.7000000000000001,
                        "bin_end": 0.8,
                        "count": 0
                      },
                      {
                        "bin_start": 0.8,
                        "bin_end": 0.9,
                        "count": 0
                      },
                      {
                        "bin_start": 0.9,
                        "bin_end": 1,
                        "count": 50
                      }
                    ]
                  }
                },
                {
                  "name": "Alley_NoAlley",
                  "dtype": "uint8",
                  "stats": {
                    "unique_count": 2,
                    "nan_count": 0,
                    "min": "0",
                    "max": "1",
                    "histogram": [
                      {
                        "bin_start": 0,
                        "bin_end": 0.1,
                        "count": 90
                      },
                      {
                        "bin_start": 0.1,
                        "bin_end": 0.2,
                        "count": 0
                      },
                      {
                        "bin_start": 0.2,
                        "bin_end": 0.30000000000000004,
                        "count": 0
                      },
                      {
                        "bin_start": 0.30000000000000004,
                        "bin_end": 0.4,
                        "count": 0
                      },
                      {
                        "bin_start": 0.4,
                        "bin_end": 0.5,
                        "count": 0
                      },
                      {
                        "bin_start": 0.5,
                        "bin_end": 0.6000000000000001,
                        "count": 0
                      },
                      {
                        "bin_start": 0.6000000000000001,
                        "bin_end": 0.7000000000000001,
                        "count": 0
                      },
                      {
                        "bin_start": 0.7000000000000001,
                        "bin_end": 0.8,
                        "count": 0
                      },
                      {
                        "bin_start": 0.8,
                        "bin_end": 0.9,
                        "count": 0
                      },
                      {
                        "bin_start": 0.9,
                        "bin_end": 1,
                        "count": 1362
                      }
                    ]
                  }
                },
                {
                  "name": "Alley_Pave",
                  "dtype": "uint8",
                  "stats": {
                    "unique_count": 2,
                    "nan_count": 0,
                    "min": "0",
                    "max": "1",
                    "histogram": [
                      {
                        "bin_start": 0,
                        "bin_end": 0.1,
                        "count": 1412
                      },
                      {
                        "bin_start": 0.1,
                        "bin_end": 0.2,
                        "count": 0
                      },
                      {
                        "bin_start": 0.2,
                        "bin_end": 0.30000000000000004,
                        "count": 0
                      },
                      {
                        "bin_start": 0.30000000000000004,
                        "bin_end": 0.4,
                        "count": 0
                      },
                      {
                        "bin_start": 0.4,
                        "bin_end": 0.5,
                        "count": 0
                      },
                      {
                        "bin_start": 0.5,
                        "bin_end": 0.6000000000000001,
                        "count": 0
                      },
                      {
                        "bin_start": 0.6000000000000001,
                        "bin_end": 0.7000000000000001,
                        "count": 0
                      },
                      {
                        "bin_start": 0.7000000000000001,
                        "bin_end": 0.8,
                        "count": 0
                      },
                      {
                        "bin_start": 0.8,
                        "bin_end": 0.9,
                        "count": 0
                      },
                      {
                        "bin_start": 0.9,
                        "bin_end": 1,
                        "count": 40
                      }
                    ]
                  }
                },
                {
                  "name": "LotShape_IR1",
                  "dtype": "uint8",
                  "stats": {
                    "unique_count": 2,
                    "nan_count": 0,
                    "min": "0",
                    "max": "1",
                    "histogram": [
                      {
                        "bin_start": 0,
                        "bin_end": 0.1,
                        "count": 970
                      },
                      {
                        "bin_start": 0.1,
                        "bin_end": 0.2,
                        "count": 0
                      },
                      {
                        "bin_start": 0.2,
                        "bin_end": 0.30000000000000004,
                        "count": 0
                      },
                      {
                        "bin_start": 0.30000000000000004,
                        "bin_end": 0.4,
                        "count": 0
                      },
                      {
                        "bin_start": 0.4,
                        "bin_end": 0.5,
                        "count": 0
                      },
                      {
                        "bin_start": 0.5,
                        "bin_end": 0.6000000000000001,
                        "count": 0
                      },
                      {
                        "bin_start": 0.6000000000000001,
                        "bin_end": 0.7000000000000001,
                        "count": 0
                      },
                      {
                        "bin_start": 0.7000000000000001,
                        "bin_end": 0.8,
                        "count": 0
                      },
                      {
                        "bin_start": 0.8,
                        "bin_end": 0.9,
                        "count": 0
                      },
                      {
                        "bin_start": 0.9,
                        "bin_end": 1,
                        "count": 482
                      }
                    ]
                  }
                },
                {
                  "name": "LotShape_IR2",
                  "dtype": "uint8",
                  "stats": {
                    "unique_count": 2,
                    "nan_count": 0,
                    "min": "0",
                    "max": "1",
                    "histogram": [
                      {
                        "bin_start": 0,
                        "bin_end": 0.1,
                        "count": 1411
                      },
                      {
                        "bin_start": 0.1,
                        "bin_end": 0.2,
                        "count": 0
                      },
                      {
                        "bin_start": 0.2,
                        "bin_end": 0.30000000000000004,
                        "count": 0
                      },
                      {
                        "bin_start": 0.30000000000000004,
                        "bin_end": 0.4,
                        "count": 0
                      },
                      {
                        "bin_start": 0.4,
                        "bin_end": 0.5,
                        "count": 0
                      },
                      {
                        "bin_start": 0.5,
                        "bin_end": 0.6000000000000001,
                        "count": 0
                      },
                      {
                        "bin_start": 0.6000000000000001,
                        "bin_end": 0.7000000000000001,
                        "count": 0
                      },
                      {
                        "bin_start": 0.7000000000000001,
                        "bin_end": 0.8,
                        "count": 0
                      },
                      {
                        "bin_start": 0.8,
                        "bin_end": 0.9,
                        "count": 0
                      },
                      {
                        "bin_start": 0.9,
                        "bin_end": 1,
                        "count": 41
                      }
                    ]
                  }
                },
                {
                  "name": "LotShape_IR3",
                  "dtype": "uint8",
                  "stats": {
                    "unique_count": 2,
                    "nan_count": 0,
                    "min": "0",
                    "max": "1",
                    "histogram": [
                      {
                        "bin_start": 0,
                        "bin_end": 0.1,
                        "count": 1442
                      },
                      {
                        "bin_start": 0.1,
                        "bin_end": 0.2,
                        "count": 0
                      },
                      {
                        "bin_start": 0.2,
                        "bin_end": 0.30000000000000004,
                        "count": 0
                      },
                      {
                        "bin_start": 0.30000000000000004,
                        "bin_end": 0.4,
                        "count": 0
                      },
                      {
                        "bin_start": 0.4,
                        "bin_end": 0.5,
                        "count": 0
                      },
                      {
                        "bin_start": 0.5,
                        "bin_end": 0.6000000000000001,
                        "count": 0
                      },
                      {
                        "bin_start": 0.6000000000000001,
                        "bin_end": 0.7000000000000001,
                        "count": 0
                      },
                      {
                        "bin_start": 0.7000000000000001,
                        "bin_end": 0.8,
                        "count": 0
                      },
                      {
                        "bin_start": 0.8,
                        "bin_end": 0.9,
                        "count": 0
                      },
                      {
                        "bin_start": 0.9,
                        "bin_end": 1,
                        "count": 10
                      }
                    ]
                  }
                },
                {
                  "name": "LotShape_Reg",
                  "dtype": "uint8",
                  "stats": {
                    "unique_count": 2,
                    "nan_count": 0,
                    "min": "0",
                    "max": "1",
                    "histogram": [
                      {
                        "bin_start": 0,
                        "bin_end": 0.1,
                        "count": 533
                      },
                      {
                        "bin_start": 0.1,
                        "bin_end": 0.2,
                        "count": 0
                      },
                      {
                        "bin_start": 0.2,
                        "bin_end": 0.30000000000000004,
                        "count": 0
                      },
                      {
                        "bin_start": 0.30000000000000004,
                        "bin_end": 0.4,
                        "count": 0
                      },
                      {
                        "bin_start": 0.4,
                        "bin_end": 0.5,
                        "count": 0
                      },
                      {
                        "bin_start": 0.5,
                        "bin_end": 0.6000000000000001,
                        "count": 0
                      },
                      {
                        "bin_start": 0.6000000000000001,
                        "bin_end": 0.7000000000000001,
                        "count": 0
                      },
                      {
                        "bin_start": 0.7000000000000001,
                        "bin_end": 0.8,
                        "count": 0
                      },
                      {
                        "bin_start": 0.8,
                        "bin_end": 0.9,
                        "count": 0
                      },
                      {
                        "bin_start": 0.9,
                        "bin_end": 1,
                        "count": 919
                      }
                    ]
                  }
                },
                {
                  "name": "LandContour_Bnk",
                  "dtype": "uint8",
                  "stats": {
                    "unique_count": 2,
                    "nan_count": 0,
                    "min": "0",
                    "max": "1",
                    "histogram": [
                      {
                        "bin_start": 0,
                        "bin_end": 0.1,
                        "count": 1389
                      },
                      {
                        "bin_start": 0.1,
                        "bin_end": 0.2,
                        "count": 0
                      },
                      {
                        "bin_start": 0.2,
                        "bin_end": 0.30000000000000004,
                        "count": 0
                      },
                      {
                        "bin_start": 0.30000000000000004,
                        "bin_end": 0.4,
                        "count": 0
                      },
                      {
                        "bin_start": 0.4,
                        "bin_end": 0.5,
                        "count": 0
                      },
                      {
                        "bin_start": 0.5,
                        "bin_end": 0.6000000000000001,
                        "count": 0
                      },
                      {
                        "bin_start": 0.6000000000000001,
                        "bin_end": 0.7000000000000001,
                        "count": 0
                      },
                      {
                        "bin_start": 0.7000000000000001,
                        "bin_end": 0.8,
                        "count": 0
                      },
                      {
                        "bin_start": 0.8,
                        "bin_end": 0.9,
                        "count": 0
                      },
                      {
                        "bin_start": 0.9,
                        "bin_end": 1,
                        "count": 63
                      }
                    ]
                  }
                },
                {
                  "name": "LandContour_HLS",
                  "dtype": "uint8",
                  "stats": {
                    "unique_count": 2,
                    "nan_count": 0,
                    "min": "0",
                    "max": "1",
                    "histogram": [
                      {
                        "bin_start": 0,
                        "bin_end": 0.1,
                        "count": 1402
                      },
                      {
                        "bin_start": 0.1,
                        "bin_end": 0.2,
                        "count": 0
                      },
                      {
                        "bin_start": 0.2,
                        "bin_end": 0.30000000000000004,
                        "count": 0
                      },
                      {
                        "bin_start": 0.30000000000000004,
                        "bin_end": 0.4,
                        "count": 0
                      },
                      {
                        "bin_start": 0.4,
                        "bin_end": 0.5,
                        "count": 0
                      },
                      {
                        "bin_start": 0.5,
                        "bin_end": 0.6000000000000001,
                        "count": 0
                      },
                      {
                        "bin_start": 0.6000000000000001,
                        "bin_end": 0.7000000000000001,
                        "count": 0
                      },
                      {
                        "bin_start": 0.7000000000000001,
                        "bin_end": 0.8,
                        "count": 0
                      },
                      {
                        "bin_start": 0.8,
                        "bin_end": 0.9,
                        "count": 0
                      },
                      {
                        "bin_start": 0.9,
                        "bin_end": 1,
                        "count": 50
                      }
                    ]
                  }
                },
                {
                  "name": "LandContour_Low",
                  "dtype": "uint8",
                  "stats": {
                    "unique_count": 2,
                    "nan_count": 0,
                    "min": "0",
                    "max": "1",
                    "histogram": [
                      {
                        "bin_start": 0,
                        "bin_end": 0.1,
                        "count": 1416
                      },
                      {
                        "bin_start": 0.1,
                        "bin_end": 0.2,
                        "count": 0
                      },
                      {
                        "bin_start": 0.2,
                        "bin_end": 0.30000000000000004,
                        "count": 0
                      },
                      {
                        "bin_start": 0.30000000000000004,
                        "bin_end": 0.4,
                        "count": 0
                      },
                      {
                        "bin_start": 0.4,
                        "bin_end": 0.5,
                        "count": 0
                      },
                      {
                        "bin_start": 0.5,
                        "bin_end": 0.6000000000000001,
                        "count": 0
                      },
                      {
                        "bin_start": 0.6000000000000001,
                        "bin_end": 0.7000000000000001,
                        "count": 0
                      },
                      {
                        "bin_start": 0.7000000000000001,
                        "bin_end": 0.8,
                        "count": 0
                      },
                      {
                        "bin_start": 0.8,
                        "bin_end": 0.9,
                        "count": 0
                      },
                      {
                        "bin_start": 0.9,
                        "bin_end": 1,
                        "count": 36
                      }
                    ]
                  }
                },
                {
                  "name": "LandContour_Lvl",
                  "dtype": "uint8",
                  "stats": {
                    "unique_count": 2,
                    "nan_count": 0,
                    "min": "0",
                    "max": "1",
                    "histogram": [
                      {
                        "bin_start": 0,
                        "bin_end": 0.1,
                        "count": 149
                      },
                      {
                        "bin_start": 0.1,
                        "bin_end": 0.2,
                        "count": 0
                      },
                      {
                        "bin_start": 0.2,
                        "bin_end": 0.30000000000000004,
                        "count": 0
                      },
                      {
                        "bin_start": 0.30000000000000004,
                        "bin_end": 0.4,
                        "count": 0
                      },
                      {
                        "bin_start": 0.4,
                        "bin_end": 0.5,
                        "count": 0
                      },
                      {
                        "bin_start": 0.5,
                        "bin_end": 0.6000000000000001,
                        "count": 0
                      },
                      {
                        "bin_start": 0.6000000000000001,
                        "bin_end": 0.7000000000000001,
                        "count": 0
                      },
                      {
                        "bin_start": 0.7000000000000001,
                        "bin_end": 0.8,
                        "count": 0
                      },
                      {
                        "bin_start": 0.8,
                        "bin_end": 0.9,
                        "count": 0
                      },
                      {
                        "bin_start": 0.9,
                        "bin_end": 1,
                        "count": 1303
                      }
                    ]
                  }
                },
                {
                  "name": "Utilities_AllPub",
                  "dtype": "uint8",
                  "stats": {
                    "unique_count": 2,
                    "nan_count": 0,
                    "min": "0",
                    "max": "1",
                    "histogram": [
                      {
                        "bin_start": 0,
                        "bin_end": 0.1,
                        "count": 1
                      },
                      {
                        "bin_start": 0.1,
                        "bin_end": 0.2,
                        "count": 0
                      },
                      {
                        "bin_start": 0.2,
                        "bin_end": 0.30000000000000004,
                        "count": 0
                      },
                      {
                        "bin_start": 0.30000000000000004,
                        "bin_end": 0.4,
                        "count": 0
                      },
                      {
                        "bin_start": 0.4,
                        "bin_end": 0.5,
                        "count": 0
                      },
                      {
                        "bin_start": 0.5,
                        "bin_end": 0.6000000000000001,
                        "count": 0
                      },
                      {
                        "bin_start": 0.6000000000000001,
                        "bin_end": 0.7000000000000001,
                        "count": 0
                      },
                      {
                        "bin_start": 0.7000000000000001,
                        "bin_end": 0.8,
                        "count": 0
                      },
                      {
                        "bin_start": 0.8,
                        "bin_end": 0.9,
                        "count": 0
                      },
                      {
                        "bin_start": 0.9,
                        "bin_end": 1,
                        "count": 1451
                      }
                    ]
                  }
                },
                {
                  "name": "Utilities_NoSeWa",
                  "dtype": "uint8",
                  "stats": {
                    "unique_count": 2,
                    "nan_count": 0,
                    "min": "0",
                    "max": "1",
                    "histogram": [
                      {
                        "bin_start": 0,
                        "bin_end": 0.1,
                        "count": 1451
                      },
                      {
                        "bin_start": 0.1,
                        "bin_end": 0.2,
                        "count": 0
                      },
                      {
                        "bin_start": 0.2,
                        "bin_end": 0.30000000000000004,
                        "count": 0
                      },
                      {
                        "bin_start": 0.30000000000000004,
                        "bin_end": 0.4,
                        "count": 0
                      },
                      {
                        "bin_start": 0.4,
                        "bin_end": 0.5,
                        "count": 0
                      },
                      {
                        "bin_start": 0.5,
                        "bin_end": 0.6000000000000001,
                        "count": 0
                      },
                      {
                        "bin_start": 0.6000000000000001,
                        "bin_end": 0.7000000000000001,
                        "count": 0
                      },
                      {
                        "bin_start": 0.7000000000000001,
                        "bin_end": 0.8,
                        "count": 0
                      },
                      {
                        "bin_start": 0.8,
                        "bin_end": 0.9,
                        "count": 0
                      },
                      {
                        "bin_start": 0.9,
                        "bin_end": 1,
                        "count": 1
                      }
                    ]
                  }
                },
                {
                  "name": "LotConfig_Corner",
                  "dtype": "uint8",
                  "stats": {
                    "unique_count": 2,
                    "nan_count": 0,
                    "min": "0",
                    "max": "1",
                    "histogram": [
                      {
                        "bin_start": 0,
                        "bin_end": 0.1,
                        "count": 1190
                      },
                      {
                        "bin_start": 0.1,
                        "bin_end": 0.2,
                        "count": 0
                      },
                      {
                        "bin_start": 0.2,
                        "bin_end": 0.30000000000000004,
                        "count": 0
                      },
                      {
                        "bin_start": 0.30000000000000004,
                        "bin_end": 0.4,
                        "count": 0
                      },
                      {
                        "bin_start": 0.4,
                        "bin_end": 0.5,
                        "count": 0
                      },
                      {
                        "bin_start": 0.5,
                        "bin_end": 0.6000000000000001,
                        "count": 0
                      },
                      {
                        "bin_start": 0.6000000000000001,
                        "bin_end": 0.7000000000000001,
                        "count": 0
                      },
                      {
                        "bin_start": 0.7000000000000001,
                        "bin_end": 0.8,
                        "count": 0
                      },
                      {
                        "bin_start": 0.8,
                        "bin_end": 0.9,
                        "count": 0
                      },
                      {
                        "bin_start": 0.9,
                        "bin_end": 1,
                        "count": 262
                      }
                    ]
                  }
                },
                {
                  "name": "LotConfig_CulDSac",
                  "dtype": "uint8",
                  "stats": {
                    "unique_count": 2,
                    "nan_count": 0,
                    "min": "0",
                    "max": "1",
                    "histogram": [
                      {
                        "bin_start": 0,
                        "bin_end": 0.1,
                        "count": 1359
                      },
                      {
                        "bin_start": 0.1,
                        "bin_end": 0.2,
                        "count": 0
                      },
                      {
                        "bin_start": 0.2,
                        "bin_end": 0.30000000000000004,
                        "count": 0
                      },
                      {
                        "bin_start": 0.30000000000000004,
                        "bin_end": 0.4,
                        "count": 0
                      },
                      {
                        "bin_start": 0.4,
                        "bin_end": 0.5,
                        "count": 0
                      },
                      {
                        "bin_start": 0.5,
                        "bin_end": 0.6000000000000001,
                        "count": 0
                      },
                      {
                        "bin_start": 0.6000000000000001,
                        "bin_end": 0.7000000000000001,
                        "count": 0
                      },
                      {
                        "bin_start": 0.7000000000000001,
                        "bin_end": 0.8,
                        "count": 0
                      },
                      {
                        "bin_start": 0.8,
                        "bin_end": 0.9,
                        "count": 0
                      },
                      {
                        "bin_start": 0.9,
                        "bin_end": 1,
                        "count": 93
                      }
                    ]
                  }
                },
                {
                  "name": "LotConfig_FR2",
                  "dtype": "uint8",
                  "stats": {
                    "unique_count": 2,
                    "nan_count": 0,
                    "min": "0",
                    "max": "1",
                    "histogram": [
                      {
                        "bin_start": 0,
                        "bin_end": 0.1,
                        "count": 1405
                      },
                      {
                        "bin_start": 0.1,
                        "bin_end": 0.2,
                        "count": 0
                      },
                      {
                        "bin_start": 0.2,
                        "bin_end": 0.30000000000000004,
                        "count": 0
                      },
                      {
                        "bin_start": 0.30000000000000004,
                        "bin_end": 0.4,
                        "count": 0
                      },
                      {
                        "bin_start": 0.4,
                        "bin_end": 0.5,
                        "count": 0
                      },
                      {
                        "bin_start": 0.5,
                        "bin_end": 0.6000000000000001,
                        "count": 0
                      },
                      {
                        "bin_start": 0.6000000000000001,
                        "bin_end": 0.7000000000000001,
                        "count": 0
                      },
                      {
                        "bin_start": 0.7000000000000001,
                        "bin_end": 0.8,
                        "count": 0
                      },
                      {
                        "bin_start": 0.8,
                        "bin_end": 0.9,
                        "count": 0
                      },
                      {
                        "bin_start": 0.9,
                        "bin_end": 1,
                        "count": 47
                      }
                    ]
                  }
                },
                {
                  "name": "LotConfig_FR3",
                  "dtype": "uint8",
                  "stats": {
                    "unique_count": 2,
                    "nan_count": 0,
                    "min": "0",
                    "max": "1",
                    "histogram": [
                      {
                        "bin_start": 0,
                        "bin_end": 0.1,
                        "count": 1448
                      },
                      {
                        "bin_start": 0.1,
                        "bin_end": 0.2,
                        "count": 0
                      },
                      {
                        "bin_start": 0.2,
                        "bin_end": 0.30000000000000004,
                        "count": 0
                      },
                      {
                        "bin_start": 0.30000000000000004,
                        "bin_end": 0.4,
                        "count": 0
                      },
                      {
                        "bin_start": 0.4,
                        "bin_end": 0.5,
                        "count": 0
                      },
                      {
                        "bin_start": 0.5,
                        "bin_end": 0.6000000000000001,
                        "count": 0
                      },
                      {
                        "bin_start": 0.6000000000000001,
                        "bin_end": 0.7000000000000001,
                        "count": 0
                      },
                      {
                        "bin_start": 0.7000000000000001,
                        "bin_end": 0.8,
                        "count": 0
                      },
                      {
                        "bin_start": 0.8,
                        "bin_end": 0.9,
                        "count": 0
                      },
                      {
                        "bin_start": 0.9,
                        "bin_end": 1,
                        "count": 4
                      }
                    ]
                  }
                },
                {
                  "name": "LotConfig_Inside",
                  "dtype": "uint8",
                  "stats": {
                    "unique_count": 2,
                    "nan_count": 0,
                    "min": "0",
                    "max": "1",
                    "histogram": [
                      {
                        "bin_start": 0,
                        "bin_end": 0.1,
                        "count": 406
                      },
                      {
                        "bin_start": 0.1,
                        "bin_end": 0.2,
                        "count": 0
                      },
                      {
                        "bin_start": 0.2,
                        "bin_end": 0.30000000000000004,
                        "count": 0
                      },
                      {
                        "bin_start": 0.30000000000000004,
                        "bin_end": 0.4,
                        "count": 0
                      },
                      {
                        "bin_start": 0.4,
                        "bin_end": 0.5,
                        "count": 0
                      },
                      {
                        "bin_start": 0.5,
                        "bin_end": 0.6000000000000001,
                        "count": 0
                      },
                      {
                        "bin_start": 0.6000000000000001,
                        "bin_end": 0.7000000000000001,
                        "count": 0
                      },
                      {
                        "bin_start": 0.7000000000000001,
                        "bin_end": 0.8,
                        "count": 0
                      },
                      {
                        "bin_start": 0.8,
                        "bin_end": 0.9,
                        "count": 0
                      },
                      {
                        "bin_start": 0.9,
                        "bin_end": 1,
                        "count": 1046
                      }
                    ]
                  }
                },
                {
                  "name": "LandSlope_Gtl",
                  "dtype": "uint8",
                  "stats": {
                    "unique_count": 2,
                    "nan_count": 0,
                    "min": "0",
                    "max": "1",
                    "histogram": [
                      {
                        "bin_start": 0,
                        "bin_end": 0.1,
                        "count": 78
                      },
                      {
                        "bin_start": 0.1,
                        "bin_end": 0.2,
                        "count": 0
                      },
                      {
                        "bin_start": 0.2,
                        "bin_end": 0.30000000000000004,
                        "count": 0
                      },
                      {
                        "bin_start": 0.30000000000000004,
                        "bin_end": 0.4,
                        "count": 0
                      },
                      {
                        "bin_start": 0.4,
                        "bin_end": 0.5,
                        "count": 0
                      },
                      {
                        "bin_start": 0.5,
                        "bin_end": 0.6000000000000001,
                        "count": 0
                      },
                      {
                        "bin_start": 0.6000000000000001,
                        "bin_end": 0.7000000000000001,
                        "count": 0
                      },
                      {
                        "bin_start": 0.7000000000000001,
                        "bin_end": 0.8,
                        "count": 0
                      },
                      {
                        "bin_start": 0.8,
                        "bin_end": 0.9,
                        "count": 0
                      },
                      {
                        "bin_start": 0.9,
                        "bin_end": 1,
                        "count": 1374
                      }
                    ]
                  }
                },
                {
                  "name": "LandSlope_Mod",
                  "dtype": "uint8",
                  "stats": {
                    "unique_count": 2,
                    "nan_count": 0,
                    "min": "0",
                    "max": "1",
                    "histogram": [
                      {
                        "bin_start": 0,
                        "bin_end": 0.1,
                        "count": 1387
                      },
                      {
                        "bin_start": 0.1,
                        "bin_end": 0.2,
                        "count": 0
                      },
                      {
                        "bin_start": 0.2,
                        "bin_end": 0.30000000000000004,
                        "count": 0
                      },
                      {
                        "bin_start": 0.30000000000000004,
                        "bin_end": 0.4,
                        "count": 0
                      },
                      {
                        "bin_start": 0.4,
                        "bin_end": 0.5,
                        "count": 0
                      },
                      {
                        "bin_start": 0.5,
                        "bin_end": 0.6000000000000001,
                        "count": 0
                      },
                      {
                        "bin_start": 0.6000000000000001,
                        "bin_end": 0.7000000000000001,
                        "count": 0
                      },
                      {
                        "bin_start": 0.7000000000000001,
                        "bin_end": 0.8,
                        "count": 0
                      },
                      {
                        "bin_start": 0.8,
                        "bin_end": 0.9,
                        "count": 0
                      },
                      {
                        "bin_start": 0.9,
                        "bin_end": 1,
                        "count": 65
                      }
                    ]
                  }
                },
                {
                  "name": "LandSlope_Sev",
                  "dtype": "uint8",
                  "stats": {
                    "unique_count": 2,
                    "nan_count": 0,
                    "min": "0",
                    "max": "1",
                    "histogram": [
                      {
                        "bin_start": 0,
                        "bin_end": 0.1,
                        "count": 1439
                      },
                      {
                        "bin_start": 0.1,
                        "bin_end": 0.2,
                        "count": 0
                      },
                      {
                        "bin_start": 0.2,
                        "bin_end": 0.30000000000000004,
                        "count": 0
                      },
                      {
                        "bin_start": 0.30000000000000004,
                        "bin_end": 0.4,
                        "count": 0
                      },
                      {
                        "bin_start": 0.4,
                        "bin_end": 0.5,
                        "count": 0
                      },
                      {
                        "bin_start": 0.5,
                        "bin_end": 0.6000000000000001,
                        "count": 0
                      },
                      {
                        "bin_start": 0.6000000000000001,
                        "bin_end": 0.7000000000000001,
                        "count": 0
                      },
                      {
                        "bin_start": 0.7000000000000001,
                        "bin_end": 0.8,
                        "count": 0
                      },
                      {
                        "bin_start": 0.8,
                        "bin_end": 0.9,
                        "count": 0
                      },
                      {
                        "bin_start": 0.9,
                        "bin_end": 1,
                        "count": 13
                      }
                    ]
                  }
                },
                {
                  "name": "Neighborhood_Blmngtn",
                  "dtype": "uint8",
                  "stats": {
                    "unique_count": 2,
                    "nan_count": 0,
                    "min": "0",
                    "max": "1",
                    "histogram": [
                      {
                        "bin_start": 0,
                        "bin_end": 0.1,
                        "count": 1435
                      },
                      {
                        "bin_start": 0.1,
                        "bin_end": 0.2,
                        "count": 0
                      },
                      {
                        "bin_start": 0.2,
                        "bin_end": 0.30000000000000004,
                        "count": 0
                      },
                      {
                        "bin_start": 0.30000000000000004,
                        "bin_end": 0.4,
                        "count": 0
                      },
                      {
                        "bin_start": 0.4,
                        "bin_end": 0.5,
                        "count": 0
                      },
                      {
                        "bin_start": 0.5,
                        "bin_end": 0.6000000000000001,
                        "count": 0
                      },
                      {
                        "bin_start": 0.6000000000000001,
                        "bin_end": 0.7000000000000001,
                        "count": 0
                      },
                      {
                        "bin_start": 0.7000000000000001,
                        "bin_end": 0.8,
                        "count": 0
                      },
                      {
                        "bin_start": 0.8,
                        "bin_end": 0.9,
                        "count": 0
                      },
                      {
                        "bin_start": 0.9,
                        "bin_end": 1,
                        "count": 17
                      }
                    ]
                  }
                },
                {
                  "name": "Neighborhood_Blueste",
                  "dtype": "uint8",
                  "stats": {
                    "unique_count": 2,
                    "nan_count": 0,
                    "min": "0",
                    "max": "1",
                    "histogram": [
                      {
                        "bin_start": 0,
                        "bin_end": 0.1,
                        "count": 1450
                      },
                      {
                        "bin_start": 0.1,
                        "bin_end": 0.2,
                        "count": 0
                      },
                      {
                        "bin_start": 0.2,
                        "bin_end": 0.30000000000000004,
                        "count": 0
                      },
                      {
                        "bin_start": 0.30000000000000004,
                        "bin_end": 0.4,
                        "count": 0
                      },
                      {
                        "bin_start": 0.4,
                        "bin_end": 0.5,
                        "count": 0
                      },
                      {
                        "bin_start": 0.5,
                        "bin_end": 0.6000000000000001,
                        "count": 0
                      },
                      {
                        "bin_start": 0.6000000000000001,
                        "bin_end": 0.7000000000000001,
                        "count": 0
                      },
                      {
                        "bin_start": 0.7000000000000001,
                        "bin_end": 0.8,
                        "count": 0
                      },
                      {
                        "bin_start": 0.8,
                        "bin_end": 0.9,
                        "count": 0
                      },
                      {
                        "bin_start": 0.9,
                        "bin_end": 1,
                        "count": 2
                      }
                    ]
                  }
                },
                {
                  "name": "Neighborhood_BrDale",
                  "dtype": "uint8",
                  "stats": {
                    "unique_count": 2,
                    "nan_count": 0,
                    "min": "0",
                    "max": "1",
                    "histogram": [
                      {
                        "bin_start": 0,
                        "bin_end": 0.1,
                        "count": 1436
                      },
                      {
                        "bin_start": 0.1,
                        "bin_end": 0.2,
                        "count": 0
                      },
                      {
                        "bin_start": 0.2,
                        "bin_end": 0.30000000000000004,
                        "count": 0
                      },
                      {
                        "bin_start": 0.30000000000000004,
                        "bin_end": 0.4,
                        "count": 0
                      },
                      {
                        "bin_start": 0.4,
                        "bin_end": 0.5,
                        "count": 0
                      },
                      {
                        "bin_start": 0.5,
                        "bin_end": 0.6000000000000001,
                        "count": 0
                      },
                      {
                        "bin_start": 0.6000000000000001,
                        "bin_end": 0.7000000000000001,
                        "count": 0
                      },
                      {
                        "bin_start": 0.7000000000000001,
                        "bin_end": 0.8,
                        "count": 0
                      },
                      {
                        "bin_start": 0.8,
                        "bin_end": 0.9,
                        "count": 0
                      },
                      {
                        "bin_start": 0.9,
                        "bin_end": 1,
                        "count": 16
                      }
                    ]
                  }
                },
                {
                  "name": "Neighborhood_BrkSide",
                  "dtype": "uint8",
                  "stats": {
                    "unique_count": 2,
                    "nan_count": 0,
                    "min": "0",
                    "max": "1",
                    "histogram": [
                      {
                        "bin_start": 0,
                        "bin_end": 0.1,
                        "count": 1394
                      },
                      {
                        "bin_start": 0.1,
                        "bin_end": 0.2,
                        "count": 0
                      },
                      {
                        "bin_start": 0.2,
                        "bin_end": 0.30000000000000004,
                        "count": 0
                      },
                      {
                        "bin_start": 0.30000000000000004,
                        "bin_end": 0.4,
                        "count": 0
                      },
                      {
                        "bin_start": 0.4,
                        "bin_end": 0.5,
                        "count": 0
                      },
                      {
                        "bin_start": 0.5,
                        "bin_end": 0.6000000000000001,
                        "count": 0
                      },
                      {
                        "bin_start": 0.6000000000000001,
                        "bin_end": 0.7000000000000001,
                        "count": 0
                      },
                      {
                        "bin_start": 0.7000000000000001,
                        "bin_end": 0.8,
                        "count": 0
                      },
                      {
                        "bin_start": 0.8,
                        "bin_end": 0.9,
                        "count": 0
                      },
                      {
                        "bin_start": 0.9,
                        "bin_end": 1,
                        "count": 58
                      }
                    ]
                  }
                },
                {
                  "name": "Neighborhood_ClearCr",
                  "dtype": "uint8",
                  "stats": {
                    "unique_count": 2,
                    "nan_count": 0,
                    "min": "0",
                    "max": "1",
                    "histogram": [
                      {
                        "bin_start": 0,
                        "bin_end": 0.1,
                        "count": 1424
                      },
                      {
                        "bin_start": 0.1,
                        "bin_end": 0.2,
                        "count": 0
                      },
                      {
                        "bin_start": 0.2,
                        "bin_end": 0.30000000000000004,
                        "count": 0
                      },
                      {
                        "bin_start": 0.30000000000000004,
                        "bin_end": 0.4,
                        "count": 0
                      },
                      {
                        "bin_start": 0.4,
                        "bin_end": 0.5,
                        "count": 0
                      },
                      {
                        "bin_start": 0.5,
                        "bin_end": 0.6000000000000001,
                        "count": 0
                      },
                      {
                        "bin_start": 0.6000000000000001,
                        "bin_end": 0.7000000000000001,
                        "count": 0
                      },
                      {
                        "bin_start": 0.7000000000000001,
                        "bin_end": 0.8,
                        "count": 0
                      },
                      {
                        "bin_start": 0.8,
                        "bin_end": 0.9,
                        "count": 0
                      },
                      {
                        "bin_start": 0.9,
                        "bin_end": 1,
                        "count": 28
                      }
                    ]
                  }
                },
                {
                  "name": "Neighborhood_CollgCr",
                  "dtype": "uint8",
                  "stats": {
                    "unique_count": 2,
                    "nan_count": 0,
                    "min": "0",
                    "max": "1",
                    "histogram": [
                      {
                        "bin_start": 0,
                        "bin_end": 0.1,
                        "count": 1303
                      },
                      {
                        "bin_start": 0.1,
                        "bin_end": 0.2,
                        "count": 0
                      },
                      {
                        "bin_start": 0.2,
                        "bin_end": 0.30000000000000004,
                        "count": 0
                      },
                      {
                        "bin_start": 0.30000000000000004,
                        "bin_end": 0.4,
                        "count": 0
                      },
                      {
                        "bin_start": 0.4,
                        "bin_end": 0.5,
                        "count": 0
                      },
                      {
                        "bin_start": 0.5,
                        "bin_end": 0.6000000000000001,
                        "count": 0
                      },
                      {
                        "bin_start": 0.6000000000000001,
                        "bin_end": 0.7000000000000001,
                        "count": 0
                      },
                      {
                        "bin_start": 0.7000000000000001,
                        "bin_end": 0.8,
                        "count": 0
                      },
                      {
                        "bin_start": 0.8,
                        "bin_end": 0.9,
                        "count": 0
                      },
                      {
                        "bin_start": 0.9,
                        "bin_end": 1,
                        "count": 149
                      }
                    ]
                  }
                },
                {
                  "name": "Neighborhood_Crawfor",
                  "dtype": "uint8",
                  "stats": {
                    "unique_count": 2,
                    "nan_count": 0,
                    "min": "0",
                    "max": "1",
                    "histogram": [
                      {
                        "bin_start": 0,
                        "bin_end": 0.1,
                        "count": 1402
                      },
                      {
                        "bin_start": 0.1,
                        "bin_end": 0.2,
                        "count": 0
                      },
                      {
                        "bin_start": 0.2,
                        "bin_end": 0.30000000000000004,
                        "count": 0
                      },
                      {
                        "bin_start": 0.30000000000000004,
                        "bin_end": 0.4,
                        "count": 0
                      },
                      {
                        "bin_start": 0.4,
                        "bin_end": 0.5,
                        "count": 0
                      },
                      {
                        "bin_start": 0.5,
                        "bin_end": 0.6000000000000001,
                        "count": 0
                      },
                      {
                        "bin_start": 0.6000000000000001,
                        "bin_end": 0.7000000000000001,
                        "count": 0
                      },
                      {
                        "bin_start": 0.7000000000000001,
                        "bin_end": 0.8,
                        "count": 0
                      },
                      {
                        "bin_start": 0.8,
                        "bin_end": 0.9,
                        "count": 0
                      },
                      {
                        "bin_start": 0.9,
                        "bin_end": 1,
                        "count": 50
                      }
                    ]
                  }
                },
                {
                  "name": "Neighborhood_Edwards",
                  "dtype": "uint8",
                  "stats": {
                    "unique_count": 2,
                    "nan_count": 0,
                    "min": "0",
                    "max": "1",
                    "histogram": [
                      {
                        "bin_start": 0,
                        "bin_end": 0.1,
                        "count": 1352
                      },
                      {
                        "bin_start": 0.1,
                        "bin_end": 0.2,
                        "count": 0
                      },
                      {
                        "bin_start": 0.2,
                        "bin_end": 0.30000000000000004,
                        "count": 0
                      },
                      {
                        "bin_start": 0.30000000000000004,
                        "bin_end": 0.4,
                        "count": 0
                      },
                      {
                        "bin_start": 0.4,
                        "bin_end": 0.5,
                        "count": 0
                      },
                      {
                        "bin_start": 0.5,
                        "bin_end": 0.6000000000000001,
                        "count": 0
                      },
                      {
                        "bin_start": 0.6000000000000001,
                        "bin_end": 0.7000000000000001,
                        "count": 0
                      },
                      {
                        "bin_start": 0.7000000000000001,
                        "bin_end": 0.8,
                        "count": 0
                      },
                      {
                        "bin_start": 0.8,
                        "bin_end": 0.9,
                        "count": 0
                      },
                      {
                        "bin_start": 0.9,
                        "bin_end": 1,
                        "count": 100
                      }
                    ]
                  }
                },
                {
                  "name": "Neighborhood_Gilbert",
                  "dtype": "uint8",
                  "stats": {
                    "unique_count": 2,
                    "nan_count": 0,
                    "min": "0",
                    "max": "1",
                    "histogram": [
                      {
                        "bin_start": 0,
                        "bin_end": 0.1,
                        "count": 1374
                      },
                      {
                        "bin_start": 0.1,
                        "bin_end": 0.2,
                        "count": 0
                      },
                      {
                        "bin_start": 0.2,
                        "bin_end": 0.30000000000000004,
                        "count": 0
                      },
                      {
                        "bin_start": 0.30000000000000004,
                        "bin_end": 0.4,
                        "count": 0
                      },
                      {
                        "bin_start": 0.4,
                        "bin_end": 0.5,
                        "count": 0
                      },
                      {
                        "bin_start": 0.5,
                        "bin_end": 0.6000000000000001,
                        "count": 0
                      },
                      {
                        "bin_start": 0.6000000000000001,
                        "bin_end": 0.7000000000000001,
                        "count": 0
                      },
                      {
                        "bin_start": 0.7000000000000001,
                        "bin_end": 0.8,
                        "count": 0
                      },
                      {
                        "bin_start": 0.8,
                        "bin_end": 0.9,
                        "count": 0
                      },
                      {
                        "bin_start": 0.9,
                        "bin_end": 1,
                        "count": 78
                      }
                    ]
                  }
                },
                {
                  "name": "Neighborhood_IDOTRR",
                  "dtype": "uint8",
                  "stats": {
                    "unique_count": 2,
                    "nan_count": 0,
                    "min": "0",
                    "max": "1",
                    "histogram": [
                      {
                        "bin_start": 0,
                        "bin_end": 0.1,
                        "count": 1415
                      },
                      {
                        "bin_start": 0.1,
                        "bin_end": 0.2,
                        "count": 0
                      },
                      {
                        "bin_start": 0.2,
                        "bin_end": 0.30000000000000004,
                        "count": 0
                      },
                      {
                        "bin_start": 0.30000000000000004,
                        "bin_end": 0.4,
                        "count": 0
                      },
                      {
                        "bin_start": 0.4,
                        "bin_end": 0.5,
                        "count": 0
                      },
                      {
                        "bin_start": 0.5,
                        "bin_end": 0.6000000000000001,
                        "count": 0
                      },
                      {
                        "bin_start": 0.6000000000000001,
                        "bin_end": 0.7000000000000001,
                        "count": 0
                      },
                      {
                        "bin_start": 0.7000000000000001,
                        "bin_end": 0.8,
                        "count": 0
                      },
                      {
                        "bin_start": 0.8,
                        "bin_end": 0.9,
                        "count": 0
                      },
                      {
                        "bin_start": 0.9,
                        "bin_end": 1,
                        "count": 37
                      }
                    ]
                  }
                },
                {
                  "name": "Neighborhood_MeadowV",
                  "dtype": "uint8"
                },
                {
                  "name": "Neighborhood_Mitchel",
                  "dtype": "uint8"
                },
                {
                  "name": "Neighborhood_NAmes",
                  "dtype": "uint8"
                },
                {
                  "name": "Neighborhood_NPkVill",
                  "dtype": "uint8"
                },
                {
                  "name": "Neighborhood_NWAmes",
                  "dtype": "uint8"
                },
                {
                  "name": "Neighborhood_NoRidge",
                  "dtype": "uint8"
                },
                {
                  "name": "Neighborhood_NridgHt",
                  "dtype": "uint8"
                },
                {
                  "name": "Neighborhood_OldTown",
                  "dtype": "uint8"
                },
                {
                  "name": "Neighborhood_SWISU",
                  "dtype": "uint8"
                },
                {
                  "name": "Neighborhood_Sawyer",
                  "dtype": "uint8"
                },
                {
                  "name": "Neighborhood_SawyerW",
                  "dtype": "uint8"
                },
                {
                  "name": "Neighborhood_Somerst",
                  "dtype": "uint8"
                },
                {
                  "name": "Neighborhood_StoneBr",
                  "dtype": "uint8"
                },
                {
                  "name": "Neighborhood_Timber",
                  "dtype": "uint8"
                },
                {
                  "name": "Neighborhood_Veenker",
                  "dtype": "uint8"
                },
                {
                  "name": "Condition1_Artery",
                  "dtype": "uint8"
                },
                {
                  "name": "Condition1_Feedr",
                  "dtype": "uint8"
                },
                {
                  "name": "Condition1_Norm",
                  "dtype": "uint8"
                },
                {
                  "name": "Condition1_PosA",
                  "dtype": "uint8"
                },
                {
                  "name": "Condition1_PosN",
                  "dtype": "uint8"
                },
                {
                  "name": "Condition1_RRAe",
                  "dtype": "uint8"
                },
                {
                  "name": "Condition1_RRAn",
                  "dtype": "uint8"
                },
                {
                  "name": "Condition1_RRNe",
                  "dtype": "uint8"
                },
                {
                  "name": "Condition1_RRNn",
                  "dtype": "uint8"
                },
                {
                  "name": "Condition2_Artery",
                  "dtype": "uint8"
                },
                {
                  "name": "Condition2_Feedr",
                  "dtype": "uint8"
                },
                {
                  "name": "Condition2_Norm",
                  "dtype": "uint8"
                },
                {
                  "name": "Condition2_PosA",
                  "dtype": "uint8"
                },
                {
                  "name": "Condition2_PosN",
                  "dtype": "uint8"
                },
                {
                  "name": "Condition2_RRAe",
                  "dtype": "uint8"
                },
                {
                  "name": "Condition2_RRAn",
                  "dtype": "uint8"
                },
                {
                  "name": "Condition2_RRNn",
                  "dtype": "uint8"
                },
                {
                  "name": "BldgType_1Fam",
                  "dtype": "uint8"
                },
                {
                  "name": "BldgType_2fmCon",
                  "dtype": "uint8"
                },
                {
                  "name": "BldgType_Duplex",
                  "dtype": "uint8"
                },
                {
                  "name": "BldgType_Twnhs",
                  "dtype": "uint8"
                },
                {
                  "name": "BldgType_TwnhsE",
                  "dtype": "uint8"
                },
                {
                  "name": "HouseStyle_1.5Fin",
                  "dtype": "uint8"
                },
                {
                  "name": "HouseStyle_1.5Unf",
                  "dtype": "uint8"
                },
                {
                  "name": "HouseStyle_1Story",
                  "dtype": "uint8"
                },
                {
                  "name": "HouseStyle_2.5Fin",
                  "dtype": "uint8"
                },
                {
                  "name": "HouseStyle_2.5Unf",
                  "dtype": "uint8"
                },
                {
                  "name": "HouseStyle_2Story",
                  "dtype": "uint8"
                },
                {
                  "name": "HouseStyle_SFoyer",
                  "dtype": "uint8"
                },
                {
                  "name": "HouseStyle_SLvl",
                  "dtype": "uint8"
                },
                {
                  "name": "RoofStyle_Flat",
                  "dtype": "uint8"
                },
                {
                  "name": "RoofStyle_Gable",
                  "dtype": "uint8"
                },
                {
                  "name": "RoofStyle_Gambrel",
                  "dtype": "uint8"
                },
                {
                  "name": "RoofStyle_Hip",
                  "dtype": "uint8"
                },
                {
                  "name": "RoofStyle_Mansard",
                  "dtype": "uint8"
                },
                {
                  "name": "RoofStyle_Shed",
                  "dtype": "uint8"
                },
                {
                  "name": "RoofMatl_ClyTile",
                  "dtype": "uint8"
                },
                {
                  "name": "RoofMatl_CompShg",
                  "dtype": "uint8"
                },
                {
                  "name": "RoofMatl_Membran",
                  "dtype": "uint8"
                },
                {
                  "name": "RoofMatl_Metal",
                  "dtype": "uint8"
                },
                {
                  "name": "RoofMatl_Roll",
                  "dtype": "uint8"
                },
                {
                  "name": "RoofMatl_Tar&Grv",
                  "dtype": "uint8"
                },
                {
                  "name": "RoofMatl_WdShake",
                  "dtype": "uint8"
                },
                {
                  "name": "RoofMatl_WdShngl",
                  "dtype": "uint8"
                },
                {
                  "name": "Exterior1st_AsbShng",
                  "dtype": "uint8"
                },
                {
                  "name": "Exterior1st_AsphShn",
                  "dtype": "uint8"
                },
                {
                  "name": "Exterior1st_BrkComm",
                  "dtype": "uint8"
                },
                {
                  "name": "Exterior1st_BrkFace",
                  "dtype": "uint8"
                },
                {
                  "name": "Exterior1st_CBlock",
                  "dtype": "uint8"
                },
                {
                  "name": "Exterior1st_CemntBd",
                  "dtype": "uint8"
                },
                {
                  "name": "Exterior1st_HdBoard",
                  "dtype": "uint8"
                },
                {
                  "name": "Exterior1st_ImStucc",
                  "dtype": "uint8"
                },
                {
                  "name": "Exterior1st_MetalSd",
                  "dtype": "uint8"
                },
                {
                  "name": "Exterior1st_Plywood",
                  "dtype": "uint8"
                },
                {
                  "name": "Exterior1st_Stone",
                  "dtype": "uint8"
                },
                {
                  "name": "Exterior1st_Stucco",
                  "dtype": "uint8"
                },
                {
                  "name": "Exterior1st_VinylSd",
                  "dtype": "uint8"
                },
                {
                  "name": "Exterior1st_Wd Sdng",
                  "dtype": "uint8"
                },
                {
                  "name": "Exterior1st_WdShing",
                  "dtype": "uint8"
                },
                {
                  "name": "Exterior2nd_AsbShng",
                  "dtype": "uint8"
                },
                {
                  "name": "Exterior2nd_AsphShn",
                  "dtype": "uint8"
                },
                {
                  "name": "Exterior2nd_Brk Cmn",
                  "dtype": "uint8"
                },
                {
                  "name": "Exterior2nd_BrkFace",
                  "dtype": "uint8"
                },
                {
                  "name": "Exterior2nd_CBlock",
                  "dtype": "uint8"
                },
                {
                  "name": "Exterior2nd_CmentBd",
                  "dtype": "uint8"
                },
                {
                  "name": "Exterior2nd_HdBoard",
                  "dtype": "uint8"
                },
                {
                  "name": "Exterior2nd_ImStucc",
                  "dtype": "uint8"
                },
                {
                  "name": "Exterior2nd_MetalSd",
                  "dtype": "uint8"
                },
                {
                  "name": "Exterior2nd_Other",
                  "dtype": "uint8"
                },
                {
                  "name": "Exterior2nd_Plywood",
                  "dtype": "uint8"
                },
                {
                  "name": "Exterior2nd_Stone",
                  "dtype": "uint8"
                },
                {
                  "name": "Exterior2nd_Stucco",
                  "dtype": "uint8"
                },
                {
                  "name": "Exterior2nd_VinylSd",
                  "dtype": "uint8"
                },
                {
                  "name": "Exterior2nd_Wd Sdng",
                  "dtype": "uint8"
                },
                {
                  "name": "Exterior2nd_Wd Shng",
                  "dtype": "uint8"
                },
                {
                  "name": "MasVnrType_BrkCmn",
                  "dtype": "uint8"
                },
                {
                  "name": "MasVnrType_BrkFace",
                  "dtype": "uint8"
                },
                {
                  "name": "MasVnrType_None",
                  "dtype": "uint8"
                },
                {
                  "name": "MasVnrType_Stone",
                  "dtype": "uint8"
                },
                {
                  "name": "ExterQual_Ex",
                  "dtype": "uint8"
                },
                {
                  "name": "ExterQual_Fa",
                  "dtype": "uint8"
                },
                {
                  "name": "ExterQual_Gd",
                  "dtype": "uint8"
                },
                {
                  "name": "ExterQual_TA",
                  "dtype": "uint8"
                },
                {
                  "name": "ExterCond_Ex",
                  "dtype": "uint8"
                },
                {
                  "name": "ExterCond_Fa",
                  "dtype": "uint8"
                },
                {
                  "name": "ExterCond_Gd",
                  "dtype": "uint8"
                },
                {
                  "name": "ExterCond_Po",
                  "dtype": "uint8"
                },
                {
                  "name": "ExterCond_TA",
                  "dtype": "uint8"
                },
                {
                  "name": "Foundation_BrkTil",
                  "dtype": "uint8"
                },
                {
                  "name": "Foundation_CBlock",
                  "dtype": "uint8"
                },
                {
                  "name": "Foundation_PConc",
                  "dtype": "uint8"
                },
                {
                  "name": "Foundation_Slab",
                  "dtype": "uint8"
                },
                {
                  "name": "Foundation_Stone",
                  "dtype": "uint8"
                },
                {
                  "name": "Foundation_Wood",
                  "dtype": "uint8"
                },
                {
                  "name": "BsmtQual_Ex",
                  "dtype": "uint8"
                },
                {
                  "name": "BsmtQual_Fa",
                  "dtype": "uint8"
                },
                {
                  "name": "BsmtQual_Gd",
                  "dtype": "uint8"
                },
                {
                  "name": "BsmtQual_NoBsmt",
                  "dtype": "uint8"
                },
                {
                  "name": "BsmtQual_TA",
                  "dtype": "uint8"
                },
                {
                  "name": "BsmtCond_Fa",
                  "dtype": "uint8"
                },
                {
                  "name": "BsmtCond_Gd",
                  "dtype": "uint8"
                },
                {
                  "name": "BsmtCond_NoBsmt",
                  "dtype": "uint8"
                },
                {
                  "name": "BsmtCond_Po",
                  "dtype": "uint8"
                },
                {
                  "name": "BsmtCond_TA",
                  "dtype": "uint8"
                },
                {
                  "name": "BsmtExposure_Av",
                  "dtype": "uint8"
                },
                {
                  "name": "BsmtExposure_Gd",
                  "dtype": "uint8"
                },
                {
                  "name": "BsmtExposure_Mn",
                  "dtype": "uint8"
                },
                {
                  "name": "BsmtExposure_No",
                  "dtype": "uint8"
                },
                {
                  "name": "BsmtExposure_NoBsmt",
                  "dtype": "uint8"
                },
                {
                  "name": "BsmtFinType1_ALQ",
                  "dtype": "uint8"
                },
                {
                  "name": "BsmtFinType1_BLQ",
                  "dtype": "uint8"
                },
                {
                  "name": "BsmtFinType1_GLQ",
                  "dtype": "uint8"
                },
                {
                  "name": "BsmtFinType1_LwQ",
                  "dtype": "uint8"
                },
                {
                  "name": "BsmtFinType1_NoBsmt",
                  "dtype": "uint8"
                },
                {
                  "name": "BsmtFinType1_Rec",
                  "dtype": "uint8"
                },
                {
                  "name": "BsmtFinType1_Unf",
                  "dtype": "uint8"
                },
                {
                  "name": "BsmtFinType2_ALQ",
                  "dtype": "uint8"
                },
                {
                  "name": "BsmtFinType2_BLQ",
                  "dtype": "uint8"
                },
                {
                  "name": "BsmtFinType2_GLQ",
                  "dtype": "uint8"
                },
                {
                  "name": "BsmtFinType2_LwQ",
                  "dtype": "uint8"
                },
                {
                  "name": "BsmtFinType2_NoBsmt",
                  "dtype": "uint8"
                },
                {
                  "name": "BsmtFinType2_Rec",
                  "dtype": "uint8"
                },
                {
                  "name": "BsmtFinType2_Unf",
                  "dtype": "uint8"
                },
                {
                  "name": "Heating_Floor",
                  "dtype": "uint8"
                },
                {
                  "name": "Heating_GasA",
                  "dtype": "uint8"
                },
                {
                  "name": "Heating_GasW",
                  "dtype": "uint8"
                },
                {
                  "name": "Heating_Grav",
                  "dtype": "uint8"
                },
                {
                  "name": "Heating_OthW",
                  "dtype": "uint8"
                },
                {
                  "name": "Heating_Wall",
                  "dtype": "uint8"
                },
                {
                  "name": "HeatingQC_Ex",
                  "dtype": "uint8"
                },
                {
                  "name": "HeatingQC_Fa",
                  "dtype": "uint8"
                },
                {
                  "name": "HeatingQC_Gd",
                  "dtype": "uint8"
                },
                {
                  "name": "HeatingQC_Po",
                  "dtype": "uint8"
                },
                {
                  "name": "HeatingQC_TA",
                  "dtype": "uint8"
                },
                {
                  "name": "CentralAir_N",
                  "dtype": "uint8"
                },
                {
                  "name": "CentralAir_Y",
                  "dtype": "uint8"
                },
                {
                  "name": "Electrical_FuseA",
                  "dtype": "uint8"
                },
                {
                  "name": "Electrical_FuseF",
                  "dtype": "uint8"
                },
                {
                  "name": "Electrical_FuseP",
                  "dtype": "uint8"
                },
                {
                  "name": "Electrical_Mix",
                  "dtype": "uint8"
                },
                {
                  "name": "Electrical_None",
                  "dtype": "uint8"
                },
                {
                  "name": "Electrical_SBrkr",
                  "dtype": "uint8"
                },
                {
                  "name": "KitchenQual_Ex",
                  "dtype": "uint8"
                },
                {
                  "name": "KitchenQual_Fa",
                  "dtype": "uint8"
                },
                {
                  "name": "KitchenQual_Gd",
                  "dtype": "uint8"
                },
                {
                  "name": "KitchenQual_TA",
                  "dtype": "uint8"
                },
                {
                  "name": "Functional_Maj1",
                  "dtype": "uint8"
                },
                {
                  "name": "Functional_Maj2",
                  "dtype": "uint8"
                },
                {
                  "name": "Functional_Min1",
                  "dtype": "uint8"
                },
                {
                  "name": "Functional_Min2",
                  "dtype": "uint8"
                },
                {
                  "name": "Functional_Mod",
                  "dtype": "uint8"
                },
                {
                  "name": "Functional_Sev",
                  "dtype": "uint8"
                },
                {
                  "name": "Functional_Typ",
                  "dtype": "uint8"
                },
                {
                  "name": "FireplaceQu_Ex",
                  "dtype": "uint8"
                },
                {
                  "name": "FireplaceQu_Fa",
                  "dtype": "uint8"
                },
                {
                  "name": "FireplaceQu_Gd",
                  "dtype": "uint8"
                },
                {
                  "name": "FireplaceQu_NoFP",
                  "dtype": "uint8"
                },
                {
                  "name": "FireplaceQu_Po",
                  "dtype": "uint8"
                },
                {
                  "name": "FireplaceQu_TA",
                  "dtype": "uint8"
                },
                {
                  "name": "GarageType_2Types",
                  "dtype": "uint8"
                },
                {
                  "name": "GarageType_Attchd",
                  "dtype": "uint8"
                },
                {
                  "name": "GarageType_Basment",
                  "dtype": "uint8"
                },
                {
                  "name": "GarageType_BuiltIn",
                  "dtype": "uint8"
                },
                {
                  "name": "GarageType_CarPort",
                  "dtype": "uint8"
                },
                {
                  "name": "GarageType_Detchd",
                  "dtype": "uint8"
                },
                {
                  "name": "GarageType_NoGarage",
                  "dtype": "uint8"
                },
                {
                  "name": "GarageYrBlt_1900.0",
                  "dtype": "uint8"
                },
                {
                  "name": "GarageYrBlt_1906.0",
                  "dtype": "uint8"
                },
                {
                  "name": "GarageYrBlt_1908.0",
                  "dtype": "uint8"
                },
                {
                  "name": "GarageYrBlt_1910.0",
                  "dtype": "uint8"
                },
                {
                  "name": "GarageYrBlt_1914.0",
                  "dtype": "uint8"
                },
                {
                  "name": "GarageYrBlt_1915.0",
                  "dtype": "uint8"
                },
                {
                  "name": "GarageYrBlt_1916.0",
                  "dtype": "uint8"
                },
                {
                  "name": "GarageYrBlt_1918.0",
                  "dtype": "uint8"
                },
                {
                  "name": "GarageYrBlt_1920.0",
                  "dtype": "uint8"
                },
                {
                  "name": "GarageYrBlt_1921.0",
                  "dtype": "uint8"
                },
                {
                  "name": "GarageYrBlt_1922.0",
                  "dtype": "uint8"
                },
                {
                  "name": "GarageYrBlt_1923.0",
                  "dtype": "uint8"
                },
                {
                  "name": "GarageYrBlt_1924.0",
                  "dtype": "uint8"
                },
                {
                  "name": "GarageYrBlt_1925.0",
                  "dtype": "uint8"
                },
                {
                  "name": "GarageYrBlt_1926.0",
                  "dtype": "uint8"
                },
                {
                  "name": "GarageYrBlt_1927.0",
                  "dtype": "uint8"
                },
                {
                  "name": "GarageYrBlt_1928.0",
                  "dtype": "uint8"
                },
                {
                  "name": "GarageYrBlt_1929.0",
                  "dtype": "uint8"
                },
                {
                  "name": "GarageYrBlt_1930.0",
                  "dtype": "uint8"
                },
                {
                  "name": "GarageYrBlt_1931.0",
                  "dtype": "uint8"
                },
                {
                  "name": "GarageYrBlt_1932.0",
                  "dtype": "uint8"
                },
                {
                  "name": "GarageYrBlt_1933.0",
                  "dtype": "uint8"
                },
                {
                  "name": "GarageYrBlt_1934.0",
                  "dtype": "uint8"
                },
                {
                  "name": "GarageYrBlt_1935.0",
                  "dtype": "uint8"
                },
                {
                  "name": "GarageYrBlt_1936.0",
                  "dtype": "uint8"
                },
                {
                  "name": "GarageYrBlt_1937.0",
                  "dtype": "uint8"
                },
                {
                  "name": "GarageYrBlt_1938.0",
                  "dtype": "uint8"
                },
                {
                  "name": "GarageYrBlt_1939.0",
                  "dtype": "uint8"
                },
                {
                  "name": "GarageYrBlt_1940.0",
                  "dtype": "uint8"
                },
                {
                  "name": "GarageYrBlt_1941.0",
                  "dtype": "uint8"
                },
                {
                  "name": "GarageYrBlt_1942.0",
                  "dtype": "uint8"
                },
                {
                  "name": "GarageYrBlt_1945.0",
                  "dtype": "uint8"
                },
                {
                  "name": "GarageYrBlt_1946.0",
                  "dtype": "uint8"
                },
                {
                  "name": "GarageYrBlt_1947.0",
                  "dtype": "uint8"
                },
                {
                  "name": "GarageYrBlt_1948.0",
                  "dtype": "uint8"
                },
                {
                  "name": "GarageYrBlt_1949.0",
                  "dtype": "uint8"
                },
                {
                  "name": "GarageYrBlt_1950.0",
                  "dtype": "uint8"
                },
                {
                  "name": "GarageYrBlt_1951.0",
                  "dtype": "uint8"
                },
                {
                  "name": "GarageYrBlt_1952.0",
                  "dtype": "uint8"
                },
                {
                  "name": "GarageYrBlt_1953.0",
                  "dtype": "uint8"
                },
                {
                  "name": "GarageYrBlt_1954.0",
                  "dtype": "uint8"
                },
                {
                  "name": "GarageYrBlt_1955.0",
                  "dtype": "uint8"
                },
                {
                  "name": "GarageYrBlt_1956.0",
                  "dtype": "uint8"
                },
                {
                  "name": "GarageYrBlt_1957.0",
                  "dtype": "uint8"
                },
                {
                  "name": "GarageYrBlt_1958.0",
                  "dtype": "uint8"
                },
                {
                  "name": "GarageYrBlt_1959.0",
                  "dtype": "uint8"
                },
                {
                  "name": "GarageYrBlt_1960.0",
                  "dtype": "uint8"
                },
                {
                  "name": "GarageYrBlt_1961.0",
                  "dtype": "uint8"
                },
                {
                  "name": "GarageYrBlt_1962.0",
                  "dtype": "uint8"
                },
                {
                  "name": "GarageYrBlt_1963.0",
                  "dtype": "uint8"
                },
                {
                  "name": "GarageYrBlt_1964.0",
                  "dtype": "uint8"
                },
                {
                  "name": "GarageYrBlt_1965.0",
                  "dtype": "uint8"
                },
                {
                  "name": "GarageYrBlt_1966.0",
                  "dtype": "uint8"
                },
                {
                  "name": "GarageYrBlt_1967.0",
                  "dtype": "uint8"
                },
                {
                  "name": "GarageYrBlt_1968.0",
                  "dtype": "uint8"
                },
                {
                  "name": "GarageYrBlt_1969.0",
                  "dtype": "uint8"
                },
                {
                  "name": "GarageYrBlt_1970.0",
                  "dtype": "uint8"
                },
                {
                  "name": "GarageYrBlt_1971.0",
                  "dtype": "uint8"
                },
                {
                  "name": "GarageYrBlt_1972.0",
                  "dtype": "uint8"
                },
                {
                  "name": "GarageYrBlt_1973.0",
                  "dtype": "uint8"
                },
                {
                  "name": "GarageYrBlt_1974.0",
                  "dtype": "uint8"
                },
                {
                  "name": "GarageYrBlt_1975.0",
                  "dtype": "uint8"
                },
                {
                  "name": "GarageYrBlt_1976.0",
                  "dtype": "uint8"
                },
                {
                  "name": "GarageYrBlt_1977.0",
                  "dtype": "uint8"
                },
                {
                  "name": "GarageYrBlt_1978.0",
                  "dtype": "uint8"
                },
                {
                  "name": "GarageYrBlt_1979.0",
                  "dtype": "uint8"
                },
                {
                  "name": "GarageYrBlt_1980.0",
                  "dtype": "uint8"
                },
                {
                  "name": "GarageYrBlt_1981.0",
                  "dtype": "uint8"
                },
                {
                  "name": "GarageYrBlt_1982.0",
                  "dtype": "uint8"
                },
                {
                  "name": "GarageYrBlt_1983.0",
                  "dtype": "uint8"
                },
                {
                  "name": "GarageYrBlt_1984.0",
                  "dtype": "uint8"
                },
                {
                  "name": "GarageYrBlt_1985.0",
                  "dtype": "uint8"
                },
                {
                  "name": "GarageYrBlt_1986.0",
                  "dtype": "uint8"
                },
                {
                  "name": "GarageYrBlt_1987.0",
                  "dtype": "uint8"
                },
                {
                  "name": "GarageYrBlt_1988.0",
                  "dtype": "uint8"
                },
                {
                  "name": "GarageYrBlt_1989.0",
                  "dtype": "uint8"
                },
                {
                  "name": "GarageYrBlt_1990.0",
                  "dtype": "uint8"
                },
                {
                  "name": "GarageYrBlt_1991.0",
                  "dtype": "uint8"
                },
                {
                  "name": "GarageYrBlt_1992.0",
                  "dtype": "uint8"
                },
                {
                  "name": "GarageYrBlt_1993.0",
                  "dtype": "uint8"
                },
                {
                  "name": "GarageYrBlt_1994.0",
                  "dtype": "uint8"
                },
                {
                  "name": "GarageYrBlt_1995.0",
                  "dtype": "uint8"
                },
                {
                  "name": "GarageYrBlt_1996.0",
                  "dtype": "uint8"
                },
                {
                  "name": "GarageYrBlt_1997.0",
                  "dtype": "uint8"
                },
                {
                  "name": "GarageYrBlt_1998.0",
                  "dtype": "uint8"
                },
                {
                  "name": "GarageYrBlt_1999.0",
                  "dtype": "uint8"
                },
                {
                  "name": "GarageYrBlt_2000.0",
                  "dtype": "uint8"
                },
                {
                  "name": "GarageYrBlt_2001.0",
                  "dtype": "uint8"
                },
                {
                  "name": "GarageYrBlt_2002.0",
                  "dtype": "uint8"
                },
                {
                  "name": "GarageYrBlt_2003.0",
                  "dtype": "uint8"
                },
                {
                  "name": "GarageYrBlt_2004.0",
                  "dtype": "uint8"
                },
                {
                  "name": "GarageYrBlt_2005.0",
                  "dtype": "uint8"
                },
                {
                  "name": "GarageYrBlt_2006.0",
                  "dtype": "uint8"
                },
                {
                  "name": "GarageYrBlt_2007.0",
                  "dtype": "uint8"
                },
                {
                  "name": "GarageYrBlt_2008.0",
                  "dtype": "uint8"
                },
                {
                  "name": "GarageYrBlt_2009.0",
                  "dtype": "uint8"
                },
                {
                  "name": "GarageYrBlt_2010.0",
                  "dtype": "uint8"
                },
                {
                  "name": "GarageYrBlt_NoGarage",
                  "dtype": "uint8"
                },
                {
                  "name": "GarageFinish_Fin",
                  "dtype": "uint8"
                },
                {
                  "name": "GarageFinish_NoGarage",
                  "dtype": "uint8"
                },
                {
                  "name": "GarageFinish_RFn",
                  "dtype": "uint8"
                },
                {
                  "name": "GarageFinish_Unf",
                  "dtype": "uint8"
                },
                {
                  "name": "GarageQual_Ex",
                  "dtype": "uint8"
                },
                {
                  "name": "GarageQual_Fa",
                  "dtype": "uint8"
                },
                {
                  "name": "GarageQual_Gd",
                  "dtype": "uint8"
                },
                {
                  "name": "GarageQual_NoGarage",
                  "dtype": "uint8"
                },
                {
                  "name": "GarageQual_Po",
                  "dtype": "uint8"
                },
                {
                  "name": "GarageQual_TA",
                  "dtype": "uint8"
                },
                {
                  "name": "GarageCond_Ex",
                  "dtype": "uint8"
                },
                {
                  "name": "GarageCond_Fa",
                  "dtype": "uint8"
                },
                {
                  "name": "GarageCond_Gd",
                  "dtype": "uint8"
                },
                {
                  "name": "GarageCond_NoGarage",
                  "dtype": "uint8"
                },
                {
                  "name": "GarageCond_Po",
                  "dtype": "uint8"
                },
                {
                  "name": "GarageCond_TA",
                  "dtype": "uint8"
                },
                {
                  "name": "PavedDrive_N",
                  "dtype": "uint8"
                },
                {
                  "name": "PavedDrive_P",
                  "dtype": "uint8"
                },
                {
                  "name": "PavedDrive_Y",
                  "dtype": "uint8"
                },
                {
                  "name": "PoolQC_Ex",
                  "dtype": "uint8"
                },
                {
                  "name": "PoolQC_Fa",
                  "dtype": "uint8"
                },
                {
                  "name": "PoolQC_Gd",
                  "dtype": "uint8"
                },
                {
                  "name": "PoolQC_NoPool",
                  "dtype": "uint8"
                },
                {
                  "name": "Fence_GdPrv",
                  "dtype": "uint8"
                },
                {
                  "name": "Fence_GdWo",
                  "dtype": "uint8"
                },
                {
                  "name": "Fence_MnPrv",
                  "dtype": "uint8"
                },
                {
                  "name": "Fence_MnWw",
                  "dtype": "uint8"
                },
                {
                  "name": "Fence_NoFence",
                  "dtype": "uint8"
                },
                {
                  "name": "MiscFeature_Gar2",
                  "dtype": "uint8"
                },
                {
                  "name": "MiscFeature_NoMF",
                  "dtype": "uint8"
                },
                {
                  "name": "MiscFeature_Othr",
                  "dtype": "uint8"
                },
                {
                  "name": "MiscFeature_Shed",
                  "dtype": "uint8"
                },
                {
                  "name": "MiscFeature_TenC",
                  "dtype": "uint8"
                },
                {
                  "name": "SaleType_COD",
                  "dtype": "uint8"
                },
                {
                  "name": "SaleType_CWD",
                  "dtype": "uint8"
                },
                {
                  "name": "SaleType_Con",
                  "dtype": "uint8"
                },
                {
                  "name": "SaleType_ConLD",
                  "dtype": "uint8"
                },
                {
                  "name": "SaleType_ConLI",
                  "dtype": "uint8"
                },
                {
                  "name": "SaleType_ConLw",
                  "dtype": "uint8"
                },
                {
                  "name": "SaleType_New",
                  "dtype": "uint8"
                },
                {
                  "name": "SaleType_Oth",
                  "dtype": "uint8"
                },
                {
                  "name": "SaleType_WD",
                  "dtype": "uint8"
                },
                {
                  "name": "SaleCondition_Abnorml",
                  "dtype": "uint8"
                },
                {
                  "name": "SaleCondition_AdjLand",
                  "dtype": "uint8"
                },
                {
                  "name": "SaleCondition_Alloca",
                  "dtype": "uint8"
                },
                {
                  "name": "SaleCondition_Family",
                  "dtype": "uint8"
                },
                {
                  "name": "SaleCondition_Normal",
                  "dtype": "uint8"
                },
                {
                  "name": "SaleCondition_Partial",
                  "dtype": "uint8"
                },
                {
                  "name": "MSSubClass_20",
                  "dtype": "uint8"
                },
                {
                  "name": "MSSubClass_30",
                  "dtype": "uint8"
                },
                {
                  "name": "MSSubClass_40",
                  "dtype": "uint8"
                },
                {
                  "name": "MSSubClass_45",
                  "dtype": "uint8"
                },
                {
                  "name": "MSSubClass_50",
                  "dtype": "uint8"
                },
                {
                  "name": "MSSubClass_60",
                  "dtype": "uint8"
                },
                {
                  "name": "MSSubClass_70",
                  "dtype": "uint8"
                },
                {
                  "name": "MSSubClass_75",
                  "dtype": "uint8"
                },
                {
                  "name": "MSSubClass_80",
                  "dtype": "uint8"
                },
                {
                  "name": "MSSubClass_85",
                  "dtype": "uint8"
                },
                {
                  "name": "MSSubClass_90",
                  "dtype": "uint8"
                },
                {
                  "name": "MSSubClass_120",
                  "dtype": "uint8"
                },
                {
                  "name": "MSSubClass_160",
                  "dtype": "uint8"
                },
                {
                  "name": "MSSubClass_180",
                  "dtype": "uint8"
                },
                {
                  "name": "MSSubClass_190",
                  "dtype": "uint8"
                },
                {
                  "name": "OverallQual_1",
                  "dtype": "uint8"
                },
                {
                  "name": "OverallQual_2",
                  "dtype": "uint8"
                },
                {
                  "name": "OverallQual_3",
                  "dtype": "uint8"
                },
                {
                  "name": "OverallQual_4",
                  "dtype": "uint8"
                },
                {
                  "name": "OverallQual_5",
                  "dtype": "uint8"
                },
                {
                  "name": "OverallQual_6",
                  "dtype": "uint8"
                },
                {
                  "name": "OverallQual_7",
                  "dtype": "uint8"
                },
                {
                  "name": "OverallQual_8",
                  "dtype": "uint8"
                },
                {
                  "name": "OverallQual_9",
                  "dtype": "uint8"
                },
                {
                  "name": "OverallQual_10",
                  "dtype": "uint8"
                },
                {
                  "name": "OverallCond_1",
                  "dtype": "uint8"
                },
                {
                  "name": "OverallCond_2",
                  "dtype": "uint8"
                },
                {
                  "name": "OverallCond_3",
                  "dtype": "uint8"
                },
                {
                  "name": "OverallCond_4",
                  "dtype": "uint8"
                },
                {
                  "name": "OverallCond_5",
                  "dtype": "uint8"
                },
                {
                  "name": "OverallCond_6",
                  "dtype": "uint8"
                },
                {
                  "name": "OverallCond_7",
                  "dtype": "uint8"
                },
                {
                  "name": "OverallCond_8",
                  "dtype": "uint8"
                },
                {
                  "name": "OverallCond_9",
                  "dtype": "uint8"
                },
                {
                  "name": "YearBuilt_1872",
                  "dtype": "uint8"
                },
                {
                  "name": "YearBuilt_1875",
                  "dtype": "uint8"
                },
                {
                  "name": "YearBuilt_1880",
                  "dtype": "uint8"
                },
                {
                  "name": "YearBuilt_1882",
                  "dtype": "uint8"
                },
                {
                  "name": "YearBuilt_1885",
                  "dtype": "uint8"
                },
                {
                  "name": "YearBuilt_1890",
                  "dtype": "uint8"
                },
                {
                  "name": "YearBuilt_1892",
                  "dtype": "uint8"
                },
                {
                  "name": "YearBuilt_1893",
                  "dtype": "uint8"
                },
                {
                  "name": "YearBuilt_1898",
                  "dtype": "uint8"
                },
                {
                  "name": "YearBuilt_1900",
                  "dtype": "uint8"
                },
                {
                  "name": "YearBuilt_1904",
                  "dtype": "uint8"
                },
                {
                  "name": "YearBuilt_1905",
                  "dtype": "uint8"
                },
                {
                  "name": "YearBuilt_1906",
                  "dtype": "uint8"
                },
                {
                  "name": "YearBuilt_1908",
                  "dtype": "uint8"
                },
                {
                  "name": "YearBuilt_1910",
                  "dtype": "uint8"
                },
                {
                  "name": "YearBuilt_1911",
                  "dtype": "uint8"
                },
                {
                  "name": "YearBuilt_1912",
                  "dtype": "uint8"
                },
                {
                  "name": "YearBuilt_1913",
                  "dtype": "uint8"
                },
                {
                  "name": "YearBuilt_1914",
                  "dtype": "uint8"
                },
                {
                  "name": "YearBuilt_1915",
                  "dtype": "uint8"
                },
                {
                  "name": "YearBuilt_1916",
                  "dtype": "uint8"
                },
                {
                  "name": "YearBuilt_1917",
                  "dtype": "uint8"
                },
                {
                  "name": "YearBuilt_1918",
                  "dtype": "uint8"
                },
                {
                  "name": "YearBuilt_1919",
                  "dtype": "uint8"
                },
                {
                  "name": "YearBuilt_1920",
                  "dtype": "uint8"
                },
                {
                  "name": "YearBuilt_1921",
                  "dtype": "uint8"
                },
                {
                  "name": "YearBuilt_1922",
                  "dtype": "uint8"
                },
                {
                  "name": "YearBuilt_1923",
                  "dtype": "uint8"
                },
                {
                  "name": "YearBuilt_1924",
                  "dtype": "uint8"
                },
                {
                  "name": "YearBuilt_1925",
                  "dtype": "uint8"
                },
                {
                  "name": "YearBuilt_1926",
                  "dtype": "uint8"
                },
                {
                  "name": "YearBuilt_1927",
                  "dtype": "uint8"
                },
                {
                  "name": "YearBuilt_1928",
                  "dtype": "uint8"
                },
                {
                  "name": "YearBuilt_1929",
                  "dtype": "uint8"
                },
                {
                  "name": "YearBuilt_1930",
                  "dtype": "uint8"
                },
                {
                  "name": "YearBuilt_1931",
                  "dtype": "uint8"
                },
                {
                  "name": "YearBuilt_1932",
                  "dtype": "uint8"
                },
                {
                  "name": "YearBuilt_1934",
                  "dtype": "uint8"
                },
                {
                  "name": "YearBuilt_1935",
                  "dtype": "uint8"
                },
                {
                  "name": "YearBuilt_1936",
                  "dtype": "uint8"
                },
                {
                  "name": "YearBuilt_1937",
                  "dtype": "uint8"
                },
                {
                  "name": "YearBuilt_1938",
                  "dtype": "uint8"
                },
                {
                  "name": "YearBuilt_1939",
                  "dtype": "uint8"
                },
                {
                  "name": "YearBuilt_1940",
                  "dtype": "uint8"
                },
                {
                  "name": "YearBuilt_1941",
                  "dtype": "uint8"
                },
                {
                  "name": "YearBuilt_1942",
                  "dtype": "uint8"
                },
                {
                  "name": "YearBuilt_1945",
                  "dtype": "uint8"
                },
                {
                  "name": "YearBuilt_1946",
                  "dtype": "uint8"
                },
                {
                  "name": "YearBuilt_1947",
                  "dtype": "uint8"
                },
                {
                  "name": "YearBuilt_1948",
                  "dtype": "uint8"
                },
                {
                  "name": "YearBuilt_1949",
                  "dtype": "uint8"
                },
                {
                  "name": "YearBuilt_1950",
                  "dtype": "uint8"
                },
                {
                  "name": "YearBuilt_1951",
                  "dtype": "uint8"
                },
                {
                  "name": "YearBuilt_1952",
                  "dtype": "uint8"
                },
                {
                  "name": "YearBuilt_1953",
                  "dtype": "uint8"
                },
                {
                  "name": "YearBuilt_1954",
                  "dtype": "uint8"
                },
                {
                  "name": "YearBuilt_1955",
                  "dtype": "uint8"
                },
                {
                  "name": "YearBuilt_1956",
                  "dtype": "uint8"
                },
                {
                  "name": "YearBuilt_1957",
                  "dtype": "uint8"
                },
                {
                  "name": "YearBuilt_1958",
                  "dtype": "uint8"
                },
                {
                  "name": "YearBuilt_1959",
                  "dtype": "uint8"
                },
                {
                  "name": "YearBuilt_1960",
                  "dtype": "uint8"
                },
                {
                  "name": "YearBuilt_1961",
                  "dtype": "uint8"
                },
                {
                  "name": "YearBuilt_1962",
                  "dtype": "uint8"
                },
                {
                  "name": "YearBuilt_1963",
                  "dtype": "uint8"
                },
                {
                  "name": "YearBuilt_1964",
                  "dtype": "uint8"
                },
                {
                  "name": "YearBuilt_1965",
                  "dtype": "uint8"
                },
                {
                  "name": "YearBuilt_1966",
                  "dtype": "uint8"
                },
                {
                  "name": "YearBuilt_1967",
                  "dtype": "uint8"
                },
                {
                  "name": "YearBuilt_1968",
                  "dtype": "uint8"
                },
                {
                  "name": "YearBuilt_1969",
                  "dtype": "uint8"
                },
                {
                  "name": "_deepnote_index_column",
                  "dtype": "int64"
                }
              ],
              "rows_top": [
                {
                  "Id": 1,
                  "LotFrontage": 0.20766773162939295,
                  "LotArea": 0.03341980415527355,
                  "MasVnrArea": 0.1225,
                  "BsmtFinSF1": 0.12508858965272857,
                  "BsmtFinSF2": 0,
                  "BsmtUnfSF": 0.06421232876712328,
                  "TotalBsmtSF": 0.14009819967266776,
                  "1stFlrSF": 0.11977971546581001,
                  "2ndFlrSF": 0.4135593220338983,
                  "LowQualFinSF": 0,
                  "GrLivArea": 0.2592313489073097,
                  "BsmtFullBath": 0.3333333333333333,
                  "BsmtHalfBath": 0,
                  "FullBath": 0.6666666666666666,
                  "HalfBath": 0.5,
                  "BedroomAbvGr": 0.375,
                  "KitchenAbvGr": 0.3333333333333333,
                  "TotRmsAbvGrd": 0.5,
                  "Fireplaces": 0,
                  "GarageCars": 0.5,
                  "GarageArea": 0.38645980253878703,
                  "WoodDeckSF": 0,
                  "OpenPorchSF": 0.11151736745886655,
                  "EnclosedPorch": 0,
                  "3SsnPorch": 0,
                  "ScreenPorch": 0,
                  "PoolArea": 0,
                  "MiscVal": 0,
                  "SalePrice": 208500,
                  "MSZoning_C (all)": 0,
                  "MSZoning_FV": 0,
                  "MSZoning_RH": 0,
                  "MSZoning_RL": 1,
                  "MSZoning_RM": 0,
                  "Street_Grvl": 0,
                  "Street_Pave": 1,
                  "Alley_Grvl": 0,
                  "Alley_NoAlley": 1,
                  "Alley_Pave": 0,
                  "LotShape_IR1": 0,
                  "LotShape_IR2": 0,
                  "LotShape_IR3": 0,
                  "LotShape_Reg": 1,
                  "LandContour_Bnk": 0,
                  "LandContour_HLS": 0,
                  "LandContour_Low": 0,
                  "LandContour_Lvl": 1,
                  "Utilities_AllPub": 1,
                  "Utilities_NoSeWa": 0,
                  "LotConfig_Corner": 0,
                  "LotConfig_CulDSac": 0,
                  "LotConfig_FR2": 0,
                  "LotConfig_FR3": 0,
                  "LotConfig_Inside": 1,
                  "LandSlope_Gtl": 1,
                  "LandSlope_Mod": 0,
                  "LandSlope_Sev": 0,
                  "Neighborhood_Blmngtn": 0,
                  "Neighborhood_Blueste": 0,
                  "Neighborhood_BrDale": 0,
                  "Neighborhood_BrkSide": 0,
                  "Neighborhood_ClearCr": 0,
                  "Neighborhood_CollgCr": 1,
                  "Neighborhood_Crawfor": 0,
                  "Neighborhood_Edwards": 0,
                  "Neighborhood_Gilbert": 0,
                  "Neighborhood_IDOTRR": 0,
                  "Neighborhood_MeadowV": 0,
                  "Neighborhood_Mitchel": 0,
                  "Neighborhood_NAmes": 0,
                  "Neighborhood_NPkVill": 0,
                  "Neighborhood_NWAmes": 0,
                  "Neighborhood_NoRidge": 0,
                  "Neighborhood_NridgHt": 0,
                  "Neighborhood_OldTown": 0,
                  "Neighborhood_SWISU": 0,
                  "Neighborhood_Sawyer": 0,
                  "Neighborhood_SawyerW": 0,
                  "Neighborhood_Somerst": 0,
                  "Neighborhood_StoneBr": 0,
                  "Neighborhood_Timber": 0,
                  "Neighborhood_Veenker": 0,
                  "Condition1_Artery": 0,
                  "Condition1_Feedr": 0,
                  "Condition1_Norm": 1,
                  "Condition1_PosA": 0,
                  "Condition1_PosN": 0,
                  "Condition1_RRAe": 0,
                  "Condition1_RRAn": 0,
                  "Condition1_RRNe": 0,
                  "Condition1_RRNn": 0,
                  "Condition2_Artery": 0,
                  "Condition2_Feedr": 0,
                  "Condition2_Norm": 1,
                  "Condition2_PosA": 0,
                  "Condition2_PosN": 0,
                  "Condition2_RRAe": 0,
                  "Condition2_RRAn": 0,
                  "Condition2_RRNn": 0,
                  "BldgType_1Fam": 1,
                  "BldgType_2fmCon": 0,
                  "BldgType_Duplex": 0,
                  "BldgType_Twnhs": 0,
                  "BldgType_TwnhsE": 0,
                  "HouseStyle_1.5Fin": 0,
                  "HouseStyle_1.5Unf": 0,
                  "HouseStyle_1Story": 0,
                  "HouseStyle_2.5Fin": 0,
                  "HouseStyle_2.5Unf": 0,
                  "HouseStyle_2Story": 1,
                  "HouseStyle_SFoyer": 0,
                  "HouseStyle_SLvl": 0,
                  "RoofStyle_Flat": 0,
                  "RoofStyle_Gable": 1,
                  "RoofStyle_Gambrel": 0,
                  "RoofStyle_Hip": 0,
                  "RoofStyle_Mansard": 0,
                  "RoofStyle_Shed": 0,
                  "RoofMatl_ClyTile": 0,
                  "RoofMatl_CompShg": 1,
                  "RoofMatl_Membran": 0,
                  "RoofMatl_Metal": 0,
                  "RoofMatl_Roll": 0,
                  "RoofMatl_Tar&Grv": 0,
                  "RoofMatl_WdShake": 0,
                  "RoofMatl_WdShngl": 0,
                  "Exterior1st_AsbShng": 0,
                  "Exterior1st_AsphShn": 0,
                  "Exterior1st_BrkComm": 0,
                  "Exterior1st_BrkFace": 0,
                  "Exterior1st_CBlock": 0,
                  "Exterior1st_CemntBd": 0,
                  "Exterior1st_HdBoard": 0,
                  "Exterior1st_ImStucc": 0,
                  "Exterior1st_MetalSd": 0,
                  "Exterior1st_Plywood": 0,
                  "Exterior1st_Stone": 0,
                  "Exterior1st_Stucco": 0,
                  "Exterior1st_VinylSd": 1,
                  "Exterior1st_Wd Sdng": 0,
                  "Exterior1st_WdShing": 0,
                  "Exterior2nd_AsbShng": 0,
                  "Exterior2nd_AsphShn": 0,
                  "Exterior2nd_Brk Cmn": 0,
                  "Exterior2nd_BrkFace": 0,
                  "Exterior2nd_CBlock": 0,
                  "Exterior2nd_CmentBd": 0,
                  "Exterior2nd_HdBoard": 0,
                  "Exterior2nd_ImStucc": 0,
                  "Exterior2nd_MetalSd": 0,
                  "Exterior2nd_Other": 0,
                  "Exterior2nd_Plywood": 0,
                  "Exterior2nd_Stone": 0,
                  "Exterior2nd_Stucco": 0,
                  "Exterior2nd_VinylSd": 1,
                  "Exterior2nd_Wd Sdng": 0,
                  "Exterior2nd_Wd Shng": 0,
                  "MasVnrType_BrkCmn": 0,
                  "MasVnrType_BrkFace": 1,
                  "MasVnrType_None": 0,
                  "MasVnrType_Stone": 0,
                  "ExterQual_Ex": 0,
                  "ExterQual_Fa": 0,
                  "ExterQual_Gd": 1,
                  "ExterQual_TA": 0,
                  "ExterCond_Ex": 0,
                  "ExterCond_Fa": 0,
                  "ExterCond_Gd": 0,
                  "ExterCond_Po": 0,
                  "ExterCond_TA": 1,
                  "Foundation_BrkTil": 0,
                  "Foundation_CBlock": 0,
                  "Foundation_PConc": 1,
                  "Foundation_Slab": 0,
                  "Foundation_Stone": 0,
                  "Foundation_Wood": 0,
                  "BsmtQual_Ex": 0,
                  "BsmtQual_Fa": 0,
                  "BsmtQual_Gd": 1,
                  "BsmtQual_NoBsmt": 0,
                  "BsmtQual_TA": 0,
                  "BsmtCond_Fa": 0,
                  "BsmtCond_Gd": 0,
                  "BsmtCond_NoBsmt": 0,
                  "BsmtCond_Po": 0,
                  "BsmtCond_TA": 1,
                  "BsmtExposure_Av": 0,
                  "BsmtExposure_Gd": 0,
                  "BsmtExposure_Mn": 0,
                  "BsmtExposure_No": 1,
                  "BsmtExposure_NoBsmt": 0,
                  "BsmtFinType1_ALQ": 0,
                  "BsmtFinType1_BLQ": 0,
                  "BsmtFinType1_GLQ": 1,
                  "BsmtFinType1_LwQ": 0,
                  "BsmtFinType1_NoBsmt": 0,
                  "BsmtFinType1_Rec": 0,
                  "BsmtFinType1_Unf": 0,
                  "BsmtFinType2_ALQ": 0,
                  "BsmtFinType2_BLQ": 0,
                  "BsmtFinType2_GLQ": 0,
                  "BsmtFinType2_LwQ": 0,
                  "BsmtFinType2_NoBsmt": 0,
                  "BsmtFinType2_Rec": 0,
                  "BsmtFinType2_Unf": 1,
                  "Heating_Floor": 0,
                  "Heating_GasA": 1,
                  "Heating_GasW": 0,
                  "Heating_Grav": 0,
                  "Heating_OthW": 0,
                  "Heating_Wall": 0,
                  "HeatingQC_Ex": 1,
                  "HeatingQC_Fa": 0,
                  "HeatingQC_Gd": 0,
                  "HeatingQC_Po": 0,
                  "HeatingQC_TA": 0,
                  "CentralAir_N": 0,
                  "CentralAir_Y": 1,
                  "Electrical_FuseA": 0,
                  "Electrical_FuseF": 0,
                  "Electrical_FuseP": 0,
                  "Electrical_Mix": 0,
                  "Electrical_None": 0,
                  "Electrical_SBrkr": 1,
                  "KitchenQual_Ex": 0,
                  "KitchenQual_Fa": 0,
                  "KitchenQual_Gd": 1,
                  "KitchenQual_TA": 0,
                  "Functional_Maj1": 0,
                  "Functional_Maj2": 0,
                  "Functional_Min1": 0,
                  "Functional_Min2": 0,
                  "Functional_Mod": 0,
                  "Functional_Sev": 0,
                  "Functional_Typ": 1,
                  "FireplaceQu_Ex": 0,
                  "FireplaceQu_Fa": 0,
                  "FireplaceQu_Gd": 0,
                  "FireplaceQu_NoFP": 1,
                  "FireplaceQu_Po": 0,
                  "FireplaceQu_TA": 0,
                  "GarageType_2Types": 0,
                  "GarageType_Attchd": 1,
                  "GarageType_Basment": 0,
                  "GarageType_BuiltIn": 0,
                  "GarageType_CarPort": 0,
                  "GarageType_Detchd": 0,
                  "GarageType_NoGarage": 0,
                  "GarageYrBlt_1900.0": 0,
                  "GarageYrBlt_1906.0": 0,
                  "GarageYrBlt_1908.0": 0,
                  "GarageYrBlt_1910.0": 0,
                  "GarageYrBlt_1914.0": 0,
                  "GarageYrBlt_1915.0": 0,
                  "GarageYrBlt_1916.0": 0,
                  "GarageYrBlt_1918.0": 0,
                  "GarageYrBlt_1920.0": 0,
                  "GarageYrBlt_1921.0": 0,
                  "GarageYrBlt_1922.0": 0,
                  "GarageYrBlt_1923.0": 0,
                  "GarageYrBlt_1924.0": 0,
                  "GarageYrBlt_1925.0": 0,
                  "GarageYrBlt_1926.0": 0,
                  "GarageYrBlt_1927.0": 0,
                  "GarageYrBlt_1928.0": 0,
                  "GarageYrBlt_1929.0": 0,
                  "GarageYrBlt_1930.0": 0,
                  "GarageYrBlt_1931.0": 0,
                  "GarageYrBlt_1932.0": 0,
                  "GarageYrBlt_1933.0": 0,
                  "GarageYrBlt_1934.0": 0,
                  "GarageYrBlt_1935.0": 0,
                  "GarageYrBlt_1936.0": 0,
                  "GarageYrBlt_1937.0": 0,
                  "GarageYrBlt_1938.0": 0,
                  "GarageYrBlt_1939.0": 0,
                  "GarageYrBlt_1940.0": 0,
                  "GarageYrBlt_1941.0": 0,
                  "GarageYrBlt_1942.0": 0,
                  "GarageYrBlt_1945.0": 0,
                  "GarageYrBlt_1946.0": 0,
                  "GarageYrBlt_1947.0": 0,
                  "GarageYrBlt_1948.0": 0,
                  "GarageYrBlt_1949.0": 0,
                  "GarageYrBlt_1950.0": 0,
                  "GarageYrBlt_1951.0": 0,
                  "GarageYrBlt_1952.0": 0,
                  "GarageYrBlt_1953.0": 0,
                  "GarageYrBlt_1954.0": 0,
                  "GarageYrBlt_1955.0": 0,
                  "GarageYrBlt_1956.0": 0,
                  "GarageYrBlt_1957.0": 0,
                  "GarageYrBlt_1958.0": 0,
                  "GarageYrBlt_1959.0": 0,
                  "GarageYrBlt_1960.0": 0,
                  "GarageYrBlt_1961.0": 0,
                  "GarageYrBlt_1962.0": 0,
                  "GarageYrBlt_1963.0": 0,
                  "GarageYrBlt_1964.0": 0,
                  "GarageYrBlt_1965.0": 0,
                  "GarageYrBlt_1966.0": 0,
                  "GarageYrBlt_1967.0": 0,
                  "GarageYrBlt_1968.0": 0,
                  "GarageYrBlt_1969.0": 0,
                  "GarageYrBlt_1970.0": 0,
                  "GarageYrBlt_1971.0": 0,
                  "GarageYrBlt_1972.0": 0,
                  "GarageYrBlt_1973.0": 0,
                  "GarageYrBlt_1974.0": 0,
                  "GarageYrBlt_1975.0": 0,
                  "GarageYrBlt_1976.0": 0,
                  "GarageYrBlt_1977.0": 0,
                  "GarageYrBlt_1978.0": 0,
                  "GarageYrBlt_1979.0": 0,
                  "GarageYrBlt_1980.0": 0,
                  "GarageYrBlt_1981.0": 0,
                  "GarageYrBlt_1982.0": 0,
                  "GarageYrBlt_1983.0": 0,
                  "GarageYrBlt_1984.0": 0,
                  "GarageYrBlt_1985.0": 0,
                  "GarageYrBlt_1986.0": 0,
                  "GarageYrBlt_1987.0": 0,
                  "GarageYrBlt_1988.0": 0,
                  "GarageYrBlt_1989.0": 0,
                  "GarageYrBlt_1990.0": 0,
                  "GarageYrBlt_1991.0": 0,
                  "GarageYrBlt_1992.0": 0,
                  "GarageYrBlt_1993.0": 0,
                  "GarageYrBlt_1994.0": 0,
                  "GarageYrBlt_1995.0": 0,
                  "GarageYrBlt_1996.0": 0,
                  "GarageYrBlt_1997.0": 0,
                  "GarageYrBlt_1998.0": 0,
                  "GarageYrBlt_1999.0": 0,
                  "GarageYrBlt_2000.0": 0,
                  "GarageYrBlt_2001.0": 0,
                  "GarageYrBlt_2002.0": 0,
                  "GarageYrBlt_2003.0": 1,
                  "GarageYrBlt_2004.0": 0,
                  "GarageYrBlt_2005.0": 0,
                  "GarageYrBlt_2006.0": 0,
                  "GarageYrBlt_2007.0": 0,
                  "GarageYrBlt_2008.0": 0,
                  "GarageYrBlt_2009.0": 0,
                  "GarageYrBlt_2010.0": 0,
                  "GarageYrBlt_NoGarage": 0,
                  "GarageFinish_Fin": 0,
                  "GarageFinish_NoGarage": 0,
                  "GarageFinish_RFn": 1,
                  "GarageFinish_Unf": 0,
                  "GarageQual_Ex": 0,
                  "GarageQual_Fa": 0,
                  "GarageQual_Gd": 0,
                  "GarageQual_NoGarage": 0,
                  "GarageQual_Po": 0,
                  "GarageQual_TA": 1,
                  "GarageCond_Ex": 0,
                  "GarageCond_Fa": 0,
                  "GarageCond_Gd": 0,
                  "GarageCond_NoGarage": 0,
                  "GarageCond_Po": 0,
                  "GarageCond_TA": 1,
                  "PavedDrive_N": 0,
                  "PavedDrive_P": 0,
                  "PavedDrive_Y": 1,
                  "PoolQC_Ex": 0,
                  "PoolQC_Fa": 0,
                  "PoolQC_Gd": 0,
                  "PoolQC_NoPool": 1,
                  "Fence_GdPrv": 0,
                  "Fence_GdWo": 0,
                  "Fence_MnPrv": 0,
                  "Fence_MnWw": 0,
                  "Fence_NoFence": 1,
                  "MiscFeature_Gar2": 0,
                  "MiscFeature_NoMF": 1,
                  "MiscFeature_Othr": 0,
                  "MiscFeature_Shed": 0,
                  "MiscFeature_TenC": 0,
                  "SaleType_COD": 0,
                  "SaleType_CWD": 0,
                  "SaleType_Con": 0,
                  "SaleType_ConLD": 0,
                  "SaleType_ConLI": 0,
                  "SaleType_ConLw": 0,
                  "SaleType_New": 0,
                  "SaleType_Oth": 0,
                  "SaleType_WD": 1,
                  "SaleCondition_Abnorml": 0,
                  "SaleCondition_AdjLand": 0,
                  "SaleCondition_Alloca": 0,
                  "SaleCondition_Family": 0,
                  "SaleCondition_Normal": 1,
                  "SaleCondition_Partial": 0,
                  "MSSubClass_20": 0,
                  "MSSubClass_30": 0,
                  "MSSubClass_40": 0,
                  "MSSubClass_45": 0,
                  "MSSubClass_50": 0,
                  "MSSubClass_60": 1,
                  "MSSubClass_70": 0,
                  "MSSubClass_75": 0,
                  "MSSubClass_80": 0,
                  "MSSubClass_85": 0,
                  "MSSubClass_90": 0,
                  "MSSubClass_120": 0,
                  "MSSubClass_160": 0,
                  "MSSubClass_180": 0,
                  "MSSubClass_190": 0,
                  "OverallQual_1": 0,
                  "OverallQual_2": 0,
                  "OverallQual_3": 0,
                  "OverallQual_4": 0,
                  "OverallQual_5": 0,
                  "OverallQual_6": 0,
                  "OverallQual_7": 1,
                  "OverallQual_8": 0,
                  "OverallQual_9": 0,
                  "OverallQual_10": 0,
                  "OverallCond_1": 0,
                  "OverallCond_2": 0,
                  "OverallCond_3": 0,
                  "OverallCond_4": 0,
                  "OverallCond_5": 1,
                  "OverallCond_6": 0,
                  "OverallCond_7": 0,
                  "OverallCond_8": 0,
                  "OverallCond_9": 0,
                  "YearBuilt_1872": 0,
                  "YearBuilt_1875": 0,
                  "YearBuilt_1880": 0,
                  "YearBuilt_1882": 0,
                  "YearBuilt_1885": 0,
                  "YearBuilt_1890": 0,
                  "YearBuilt_1892": 0,
                  "YearBuilt_1893": 0,
                  "YearBuilt_1898": 0,
                  "YearBuilt_1900": 0,
                  "YearBuilt_1904": 0,
                  "YearBuilt_1905": 0,
                  "YearBuilt_1906": 0,
                  "YearBuilt_1908": 0,
                  "YearBuilt_1910": 0,
                  "YearBuilt_1911": 0,
                  "YearBuilt_1912": 0,
                  "YearBuilt_1913": 0,
                  "YearBuilt_1914": 0,
                  "YearBuilt_1915": 0,
                  "YearBuilt_1916": 0,
                  "YearBuilt_1917": 0,
                  "YearBuilt_1918": 0,
                  "YearBuilt_1919": 0,
                  "YearBuilt_1920": 0,
                  "YearBuilt_1921": 0,
                  "YearBuilt_1922": 0,
                  "YearBuilt_1923": 0,
                  "YearBuilt_1924": 0,
                  "YearBuilt_1925": 0,
                  "YearBuilt_1926": 0,
                  "YearBuilt_1927": 0,
                  "YearBuilt_1928": 0,
                  "YearBuilt_1929": 0,
                  "YearBuilt_1930": 0,
                  "YearBuilt_1931": 0,
                  "YearBuilt_1932": 0,
                  "YearBuilt_1934": 0,
                  "YearBuilt_1935": 0,
                  "YearBuilt_1936": 0,
                  "YearBuilt_1937": 0,
                  "YearBuilt_1938": 0,
                  "YearBuilt_1939": 0,
                  "YearBuilt_1940": 0,
                  "YearBuilt_1941": 0,
                  "YearBuilt_1942": 0,
                  "YearBuilt_1945": 0,
                  "YearBuilt_1946": 0,
                  "YearBuilt_1947": 0,
                  "YearBuilt_1948": 0,
                  "YearBuilt_1949": 0,
                  "YearBuilt_1950": 0,
                  "YearBuilt_1951": 0,
                  "YearBuilt_1952": 0,
                  "YearBuilt_1953": 0,
                  "YearBuilt_1954": 0,
                  "YearBuilt_1955": 0,
                  "YearBuilt_1956": 0,
                  "YearBuilt_1957": 0,
                  "YearBuilt_1958": 0,
                  "YearBuilt_1959": 0,
                  "YearBuilt_1960": 0,
                  "YearBuilt_1961": 0,
                  "YearBuilt_1962": 0,
                  "YearBuilt_1963": 0,
                  "YearBuilt_1964": 0,
                  "YearBuilt_1965": 0,
                  "YearBuilt_1966": 0,
                  "YearBuilt_1967": 0,
                  "YearBuilt_1968": 0,
                  "YearBuilt_1969": 0,
                  "_deepnote_index_column": 0
                }
              ],
              "rows_bottom": [
                {
                  "Id": 1460,
                  "LotFrontage": 0.23961661341853036,
                  "LotArea": 0.0403701885998738,
                  "MasVnrArea": 0,
                  "BsmtFinSF1": 0.14705882352941177,
                  "BsmtFinSF2": 0.19674355495251017,
                  "BsmtUnfSF": 0.05821917808219178,
                  "TotalBsmtSF": 0.20556464811783962,
                  "1stFlrSF": 0.21156493804497475,
                  "2ndFlrSF": 0,
                  "LowQualFinSF": 0,
                  "GrLivArea": 0.17370007535795026,
                  "BsmtFullBath": 0.3333333333333333,
                  "BsmtHalfBath": 0,
                  "FullBath": 0.3333333333333333,
                  "HalfBath": 0.5,
                  "BedroomAbvGr": 0.375,
                  "KitchenAbvGr": 0.3333333333333333,
                  "TotRmsAbvGrd": 0.33333333333333337,
                  "Fireplaces": 0,
                  "GarageCars": 0.25,
                  "GarageArea": 0.19464033850493653,
                  "WoodDeckSF": 0.8588098016336055,
                  "OpenPorchSF": 0.12431444241316271,
                  "EnclosedPorch": 0,
                  "3SsnPorch": 0,
                  "ScreenPorch": 0,
                  "PoolArea": 0,
                  "MiscVal": 0,
                  "SalePrice": 147500,
                  "MSZoning_C (all)": 0,
                  "MSZoning_FV": 0,
                  "MSZoning_RH": 0,
                  "MSZoning_RL": 1,
                  "MSZoning_RM": 0,
                  "Street_Grvl": 0,
                  "Street_Pave": 1,
                  "Alley_Grvl": 0,
                  "Alley_NoAlley": 1,
                  "Alley_Pave": 0,
                  "LotShape_IR1": 0,
                  "LotShape_IR2": 0,
                  "LotShape_IR3": 0,
                  "LotShape_Reg": 1,
                  "LandContour_Bnk": 0,
                  "LandContour_HLS": 0,
                  "LandContour_Low": 0,
                  "LandContour_Lvl": 1,
                  "Utilities_AllPub": 1,
                  "Utilities_NoSeWa": 0,
                  "LotConfig_Corner": 0,
                  "LotConfig_CulDSac": 0,
                  "LotConfig_FR2": 0,
                  "LotConfig_FR3": 0,
                  "LotConfig_Inside": 1,
                  "LandSlope_Gtl": 1,
                  "LandSlope_Mod": 0,
                  "LandSlope_Sev": 0,
                  "Neighborhood_Blmngtn": 0,
                  "Neighborhood_Blueste": 0,
                  "Neighborhood_BrDale": 0,
                  "Neighborhood_BrkSide": 0,
                  "Neighborhood_ClearCr": 0,
                  "Neighborhood_CollgCr": 0,
                  "Neighborhood_Crawfor": 0,
                  "Neighborhood_Edwards": 1,
                  "Neighborhood_Gilbert": 0,
                  "Neighborhood_IDOTRR": 0,
                  "Neighborhood_MeadowV": 0,
                  "Neighborhood_Mitchel": 0,
                  "Neighborhood_NAmes": 0,
                  "Neighborhood_NPkVill": 0,
                  "Neighborhood_NWAmes": 0,
                  "Neighborhood_NoRidge": 0,
                  "Neighborhood_NridgHt": 0,
                  "Neighborhood_OldTown": 0,
                  "Neighborhood_SWISU": 0,
                  "Neighborhood_Sawyer": 0,
                  "Neighborhood_SawyerW": 0,
                  "Neighborhood_Somerst": 0,
                  "Neighborhood_StoneBr": 0,
                  "Neighborhood_Timber": 0,
                  "Neighborhood_Veenker": 0,
                  "Condition1_Artery": 0,
                  "Condition1_Feedr": 0,
                  "Condition1_Norm": 1,
                  "Condition1_PosA": 0,
                  "Condition1_PosN": 0,
                  "Condition1_RRAe": 0,
                  "Condition1_RRAn": 0,
                  "Condition1_RRNe": 0,
                  "Condition1_RRNn": 0,
                  "Condition2_Artery": 0,
                  "Condition2_Feedr": 0,
                  "Condition2_Norm": 1,
                  "Condition2_PosA": 0,
                  "Condition2_PosN": 0,
                  "Condition2_RRAe": 0,
                  "Condition2_RRAn": 0,
                  "Condition2_RRNn": 0,
                  "BldgType_1Fam": 1,
                  "BldgType_2fmCon": 0,
                  "BldgType_Duplex": 0,
                  "BldgType_Twnhs": 0,
                  "BldgType_TwnhsE": 0,
                  "HouseStyle_1.5Fin": 0,
                  "HouseStyle_1.5Unf": 0,
                  "HouseStyle_1Story": 1,
                  "HouseStyle_2.5Fin": 0,
                  "HouseStyle_2.5Unf": 0,
                  "HouseStyle_2Story": 0,
                  "HouseStyle_SFoyer": 0,
                  "HouseStyle_SLvl": 0,
                  "RoofStyle_Flat": 0,
                  "RoofStyle_Gable": 1,
                  "RoofStyle_Gambrel": 0,
                  "RoofStyle_Hip": 0,
                  "RoofStyle_Mansard": 0,
                  "RoofStyle_Shed": 0,
                  "RoofMatl_ClyTile": 0,
                  "RoofMatl_CompShg": 1,
                  "RoofMatl_Membran": 0,
                  "RoofMatl_Metal": 0,
                  "RoofMatl_Roll": 0,
                  "RoofMatl_Tar&Grv": 0,
                  "RoofMatl_WdShake": 0,
                  "RoofMatl_WdShngl": 0,
                  "Exterior1st_AsbShng": 0,
                  "Exterior1st_AsphShn": 0,
                  "Exterior1st_BrkComm": 0,
                  "Exterior1st_BrkFace": 0,
                  "Exterior1st_CBlock": 0,
                  "Exterior1st_CemntBd": 0,
                  "Exterior1st_HdBoard": 1,
                  "Exterior1st_ImStucc": 0,
                  "Exterior1st_MetalSd": 0,
                  "Exterior1st_Plywood": 0,
                  "Exterior1st_Stone": 0,
                  "Exterior1st_Stucco": 0,
                  "Exterior1st_VinylSd": 0,
                  "Exterior1st_Wd Sdng": 0,
                  "Exterior1st_WdShing": 0,
                  "Exterior2nd_AsbShng": 0,
                  "Exterior2nd_AsphShn": 0,
                  "Exterior2nd_Brk Cmn": 0,
                  "Exterior2nd_BrkFace": 0,
                  "Exterior2nd_CBlock": 0,
                  "Exterior2nd_CmentBd": 0,
                  "Exterior2nd_HdBoard": 1,
                  "Exterior2nd_ImStucc": 0,
                  "Exterior2nd_MetalSd": 0,
                  "Exterior2nd_Other": 0,
                  "Exterior2nd_Plywood": 0,
                  "Exterior2nd_Stone": 0,
                  "Exterior2nd_Stucco": 0,
                  "Exterior2nd_VinylSd": 0,
                  "Exterior2nd_Wd Sdng": 0,
                  "Exterior2nd_Wd Shng": 0,
                  "MasVnrType_BrkCmn": 0,
                  "MasVnrType_BrkFace": 0,
                  "MasVnrType_None": 1,
                  "MasVnrType_Stone": 0,
                  "ExterQual_Ex": 0,
                  "ExterQual_Fa": 0,
                  "ExterQual_Gd": 1,
                  "ExterQual_TA": 0,
                  "ExterCond_Ex": 0,
                  "ExterCond_Fa": 0,
                  "ExterCond_Gd": 0,
                  "ExterCond_Po": 0,
                  "ExterCond_TA": 1,
                  "Foundation_BrkTil": 0,
                  "Foundation_CBlock": 1,
                  "Foundation_PConc": 0,
                  "Foundation_Slab": 0,
                  "Foundation_Stone": 0,
                  "Foundation_Wood": 0,
                  "BsmtQual_Ex": 0,
                  "BsmtQual_Fa": 0,
                  "BsmtQual_Gd": 0,
                  "BsmtQual_NoBsmt": 0,
                  "BsmtQual_TA": 1,
                  "BsmtCond_Fa": 0,
                  "BsmtCond_Gd": 0,
                  "BsmtCond_NoBsmt": 0,
                  "BsmtCond_Po": 0,
                  "BsmtCond_TA": 1,
                  "BsmtExposure_Av": 0,
                  "BsmtExposure_Gd": 0,
                  "BsmtExposure_Mn": 0,
                  "BsmtExposure_No": 1,
                  "BsmtExposure_NoBsmt": 0,
                  "BsmtFinType1_ALQ": 0,
                  "BsmtFinType1_BLQ": 1,
                  "BsmtFinType1_GLQ": 0,
                  "BsmtFinType1_LwQ": 0,
                  "BsmtFinType1_NoBsmt": 0,
                  "BsmtFinType1_Rec": 0,
                  "BsmtFinType1_Unf": 0,
                  "BsmtFinType2_ALQ": 0,
                  "BsmtFinType2_BLQ": 0,
                  "BsmtFinType2_GLQ": 0,
                  "BsmtFinType2_LwQ": 1,
                  "BsmtFinType2_NoBsmt": 0,
                  "BsmtFinType2_Rec": 0,
                  "BsmtFinType2_Unf": 0,
                  "Heating_Floor": 0,
                  "Heating_GasA": 1,
                  "Heating_GasW": 0,
                  "Heating_Grav": 0,
                  "Heating_OthW": 0,
                  "Heating_Wall": 0,
                  "HeatingQC_Ex": 0,
                  "HeatingQC_Fa": 0,
                  "HeatingQC_Gd": 1,
                  "HeatingQC_Po": 0,
                  "HeatingQC_TA": 0,
                  "CentralAir_N": 0,
                  "CentralAir_Y": 1,
                  "Electrical_FuseA": 0,
                  "Electrical_FuseF": 0,
                  "Electrical_FuseP": 0,
                  "Electrical_Mix": 0,
                  "Electrical_None": 0,
                  "Electrical_SBrkr": 1,
                  "KitchenQual_Ex": 0,
                  "KitchenQual_Fa": 0,
                  "KitchenQual_Gd": 0,
                  "KitchenQual_TA": 1,
                  "Functional_Maj1": 0,
                  "Functional_Maj2": 0,
                  "Functional_Min1": 0,
                  "Functional_Min2": 0,
                  "Functional_Mod": 0,
                  "Functional_Sev": 0,
                  "Functional_Typ": 1,
                  "FireplaceQu_Ex": 0,
                  "FireplaceQu_Fa": 0,
                  "FireplaceQu_Gd": 0,
                  "FireplaceQu_NoFP": 1,
                  "FireplaceQu_Po": 0,
                  "FireplaceQu_TA": 0,
                  "GarageType_2Types": 0,
                  "GarageType_Attchd": 1,
                  "GarageType_Basment": 0,
                  "GarageType_BuiltIn": 0,
                  "GarageType_CarPort": 0,
                  "GarageType_Detchd": 0,
                  "GarageType_NoGarage": 0,
                  "GarageYrBlt_1900.0": 0,
                  "GarageYrBlt_1906.0": 0,
                  "GarageYrBlt_1908.0": 0,
                  "GarageYrBlt_1910.0": 0,
                  "GarageYrBlt_1914.0": 0,
                  "GarageYrBlt_1915.0": 0,
                  "GarageYrBlt_1916.0": 0,
                  "GarageYrBlt_1918.0": 0,
                  "GarageYrBlt_1920.0": 0,
                  "GarageYrBlt_1921.0": 0,
                  "GarageYrBlt_1922.0": 0,
                  "GarageYrBlt_1923.0": 0,
                  "GarageYrBlt_1924.0": 0,
                  "GarageYrBlt_1925.0": 0,
                  "GarageYrBlt_1926.0": 0,
                  "GarageYrBlt_1927.0": 0,
                  "GarageYrBlt_1928.0": 0,
                  "GarageYrBlt_1929.0": 0,
                  "GarageYrBlt_1930.0": 0,
                  "GarageYrBlt_1931.0": 0,
                  "GarageYrBlt_1932.0": 0,
                  "GarageYrBlt_1933.0": 0,
                  "GarageYrBlt_1934.0": 0,
                  "GarageYrBlt_1935.0": 0,
                  "GarageYrBlt_1936.0": 0,
                  "GarageYrBlt_1937.0": 0,
                  "GarageYrBlt_1938.0": 0,
                  "GarageYrBlt_1939.0": 0,
                  "GarageYrBlt_1940.0": 0,
                  "GarageYrBlt_1941.0": 0,
                  "GarageYrBlt_1942.0": 0,
                  "GarageYrBlt_1945.0": 0,
                  "GarageYrBlt_1946.0": 0,
                  "GarageYrBlt_1947.0": 0,
                  "GarageYrBlt_1948.0": 0,
                  "GarageYrBlt_1949.0": 0,
                  "GarageYrBlt_1950.0": 0,
                  "GarageYrBlt_1951.0": 0,
                  "GarageYrBlt_1952.0": 0,
                  "GarageYrBlt_1953.0": 0,
                  "GarageYrBlt_1954.0": 0,
                  "GarageYrBlt_1955.0": 0,
                  "GarageYrBlt_1956.0": 0,
                  "GarageYrBlt_1957.0": 0,
                  "GarageYrBlt_1958.0": 0,
                  "GarageYrBlt_1959.0": 0,
                  "GarageYrBlt_1960.0": 0,
                  "GarageYrBlt_1961.0": 0,
                  "GarageYrBlt_1962.0": 0,
                  "GarageYrBlt_1963.0": 0,
                  "GarageYrBlt_1964.0": 0,
                  "GarageYrBlt_1965.0": 1,
                  "GarageYrBlt_1966.0": 0,
                  "GarageYrBlt_1967.0": 0,
                  "GarageYrBlt_1968.0": 0,
                  "GarageYrBlt_1969.0": 0,
                  "GarageYrBlt_1970.0": 0,
                  "GarageYrBlt_1971.0": 0,
                  "GarageYrBlt_1972.0": 0,
                  "GarageYrBlt_1973.0": 0,
                  "GarageYrBlt_1974.0": 0,
                  "GarageYrBlt_1975.0": 0,
                  "GarageYrBlt_1976.0": 0,
                  "GarageYrBlt_1977.0": 0,
                  "GarageYrBlt_1978.0": 0,
                  "GarageYrBlt_1979.0": 0,
                  "GarageYrBlt_1980.0": 0,
                  "GarageYrBlt_1981.0": 0,
                  "GarageYrBlt_1982.0": 0,
                  "GarageYrBlt_1983.0": 0,
                  "GarageYrBlt_1984.0": 0,
                  "GarageYrBlt_1985.0": 0,
                  "GarageYrBlt_1986.0": 0,
                  "GarageYrBlt_1987.0": 0,
                  "GarageYrBlt_1988.0": 0,
                  "GarageYrBlt_1989.0": 0,
                  "GarageYrBlt_1990.0": 0,
                  "GarageYrBlt_1991.0": 0,
                  "GarageYrBlt_1992.0": 0,
                  "GarageYrBlt_1993.0": 0,
                  "GarageYrBlt_1994.0": 0,
                  "GarageYrBlt_1995.0": 0,
                  "GarageYrBlt_1996.0": 0,
                  "GarageYrBlt_1997.0": 0,
                  "GarageYrBlt_1998.0": 0,
                  "GarageYrBlt_1999.0": 0,
                  "GarageYrBlt_2000.0": 0,
                  "GarageYrBlt_2001.0": 0,
                  "GarageYrBlt_2002.0": 0,
                  "GarageYrBlt_2003.0": 0,
                  "GarageYrBlt_2004.0": 0,
                  "GarageYrBlt_2005.0": 0,
                  "GarageYrBlt_2006.0": 0,
                  "GarageYrBlt_2007.0": 0,
                  "GarageYrBlt_2008.0": 0,
                  "GarageYrBlt_2009.0": 0,
                  "GarageYrBlt_2010.0": 0,
                  "GarageYrBlt_NoGarage": 0,
                  "GarageFinish_Fin": 1,
                  "GarageFinish_NoGarage": 0,
                  "GarageFinish_RFn": 0,
                  "GarageFinish_Unf": 0,
                  "GarageQual_Ex": 0,
                  "GarageQual_Fa": 0,
                  "GarageQual_Gd": 0,
                  "GarageQual_NoGarage": 0,
                  "GarageQual_Po": 0,
                  "GarageQual_TA": 1,
                  "GarageCond_Ex": 0,
                  "GarageCond_Fa": 0,
                  "GarageCond_Gd": 0,
                  "GarageCond_NoGarage": 0,
                  "GarageCond_Po": 0,
                  "GarageCond_TA": 1,
                  "PavedDrive_N": 0,
                  "PavedDrive_P": 0,
                  "PavedDrive_Y": 1,
                  "PoolQC_Ex": 0,
                  "PoolQC_Fa": 0,
                  "PoolQC_Gd": 0,
                  "PoolQC_NoPool": 1,
                  "Fence_GdPrv": 0,
                  "Fence_GdWo": 0,
                  "Fence_MnPrv": 0,
                  "Fence_MnWw": 0,
                  "Fence_NoFence": 1,
                  "MiscFeature_Gar2": 0,
                  "MiscFeature_NoMF": 1,
                  "MiscFeature_Othr": 0,
                  "MiscFeature_Shed": 0,
                  "MiscFeature_TenC": 0,
                  "SaleType_COD": 0,
                  "SaleType_CWD": 0,
                  "SaleType_Con": 0,
                  "SaleType_ConLD": 0,
                  "SaleType_ConLI": 0,
                  "SaleType_ConLw": 0,
                  "SaleType_New": 0,
                  "SaleType_Oth": 0,
                  "SaleType_WD": 1,
                  "SaleCondition_Abnorml": 0,
                  "SaleCondition_AdjLand": 0,
                  "SaleCondition_Alloca": 0,
                  "SaleCondition_Family": 0,
                  "SaleCondition_Normal": 1,
                  "SaleCondition_Partial": 0,
                  "MSSubClass_20": 1,
                  "MSSubClass_30": 0,
                  "MSSubClass_40": 0,
                  "MSSubClass_45": 0,
                  "MSSubClass_50": 0,
                  "MSSubClass_60": 0,
                  "MSSubClass_70": 0,
                  "MSSubClass_75": 0,
                  "MSSubClass_80": 0,
                  "MSSubClass_85": 0,
                  "MSSubClass_90": 0,
                  "MSSubClass_120": 0,
                  "MSSubClass_160": 0,
                  "MSSubClass_180": 0,
                  "MSSubClass_190": 0,
                  "OverallQual_1": 0,
                  "OverallQual_2": 0,
                  "OverallQual_3": 0,
                  "OverallQual_4": 0,
                  "OverallQual_5": 1,
                  "OverallQual_6": 0,
                  "OverallQual_7": 0,
                  "OverallQual_8": 0,
                  "OverallQual_9": 0,
                  "OverallQual_10": 0,
                  "OverallCond_1": 0,
                  "OverallCond_2": 0,
                  "OverallCond_3": 0,
                  "OverallCond_4": 0,
                  "OverallCond_5": 0,
                  "OverallCond_6": 1,
                  "OverallCond_7": 0,
                  "OverallCond_8": 0,
                  "OverallCond_9": 0,
                  "YearBuilt_1872": 0,
                  "YearBuilt_1875": 0,
                  "YearBuilt_1880": 0,
                  "YearBuilt_1882": 0,
                  "YearBuilt_1885": 0,
                  "YearBuilt_1890": 0,
                  "YearBuilt_1892": 0,
                  "YearBuilt_1893": 0,
                  "YearBuilt_1898": 0,
                  "YearBuilt_1900": 0,
                  "YearBuilt_1904": 0,
                  "YearBuilt_1905": 0,
                  "YearBuilt_1906": 0,
                  "YearBuilt_1908": 0,
                  "YearBuilt_1910": 0,
                  "YearBuilt_1911": 0,
                  "YearBuilt_1912": 0,
                  "YearBuilt_1913": 0,
                  "YearBuilt_1914": 0,
                  "YearBuilt_1915": 0,
                  "YearBuilt_1916": 0,
                  "YearBuilt_1917": 0,
                  "YearBuilt_1918": 0,
                  "YearBuilt_1919": 0,
                  "YearBuilt_1920": 0,
                  "YearBuilt_1921": 0,
                  "YearBuilt_1922": 0,
                  "YearBuilt_1923": 0,
                  "YearBuilt_1924": 0,
                  "YearBuilt_1925": 0,
                  "YearBuilt_1926": 0,
                  "YearBuilt_1927": 0,
                  "YearBuilt_1928": 0,
                  "YearBuilt_1929": 0,
                  "YearBuilt_1930": 0,
                  "YearBuilt_1931": 0,
                  "YearBuilt_1932": 0,
                  "YearBuilt_1934": 0,
                  "YearBuilt_1935": 0,
                  "YearBuilt_1936": 0,
                  "YearBuilt_1937": 0,
                  "YearBuilt_1938": 0,
                  "YearBuilt_1939": 0,
                  "YearBuilt_1940": 0,
                  "YearBuilt_1941": 0,
                  "YearBuilt_1942": 0,
                  "YearBuilt_1945": 0,
                  "YearBuilt_1946": 0,
                  "YearBuilt_1947": 0,
                  "YearBuilt_1948": 0,
                  "YearBuilt_1949": 0,
                  "YearBuilt_1950": 0,
                  "YearBuilt_1951": 0,
                  "YearBuilt_1952": 0,
                  "YearBuilt_1953": 0,
                  "YearBuilt_1954": 0,
                  "YearBuilt_1955": 0,
                  "YearBuilt_1956": 0,
                  "YearBuilt_1957": 0,
                  "YearBuilt_1958": 0,
                  "YearBuilt_1959": 0,
                  "YearBuilt_1960": 0,
                  "YearBuilt_1961": 0,
                  "YearBuilt_1962": 0,
                  "YearBuilt_1963": 0,
                  "YearBuilt_1964": 0,
                  "YearBuilt_1965": 1,
                  "YearBuilt_1966": 0,
                  "YearBuilt_1967": 0,
                  "YearBuilt_1968": 0,
                  "YearBuilt_1969": 0,
                  "_deepnote_index_column": 1459
                }
              ]
            },
            "text/plain": "        Id  LotFrontage   LotArea  MasVnrArea  BsmtFinSF1  BsmtFinSF2  \\\n0        1     0.207668  0.033420    0.122500    0.125089    0.000000   \n1        2     0.255591  0.038795    0.000000    0.173281    0.000000   \n2        3     0.217252  0.046507    0.101250    0.086109    0.000000   \n3        4     0.191693  0.038561    0.000000    0.038271    0.000000   \n4        5     0.268371  0.060576    0.218750    0.116052    0.000000   \n...    ...          ...       ...         ...         ...         ...   \n1455  1456     0.198083  0.030929    0.000000    0.000000    0.000000   \n1456  1457     0.271565  0.055505    0.074375    0.139972    0.110583   \n1457  1458     0.210863  0.036187    0.000000    0.048724    0.000000   \n1458  1459     0.217252  0.039342    0.000000    0.008682    0.698100   \n1459  1460     0.239617  0.040370    0.000000    0.147059    0.196744   \n\n      BsmtUnfSF  TotalBsmtSF  1stFlrSF  2ndFlrSF  ...  MoSold_3  MoSold_4  \\\n0      0.064212     0.140098  0.119780  0.413559  ...         0         0   \n1      0.121575     0.206547  0.212942  0.000000  ...         0         0   \n2      0.185788     0.150573  0.134465  0.419370  ...         0         0   \n3      0.231164     0.123732  0.143873  0.366102  ...         0         0   \n4      0.209760     0.187398  0.186095  0.509927  ...         0         0   \n...         ...          ...       ...       ...  ...       ...       ...   \n1455   0.407962     0.155974  0.142038  0.336077  ...         0         0   \n1456   0.252140     0.252373  0.399036  0.000000  ...         0         0   \n1457   0.375428     0.188543  0.195961  0.557869  ...         0         0   \n1458   0.000000     0.176432  0.170721  0.000000  ...         0         1   \n1459   0.058219     0.205565  0.211565  0.000000  ...         0         0   \n\n      MoSold_5  MoSold_6  MoSold_7  MoSold_8  MoSold_9  MoSold_10  MoSold_11  \\\n0            0         0         0         0         0          0          0   \n1            1         0         0         0         0          0          0   \n2            0         0         0         0         1          0          0   \n3            0         0         0         0         0          0          0   \n4            0         0         0         0         0          0          0   \n...        ...       ...       ...       ...       ...        ...        ...   \n1455         0         0         0         1         0          0          0   \n1456         0         0         0         0         0          0          0   \n1457         1         0         0         0         0          0          0   \n1458         0         0         0         0         0          0          0   \n1459         0         1         0         0         0          0          0   \n\n      MoSold_12  \n0             0  \n1             0  \n2             0  \n3             0  \n4             1  \n...         ...  \n1455          0  \n1456          0  \n1457          0  \n1458          0  \n1459          0  \n\n[1452 rows x 614 columns]",
            "text/html": "<div>\n<style scoped>\n    .dataframe tbody tr th:only-of-type {\n        vertical-align: middle;\n    }\n\n    .dataframe tbody tr th {\n        vertical-align: top;\n    }\n\n    .dataframe thead th {\n        text-align: right;\n    }\n</style>\n<table border=\"1\" class=\"dataframe\">\n  <thead>\n    <tr style=\"text-align: right;\">\n      <th></th>\n      <th>Id</th>\n      <th>LotFrontage</th>\n      <th>LotArea</th>\n      <th>MasVnrArea</th>\n      <th>BsmtFinSF1</th>\n      <th>BsmtFinSF2</th>\n      <th>BsmtUnfSF</th>\n      <th>TotalBsmtSF</th>\n      <th>1stFlrSF</th>\n      <th>2ndFlrSF</th>\n      <th>...</th>\n      <th>MoSold_3</th>\n      <th>MoSold_4</th>\n      <th>MoSold_5</th>\n      <th>MoSold_6</th>\n      <th>MoSold_7</th>\n      <th>MoSold_8</th>\n      <th>MoSold_9</th>\n      <th>MoSold_10</th>\n      <th>MoSold_11</th>\n      <th>MoSold_12</th>\n    </tr>\n  </thead>\n  <tbody>\n    <tr>\n      <th>0</th>\n      <td>1</td>\n      <td>0.207668</td>\n      <td>0.033420</td>\n      <td>0.122500</td>\n      <td>0.125089</td>\n      <td>0.000000</td>\n      <td>0.064212</td>\n      <td>0.140098</td>\n      <td>0.119780</td>\n      <td>0.413559</td>\n      <td>...</td>\n      <td>0</td>\n      <td>0</td>\n      <td>0</td>\n      <td>0</td>\n      <td>0</td>\n      <td>0</td>\n      <td>0</td>\n      <td>0</td>\n      <td>0</td>\n      <td>0</td>\n    </tr>\n    <tr>\n      <th>1</th>\n      <td>2</td>\n      <td>0.255591</td>\n      <td>0.038795</td>\n      <td>0.000000</td>\n      <td>0.173281</td>\n      <td>0.000000</td>\n      <td>0.121575</td>\n      <td>0.206547</td>\n      <td>0.212942</td>\n      <td>0.000000</td>\n      <td>...</td>\n      <td>0</td>\n      <td>0</td>\n      <td>1</td>\n      <td>0</td>\n      <td>0</td>\n      <td>0</td>\n      <td>0</td>\n      <td>0</td>\n      <td>0</td>\n      <td>0</td>\n    </tr>\n    <tr>\n      <th>2</th>\n      <td>3</td>\n      <td>0.217252</td>\n      <td>0.046507</td>\n      <td>0.101250</td>\n      <td>0.086109</td>\n      <td>0.000000</td>\n      <td>0.185788</td>\n      <td>0.150573</td>\n      <td>0.134465</td>\n      <td>0.419370</td>\n      <td>...</td>\n      <td>0</td>\n      <td>0</td>\n      <td>0</td>\n      <td>0</td>\n      <td>0</td>\n      <td>0</td>\n      <td>1</td>\n      <td>0</td>\n      <td>0</td>\n      <td>0</td>\n    </tr>\n    <tr>\n      <th>3</th>\n      <td>4</td>\n      <td>0.191693</td>\n      <td>0.038561</td>\n      <td>0.000000</td>\n      <td>0.038271</td>\n      <td>0.000000</td>\n      <td>0.231164</td>\n      <td>0.123732</td>\n      <td>0.143873</td>\n      <td>0.366102</td>\n      <td>...</td>\n      <td>0</td>\n      <td>0</td>\n      <td>0</td>\n      <td>0</td>\n      <td>0</td>\n      <td>0</td>\n      <td>0</td>\n      <td>0</td>\n      <td>0</td>\n      <td>0</td>\n    </tr>\n    <tr>\n      <th>4</th>\n      <td>5</td>\n      <td>0.268371</td>\n      <td>0.060576</td>\n      <td>0.218750</td>\n      <td>0.116052</td>\n      <td>0.000000</td>\n      <td>0.209760</td>\n      <td>0.187398</td>\n      <td>0.186095</td>\n      <td>0.509927</td>\n      <td>...</td>\n      <td>0</td>\n      <td>0</td>\n      <td>0</td>\n      <td>0</td>\n      <td>0</td>\n      <td>0</td>\n      <td>0</td>\n      <td>0</td>\n      <td>0</td>\n      <td>1</td>\n    </tr>\n    <tr>\n      <th>...</th>\n      <td>...</td>\n      <td>...</td>\n      <td>...</td>\n      <td>...</td>\n      <td>...</td>\n      <td>...</td>\n      <td>...</td>\n      <td>...</td>\n      <td>...</td>\n      <td>...</td>\n      <td>...</td>\n      <td>...</td>\n      <td>...</td>\n      <td>...</td>\n      <td>...</td>\n      <td>...</td>\n      <td>...</td>\n      <td>...</td>\n      <td>...</td>\n      <td>...</td>\n      <td>...</td>\n    </tr>\n    <tr>\n      <th>1455</th>\n      <td>1456</td>\n      <td>0.198083</td>\n      <td>0.030929</td>\n      <td>0.000000</td>\n      <td>0.000000</td>\n      <td>0.000000</td>\n      <td>0.407962</td>\n      <td>0.155974</td>\n      <td>0.142038</td>\n      <td>0.336077</td>\n      <td>...</td>\n      <td>0</td>\n      <td>0</td>\n      <td>0</td>\n      <td>0</td>\n      <td>0</td>\n      <td>1</td>\n      <td>0</td>\n      <td>0</td>\n      <td>0</td>\n      <td>0</td>\n    </tr>\n    <tr>\n      <th>1456</th>\n      <td>1457</td>\n      <td>0.271565</td>\n      <td>0.055505</td>\n      <td>0.074375</td>\n      <td>0.139972</td>\n      <td>0.110583</td>\n      <td>0.252140</td>\n      <td>0.252373</td>\n      <td>0.399036</td>\n      <td>0.000000</td>\n      <td>...</td>\n      <td>0</td>\n      <td>0</td>\n      <td>0</td>\n      <td>0</td>\n      <td>0</td>\n      <td>0</td>\n      <td>0</td>\n      <td>0</td>\n      <td>0</td>\n      <td>0</td>\n    </tr>\n    <tr>\n      <th>1457</th>\n      <td>1458</td>\n      <td>0.210863</td>\n      <td>0.036187</td>\n      <td>0.000000</td>\n      <td>0.048724</td>\n      <td>0.000000</td>\n      <td>0.375428</td>\n      <td>0.188543</td>\n      <td>0.195961</td>\n      <td>0.557869</td>\n      <td>...</td>\n      <td>0</td>\n      <td>0</td>\n      <td>1</td>\n      <td>0</td>\n      <td>0</td>\n      <td>0</td>\n      <td>0</td>\n      <td>0</td>\n      <td>0</td>\n      <td>0</td>\n    </tr>\n    <tr>\n      <th>1458</th>\n      <td>1459</td>\n      <td>0.217252</td>\n      <td>0.039342</td>\n      <td>0.000000</td>\n      <td>0.008682</td>\n      <td>0.698100</td>\n      <td>0.000000</td>\n      <td>0.176432</td>\n      <td>0.170721</td>\n      <td>0.000000</td>\n      <td>...</td>\n      <td>0</td>\n      <td>1</td>\n      <td>0</td>\n      <td>0</td>\n      <td>0</td>\n      <td>0</td>\n      <td>0</td>\n      <td>0</td>\n      <td>0</td>\n      <td>0</td>\n    </tr>\n    <tr>\n      <th>1459</th>\n      <td>1460</td>\n      <td>0.239617</td>\n      <td>0.040370</td>\n      <td>0.000000</td>\n      <td>0.147059</td>\n      <td>0.196744</td>\n      <td>0.058219</td>\n      <td>0.205565</td>\n      <td>0.211565</td>\n      <td>0.000000</td>\n      <td>...</td>\n      <td>0</td>\n      <td>0</td>\n      <td>0</td>\n      <td>1</td>\n      <td>0</td>\n      <td>0</td>\n      <td>0</td>\n      <td>0</td>\n      <td>0</td>\n      <td>0</td>\n    </tr>\n  </tbody>\n</table>\n<p>1452 rows × 614 columns</p>\n</div>"
          },
          "metadata": {}
        }
      ]
    },
    {
      "cell_type": "code",
      "metadata": {
        "tags": [],
        "cell_id": "00011-d7347dd7-d7bc-4921-a8f8-e0e9986d601e",
        "deepnote_to_be_reexecuted": false,
        "source_hash": "3a462ee8",
        "execution_millis": 1,
        "execution_start": 1618938406074,
        "deepnote_cell_type": "code"
      },
      "source": "x_train, x_test, y_train, y_test = train_test_split(df_chn.loc[:, df_chn.columns != 'SalePrice'],df_chn['SalePrice'], test_size = 0.2, random_state=77)",
      "execution_count": 12,
      "outputs": []
    },
    {
      "cell_type": "code",
      "metadata": {
        "tags": [],
        "cell_id": "00013-622304a9-5c5d-4d4c-b552-e93c8cabf406",
        "deepnote_to_be_reexecuted": false,
        "source_hash": "eb0e1773",
        "execution_millis": 300,
        "execution_start": 1618938406079,
        "deepnote_cell_type": "code"
      },
      "source": "reg = LinearRegression().fit(x_train, y_train)\ns = reg.score(x_test, y_test)\nprint(s)",
      "execution_count": 13,
      "outputs": [
        {
          "name": "stdout",
          "text": "0.8416277837792857\n",
          "output_type": "stream"
        }
      ]
    },
    {
      "cell_type": "markdown",
      "source": "## Sources\n\n* https://stackoverflow.com/a/36475297\n* https://stackoverflow.com/a/29763653",
      "metadata": {
        "tags": [],
        "cell_id": "00014-a393180e-d503-423b-b206-37dc813fb325",
        "deepnote_cell_type": "markdown"
      }
    },
    {
      "cell_type": "markdown",
      "source": "",
      "metadata": {
        "tags": [],
        "cell_id": "00014-d79825a3-59bb-4ca2-b987-ae4f07e5f029",
        "deepnote_cell_type": "markdown"
      }
    },
    {
      "cell_type": "markdown",
      "source": "<a style='text-decoration:none;line-height:16px;display:flex;color:#5B5B62;padding:10px;justify-content:end;' href='https://deepnote.com?utm_source=created-in-deepnote-cell&projectId=c1bbb202-923d-42f3-81b8-ef5e40f673e0' target=\"_blank\">\n<img alt='Created in deepnote.com' style='display:inline;max-height:16px;margin:0px;margin-right:7.5px;' src='data:image/svg+xml;base64,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' > </img>\nCreated in <span style='font-weight:600;margin-left:4px;'>Deepnote</span></a>",
      "metadata": {
        "tags": [],
        "created_in_deepnote_cell": true,
        "deepnote_cell_type": "markdown"
      }
    }
  ],
  "nbformat": 4,
  "nbformat_minor": 2,
  "metadata": {
    "orig_nbformat": 2,
    "deepnote_notebook_id": "a3614cc1-a336-4a80-a1bd-41366b6dd91c",
    "deepnote": {},
    "deepnote_execution_queue": []
  }
}